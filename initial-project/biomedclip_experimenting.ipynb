{
 "cells": [
  {
   "cell_type": "code",
   "execution_count": 1,
   "metadata": {},
   "outputs": [],
   "source": [
    "import os\n",
    "from IPython.display import display, clear_output\n",
    "from ipywidgets import widgets\n",
    "from PIL import Image\n",
    "import numpy as np\n",
    "import matplotlib.pyplot as plt\n",
    "import cv2\n",
    "import json\n",
    "import pytesseract # for OCR\n",
    "import pandas as pd\n",
    "import torch\n",
    "from open_clip import create_model_from_pretrained, get_tokenizer\n",
    "from concurrent.futures import ThreadPoolExecutor"
   ]
  },
  {
   "cell_type": "code",
   "execution_count": 2,
   "metadata": {},
   "outputs": [],
   "source": [
    "filtered_csv_path = '/cs/labs/tomhope/yuvalbus/pmc/pythonProject/pythonFilesGuy/filtered_df.csv'\n",
    "filtered_df = pd.read_csv(filtered_csv_path)"
   ]
  },
  {
   "cell_type": "code",
   "execution_count": 3,
   "metadata": {},
   "outputs": [],
   "source": [
    "device = torch.device('cuda' if torch.cuda.is_available() else 'cpu')\n",
    "biomedclip_model, preprocess = create_model_from_pretrained('hf-hub:microsoft/BiomedCLIP-PubMedBERT_256-vit_base_patch16_224')\n",
    "biomedclip_model.to(device)\n",
    "biomedclip_model.eval()\n",
    "tokenizer = get_tokenizer('hf-hub:microsoft/BiomedCLIP-PubMedBERT_256-vit_base_patch16_224')"
   ]
  },
  {
   "cell_type": "code",
   "execution_count": 31,
   "metadata": {},
   "outputs": [
    {
     "data": {
      "text/plain": [
       "Compose(\n",
       "    Resize(size=224, interpolation=bicubic, max_size=None, antialias=True)\n",
       "    CenterCrop(size=(224, 224))\n",
       "    <function _convert_to_rgb at 0x7f2c661b8220>\n",
       "    ToTensor()\n",
       "    Normalize(mean=[0.48145466, 0.4578275, 0.40821073], std=[0.26862954, 0.26130258, 0.27577711])\n",
       ")"
      ]
     },
     "execution_count": 31,
     "metadata": {},
     "output_type": "execute_result"
    }
   ],
   "source": [
    "preprocess"
   ]
  },
  {
   "cell_type": "code",
   "execution_count": 4,
   "metadata": {},
   "outputs": [
    {
     "data": {
      "text/plain": [
       "device(type='cuda')"
      ]
     },
     "execution_count": 4,
     "metadata": {},
     "output_type": "execute_result"
    }
   ],
   "source": [
    "device"
   ]
  },
  {
   "cell_type": "code",
   "execution_count": 5,
   "metadata": {},
   "outputs": [
    {
     "data": {
      "text/html": [
       "<div>\n",
       "<style scoped>\n",
       "    .dataframe tbody tr th:only-of-type {\n",
       "        vertical-align: middle;\n",
       "    }\n",
       "\n",
       "    .dataframe tbody tr th {\n",
       "        vertical-align: top;\n",
       "    }\n",
       "\n",
       "    .dataframe thead th {\n",
       "        text-align: right;\n",
       "    }\n",
       "</style>\n",
       "<table border=\"1\" class=\"dataframe\">\n",
       "  <thead>\n",
       "    <tr style=\"text-align: right;\">\n",
       "      <th></th>\n",
       "      <th>image_path</th>\n",
       "      <th>caption_path</th>\n",
       "      <th>patient_uid</th>\n",
       "      <th>pmc_id</th>\n",
       "      <th>article_path</th>\n",
       "      <th>unique_articles_sim_patients</th>\n",
       "      <th>caption_text</th>\n",
       "      <th>caption_id</th>\n",
       "    </tr>\n",
       "  </thead>\n",
       "  <tbody>\n",
       "    <tr>\n",
       "      <th>0</th>\n",
       "      <td>PMC8167975/8167975_1/8167975_1_1.jpg</td>\n",
       "      <td>PMC8167975/8167975_1/8167975_1_1.txt</td>\n",
       "      <td>8167975-1</td>\n",
       "      <td>8167975</td>\n",
       "      <td>https://ncbi.nlm.nih.gov/pmc/articles/PMC8167975</td>\n",
       "      <td>['5563556-1']</td>\n",
       "      <td>Fundus photograph showed a yellowish white, pe...</td>\n",
       "      <td>8167975_1_1</td>\n",
       "    </tr>\n",
       "    <tr>\n",
       "      <th>1</th>\n",
       "      <td>PMC8167975/8167975_1/8167975_1_2.jpg</td>\n",
       "      <td>PMC8167975/8167975_1/8167975_1_2.txt</td>\n",
       "      <td>8167975-1</td>\n",
       "      <td>8167975</td>\n",
       "      <td>https://ncbi.nlm.nih.gov/pmc/articles/PMC8167975</td>\n",
       "      <td>['5563556-1']</td>\n",
       "      <td>B-scan demonstrated focal subretinal calcifica...</td>\n",
       "      <td>8167975_1_2</td>\n",
       "    </tr>\n",
       "  </tbody>\n",
       "</table>\n",
       "</div>"
      ],
      "text/plain": [
       "                             image_path                          caption_path  \\\n",
       "0  PMC8167975/8167975_1/8167975_1_1.jpg  PMC8167975/8167975_1/8167975_1_1.txt   \n",
       "1  PMC8167975/8167975_1/8167975_1_2.jpg  PMC8167975/8167975_1/8167975_1_2.txt   \n",
       "\n",
       "  patient_uid   pmc_id                                      article_path  \\\n",
       "0   8167975-1  8167975  https://ncbi.nlm.nih.gov/pmc/articles/PMC8167975   \n",
       "1   8167975-1  8167975  https://ncbi.nlm.nih.gov/pmc/articles/PMC8167975   \n",
       "\n",
       "  unique_articles_sim_patients  \\\n",
       "0                ['5563556-1']   \n",
       "1                ['5563556-1']   \n",
       "\n",
       "                                        caption_text   caption_id  \n",
       "0  Fundus photograph showed a yellowish white, pe...  8167975_1_1  \n",
       "1  B-scan demonstrated focal subretinal calcifica...  8167975_1_2  "
      ]
     },
     "execution_count": 5,
     "metadata": {},
     "output_type": "execute_result"
    }
   ],
   "source": [
    "filtered_df.head(2)"
   ]
  },
  {
   "cell_type": "code",
   "execution_count": 6,
   "metadata": {},
   "outputs": [],
   "source": [
    "prefix = '/cs/labs/tomhope/yuvalbus/pmc/pythonProject/data2'"
   ]
  },
  {
   "cell_type": "code",
   "execution_count": 7,
   "metadata": {},
   "outputs": [],
   "source": [
    "image_path_list = [os.path.join(prefix, suffix) for suffix in filtered_df['image_path']]"
   ]
  },
  {
   "cell_type": "code",
   "execution_count": 8,
   "metadata": {},
   "outputs": [],
   "source": [
    "text_path_list = [os.path.join(prefix, suffix) for suffix in filtered_df['caption_path']]"
   ]
  },
  {
   "cell_type": "code",
   "execution_count": 9,
   "metadata": {},
   "outputs": [],
   "source": [
    "with open(text_path_list[111], 'r', encoding='utf-8') as f:\n",
    "    captions = f.read()\n"
   ]
  },
  {
   "cell_type": "code",
   "execution_count": 10,
   "metadata": {},
   "outputs": [
    {
     "data": {
      "text/plain": [
       "'Photomicrograph showing large pleomorphic cells admixed with mixed inflammatory cells (H and E, ×200)'"
      ]
     },
     "execution_count": 10,
     "metadata": {},
     "output_type": "execute_result"
    }
   ],
   "source": [
    "captions"
   ]
  },
  {
   "cell_type": "code",
   "execution_count": 11,
   "metadata": {},
   "outputs": [],
   "source": [
    "tokens = tokenizer(captions).to(device)\n",
    "\n",
    "with torch.no_grad():\n",
    "    txt_emb = biomedclip_model.encode_text(tokens)"
   ]
  },
  {
   "cell_type": "code",
   "execution_count": 36,
   "metadata": {},
   "outputs": [],
   "source": [
    "img = preprocess(Image.open(image_path_list[0]))"
   ]
  },
  {
   "cell_type": "code",
   "execution_count": null,
   "metadata": {},
   "outputs": [],
   "source": []
  },
  {
   "cell_type": "code",
   "execution_count": 12,
   "metadata": {},
   "outputs": [],
   "source": [
    "img = preprocess(Image.open(image_path_list[111]))\n",
    "img = img.unsqueeze(0).to(device)\n",
    "# imgs_batch = torch.stack(imgs).to(device)\n",
    "with torch.no_grad():\n",
    "    img_emb = biomedclip_model.encode_image(img)"
   ]
  },
  {
   "cell_type": "code",
   "execution_count": 13,
   "metadata": {},
   "outputs": [],
   "source": [
    "def compute_cosine_similarity_matrix(embeddings_i, embeddings_j):\n",
    "    # Normalize embeddings\n",
    "    embeddings_i_norm = embeddings_i / embeddings_i.norm(dim=1, keepdim=True)\n",
    "    embeddings_j_norm = embeddings_j / embeddings_j.norm(dim=1, keepdim=True)\n",
    "    # Compute cosine similarity matrix\n",
    "    similarity_matrix = torch.mm(embeddings_i_norm, embeddings_j_norm.t())\n",
    "    return similarity_matrix\n"
   ]
  },
  {
   "cell_type": "code",
   "execution_count": 14,
   "metadata": {},
   "outputs": [],
   "source": [
    "def read_caption(file_path):\n",
    "    try:\n",
    "        with open(file_path, 'r', encoding='utf-8') as f:\n",
    "            return f.read()\n",
    "    except Exception as e:\n",
    "        print(f\"Error reading {file_path}: {e}\")\n",
    "        return \"\"\n",
    "\n",
    "def read_captions_parallel(paths, max_workers=8):\n",
    "    captions = [None] * len(paths)\n",
    "    with ThreadPoolExecutor(max_workers=max_workers) as executor:\n",
    "        future_to_index = {executor.submit(read_caption, path): idx for idx, path in enumerate(paths)}\n",
    "        for future in future_to_index:\n",
    "            idx = future_to_index[future]\n",
    "            try:\n",
    "                captions[idx] = future.result()\n",
    "            except Exception as e:\n",
    "                print(f\"Error reading caption at index {idx}: {e}\")\n",
    "                captions[idx] = \"\"\n",
    "    return captions"
   ]
  },
  {
   "cell_type": "code",
   "execution_count": 15,
   "metadata": {},
   "outputs": [],
   "source": [
    "text_list = read_captions_parallel(text_path_list[:400])"
   ]
  },
  {
   "cell_type": "code",
   "execution_count": 16,
   "metadata": {},
   "outputs": [],
   "source": [
    "tokens = tokenizer(text_list).to(device)\n",
    "\n",
    "with torch.no_grad():\n",
    "    text_ftrs = biomedclip_model.encode_text(tokens)\n"
   ]
  },
  {
   "cell_type": "code",
   "execution_count": 17,
   "metadata": {},
   "outputs": [],
   "source": [
    "preprocessed_imgs = [preprocess(Image.open(img_path)) for img_path in image_path_list[:400]]\n"
   ]
  },
  {
   "cell_type": "code",
   "execution_count": 18,
   "metadata": {},
   "outputs": [],
   "source": [
    "imgs_batch = torch.stack(preprocessed_imgs).to(device)\n",
    "\n",
    "with torch.no_grad():\n",
    "    imgs_ftrs = biomedclip_model.encode_image(imgs_batch)\n"
   ]
  },
  {
   "cell_type": "code",
   "execution_count": 19,
   "metadata": {},
   "outputs": [],
   "source": [
    "sim_mat = compute_cosine_similarity_matrix(text_ftrs, imgs_ftrs)"
   ]
  },
  {
   "cell_type": "code",
   "execution_count": null,
   "metadata": {},
   "outputs": [],
   "source": []
  },
  {
   "cell_type": "code",
   "execution_count": 20,
   "metadata": {},
   "outputs": [
    {
     "data": {
      "text/plain": [
       "'Photomicrograph showing large pleomorphic cells admixed with mixed inflammatory cells (H and E, ×200)'"
      ]
     },
     "execution_count": 20,
     "metadata": {},
     "output_type": "execute_result"
    }
   ],
   "source": [
    "captions"
   ]
  },
  {
   "cell_type": "code",
   "execution_count": 21,
   "metadata": {},
   "outputs": [],
   "source": [
    "a = [text_list[0], text_list[1]]"
   ]
  },
  {
   "cell_type": "code",
   "execution_count": 22,
   "metadata": {},
   "outputs": [
    {
     "data": {
      "text/plain": [
       "400"
      ]
     },
     "execution_count": 22,
     "metadata": {},
     "output_type": "execute_result"
    }
   ],
   "source": [
    "len(tokens)"
   ]
  },
  {
   "cell_type": "code",
   "execution_count": 23,
   "metadata": {},
   "outputs": [
    {
     "data": {
      "text/plain": [
       "'Fundus photograph showed a yellowish white, peripapillary and sharply demarcated choroidal lesion involving the macula (white arrows)'"
      ]
     },
     "execution_count": 23,
     "metadata": {},
     "output_type": "execute_result"
    }
   ],
   "source": [
    "text_list[0]"
   ]
  },
  {
   "cell_type": "code",
   "execution_count": null,
   "metadata": {},
   "outputs": [],
   "source": []
  },
  {
   "cell_type": "code",
   "execution_count": null,
   "metadata": {},
   "outputs": [],
   "source": []
  },
  {
   "cell_type": "code",
   "execution_count": 24,
   "metadata": {},
   "outputs": [
    {
     "data": {
      "text/plain": [
       "tensor([0.4504], device='cuda:0')"
      ]
     },
     "execution_count": 24,
     "metadata": {},
     "output_type": "execute_result"
    }
   ],
   "source": [
    "torch.cosine_similarity(txt_emb, img_emb)"
   ]
  },
  {
   "cell_type": "code",
   "execution_count": 25,
   "metadata": {},
   "outputs": [
    {
     "data": {
      "text/plain": [
       "tensor([0.4504], device='cuda:0')"
      ]
     },
     "execution_count": 25,
     "metadata": {},
     "output_type": "execute_result"
    }
   ],
   "source": [
    "torch.cosine_similarity(img_emb, txt_emb)"
   ]
  },
  {
   "cell_type": "code",
   "execution_count": 26,
   "metadata": {},
   "outputs": [
    {
     "data": {
      "text/plain": [
       "tensor([0.4504], device='cuda:0')"
      ]
     },
     "execution_count": 26,
     "metadata": {},
     "output_type": "execute_result"
    }
   ],
   "source": [
    "torch.nn.functional.cosine_similarity(txt_emb, img_emb)"
   ]
  },
  {
   "cell_type": "code",
   "execution_count": 27,
   "metadata": {},
   "outputs": [
    {
     "data": {
      "text/plain": [
       "tensor([0.4504], device='cuda:0')"
      ]
     },
     "execution_count": 27,
     "metadata": {},
     "output_type": "execute_result"
    }
   ],
   "source": [
    "torch.nn.functional.cosine_similarity(img_emb, txt_emb)"
   ]
  },
  {
   "cell_type": "code",
   "execution_count": 28,
   "metadata": {},
   "outputs": [
    {
     "data": {
      "text/plain": [
       "tensor([[0.4504]], device='cuda:0')"
      ]
     },
     "execution_count": 28,
     "metadata": {},
     "output_type": "execute_result"
    }
   ],
   "source": [
    "compute_cosine_similarity_matrix(img_emb, txt_emb)"
   ]
  },
  {
   "cell_type": "code",
   "execution_count": 29,
   "metadata": {},
   "outputs": [
    {
     "data": {
      "text/plain": [
       "torch.Size([1, 3, 224, 224])"
      ]
     },
     "execution_count": 29,
     "metadata": {},
     "output_type": "execute_result"
    }
   ],
   "source": [
    "img.shape"
   ]
  },
  {
   "cell_type": "code",
   "execution_count": 30,
   "metadata": {},
   "outputs": [
    {
     "data": {
      "text/plain": [
       "torch.Size([1, 512])"
      ]
     },
     "execution_count": 30,
     "metadata": {},
     "output_type": "execute_result"
    }
   ],
   "source": [
    "txt_emb.shape"
   ]
  },
  {
   "cell_type": "code",
   "execution_count": null,
   "metadata": {},
   "outputs": [],
   "source": []
  },
  {
   "cell_type": "code",
   "execution_count": null,
   "metadata": {},
   "outputs": [],
   "source": []
  }
 ],
 "metadata": {
  "kernelspec": {
   "display_name": "pmc_env",
   "language": "python",
   "name": "python3"
  },
  "language_info": {
   "codemirror_mode": {
    "name": "ipython",
    "version": 3
   },
   "file_extension": ".py",
   "mimetype": "text/x-python",
   "name": "python",
   "nbconvert_exporter": "python",
   "pygments_lexer": "ipython3",
   "version": "3.11.10"
  }
 },
 "nbformat": 4,
 "nbformat_minor": 2
}
