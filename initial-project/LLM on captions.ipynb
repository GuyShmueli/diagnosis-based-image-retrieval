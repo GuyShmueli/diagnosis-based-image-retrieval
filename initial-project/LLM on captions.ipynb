{
 "cells": [
  {
   "cell_type": "code",
   "execution_count": 1,
   "id": "b3ad5d96-4f88-4bcf-bd4b-23a8606f29ea",
   "metadata": {},
   "outputs": [],
   "source": [
    "import pandas as pd\n",
    "import json\n",
    "import torch\n",
    "import transformers\n",
    "from transformers import pipeline"
   ]
  },
  {
   "cell_type": "code",
   "execution_count": 2,
   "id": "aac91c96-a3c2-469d-b20b-10625a155927",
   "metadata": {},
   "outputs": [],
   "source": [
    "filtered_csv_path = r'/cs/labs/tomhope/dhtandguy21/envs/pmc_project/21_sep_filtered_data.csv'"
   ]
  },
  {
   "cell_type": "code",
   "execution_count": 3,
   "id": "1247a48c-8551-42fb-a3db-4a29ee5b8ac2",
   "metadata": {},
   "outputs": [],
   "source": [
    "from pandas import read_csv\n",
    "filtered_df = read_csv(filtered_csv_path)"
   ]
  },
  {
   "cell_type": "code",
   "execution_count": 104,
   "id": "a5b3f913-8902-441f-a01a-c4aa7837354f",
   "metadata": {},
   "outputs": [
    {
     "data": {
      "text/html": [
       "<div>\n",
       "<style scoped>\n",
       "    .dataframe tbody tr th:only-of-type {\n",
       "        vertical-align: middle;\n",
       "    }\n",
       "\n",
       "    .dataframe tbody tr th {\n",
       "        vertical-align: top;\n",
       "    }\n",
       "\n",
       "    .dataframe thead th {\n",
       "        text-align: right;\n",
       "    }\n",
       "</style>\n",
       "<table border=\"1\" class=\"dataframe\">\n",
       "  <thead>\n",
       "    <tr style=\"text-align: right;\">\n",
       "      <th></th>\n",
       "      <th>image_path</th>\n",
       "      <th>caption_path</th>\n",
       "      <th>patient_uid</th>\n",
       "      <th>pmc_id</th>\n",
       "      <th>article_path</th>\n",
       "      <th>unique_articles_sim_patients</th>\n",
       "      <th>caption_text</th>\n",
       "    </tr>\n",
       "  </thead>\n",
       "  <tbody>\n",
       "    <tr>\n",
       "      <th>0</th>\n",
       "      <td>PMC8167975/8167975_1/8167975_1_1.jpg</td>\n",
       "      <td>PMC8167975/8167975_1/8167975_1_1.txt</td>\n",
       "      <td>8167975-1</td>\n",
       "      <td>8167975</td>\n",
       "      <td>https://ncbi.nlm.nih.gov/pmc/articles/PMC8167975</td>\n",
       "      <td>['5563556-1']</td>\n",
       "      <td>Fundus photograph showed a yellowish white, pe...</td>\n",
       "    </tr>\n",
       "    <tr>\n",
       "      <th>1</th>\n",
       "      <td>PMC8167975/8167975_1/8167975_1_2.jpg</td>\n",
       "      <td>PMC8167975/8167975_1/8167975_1_2.txt</td>\n",
       "      <td>8167975-1</td>\n",
       "      <td>8167975</td>\n",
       "      <td>https://ncbi.nlm.nih.gov/pmc/articles/PMC8167975</td>\n",
       "      <td>['5563556-1']</td>\n",
       "      <td>B-scan demonstrated focal subretinal calcifica...</td>\n",
       "    </tr>\n",
       "    <tr>\n",
       "      <th>2</th>\n",
       "      <td>PMC8167975/8167975_1/8167975_1_3.jpg</td>\n",
       "      <td>PMC8167975/8167975_1/8167975_1_3.txt</td>\n",
       "      <td>8167975-1</td>\n",
       "      <td>8167975</td>\n",
       "      <td>https://ncbi.nlm.nih.gov/pmc/articles/PMC8167975</td>\n",
       "      <td>['5563556-1']</td>\n",
       "      <td>CT demonstrated a hyperdense choroidal plaque ...</td>\n",
       "    </tr>\n",
       "    <tr>\n",
       "      <th>3</th>\n",
       "      <td>PMC8167975/8167975_1/8167975_1_4.jpg</td>\n",
       "      <td>PMC8167975/8167975_1/8167975_1_4.txt</td>\n",
       "      <td>8167975-1</td>\n",
       "      <td>8167975</td>\n",
       "      <td>https://ncbi.nlm.nih.gov/pmc/articles/PMC8167975</td>\n",
       "      <td>['5563556-1']</td>\n",
       "      <td>OCT showed serous fluid exudates under the mac...</td>\n",
       "    </tr>\n",
       "    <tr>\n",
       "      <th>4</th>\n",
       "      <td>PMC8167975/8167975_1/8167975_1_5.jpg</td>\n",
       "      <td>PMC8167975/8167975_1/8167975_1_5.txt</td>\n",
       "      <td>8167975-1</td>\n",
       "      <td>8167975</td>\n",
       "      <td>https://ncbi.nlm.nih.gov/pmc/articles/PMC8167975</td>\n",
       "      <td>['5563556-1']</td>\n",
       "      <td>Right fundus showed an enlarged choroidal oste...</td>\n",
       "    </tr>\n",
       "    <tr>\n",
       "      <th>5</th>\n",
       "      <td>PMC8167975/8167975_1/8167975_1_6.jpg</td>\n",
       "      <td>PMC8167975/8167975_1/8167975_1_6.txt</td>\n",
       "      <td>8167975-1</td>\n",
       "      <td>8167975</td>\n",
       "      <td>https://ncbi.nlm.nih.gov/pmc/articles/PMC8167975</td>\n",
       "      <td>['5563556-1']</td>\n",
       "      <td>OCTA revealed unique features in the vascular ...</td>\n",
       "    </tr>\n",
       "    <tr>\n",
       "      <th>6</th>\n",
       "      <td>PMC8167975/8167975_1/8167975_1_7.jpg</td>\n",
       "      <td>PMC8167975/8167975_1/8167975_1_7.txt</td>\n",
       "      <td>8167975-1</td>\n",
       "      <td>8167975</td>\n",
       "      <td>https://ncbi.nlm.nih.gov/pmc/articles/PMC8167975</td>\n",
       "      <td>['5563556-1']</td>\n",
       "      <td>ICGA showed there was hypo-fluorescence at the...</td>\n",
       "    </tr>\n",
       "    <tr>\n",
       "      <th>7</th>\n",
       "      <td>PMC8167975/8167975_1/8167975_1_8.jpg</td>\n",
       "      <td>PMC8167975/8167975_1/8167975_1_8.txt</td>\n",
       "      <td>8167975-1</td>\n",
       "      <td>8167975</td>\n",
       "      <td>https://ncbi.nlm.nih.gov/pmc/articles/PMC8167975</td>\n",
       "      <td>['5563556-1']</td>\n",
       "      <td>OCT appreciated CNV and on the nasal atrophic ...</td>\n",
       "    </tr>\n",
       "    <tr>\n",
       "      <th>8</th>\n",
       "      <td>PMC8167975/8167975_1/8167975_1_9.jpg</td>\n",
       "      <td>PMC8167975/8167975_1/8167975_1_9.txt</td>\n",
       "      <td>8167975-1</td>\n",
       "      <td>8167975</td>\n",
       "      <td>https://ncbi.nlm.nih.gov/pmc/articles/PMC8167975</td>\n",
       "      <td>['5563556-1']</td>\n",
       "      <td>OCTA revealed the regression of choroidal neov...</td>\n",
       "    </tr>\n",
       "    <tr>\n",
       "      <th>9</th>\n",
       "      <td>PMC4647049/4647049_1/4647049_1_1.jpg</td>\n",
       "      <td>PMC4647049/4647049_1/4647049_1_1.txt</td>\n",
       "      <td>4647049-1</td>\n",
       "      <td>4647049</td>\n",
       "      <td>https://ncbi.nlm.nih.gov/pmc/articles/PMC4647049</td>\n",
       "      <td>['5654233-1', '4142379-1']</td>\n",
       "      <td>Intraoral photograph showing retained deciduou...</td>\n",
       "    </tr>\n",
       "    <tr>\n",
       "      <th>10</th>\n",
       "      <td>PMC4647049/4647049_1/4647049_1_2.jpg</td>\n",
       "      <td>PMC4647049/4647049_1/4647049_1_2.txt</td>\n",
       "      <td>4647049-1</td>\n",
       "      <td>4647049</td>\n",
       "      <td>https://ncbi.nlm.nih.gov/pmc/articles/PMC4647049</td>\n",
       "      <td>['5654233-1', '4142379-1']</td>\n",
       "      <td>Periapical radiograph showing absence of right...</td>\n",
       "    </tr>\n",
       "    <tr>\n",
       "      <th>11</th>\n",
       "      <td>PMC4647049/4647049_1/4647049_1_3.jpg</td>\n",
       "      <td>PMC4647049/4647049_1/4647049_1_3.txt</td>\n",
       "      <td>4647049-1</td>\n",
       "      <td>4647049</td>\n",
       "      <td>https://ncbi.nlm.nih.gov/pmc/articles/PMC4647049</td>\n",
       "      <td>['5654233-1', '4142379-1']</td>\n",
       "      <td>Periapical radiograph showing absence of left ...</td>\n",
       "    </tr>\n",
       "    <tr>\n",
       "      <th>12</th>\n",
       "      <td>PMC4647049/4647049_1/4647049_1_4.jpg</td>\n",
       "      <td>PMC4647049/4647049_1/4647049_1_4.txt</td>\n",
       "      <td>4647049-1</td>\n",
       "      <td>4647049</td>\n",
       "      <td>https://ncbi.nlm.nih.gov/pmc/articles/PMC4647049</td>\n",
       "      <td>['5654233-1', '4142379-1']</td>\n",
       "      <td>Mandibular occlusal radiograph showing bilater...</td>\n",
       "    </tr>\n",
       "    <tr>\n",
       "      <th>13</th>\n",
       "      <td>PMC4647049/4647049_1/4647049_1_5.jpg</td>\n",
       "      <td>PMC4647049/4647049_1/4647049_1_5.txt</td>\n",
       "      <td>4647049-1</td>\n",
       "      <td>4647049</td>\n",
       "      <td>https://ncbi.nlm.nih.gov/pmc/articles/PMC4647049</td>\n",
       "      <td>['5654233-1', '4142379-1']</td>\n",
       "      <td>Periapical radiograph showing agenesis of both...</td>\n",
       "    </tr>\n",
       "    <tr>\n",
       "      <th>14</th>\n",
       "      <td>PMC4647049/4647049_1/4647049_1_6.jpg</td>\n",
       "      <td>PMC4647049/4647049_1/4647049_1_6.txt</td>\n",
       "      <td>4647049-1</td>\n",
       "      <td>4647049</td>\n",
       "      <td>https://ncbi.nlm.nih.gov/pmc/articles/PMC4647049</td>\n",
       "      <td>['5654233-1', '4142379-1']</td>\n",
       "      <td>Panaromic view of bilateral agenesis of maxill...</td>\n",
       "    </tr>\n",
       "    <tr>\n",
       "      <th>15</th>\n",
       "      <td>PMC3848245/3848245_1/3848245_1_1.jpg</td>\n",
       "      <td>PMC3848245/3848245_1/3848245_1_1.txt</td>\n",
       "      <td>3848245-1</td>\n",
       "      <td>3848245</td>\n",
       "      <td>https://ncbi.nlm.nih.gov/pmc/articles/PMC3848245</td>\n",
       "      <td>['7365539-1']</td>\n",
       "      <td>Two embryos were located in separate cavities ...</td>\n",
       "    </tr>\n",
       "    <tr>\n",
       "      <th>16</th>\n",
       "      <td>PMC3848245/3848245_1/3848245_1_2.jpg</td>\n",
       "      <td>PMC3848245/3848245_1/3848245_1_2.txt</td>\n",
       "      <td>3848245-1</td>\n",
       "      <td>3848245</td>\n",
       "      <td>https://ncbi.nlm.nih.gov/pmc/articles/PMC3848245</td>\n",
       "      <td>['7365539-1']</td>\n",
       "      <td>Two gestational sacs in coronal and sagittal v...</td>\n",
       "    </tr>\n",
       "    <tr>\n",
       "      <th>17</th>\n",
       "      <td>PMC3848245/3848245_1/3848245_1_3.jpg</td>\n",
       "      <td>PMC3848245/3848245_1/3848245_1_3.txt</td>\n",
       "      <td>3848245-1</td>\n",
       "      <td>3848245</td>\n",
       "      <td>https://ncbi.nlm.nih.gov/pmc/articles/PMC3848245</td>\n",
       "      <td>['7365539-1']</td>\n",
       "      <td>Two incisions were repaired separately.</td>\n",
       "    </tr>\n",
       "    <tr>\n",
       "      <th>18</th>\n",
       "      <td>PMC3358935/3358935_1/3358935_1_2.jpg</td>\n",
       "      <td>PMC3358935/3358935_1/3358935_1_2.txt</td>\n",
       "      <td>3358935-1</td>\n",
       "      <td>3358935</td>\n",
       "      <td>https://ncbi.nlm.nih.gov/pmc/articles/PMC3358935</td>\n",
       "      <td>['3853602-1']</td>\n",
       "      <td>Family pedigree showing seven members in four ...</td>\n",
       "    </tr>\n",
       "    <tr>\n",
       "      <th>19</th>\n",
       "      <td>PMC2629956/2629956_1/2629956_1_2.jpg</td>\n",
       "      <td>PMC2629956/2629956_1/2629956_1_2.txt</td>\n",
       "      <td>2629956-1</td>\n",
       "      <td>2629956</td>\n",
       "      <td>https://ncbi.nlm.nih.gov/pmc/articles/PMC2629956</td>\n",
       "      <td>['4709607-1', '5544368-1', '6219320-1']</td>\n",
       "      <td>Culture of aspirated vitreous fluid shows grow...</td>\n",
       "    </tr>\n",
       "  </tbody>\n",
       "</table>\n",
       "</div>"
      ],
      "text/plain": [
       "                              image_path  \\\n",
       "0   PMC8167975/8167975_1/8167975_1_1.jpg   \n",
       "1   PMC8167975/8167975_1/8167975_1_2.jpg   \n",
       "2   PMC8167975/8167975_1/8167975_1_3.jpg   \n",
       "3   PMC8167975/8167975_1/8167975_1_4.jpg   \n",
       "4   PMC8167975/8167975_1/8167975_1_5.jpg   \n",
       "5   PMC8167975/8167975_1/8167975_1_6.jpg   \n",
       "6   PMC8167975/8167975_1/8167975_1_7.jpg   \n",
       "7   PMC8167975/8167975_1/8167975_1_8.jpg   \n",
       "8   PMC8167975/8167975_1/8167975_1_9.jpg   \n",
       "9   PMC4647049/4647049_1/4647049_1_1.jpg   \n",
       "10  PMC4647049/4647049_1/4647049_1_2.jpg   \n",
       "11  PMC4647049/4647049_1/4647049_1_3.jpg   \n",
       "12  PMC4647049/4647049_1/4647049_1_4.jpg   \n",
       "13  PMC4647049/4647049_1/4647049_1_5.jpg   \n",
       "14  PMC4647049/4647049_1/4647049_1_6.jpg   \n",
       "15  PMC3848245/3848245_1/3848245_1_1.jpg   \n",
       "16  PMC3848245/3848245_1/3848245_1_2.jpg   \n",
       "17  PMC3848245/3848245_1/3848245_1_3.jpg   \n",
       "18  PMC3358935/3358935_1/3358935_1_2.jpg   \n",
       "19  PMC2629956/2629956_1/2629956_1_2.jpg   \n",
       "\n",
       "                            caption_path patient_uid   pmc_id  \\\n",
       "0   PMC8167975/8167975_1/8167975_1_1.txt   8167975-1  8167975   \n",
       "1   PMC8167975/8167975_1/8167975_1_2.txt   8167975-1  8167975   \n",
       "2   PMC8167975/8167975_1/8167975_1_3.txt   8167975-1  8167975   \n",
       "3   PMC8167975/8167975_1/8167975_1_4.txt   8167975-1  8167975   \n",
       "4   PMC8167975/8167975_1/8167975_1_5.txt   8167975-1  8167975   \n",
       "5   PMC8167975/8167975_1/8167975_1_6.txt   8167975-1  8167975   \n",
       "6   PMC8167975/8167975_1/8167975_1_7.txt   8167975-1  8167975   \n",
       "7   PMC8167975/8167975_1/8167975_1_8.txt   8167975-1  8167975   \n",
       "8   PMC8167975/8167975_1/8167975_1_9.txt   8167975-1  8167975   \n",
       "9   PMC4647049/4647049_1/4647049_1_1.txt   4647049-1  4647049   \n",
       "10  PMC4647049/4647049_1/4647049_1_2.txt   4647049-1  4647049   \n",
       "11  PMC4647049/4647049_1/4647049_1_3.txt   4647049-1  4647049   \n",
       "12  PMC4647049/4647049_1/4647049_1_4.txt   4647049-1  4647049   \n",
       "13  PMC4647049/4647049_1/4647049_1_5.txt   4647049-1  4647049   \n",
       "14  PMC4647049/4647049_1/4647049_1_6.txt   4647049-1  4647049   \n",
       "15  PMC3848245/3848245_1/3848245_1_1.txt   3848245-1  3848245   \n",
       "16  PMC3848245/3848245_1/3848245_1_2.txt   3848245-1  3848245   \n",
       "17  PMC3848245/3848245_1/3848245_1_3.txt   3848245-1  3848245   \n",
       "18  PMC3358935/3358935_1/3358935_1_2.txt   3358935-1  3358935   \n",
       "19  PMC2629956/2629956_1/2629956_1_2.txt   2629956-1  2629956   \n",
       "\n",
       "                                        article_path  \\\n",
       "0   https://ncbi.nlm.nih.gov/pmc/articles/PMC8167975   \n",
       "1   https://ncbi.nlm.nih.gov/pmc/articles/PMC8167975   \n",
       "2   https://ncbi.nlm.nih.gov/pmc/articles/PMC8167975   \n",
       "3   https://ncbi.nlm.nih.gov/pmc/articles/PMC8167975   \n",
       "4   https://ncbi.nlm.nih.gov/pmc/articles/PMC8167975   \n",
       "5   https://ncbi.nlm.nih.gov/pmc/articles/PMC8167975   \n",
       "6   https://ncbi.nlm.nih.gov/pmc/articles/PMC8167975   \n",
       "7   https://ncbi.nlm.nih.gov/pmc/articles/PMC8167975   \n",
       "8   https://ncbi.nlm.nih.gov/pmc/articles/PMC8167975   \n",
       "9   https://ncbi.nlm.nih.gov/pmc/articles/PMC4647049   \n",
       "10  https://ncbi.nlm.nih.gov/pmc/articles/PMC4647049   \n",
       "11  https://ncbi.nlm.nih.gov/pmc/articles/PMC4647049   \n",
       "12  https://ncbi.nlm.nih.gov/pmc/articles/PMC4647049   \n",
       "13  https://ncbi.nlm.nih.gov/pmc/articles/PMC4647049   \n",
       "14  https://ncbi.nlm.nih.gov/pmc/articles/PMC4647049   \n",
       "15  https://ncbi.nlm.nih.gov/pmc/articles/PMC3848245   \n",
       "16  https://ncbi.nlm.nih.gov/pmc/articles/PMC3848245   \n",
       "17  https://ncbi.nlm.nih.gov/pmc/articles/PMC3848245   \n",
       "18  https://ncbi.nlm.nih.gov/pmc/articles/PMC3358935   \n",
       "19  https://ncbi.nlm.nih.gov/pmc/articles/PMC2629956   \n",
       "\n",
       "               unique_articles_sim_patients  \\\n",
       "0                             ['5563556-1']   \n",
       "1                             ['5563556-1']   \n",
       "2                             ['5563556-1']   \n",
       "3                             ['5563556-1']   \n",
       "4                             ['5563556-1']   \n",
       "5                             ['5563556-1']   \n",
       "6                             ['5563556-1']   \n",
       "7                             ['5563556-1']   \n",
       "8                             ['5563556-1']   \n",
       "9                ['5654233-1', '4142379-1']   \n",
       "10               ['5654233-1', '4142379-1']   \n",
       "11               ['5654233-1', '4142379-1']   \n",
       "12               ['5654233-1', '4142379-1']   \n",
       "13               ['5654233-1', '4142379-1']   \n",
       "14               ['5654233-1', '4142379-1']   \n",
       "15                            ['7365539-1']   \n",
       "16                            ['7365539-1']   \n",
       "17                            ['7365539-1']   \n",
       "18                            ['3853602-1']   \n",
       "19  ['4709607-1', '5544368-1', '6219320-1']   \n",
       "\n",
       "                                         caption_text  \n",
       "0   Fundus photograph showed a yellowish white, pe...  \n",
       "1   B-scan demonstrated focal subretinal calcifica...  \n",
       "2   CT demonstrated a hyperdense choroidal plaque ...  \n",
       "3   OCT showed serous fluid exudates under the mac...  \n",
       "4   Right fundus showed an enlarged choroidal oste...  \n",
       "5   OCTA revealed unique features in the vascular ...  \n",
       "6   ICGA showed there was hypo-fluorescence at the...  \n",
       "7   OCT appreciated CNV and on the nasal atrophic ...  \n",
       "8   OCTA revealed the regression of choroidal neov...  \n",
       "9   Intraoral photograph showing retained deciduou...  \n",
       "10  Periapical radiograph showing absence of right...  \n",
       "11  Periapical radiograph showing absence of left ...  \n",
       "12  Mandibular occlusal radiograph showing bilater...  \n",
       "13  Periapical radiograph showing agenesis of both...  \n",
       "14  Panaromic view of bilateral agenesis of maxill...  \n",
       "15  Two embryos were located in separate cavities ...  \n",
       "16  Two gestational sacs in coronal and sagittal v...  \n",
       "17            Two incisions were repaired separately.  \n",
       "18  Family pedigree showing seven members in four ...  \n",
       "19  Culture of aspirated vitreous fluid shows grow...  "
      ]
     },
     "execution_count": 104,
     "metadata": {},
     "output_type": "execute_result"
    }
   ],
   "source": [
    "filtered_df.head(20)"
   ]
  },
  {
   "cell_type": "code",
   "execution_count": 4,
   "id": "8f429582-bd7d-4bb8-a1c2-25f6080ab15a",
   "metadata": {},
   "outputs": [],
   "source": [
    "captions = filtered_df['caption_text']"
   ]
  },
  {
   "cell_type": "code",
   "execution_count": 5,
   "id": "2f3c4848-d8bc-4300-88b4-edc246da0d6c",
   "metadata": {},
   "outputs": [],
   "source": [
    "captions = captions.to_list()"
   ]
  },
  {
   "cell_type": "code",
   "execution_count": 7,
   "id": "edebe371-6f62-4cda-8844-46c60c57060f",
   "metadata": {},
   "outputs": [
    {
     "data": {
      "text/plain": [
       "['Fundus photograph showed a yellowish white, peripapillary and sharply demarcated choroidal lesion involving the macula (white arrows)',\n",
       " 'B-scan demonstrated focal subretinal calcification next to the optic disc (white arrow)',\n",
       " 'CT demonstrated a hyperdense choroidal plaque with the same density as bone typically (white arrow)',\n",
       " 'OCT showed serous fluid exudates under the macula (white asterisk)',\n",
       " 'Right fundus showed an enlarged choroidal osteoma in most margins at posterior pole (white arrow) with schistose hemorrhage (black asterisk) beside macula compared to eight years ago. Partial decalcification on the inferior margin and visibility of large choroidal vessels were noted (white asterisk)',\n",
       " 'OCTA revealed unique features in the vascular changes of CNV in CO in the outer retinal layer and choroid capillary layers, and subretinal neovascularization (white arrow)',\n",
       " 'ICGA showed there was hypo-fluorescence at the peripapillary with faint hyper-fluorescence at the macular, corresponding to the location on the fundus photograph. The subretinal neovascularization of CNV was not obvious',\n",
       " 'OCT appreciated CNV and on the nasal atrophic retina',\n",
       " 'OCTA revealed the regression of choroidal neovascularization density and range in the outer retinal layer and choroid capillary layers. (white arrow)',\n",
       " 'Intraoral photograph showing retained deciduous maxillary right and left canines and mandibular both right and left central incisors']"
      ]
     },
     "execution_count": 7,
     "metadata": {},
     "output_type": "execute_result"
    }
   ],
   "source": [
    "captions[0:10]"
   ]
  },
  {
   "cell_type": "code",
   "execution_count": 148,
   "id": "838ed679-b359-4b92-bb12-776ca7548390",
   "metadata": {},
   "outputs": [
    {
     "data": {
      "text/plain": [
       "41155"
      ]
     },
     "execution_count": 148,
     "metadata": {},
     "output_type": "execute_result"
    }
   ],
   "source": [
    "len(captions)"
   ]
  },
  {
   "cell_type": "code",
   "execution_count": 11,
   "id": "d9de127c-21d7-4b71-8bd8-eaf5c27e9d0b",
   "metadata": {},
   "outputs": [
    {
     "data": {
      "text/plain": [
       "2875652"
      ]
     },
     "execution_count": 11,
     "metadata": {},
     "output_type": "execute_result"
    }
   ],
   "source": [
    "sum([len(caption.split()) for caption in captions])"
   ]
  },
  {
   "cell_type": "code",
   "execution_count": 34,
   "id": "dd943389-236a-4f9d-a906-a42a2c04293b",
   "metadata": {},
   "outputs": [
    {
     "data": {
      "text/plain": [
       "[[128000, 9906, 1917],\n",
       " [128000, 4438, 1690, 4339, 527, 304, 420, 1160, 30],\n",
       " [128000, 31380, 374, 2294]]"
      ]
     },
     "execution_count": 34,
     "metadata": {},
     "output_type": "execute_result"
    }
   ],
   "source": [
    "[tokenizer.encode(string) for string in text_list]"
   ]
  },
  {
   "cell_type": "code",
   "execution_count": 32,
   "id": "27b1a2e8-3608-4be8-8090-25f91861414f",
   "metadata": {},
   "outputs": [
    {
     "data": {
      "text/plain": [
       "' world'"
      ]
     },
     "execution_count": 32,
     "metadata": {},
     "output_type": "execute_result"
    }
   ],
   "source": [
    "tokenizer.decode(1917)"
   ]
  },
  {
   "cell_type": "code",
   "execution_count": 10,
   "id": "11e98353-64c8-4d18-8423-5f439f44d5fe",
   "metadata": {},
   "outputs": [
    {
     "data": {
      "text/plain": [
       "12"
      ]
     },
     "execution_count": 10,
     "metadata": {},
     "output_type": "execute_result"
    }
   ],
   "source": [
    "text_list = [\"Hello world\", \"How many words are in this list?\", \"Python is great\"]\n",
    "sum([len(string.split()) for string in text_list])"
   ]
  },
  {
   "cell_type": "code",
   "execution_count": 35,
   "id": "37d68fb7-c9c2-4a41-b7aa-3f3fa54b70ec",
   "metadata": {},
   "outputs": [
    {
     "data": {
      "text/plain": [
       "16"
      ]
     },
     "execution_count": 35,
     "metadata": {},
     "output_type": "execute_result"
    }
   ],
   "source": [
    "text_list = [\"Hello world\", \"How many words are in this list?\", \"Python is great\"]\n",
    "\n",
    "sum([len(tokenizer.encode(string)) for string in text_list])"
   ]
  },
  {
   "cell_type": "code",
   "execution_count": 37,
   "id": "b9e84f4d-e4b6-4b88-9164-896048778742",
   "metadata": {},
   "outputs": [
    {
     "data": {
      "text/plain": [
       "4775673"
      ]
     },
     "execution_count": 37,
     "metadata": {},
     "output_type": "execute_result"
    }
   ],
   "source": [
    "sum([len(tokenizer.encode(caption)) for caption in captions])"
   ]
  },
  {
   "cell_type": "code",
   "execution_count": 26,
   "id": "1c52fe4d-e141-47ce-9a77-1a88446d2d3c",
   "metadata": {},
   "outputs": [],
   "source": [
    "from transformers import AutoTokenizer, AutoModelForCausalLM\n",
    "\n",
    "tokenizer = AutoTokenizer.from_pretrained(\"/cs/labs/tomhope/yuvalbus/pmc/pythonProject/Llama-3.1-70B-Instruct-AWQ-INT4\")\n"
   ]
  },
  {
   "cell_type": "code",
   "execution_count": 8,
   "id": "4ee130e4-0c5f-499d-b012-5d2b44c4de6e",
   "metadata": {},
   "outputs": [
    {
     "data": {
      "application/vnd.jupyter.widget-view+json": {
       "model_id": "88ac262db3204ff2ab684ad833fd9b19",
       "version_major": 2,
       "version_minor": 0
      },
      "text/plain": [
       "Loading checkpoint shards:   0%|          | 0/9 [00:00<?, ?it/s]"
      ]
     },
     "metadata": {},
     "output_type": "display_data"
    }
   ],
   "source": [
    "pipe = pipeline(\n",
    "    \"text-generation\",\n",
    "    model=\"/cs/labs/tomhope/yuvalbus/pmc/pythonProject/Llama-3.1-70B-Instruct-AWQ-INT4\",\n",
    "    device_map=\"auto\",\n",
    "    pad_token_id=tokenizer.eos_token_id,\n",
    "    tokenizer=tokenizer\n",
    ")\n"
   ]
  },
  {
   "cell_type": "code",
   "execution_count": 9,
   "id": "77bb0b4d-a1fd-43d3-827f-30a85e6c24ca",
   "metadata": {},
   "outputs": [],
   "source": [
    "def preprocess_function(examples):\n",
    "    messages = [\n",
    "        [\n",
    "            {\"role\": \"system\", \"content\": '''\n",
    "            You are tasked with classifying medical imaging descriptions as a doctor. Follow these specific categories closely and respond only with the relevant category and its classification. Do not provide additional explanations, and do not choose options that are not specified within each category.\n",
    "            \n",
    "            Here are the categories to use: \n",
    "            **Modality:** Other/None/Unknown, X-ray (radiograph), CT, MRI, PET, Ultrasound, Electrocardiogram (EKG), Endoscopy, Angiography, Optical coherence tomography (OCT), Indocyanine Green Angiography (ICGA), Photomicrograph, Clinical Photograph.\n",
    "            **Anatomy:** Other/None/Unknown, Head and Neck, Chest, Abdomen, Pelvis, Spine, Extremities (Upper and Lower Limbs), Eyes, Heart and Cardiovascular System, Musculoskeletal System, Breast, Genitourinary System, Nervous System.\n",
    "            **Imaging Orientation:** Other/None/Unknown, Anteroposterior, Posteroanterior, Lateral, Oblique, Axial, Sagittal, Coronal, 3D Reconstructions. \n",
    "            **Medical Finding:** Other/None/Unknown, Infections, Neoplasms (Tumors), Inflammatory Conditions, Degenerative Diseases, Congenital Anomalies, Metabolic and Endocrine Disorders, Trauma and Injuries, Vascular Disorders, Autoimmune Diseases, Neurological Disorders, Respiratory Conditions, Gastrointestinal Disorders, Musculoskeletal Abnormalities, Cardiovascular Conditions, Hematologic Disorders, Eye Disorders, Renal and Urological Conditions, Liver and Hepatobiliary Diseases, Skin and Subcutaneous Disorders, Allergic Reactions, Mental Health, Psychiatric Conditions, Functional Disorders.\n",
    "            \n",
    "            Format your response as: \n",
    "            Modality: [Choose from the above]\n",
    "            Anatomy: [Choose from the above]\n",
    "            Imaging Orientation: [Choose from the above] \n",
    "            Medical Finding: [Choose from the above]\n",
    "        \n",
    "            If the caption is not informative enough, use the ‘Other/None/Unknown’ option.\n",
    "            \n",
    "            Some few-shot examples:\n",
    "            A non-informative caption as \"Postoperative scan of the patient\" will be classified as:\n",
    "            Modality: Other/None/Unknown\n",
    "            Anatomy: Other/None/Unknown\n",
    "            Imaging Orientation: Other/None/Unknown \n",
    "            Medical Finding: Other/None/Unknown\n",
    "            \n",
    "            A semi-informative caption as \"MRI of the brain showing a tumor in the frontal lobe.\" will be classified as:\n",
    "            Modality: MRI\n",
    "            Anatomy: Nervous System\n",
    "            Imaging Orientation: Other/None/Unknown \n",
    "            Medical Finding: Neoplasms (Tumors)\n",
    "        \n",
    "            Example with anatomical inference: \n",
    "            Caption: \"Ultrasound scan demonstrates mild enlargement of the left ventricle with no signs of infarction or scarring.\"\n",
    "            Classification:\n",
    "            Modality: Ultrasound\n",
    "            Anatomy: Heart and Cardiovascular System\n",
    "            Imaging Orientation: Other/None/Unknown\n",
    "            Medical Finding: Cardiovascular Conditions\n",
    "            '''},\n",
    "            {\"role\": \"user\", \"content\": caption}\n",
    "        ]\n",
    "        for caption in examples['captions']\n",
    "    ]\n",
    "    return {'messages': messages}\n"
   ]
  },
  {
   "cell_type": "code",
   "execution_count": 7,
   "id": "57954da8-6a3c-4e44-ba92-36b1e9524db2",
   "metadata": {},
   "outputs": [],
   "source": [
    "from datasets import Dataset\n",
    "\n",
    "# Assuming 'captions' is a list of your captions\n",
    "dataset = Dataset.from_dict({'captions': captions})\n"
   ]
  },
  {
   "cell_type": "code",
   "execution_count": 10,
   "id": "caec019d-529e-4f17-8bf1-6ad6522ceb98",
   "metadata": {},
   "outputs": [
    {
     "data": {
      "application/vnd.jupyter.widget-view+json": {
       "model_id": "211abab9b8ad44c68b1a3507e29e4123",
       "version_major": 2,
       "version_minor": 0
      },
      "text/plain": [
       "Map:   0%|          | 0/50 [00:00<?, ? examples/s]"
      ]
     },
     "metadata": {},
     "output_type": "display_data"
    }
   ],
   "source": [
    "# tokenizer.pad_token_id = pipe.model.config.eos_token_id\n",
    "pipe.tokenizer.pad_token_id = pipe.model.config.eos_token_id[0]\n",
    "dataset = dataset.map(preprocess_function, batched=True)\n",
    "tokenizer.padding_side = \"left\"\n",
    "tokenizer.chat_template = \"\"\"\n",
    "<BEGIN CONVERSATION>\n",
    "{% for message in messages %}\n",
    "{{ message.role }}: {{ message.content }}\n",
    "{% endfor %}\n",
    "Assistant:\n",
    "\"\"\"\n"
   ]
  },
  {
   "cell_type": "code",
   "execution_count": 12,
   "id": "1dd834b3-dafb-4f48-ab69-1fb5b8fa914d",
   "metadata": {},
   "outputs": [
    {
     "name": "stdout",
     "output_type": "stream",
     "text": [
      "Elapsed time: 92.52447867393494 seconds\n"
     ]
    }
   ],
   "source": [
    "import time\n",
    "\n",
    "batch_size = 20  # Adjust based on VRAM availability\n",
    "\n",
    "start_time = time.time()\n",
    "\n",
    "llama_categories_classification = []\n",
    "\n",
    "with torch.no_grad():\n",
    "    for i in range(0, len(dataset), batch_size):\n",
    "        batch_prompts = dataset['messages'][i:i + batch_size]\n",
    "        # Process the batch\n",
    "        results = pipe(\n",
    "            batch_prompts,\n",
    "            max_length=1200,\n",
    "            batch_size=batch_size,\n",
    "            truncation=True\n",
    "        )\n",
    "\n",
    "        # Process or store results here\n",
    "        llama_categories_classification.extend(\n",
    "            [res['generated_text'] for result in results for res in result]\n",
    "        )\n",
    "\n",
    "        # Clean up to free VRAM\n",
    "        del results\n",
    "        torch.cuda.empty_cache()  # Optional: clear cache to free up VRAM\n",
    "\n",
    "end_time = time.time()\n",
    "elapsed_time = end_time - start_time\n",
    "print(f\"Elapsed time: {elapsed_time} seconds\")\n"
   ]
  },
  {
   "cell_type": "code",
   "execution_count": 13,
   "id": "7b7962d6-4e3a-46ca-884d-5bbae7d13230",
   "metadata": {},
   "outputs": [
    {
     "data": {
      "text/plain": [
       "[{'content': '\\n            You are tasked with classifying medical imaging descriptions as a doctor. Follow these specific categories closely and respond only with the relevant category and its classification. Do not provide additional explanations, and do not choose options that are not specified within each category.\\n            \\n            Here are the categories to use: \\n            **Modality:** Other/None/Unknown, X-ray (radiograph), CT, MRI, PET, Ultrasound, Electrocardiogram (EKG), Endoscopy, Angiography, Optical coherence tomography (OCT), Indocyanine Green Angiography (ICGA), Photomicrograph, Clinical Photograph.\\n            **Anatomy:** Other/None/Unknown, Head and Neck, Chest, Abdomen, Pelvis, Spine, Extremities (Upper and Lower Limbs), Eyes, Heart and Cardiovascular System, Musculoskeletal System, Breast, Genitourinary System, Nervous System.\\n            **Imaging Orientation:** Other/None/Unknown, Anteroposterior, Posteroanterior, Lateral, Oblique, Axial, Sagittal, Coronal, 3D Reconstructions. \\n            **Medical Finding:** Other/None/Unknown, Infections, Neoplasms (Tumors), Inflammatory Conditions, Degenerative Diseases, Congenital Anomalies, Metabolic and Endocrine Disorders, Trauma and Injuries, Vascular Disorders, Autoimmune Diseases, Neurological Disorders, Respiratory Conditions, Gastrointestinal Disorders, Musculoskeletal Abnormalities, Cardiovascular Conditions, Hematologic Disorders, Eye Disorders, Renal and Urological Conditions, Liver and Hepatobiliary Diseases, Skin and Subcutaneous Disorders, Allergic Reactions, Mental Health, Psychiatric Conditions, Functional Disorders.\\n            \\n            Format your response as: \\n            Modality: [Choose from the above]\\n            Anatomy: [Choose from the above]\\n            Imaging Orientation: [Choose from the above] \\n            Medical Finding: [Choose from the above]\\n        \\n            If the caption is not informative enough, use the ‘Other/None/Unknown’ option.\\n            \\n            Some few-shot examples:\\n            A non-informative caption as \"Postoperative scan of the patient\" will be classified as:\\n            Modality: Other/None/Unknown\\n            Anatomy: Other/None/Unknown\\n            Imaging Orientation: Other/None/Unknown \\n            Medical Finding: Other/None/Unknown\\n            \\n            A semi-informative caption as \"MRI of the brain showing a tumor in the frontal lobe.\" will be classified as:\\n            Modality: MRI\\n            Anatomy: Nervous System\\n            Imaging Orientation: Other/None/Unknown \\n            Medical Finding: Neoplasms (Tumors)\\n        \\n            Example with anatomical inference: \\n            Caption: \"Ultrasound scan demonstrates mild enlargement of the left ventricle with no signs of infarction or scarring.\"\\n            Classification:\\n            Modality: Ultrasound\\n            Anatomy: Heart and Cardiovascular System\\n            Imaging Orientation: Other/None/Unknown\\n            Medical Finding: Cardiovascular Conditions\\n            ',\n",
       "  'role': 'system'},\n",
       " {'content': 'Fundus photograph showed a yellowish white, peripapillary and sharply demarcated choroidal lesion involving the macula (white arrows)',\n",
       "  'role': 'user'},\n",
       " {'role': 'assistant',\n",
       "  'content': ' \\nModality: Clinical Photograph\\nAnatomy: Eyes\\nImaging Orientation: Other/None/Unknown\\nMedical Finding: Other/None/Unknown'}]"
      ]
     },
     "execution_count": 13,
     "metadata": {},
     "output_type": "execute_result"
    }
   ],
   "source": [
    "llama_categories_classification[0]"
   ]
  },
  {
   "cell_type": "code",
   "execution_count": 14,
   "id": "5d3d1372-fed2-48ef-bc42-cf5e42c0c3b1",
   "metadata": {},
   "outputs": [],
   "source": [
    "with open('llama_categories_classification.json', 'w') as f:\n",
    "    json.dump(llama_categories_classification, f)\n"
   ]
  },
  {
   "cell_type": "code",
   "execution_count": 1,
   "id": "071383c9-b166-4f54-9a78-89fd1bc8171c",
   "metadata": {},
   "outputs": [],
   "source": [
    "from together import Together\n",
    "\n",
    "client = Together(api_key='7d74638f3bb9735737fba8d66551ba62be4ee963e45c18e42954b50f325edd39')\n"
   ]
  },
  {
   "cell_type": "code",
   "execution_count": 18,
   "id": "9a6f679c-aa6f-423b-b6aa-2a4cd56819a6",
   "metadata": {},
   "outputs": [],
   "source": [
    "from PIL import Image"
   ]
  },
  {
   "cell_type": "code",
   "execution_count": 69,
   "id": "44be8e73-5f14-48f9-a67d-8da072c2768a",
   "metadata": {},
   "outputs": [
    {
     "name": "stdout",
     "output_type": "stream",
     "text": [
      "Modality: X-ray (radiograph)\n",
      "Anatomy: Abdomen\n"
     ]
    }
   ],
   "source": [
    "from together import Together\n",
    "\n",
    "client = Together(api_key='7d74638f3bb9735737fba8d66551ba62be4ee963e45c18e42954b50f325edd39')\n",
    "\n",
    "response = client.chat.completions.create(\n",
    "    model=\"meta-llama/Llama-Vision-Free\",\n",
    "    messages=\n",
    "    [\n",
    "        \n",
    "        {\"role\": \"system\", \"content\": '''\n",
    "         You are tasked with classifying medical imaging descriptions as a doctor. Follow these specific categories closely and respond only\n",
    "         with the relevant category and its classification. Do not provide additional explanations, and do not choose options that are not\n",
    "         specified within each category.\n",
    "        Here are the categories to use: \n",
    "        **Modality:** Other/None/Unknown, X-ray (radiograph), CT, MRI, PET, Ultrasound, Electrocardiogram (EKG), Endoscopy, Angiography, Optical coherence tomography (OCT), Photomicrograph, Clinical Photograph.\n",
    "        **Anatomy:** Other/None/Unknown, Head and Neck, Chest, Abdomen, Pelvis, Spine, Extremities (Upper and Lower Limbs), Eyes, Heart and Cardiovascular System, Musculoskeletal System, Breast, Genitourinary System, Nervous System.\n",
    "        Format your response as: \n",
    "        Modality: [Choose from the above]\n",
    "        Anatomy: [Choose from the above]\n",
    "    \n",
    "        If the caption is not informative enough, use the ‘Other/None/Unknown’ option.\n",
    "        Some few-shot examples:\n",
    "        A non-informative caption as \"Postoperative scan of the patient\" will be classified as:\n",
    "        Modality: Other/None/Unknown\n",
    "        Anatomy: Other/None/Unknown\n",
    "        \n",
    "        An informative caption as \"MRI of the brain showing a tumor in the frontal lobe.\" will be classified as:\n",
    "        Modality: MRI\n",
    "        Anatomy: Nervous System\n",
    "    \n",
    "        Example with anatomical inference: \n",
    "        Caption: \"Ultrasound scan demonstrates mild enlargement of the left ventricle with no signs of infarction or scarring.\"\n",
    "        Classification:\n",
    "        Modality: Ultrasound\n",
    "        Anatomy: Heart and Cardiovascular System\n",
    "        '''},\n",
    "        \n",
    "        {\"role\": \"user\",\n",
    "        \"content\":\n",
    "                [\n",
    "                    {\n",
    "                        \"type\": \"text\",\n",
    "                        \"text\": \"Demonstrating stomach on the right.\"\n",
    "                    },\n",
    "                    {\n",
    "                        \"type\": \"image_url\",\n",
    "                        \"image_url\": {\n",
    "                            \"url\": \"https://cdn.ncbi.nlm.nih.gov/pmc/blobs/4030/6159242/3b30394d73e4/bjrcr.20150196.g001.jpg\"\n",
    "                        }\n",
    "                    }\n",
    "                ]\n",
    "        \n",
    "        }\n",
    "    ],\n",
    "    temperature=0.3,\n",
    "    top_k=5\n",
    ")\n",
    "print(response.choices[0].message.content)\n"
   ]
  },
  {
   "cell_type": "code",
   "execution_count": null,
   "id": "a75296aa-051e-4224-be86-496ca2c6866e",
   "metadata": {},
   "outputs": [],
   "source": []
  },
  {
   "cell_type": "code",
   "execution_count": null,
   "id": "17f99db8-1ace-4da8-be37-1d5803963224",
   "metadata": {},
   "outputs": [],
   "source": [
    "# key = <insert openai key>\n",
    "from openai import OpenAI"
   ]
  },
  {
   "cell_type": "code",
   "execution_count": 8,
   "id": "40b7c746-65ea-47e0-83d9-fc0d48fe2159",
   "metadata": {},
   "outputs": [],
   "source": [
    "client = OpenAI(api_key=key)"
   ]
  },
  {
   "cell_type": "code",
   "execution_count": 125,
   "id": "632c6f6c-c9e3-47d8-9493-f1642b51c1e7",
   "metadata": {},
   "outputs": [
    {
     "data": {
      "text/plain": [
       "82"
      ]
     },
     "execution_count": 125,
     "metadata": {},
     "output_type": "execute_result"
    }
   ],
   "source": [
    "counter = 0\n",
    "for response in other_none_unknown_responses:\n",
    "    if \"Anatomy: Other/None/Unknown\" in response and \"Modality: Other/None/Unknown\" in response:\n",
    "        counter += 1\n",
    "counter\n"
   ]
  },
  {
   "cell_type": "code",
   "execution_count": 126,
   "id": "4044359b-9c5c-4c95-90bb-7940ea1cb32c",
   "metadata": {},
   "outputs": [
    {
     "data": {
      "text/plain": [
       "257"
      ]
     },
     "execution_count": 126,
     "metadata": {},
     "output_type": "execute_result"
    }
   ],
   "source": [
    "counter = 0\n",
    "for response in other_none_unknown_responses:\n",
    "    if \"Anatomy: Other/None/Unknown\" in response or \"Modality: Other/None/Unknown\" in response:\n",
    "        counter += 1\n",
    "counter\n"
   ]
  },
  {
   "cell_type": "code",
   "execution_count": 121,
   "id": "a35b67ef-732c-426f-83c9-42d387a1489b",
   "metadata": {},
   "outputs": [
    {
     "data": {
      "text/plain": [
       "158"
      ]
     },
     "execution_count": 121,
     "metadata": {},
     "output_type": "execute_result"
    }
   ],
   "source": [
    "counter_mini = 0\n",
    "for response in other_none_unknown_responses:\n",
    "    if \"Modality: Other/None/Unknown\" in response:\n",
    "        counter += 1\n",
    "counter\n"
   ]
  },
  {
   "cell_type": "code",
   "execution_count": 122,
   "id": "1817fe48-42c2-406d-8de3-6fcc41c77353",
   "metadata": {},
   "outputs": [
    {
     "data": {
      "text/plain": [
       "181"
      ]
     },
     "execution_count": 122,
     "metadata": {},
     "output_type": "execute_result"
    }
   ],
   "source": [
    "counter_mini = 0\n",
    "for response in other_none_unknown_responses:\n",
    "    if \"Anatomy: Other/None/Unknown\" in response:\n",
    "        counter += 1\n",
    "counter\n"
   ]
  },
  {
   "cell_type": "code",
   "execution_count": 19,
   "id": "c69ab305-25e9-4173-9bb7-5ce53231ed84",
   "metadata": {},
   "outputs": [
    {
     "data": {
      "text/plain": [
       "122"
      ]
     },
     "execution_count": 19,
     "metadata": {},
     "output_type": "execute_result"
    }
   ],
   "source": [
    "counter = 0\n",
    "for response in other_none_unknown_responses:\n",
    "    if \"Modality: Other/None/Unknown\" in response:\n",
    "        counter += 1\n",
    "counter\n"
   ]
  },
  {
   "cell_type": "code",
   "execution_count": 20,
   "id": "4f78402f-adc4-4a37-b221-733cc5bbe4d4",
   "metadata": {},
   "outputs": [
    {
     "data": {
      "text/plain": [
       "134"
      ]
     },
     "execution_count": 20,
     "metadata": {},
     "output_type": "execute_result"
    }
   ],
   "source": [
    "counter = 0\n",
    "for response in other_none_unknown_responses:\n",
    "    if \"Anatomy: Other/None/Unknown\" in response:\n",
    "        counter += 1\n",
    "counter\n"
   ]
  },
  {
   "cell_type": "code",
   "execution_count": 17,
   "id": "c2434cb4-da80-4ff8-bf80-1b599849aa53",
   "metadata": {},
   "outputs": [],
   "source": [
    "# Define your messages as a list of dictionaries (system/user format for chat models)\n",
    "\n",
    "other_none_unknown_responses = []\n",
    "\n",
    "for caption in captions:\n",
    "    messages = [\n",
    "            {\"role\": \"system\", \"content\": '''\n",
    "             You are tasked with classifying medical imaging descriptions as a doctor. Follow these specific categories closely and respond only\n",
    "             with the relevant category and its classification. Do not provide additional explanations, and do not choose options that are not\n",
    "             specified within each category.\n",
    "            Here are the categories to use: \n",
    "            Modality: Other/None/Unknown, X-ray (radiograph), CT, MRI, PET, Ultrasound, Electrocardiogram (EKG), Endoscopy, Angiography, Optical coherence tomography (OCT), Photomicrograph, Clinical Photograph.\n",
    "            Anatomy: Other/None/Unknown, Head and Neck, Oral Anatomy, Chest, Abdomen, Pelvis, Spine, Extremities (Upper and Lower Limbs), Eyes, Heart and Cardiovascular System, Musculoskeletal System, Breast, Genitourinary System, Nervous System.\n",
    "            Format your response as: \n",
    "            Modality: [Choose from the above]\n",
    "            Anatomy: [Choose from the above]\n",
    "        \n",
    "            If the caption is not informative enough, use the ‘Other/None/Unknown’ option.\n",
    "            Some few-shot examples:\n",
    "            A non-informative caption as \"Postoperative scan of the patient\" will be classified as:\n",
    "            Modality: Other/None/Unknown\n",
    "            Anatomy: Other/None/Unknown\n",
    "            \n",
    "            An informative caption as \"MRI of the brain showing a tumor in the frontal lobe.\" will be classified as:\n",
    "            Modality: MRI\n",
    "            Anatomy: Nervous System\n",
    "        \n",
    "            Example with anatomical inference: \n",
    "            Caption: \"Ultrasound scan demonstrates mild enlargement of the left ventricle with no signs of infarction or scarring.\"\n",
    "            Classification:\n",
    "            Modality: Ultrasound\n",
    "            Anatomy: Heart and Cardiovascular System\n",
    "    \n",
    "            Example with modality inference:\n",
    "            Caption: \"Panaromic view of bilateral agenesis of maxillary canines and mandibular central incisors.\"\n",
    "            Classification:\n",
    "            Modality: X-ray (radiograph)\n",
    "            Anatomy: Oral Anatomy\n",
    "    \n",
    "            '''},\n",
    "        \n",
    "        {\"role\": \"user\", \"content\": caption}\n",
    "    ]\n",
    "    \n",
    "    completion = client.chat.completions.create(\n",
    "        model=\"gpt-4o\",\n",
    "        messages=messages,\n",
    "        max_tokens=50\n",
    "    )\n",
    "\n",
    "    response = completion.choices[0].message.content.strip()\n",
    "\n",
    "    if \"Modality: Other/None/Unknown\" in response or \"Anatomy: Other/None/Unknown\" in response:\n",
    "        other_none_unknown_responses.append(response)\n",
    "\n",
    "    # print(response)\n",
    "\n",
    "    # print(completion.choices[0].message.content)\n",
    "    "
   ]
  },
  {
   "cell_type": "code",
   "execution_count": null,
   "id": "99c077cd-5a31-4bcb-bc99-063704ab3798",
   "metadata": {},
   "outputs": [],
   "source": []
  },
  {
   "cell_type": "code",
   "execution_count": 1,
   "id": "f92570dd-81d8-4f57-963d-88550cb39b34",
   "metadata": {},
   "outputs": [],
   "source": [
    "import tiktoken"
   ]
  },
  {
   "cell_type": "code",
   "execution_count": 100,
   "id": "4fe5375d-993c-46f8-bd33-1d69956edbc4",
   "metadata": {},
   "outputs": [],
   "source": [
    "tokens_2d_lst = [tiktoken.encoding_for_model('gpt-4o-mini').encode(word) for caption in captions for word in caption.split()]"
   ]
  },
  {
   "cell_type": "code",
   "execution_count": 101,
   "id": "4701d845-8d6d-4efd-afc6-c711f0e1ab33",
   "metadata": {},
   "outputs": [
    {
     "data": {
      "text/plain": [
       "2875652"
      ]
     },
     "execution_count": 101,
     "metadata": {},
     "output_type": "execute_result"
    }
   ],
   "source": [
    "len(tokens_2d_lst)"
   ]
  },
  {
   "cell_type": "code",
   "execution_count": 102,
   "id": "be76af8f-1ea1-4697-85e7-02b32828d7b4",
   "metadata": {},
   "outputs": [
    {
     "data": {
      "text/plain": [
       "5154725"
      ]
     },
     "execution_count": 102,
     "metadata": {},
     "output_type": "execute_result"
    }
   ],
   "source": [
    "sum([len(lst) for lst in tokens_2d_lst])"
   ]
  },
  {
   "cell_type": "code",
   "execution_count": 42,
   "id": "119da8b6-ae05-4dd1-ae3c-ccf8954ba596",
   "metadata": {},
   "outputs": [],
   "source": [
    "tokens_2d_lst = [tiktoken.encoding_for_model('gpt-4o').encode(word) for caption in captions for word in caption.split()]"
   ]
  },
  {
   "cell_type": "code",
   "execution_count": 43,
   "id": "f6dbe920-f09e-44ba-be43-f0ace9157c5d",
   "metadata": {},
   "outputs": [
    {
     "data": {
      "text/plain": [
       "5154725"
      ]
     },
     "execution_count": 43,
     "metadata": {},
     "output_type": "execute_result"
    }
   ],
   "source": [
    "sum([len(lst) for lst in tokens_2d_lst])"
   ]
  },
  {
   "cell_type": "code",
   "execution_count": 30,
   "id": "8e8aa987-0522-4c86-81c6-cb60546d56f4",
   "metadata": {},
   "outputs": [
    {
     "data": {
      "text/plain": [
       "466"
      ]
     },
     "execution_count": 30,
     "metadata": {},
     "output_type": "execute_result"
    }
   ],
   "source": [
    "len(tiktoken.encoding_for_model('gpt-4o').encode(str(a)))"
   ]
  },
  {
   "cell_type": "code",
   "execution_count": 33,
   "id": "1c810c70-8928-44d9-989b-69e14918bc7d",
   "metadata": {},
   "outputs": [
    {
     "data": {
      "text/plain": [
       "410"
      ]
     },
     "execution_count": 33,
     "metadata": {},
     "output_type": "execute_result"
    }
   ],
   "source": [
    "content_string = a[0][\"content\"] + a[1][\"content\"]\n",
    "token_count = len(tiktoken.encoding_for_model('gpt-4o').encode(content_string))\n",
    "token_count"
   ]
  },
  {
   "cell_type": "code",
   "execution_count": 34,
   "id": "34ae1b46-c874-4c34-8351-6a949a13cc32",
   "metadata": {},
   "outputs": [
    {
     "name": "stdout",
     "output_type": "stream",
     "text": [
      "Estimated total tokens including system message: 19289\n"
     ]
    }
   ],
   "source": [
    "# Calculate total tokens in captions\n",
    "tokens_2d_lst = [tiktoken.encoding_for_model('gpt-4o').encode(word) for caption in captions for word in caption.split()]\n",
    "\n",
    "# Sum the lengths of each tokenized caption and add the 410 system tokens\n",
    "total_tokens = sum(len(lst) for lst in tokens_2d_lst) + 410\n",
    "\n",
    "print(f\"Estimated total tokens including system message: {total_tokens}\")\n"
   ]
  },
  {
   "cell_type": "code",
   "execution_count": 51,
   "id": "21cd608f-7af8-4e77-b09b-a6221787d766",
   "metadata": {},
   "outputs": [
    {
     "data": {
      "text/plain": [
       "58292487"
      ]
     },
     "execution_count": 51,
     "metadata": {},
     "output_type": "execute_result"
    }
   ],
   "source": [
    "total_tokens = sum(410+len(tiktoken.encoding_for_model('gpt-4o').encode(caption)) for caption in captions)\n",
    "total_tokens"
   ]
  },
  {
   "cell_type": "code",
   "execution_count": null,
   "id": "7a21c284-a28f-4e3d-9274-80313f2392fc",
   "metadata": {},
   "outputs": [],
   "source": []
  },
  {
   "cell_type": "code",
   "execution_count": null,
   "id": "b7b86486-2e8c-47b4-bf7f-9a79d679d578",
   "metadata": {},
   "outputs": [],
   "source": []
  },
  {
   "cell_type": "code",
   "execution_count": null,
   "id": "d9c381bf-9c2c-4ae2-a025-26766ae58cb6",
   "metadata": {},
   "outputs": [],
   "source": [
    "lists_path = r'/cs/labs/tomhope/yuvalbus/pmc/pythonProject/'\n",
    "\n",
    "with open(lists_path + 'captions_sample_c.jsonl', 'w') as f:\n",
    "    for (i, caption) in enumerate(captions):\n",
    "        json_line = {\n",
    "                        \"custom_id\": f\"request-{i+1}\",\n",
    "                        \"method\": \"POST\",\n",
    "                        \"url\": \"/v1/chat/completions\",\n",
    "                        \"body\": {\"model\": \"gpt-4o\", \"messages\": [{\"role\": \"system\", \"content\": '''\n",
    "                                                                You are tasked with classifying medical imaging descriptions as a doctor. Follow these specific categories closely and respond only\n",
    "                                                                with the relevant category and its classification. Do not provide additional explanations, and do not choose options that are not\n",
    "                                                                specified within each category.\n",
    "                                                                Here are the categories to use: \n",
    "                                                                Modality: Other/None/Unknown, X-ray (radiograph), CT, MRI, PET, Ultrasound, Electrocardiogram (EKG), Endoscopy, Angiography, \n",
    "                                                                Optical coherence tomography (OCT), Photomicrograph, Clinical Photograph.\n",
    "                                                                Anatomy: Other/None/Unknown, Head and Neck, Oral Anatomy, Chest, Abdomen, Pelvis, Spine, Extremities (Upper and Lower Limbs), \n",
    "                                                                Eyes, Heart and Cardiovascular System, Musculoskeletal System, Breast, Genitourinary System, Nervous System.\n",
    "                                                                \n",
    "                                                                Format your response as: \n",
    "                                                                Modality: [Choose from the above]\n",
    "                                                                Anatomy: [Choose from the above]\n",
    "                                                            \n",
    "                                                                If the caption is not informative enough, use the ‘Other/None/Unknown’ option.\n",
    "                                                                Some few-shot examples:\n",
    "                                                                A non-informative caption as \"Postoperative scan of the patient\" will be classified as:\n",
    "                                                                Modality: Other/None/Unknown\n",
    "                                                                Anatomy: Other/None/Unknown\n",
    "                                                                \n",
    "                                                                An informative caption as \"MRI of the brain showing a tumor in the frontal lobe.\" will be classified as:\n",
    "                                                                Modality: MRI\n",
    "                                                                Anatomy: Nervous System\n",
    "                                                            \n",
    "                                                                Example with anatomical inference: \n",
    "                                                                Caption: \"Ultrasound scan demonstrates mild enlargement of the left ventricle with no signs of infarction or scarring.\"\n",
    "                                                                Classification:\n",
    "                                                                Modality: Ultrasound\n",
    "                                                                Anatomy: Heart and Cardiovascular System\n",
    "                                                        \n",
    "                                                                Example with modality inference:\n",
    "                                                                Caption: \"Panaromic view of bilateral agenesis of maxillary canines and mandibular central incisors.\"\n",
    "                                                                Classification:\n",
    "                                                                Modality: X-ray (radiograph)\n",
    "                                                                Anatomy: Oral Anatomy\n",
    "                                                                '''\n",
    "                                                                }, {\"role\": \"user\", \"content\": caption}], \"max_tokens\": 30\n",
    "                                                \n",
    "                                }  \n",
    "                    }\n",
    "        f.write(json.dumps(json_line) + '\\n')\n"
   ]
  },
  {
   "cell_type": "code",
   "execution_count": 18,
   "id": "f5d80b62-ba7c-4cef-bd7b-3e361d9edb4a",
   "metadata": {},
   "outputs": [],
   "source": [
    "with open(lists_path + 'captions_sample_c.jsonl', 'r') as g:\n",
    "    captions_sample = [json.loads(line) for line in g]"
   ]
  },
  {
   "cell_type": "code",
   "execution_count": 19,
   "id": "ad76ffd9-45b1-44e5-a066-d1b83db42773",
   "metadata": {},
   "outputs": [
    {
     "data": {
      "text/plain": [
       "41155"
      ]
     },
     "execution_count": 19,
     "metadata": {},
     "output_type": "execute_result"
    }
   ],
   "source": [
    "len(captions_sample)"
   ]
  },
  {
   "cell_type": "markdown",
   "id": "ae040fad-99b4-45e5-894c-393571d82b41",
   "metadata": {},
   "source": [
    "**PART A**"
   ]
  },
  {
   "cell_type": "code",
   "execution_count": 133,
   "id": "37c392ec-bda2-443b-86ee-21459bc07682",
   "metadata": {},
   "outputs": [],
   "source": [
    "batch_input_file_a = client.files.create(\n",
    "  file=open(\"/cs/labs/tomhope/yuvalbus/pmc/pythonProject/captions_sample_a.jsonl\", \"rb\"),\n",
    "  purpose=\"batch\"\n",
    ")\n"
   ]
  },
  {
   "cell_type": "code",
   "execution_count": 134,
   "id": "61818009-1d97-4387-a024-2c661fc2b5a2",
   "metadata": {},
   "outputs": [
    {
     "data": {
      "text/plain": [
       "Batch(id='batch_6727c0a6bf288190b2072e17d54c0862', completion_window='24h', created_at=1730658470, endpoint='/v1/chat/completions', input_file_id='file-QV6AEg0Gxmr9DxcrmD1I09Hg', object='batch', status='validating', cancelled_at=None, cancelling_at=None, completed_at=None, error_file_id=None, errors=None, expired_at=None, expires_at=1730744870, failed_at=None, finalizing_at=None, in_progress_at=None, metadata={'description': 'captions part a (0-44,999)'}, output_file_id=None, request_counts=BatchRequestCounts(completed=0, failed=0, total=0))"
      ]
     },
     "execution_count": 134,
     "metadata": {},
     "output_type": "execute_result"
    }
   ],
   "source": [
    "batch_input_file_id_a = batch_input_file_a.id\n",
    "\n",
    "client.batches.create(\n",
    "    input_file_id=batch_input_file_id_a,\n",
    "    endpoint=\"/v1/chat/completions\",\n",
    "    completion_window=\"24h\",\n",
    "    metadata={\n",
    "      \"description\": \"captions part a (0-44,999)\"\n",
    "    }\n",
    ")\n"
   ]
  },
  {
   "cell_type": "code",
   "execution_count": 9,
   "id": "8d8df4bb-5d5d-4e37-99c3-68a24892c8db",
   "metadata": {},
   "outputs": [
    {
     "data": {
      "text/plain": [
       "Batch(id='batch_6727c0a6bf288190b2072e17d54c0862', completion_window='24h', created_at=1730658470, endpoint='/v1/chat/completions', input_file_id='file-QV6AEg0Gxmr9DxcrmD1I09Hg', object='batch', status='completed', cancelled_at=None, cancelling_at=None, completed_at=1730667203, error_file_id=None, errors=None, expired_at=None, expires_at=1730744870, failed_at=None, finalizing_at=1730663164, in_progress_at=1730658484, metadata={'description': 'captions part a (0-44,999)'}, output_file_id='file-lvwYg8ynh3MNMNtV3x05qLP5', request_counts=BatchRequestCounts(completed=45000, failed=0, total=45000))"
      ]
     },
     "execution_count": 9,
     "metadata": {},
     "output_type": "execute_result"
    }
   ],
   "source": [
    "client.batches.retrieve(\"batch_6727c0a6bf288190b2072e17d54c0862\")"
   ]
  },
  {
   "cell_type": "markdown",
   "id": "87027dd1-26cf-47de-a18f-cf62bb9fde28",
   "metadata": {},
   "source": [
    "**PART B**"
   ]
  },
  {
   "cell_type": "code",
   "execution_count": 143,
   "id": "1e5f48d8-2448-43f4-ad39-44773dc5711c",
   "metadata": {},
   "outputs": [],
   "source": [
    "batch_input_file_b = client.files.create(\n",
    "  file=open(\"/cs/labs/tomhope/yuvalbus/pmc/pythonProject/captions_sample_b.jsonl\", \"rb\"),\n",
    "  purpose=\"batch\"\n",
    ")\n"
   ]
  },
  {
   "cell_type": "code",
   "execution_count": 144,
   "id": "0803465b-f2af-44bb-853a-730c612174c7",
   "metadata": {},
   "outputs": [
    {
     "data": {
      "text/plain": [
       "Batch(id='batch_6727c1201c808190b140a342e3af076f', completion_window='24h', created_at=1730658592, endpoint='/v1/chat/completions', input_file_id='file-TYwUMDQZOdJDtSt4nKlWCzZl', object='batch', status='validating', cancelled_at=None, cancelling_at=None, completed_at=None, error_file_id=None, errors=None, expired_at=None, expires_at=1730744992, failed_at=None, finalizing_at=None, in_progress_at=None, metadata={'description': 'captions part a (45,000-89,999)'}, output_file_id=None, request_counts=BatchRequestCounts(completed=0, failed=0, total=0))"
      ]
     },
     "execution_count": 144,
     "metadata": {},
     "output_type": "execute_result"
    }
   ],
   "source": [
    "batch_input_file_id_b = batch_input_file_b.id\n",
    "\n",
    "client.batches.create(\n",
    "    input_file_id=batch_input_file_id_b,\n",
    "    endpoint=\"/v1/chat/completions\",\n",
    "    completion_window=\"24h\",\n",
    "    metadata={\n",
    "      \"description\": \"captions part a (45,000-89,999)\"\n",
    "    }\n",
    ")\n"
   ]
  },
  {
   "cell_type": "code",
   "execution_count": 10,
   "id": "2216db77-a7d1-40c7-bc13-91f1c4ef6033",
   "metadata": {},
   "outputs": [
    {
     "data": {
      "text/plain": [
       "Batch(id='batch_6727c1201c808190b140a342e3af076f', completion_window='24h', created_at=1730658592, endpoint='/v1/chat/completions', input_file_id='file-TYwUMDQZOdJDtSt4nKlWCzZl', object='batch', status='completed', cancelled_at=None, cancelling_at=None, completed_at=1730667400, error_file_id=None, errors=None, expired_at=None, expires_at=1730744992, failed_at=None, finalizing_at=1730663492, in_progress_at=1730658666, metadata={'description': 'captions part a (45,000-89,999)'}, output_file_id='file-KU2D30OibZ3R8TXxePxhMl2V', request_counts=BatchRequestCounts(completed=45000, failed=0, total=45000))"
      ]
     },
     "execution_count": 10,
     "metadata": {},
     "output_type": "execute_result"
    }
   ],
   "source": [
    "client.batches.retrieve(\"batch_6727c1201c808190b140a342e3af076f\")"
   ]
  },
  {
   "cell_type": "markdown",
   "id": "c264323f-6bd4-4d31-866b-86fca1f94f30",
   "metadata": {},
   "source": [
    "**PART C**"
   ]
  },
  {
   "cell_type": "code",
   "execution_count": 20,
   "id": "c6fd0586-0c7f-4ba6-a65e-0ff95e6e651b",
   "metadata": {},
   "outputs": [
    {
     "ename": "KeyboardInterrupt",
     "evalue": "",
     "output_type": "error",
     "traceback": [
      "\u001b[0;31m---------------------------------------------------------------------------\u001b[0m",
      "\u001b[0;31mKeyboardInterrupt\u001b[0m                         Traceback (most recent call last)",
      "Cell \u001b[0;32mIn[20], line 1\u001b[0m\n\u001b[0;32m----> 1\u001b[0m batch_input_file_c \u001b[38;5;241m=\u001b[39m \u001b[43mclient\u001b[49m\u001b[38;5;241;43m.\u001b[39;49m\u001b[43mfiles\u001b[49m\u001b[38;5;241;43m.\u001b[39;49m\u001b[43mcreate\u001b[49m\u001b[43m(\u001b[49m\n\u001b[1;32m      2\u001b[0m \u001b[43m  \u001b[49m\u001b[43mfile\u001b[49m\u001b[38;5;241;43m=\u001b[39;49m\u001b[38;5;28;43mopen\u001b[39;49m\u001b[43m(\u001b[49m\u001b[38;5;124;43m\"\u001b[39;49m\u001b[38;5;124;43m/cs/labs/tomhope/yuvalbus/pmc/pythonProject/captions_sample_c.jsonl\u001b[39;49m\u001b[38;5;124;43m\"\u001b[39;49m\u001b[43m,\u001b[49m\u001b[43m \u001b[49m\u001b[38;5;124;43m\"\u001b[39;49m\u001b[38;5;124;43mrb\u001b[39;49m\u001b[38;5;124;43m\"\u001b[39;49m\u001b[43m)\u001b[49m\u001b[43m,\u001b[49m\n\u001b[1;32m      3\u001b[0m \u001b[43m  \u001b[49m\u001b[43mpurpose\u001b[49m\u001b[38;5;241;43m=\u001b[39;49m\u001b[38;5;124;43m\"\u001b[39;49m\u001b[38;5;124;43mbatch\u001b[39;49m\u001b[38;5;124;43m\"\u001b[39;49m\n\u001b[1;32m      4\u001b[0m \u001b[43m)\u001b[49m\n",
      "File \u001b[0;32m/cs/labs/tomhope/dhtandguy21/envs/pmc_project_2/lib/python3.11/site-packages/openai/resources/files.py:129\u001b[0m, in \u001b[0;36mFiles.create\u001b[0;34m(self, file, purpose, extra_headers, extra_query, extra_body, timeout)\u001b[0m\n\u001b[1;32m    125\u001b[0m \u001b[38;5;66;03m# It should be noted that the actual Content-Type header that will be\u001b[39;00m\n\u001b[1;32m    126\u001b[0m \u001b[38;5;66;03m# sent to the server will contain a `boundary` parameter, e.g.\u001b[39;00m\n\u001b[1;32m    127\u001b[0m \u001b[38;5;66;03m# multipart/form-data; boundary=---abc--\u001b[39;00m\n\u001b[1;32m    128\u001b[0m extra_headers \u001b[38;5;241m=\u001b[39m {\u001b[38;5;124m\"\u001b[39m\u001b[38;5;124mContent-Type\u001b[39m\u001b[38;5;124m\"\u001b[39m: \u001b[38;5;124m\"\u001b[39m\u001b[38;5;124mmultipart/form-data\u001b[39m\u001b[38;5;124m\"\u001b[39m, \u001b[38;5;241m*\u001b[39m\u001b[38;5;241m*\u001b[39m(extra_headers \u001b[38;5;129;01mor\u001b[39;00m {})}\n\u001b[0;32m--> 129\u001b[0m \u001b[38;5;28;01mreturn\u001b[39;00m \u001b[38;5;28;43mself\u001b[39;49m\u001b[38;5;241;43m.\u001b[39;49m\u001b[43m_post\u001b[49m\u001b[43m(\u001b[49m\n\u001b[1;32m    130\u001b[0m \u001b[43m    \u001b[49m\u001b[38;5;124;43m\"\u001b[39;49m\u001b[38;5;124;43m/files\u001b[39;49m\u001b[38;5;124;43m\"\u001b[39;49m\u001b[43m,\u001b[49m\n\u001b[1;32m    131\u001b[0m \u001b[43m    \u001b[49m\u001b[43mbody\u001b[49m\u001b[38;5;241;43m=\u001b[39;49m\u001b[43mmaybe_transform\u001b[49m\u001b[43m(\u001b[49m\u001b[43mbody\u001b[49m\u001b[43m,\u001b[49m\u001b[43m \u001b[49m\u001b[43mfile_create_params\u001b[49m\u001b[38;5;241;43m.\u001b[39;49m\u001b[43mFileCreateParams\u001b[49m\u001b[43m)\u001b[49m\u001b[43m,\u001b[49m\n\u001b[1;32m    132\u001b[0m \u001b[43m    \u001b[49m\u001b[43mfiles\u001b[49m\u001b[38;5;241;43m=\u001b[39;49m\u001b[43mfiles\u001b[49m\u001b[43m,\u001b[49m\n\u001b[1;32m    133\u001b[0m \u001b[43m    \u001b[49m\u001b[43moptions\u001b[49m\u001b[38;5;241;43m=\u001b[39;49m\u001b[43mmake_request_options\u001b[49m\u001b[43m(\u001b[49m\n\u001b[1;32m    134\u001b[0m \u001b[43m        \u001b[49m\u001b[43mextra_headers\u001b[49m\u001b[38;5;241;43m=\u001b[39;49m\u001b[43mextra_headers\u001b[49m\u001b[43m,\u001b[49m\u001b[43m \u001b[49m\u001b[43mextra_query\u001b[49m\u001b[38;5;241;43m=\u001b[39;49m\u001b[43mextra_query\u001b[49m\u001b[43m,\u001b[49m\u001b[43m \u001b[49m\u001b[43mextra_body\u001b[49m\u001b[38;5;241;43m=\u001b[39;49m\u001b[43mextra_body\u001b[49m\u001b[43m,\u001b[49m\u001b[43m \u001b[49m\u001b[43mtimeout\u001b[49m\u001b[38;5;241;43m=\u001b[39;49m\u001b[43mtimeout\u001b[49m\n\u001b[1;32m    135\u001b[0m \u001b[43m    \u001b[49m\u001b[43m)\u001b[49m\u001b[43m,\u001b[49m\n\u001b[1;32m    136\u001b[0m \u001b[43m    \u001b[49m\u001b[43mcast_to\u001b[49m\u001b[38;5;241;43m=\u001b[39;49m\u001b[43mFileObject\u001b[49m\u001b[43m,\u001b[49m\n\u001b[1;32m    137\u001b[0m \u001b[43m\u001b[49m\u001b[43m)\u001b[49m\n",
      "File \u001b[0;32m/cs/labs/tomhope/dhtandguy21/envs/pmc_project_2/lib/python3.11/site-packages/openai/_base_client.py:1277\u001b[0m, in \u001b[0;36mSyncAPIClient.post\u001b[0;34m(self, path, cast_to, body, options, files, stream, stream_cls)\u001b[0m\n\u001b[1;32m   1263\u001b[0m \u001b[38;5;28;01mdef\u001b[39;00m \u001b[38;5;21mpost\u001b[39m(\n\u001b[1;32m   1264\u001b[0m     \u001b[38;5;28mself\u001b[39m,\n\u001b[1;32m   1265\u001b[0m     path: \u001b[38;5;28mstr\u001b[39m,\n\u001b[0;32m   (...)\u001b[0m\n\u001b[1;32m   1272\u001b[0m     stream_cls: \u001b[38;5;28mtype\u001b[39m[_StreamT] \u001b[38;5;241m|\u001b[39m \u001b[38;5;28;01mNone\u001b[39;00m \u001b[38;5;241m=\u001b[39m \u001b[38;5;28;01mNone\u001b[39;00m,\n\u001b[1;32m   1273\u001b[0m ) \u001b[38;5;241m-\u001b[39m\u001b[38;5;241m>\u001b[39m ResponseT \u001b[38;5;241m|\u001b[39m _StreamT:\n\u001b[1;32m   1274\u001b[0m     opts \u001b[38;5;241m=\u001b[39m FinalRequestOptions\u001b[38;5;241m.\u001b[39mconstruct(\n\u001b[1;32m   1275\u001b[0m         method\u001b[38;5;241m=\u001b[39m\u001b[38;5;124m\"\u001b[39m\u001b[38;5;124mpost\u001b[39m\u001b[38;5;124m\"\u001b[39m, url\u001b[38;5;241m=\u001b[39mpath, json_data\u001b[38;5;241m=\u001b[39mbody, files\u001b[38;5;241m=\u001b[39mto_httpx_files(files), \u001b[38;5;241m*\u001b[39m\u001b[38;5;241m*\u001b[39moptions\n\u001b[1;32m   1276\u001b[0m     )\n\u001b[0;32m-> 1277\u001b[0m     \u001b[38;5;28;01mreturn\u001b[39;00m cast(ResponseT, \u001b[38;5;28;43mself\u001b[39;49m\u001b[38;5;241;43m.\u001b[39;49m\u001b[43mrequest\u001b[49m\u001b[43m(\u001b[49m\u001b[43mcast_to\u001b[49m\u001b[43m,\u001b[49m\u001b[43m \u001b[49m\u001b[43mopts\u001b[49m\u001b[43m,\u001b[49m\u001b[43m \u001b[49m\u001b[43mstream\u001b[49m\u001b[38;5;241;43m=\u001b[39;49m\u001b[43mstream\u001b[49m\u001b[43m,\u001b[49m\u001b[43m \u001b[49m\u001b[43mstream_cls\u001b[49m\u001b[38;5;241;43m=\u001b[39;49m\u001b[43mstream_cls\u001b[49m\u001b[43m)\u001b[49m)\n",
      "File \u001b[0;32m/cs/labs/tomhope/dhtandguy21/envs/pmc_project_2/lib/python3.11/site-packages/openai/_base_client.py:954\u001b[0m, in \u001b[0;36mSyncAPIClient.request\u001b[0;34m(self, cast_to, options, remaining_retries, stream, stream_cls)\u001b[0m\n\u001b[1;32m    951\u001b[0m \u001b[38;5;28;01melse\u001b[39;00m:\n\u001b[1;32m    952\u001b[0m     retries_taken \u001b[38;5;241m=\u001b[39m \u001b[38;5;241m0\u001b[39m\n\u001b[0;32m--> 954\u001b[0m \u001b[38;5;28;01mreturn\u001b[39;00m \u001b[38;5;28;43mself\u001b[39;49m\u001b[38;5;241;43m.\u001b[39;49m\u001b[43m_request\u001b[49m\u001b[43m(\u001b[49m\n\u001b[1;32m    955\u001b[0m \u001b[43m    \u001b[49m\u001b[43mcast_to\u001b[49m\u001b[38;5;241;43m=\u001b[39;49m\u001b[43mcast_to\u001b[49m\u001b[43m,\u001b[49m\n\u001b[1;32m    956\u001b[0m \u001b[43m    \u001b[49m\u001b[43moptions\u001b[49m\u001b[38;5;241;43m=\u001b[39;49m\u001b[43moptions\u001b[49m\u001b[43m,\u001b[49m\n\u001b[1;32m    957\u001b[0m \u001b[43m    \u001b[49m\u001b[43mstream\u001b[49m\u001b[38;5;241;43m=\u001b[39;49m\u001b[43mstream\u001b[49m\u001b[43m,\u001b[49m\n\u001b[1;32m    958\u001b[0m \u001b[43m    \u001b[49m\u001b[43mstream_cls\u001b[49m\u001b[38;5;241;43m=\u001b[39;49m\u001b[43mstream_cls\u001b[49m\u001b[43m,\u001b[49m\n\u001b[1;32m    959\u001b[0m \u001b[43m    \u001b[49m\u001b[43mretries_taken\u001b[49m\u001b[38;5;241;43m=\u001b[39;49m\u001b[43mretries_taken\u001b[49m\u001b[43m,\u001b[49m\n\u001b[1;32m    960\u001b[0m \u001b[43m\u001b[49m\u001b[43m)\u001b[49m\n",
      "File \u001b[0;32m/cs/labs/tomhope/dhtandguy21/envs/pmc_project_2/lib/python3.11/site-packages/openai/_base_client.py:990\u001b[0m, in \u001b[0;36mSyncAPIClient._request\u001b[0;34m(self, cast_to, options, retries_taken, stream, stream_cls)\u001b[0m\n\u001b[1;32m    987\u001b[0m log\u001b[38;5;241m.\u001b[39mdebug(\u001b[38;5;124m\"\u001b[39m\u001b[38;5;124mSending HTTP Request: \u001b[39m\u001b[38;5;132;01m%s\u001b[39;00m\u001b[38;5;124m \u001b[39m\u001b[38;5;132;01m%s\u001b[39;00m\u001b[38;5;124m\"\u001b[39m, request\u001b[38;5;241m.\u001b[39mmethod, request\u001b[38;5;241m.\u001b[39murl)\n\u001b[1;32m    989\u001b[0m \u001b[38;5;28;01mtry\u001b[39;00m:\n\u001b[0;32m--> 990\u001b[0m     response \u001b[38;5;241m=\u001b[39m \u001b[38;5;28;43mself\u001b[39;49m\u001b[38;5;241;43m.\u001b[39;49m\u001b[43m_client\u001b[49m\u001b[38;5;241;43m.\u001b[39;49m\u001b[43msend\u001b[49m\u001b[43m(\u001b[49m\n\u001b[1;32m    991\u001b[0m \u001b[43m        \u001b[49m\u001b[43mrequest\u001b[49m\u001b[43m,\u001b[49m\n\u001b[1;32m    992\u001b[0m \u001b[43m        \u001b[49m\u001b[43mstream\u001b[49m\u001b[38;5;241;43m=\u001b[39;49m\u001b[43mstream\u001b[49m\u001b[43m \u001b[49m\u001b[38;5;129;43;01mor\u001b[39;49;00m\u001b[43m \u001b[49m\u001b[38;5;28;43mself\u001b[39;49m\u001b[38;5;241;43m.\u001b[39;49m\u001b[43m_should_stream_response_body\u001b[49m\u001b[43m(\u001b[49m\u001b[43mrequest\u001b[49m\u001b[38;5;241;43m=\u001b[39;49m\u001b[43mrequest\u001b[49m\u001b[43m)\u001b[49m\u001b[43m,\u001b[49m\n\u001b[1;32m    993\u001b[0m \u001b[43m        \u001b[49m\u001b[38;5;241;43m*\u001b[39;49m\u001b[38;5;241;43m*\u001b[39;49m\u001b[43mkwargs\u001b[49m\u001b[43m,\u001b[49m\n\u001b[1;32m    994\u001b[0m \u001b[43m    \u001b[49m\u001b[43m)\u001b[49m\n\u001b[1;32m    995\u001b[0m \u001b[38;5;28;01mexcept\u001b[39;00m httpx\u001b[38;5;241m.\u001b[39mTimeoutException \u001b[38;5;28;01mas\u001b[39;00m err:\n\u001b[1;32m    996\u001b[0m     log\u001b[38;5;241m.\u001b[39mdebug(\u001b[38;5;124m\"\u001b[39m\u001b[38;5;124mEncountered httpx.TimeoutException\u001b[39m\u001b[38;5;124m\"\u001b[39m, exc_info\u001b[38;5;241m=\u001b[39m\u001b[38;5;28;01mTrue\u001b[39;00m)\n",
      "File \u001b[0;32m/cs/labs/tomhope/dhtandguy21/envs/pmc_project_2/lib/python3.11/site-packages/httpx/_client.py:926\u001b[0m, in \u001b[0;36mClient.send\u001b[0;34m(self, request, stream, auth, follow_redirects)\u001b[0m\n\u001b[1;32m    922\u001b[0m \u001b[38;5;28mself\u001b[39m\u001b[38;5;241m.\u001b[39m_set_timeout(request)\n\u001b[1;32m    924\u001b[0m auth \u001b[38;5;241m=\u001b[39m \u001b[38;5;28mself\u001b[39m\u001b[38;5;241m.\u001b[39m_build_request_auth(request, auth)\n\u001b[0;32m--> 926\u001b[0m response \u001b[38;5;241m=\u001b[39m \u001b[38;5;28;43mself\u001b[39;49m\u001b[38;5;241;43m.\u001b[39;49m\u001b[43m_send_handling_auth\u001b[49m\u001b[43m(\u001b[49m\n\u001b[1;32m    927\u001b[0m \u001b[43m    \u001b[49m\u001b[43mrequest\u001b[49m\u001b[43m,\u001b[49m\n\u001b[1;32m    928\u001b[0m \u001b[43m    \u001b[49m\u001b[43mauth\u001b[49m\u001b[38;5;241;43m=\u001b[39;49m\u001b[43mauth\u001b[49m\u001b[43m,\u001b[49m\n\u001b[1;32m    929\u001b[0m \u001b[43m    \u001b[49m\u001b[43mfollow_redirects\u001b[49m\u001b[38;5;241;43m=\u001b[39;49m\u001b[43mfollow_redirects\u001b[49m\u001b[43m,\u001b[49m\n\u001b[1;32m    930\u001b[0m \u001b[43m    \u001b[49m\u001b[43mhistory\u001b[49m\u001b[38;5;241;43m=\u001b[39;49m\u001b[43m[\u001b[49m\u001b[43m]\u001b[49m\u001b[43m,\u001b[49m\n\u001b[1;32m    931\u001b[0m \u001b[43m\u001b[49m\u001b[43m)\u001b[49m\n\u001b[1;32m    932\u001b[0m \u001b[38;5;28;01mtry\u001b[39;00m:\n\u001b[1;32m    933\u001b[0m     \u001b[38;5;28;01mif\u001b[39;00m \u001b[38;5;129;01mnot\u001b[39;00m stream:\n",
      "File \u001b[0;32m/cs/labs/tomhope/dhtandguy21/envs/pmc_project_2/lib/python3.11/site-packages/httpx/_client.py:954\u001b[0m, in \u001b[0;36mClient._send_handling_auth\u001b[0;34m(self, request, auth, follow_redirects, history)\u001b[0m\n\u001b[1;32m    951\u001b[0m request \u001b[38;5;241m=\u001b[39m \u001b[38;5;28mnext\u001b[39m(auth_flow)\n\u001b[1;32m    953\u001b[0m \u001b[38;5;28;01mwhile\u001b[39;00m \u001b[38;5;28;01mTrue\u001b[39;00m:\n\u001b[0;32m--> 954\u001b[0m     response \u001b[38;5;241m=\u001b[39m \u001b[38;5;28;43mself\u001b[39;49m\u001b[38;5;241;43m.\u001b[39;49m\u001b[43m_send_handling_redirects\u001b[49m\u001b[43m(\u001b[49m\n\u001b[1;32m    955\u001b[0m \u001b[43m        \u001b[49m\u001b[43mrequest\u001b[49m\u001b[43m,\u001b[49m\n\u001b[1;32m    956\u001b[0m \u001b[43m        \u001b[49m\u001b[43mfollow_redirects\u001b[49m\u001b[38;5;241;43m=\u001b[39;49m\u001b[43mfollow_redirects\u001b[49m\u001b[43m,\u001b[49m\n\u001b[1;32m    957\u001b[0m \u001b[43m        \u001b[49m\u001b[43mhistory\u001b[49m\u001b[38;5;241;43m=\u001b[39;49m\u001b[43mhistory\u001b[49m\u001b[43m,\u001b[49m\n\u001b[1;32m    958\u001b[0m \u001b[43m    \u001b[49m\u001b[43m)\u001b[49m\n\u001b[1;32m    959\u001b[0m     \u001b[38;5;28;01mtry\u001b[39;00m:\n\u001b[1;32m    960\u001b[0m         \u001b[38;5;28;01mtry\u001b[39;00m:\n",
      "File \u001b[0;32m/cs/labs/tomhope/dhtandguy21/envs/pmc_project_2/lib/python3.11/site-packages/httpx/_client.py:991\u001b[0m, in \u001b[0;36mClient._send_handling_redirects\u001b[0;34m(self, request, follow_redirects, history)\u001b[0m\n\u001b[1;32m    988\u001b[0m \u001b[38;5;28;01mfor\u001b[39;00m hook \u001b[38;5;129;01min\u001b[39;00m \u001b[38;5;28mself\u001b[39m\u001b[38;5;241m.\u001b[39m_event_hooks[\u001b[38;5;124m\"\u001b[39m\u001b[38;5;124mrequest\u001b[39m\u001b[38;5;124m\"\u001b[39m]:\n\u001b[1;32m    989\u001b[0m     hook(request)\n\u001b[0;32m--> 991\u001b[0m response \u001b[38;5;241m=\u001b[39m \u001b[38;5;28;43mself\u001b[39;49m\u001b[38;5;241;43m.\u001b[39;49m\u001b[43m_send_single_request\u001b[49m\u001b[43m(\u001b[49m\u001b[43mrequest\u001b[49m\u001b[43m)\u001b[49m\n\u001b[1;32m    992\u001b[0m \u001b[38;5;28;01mtry\u001b[39;00m:\n\u001b[1;32m    993\u001b[0m     \u001b[38;5;28;01mfor\u001b[39;00m hook \u001b[38;5;129;01min\u001b[39;00m \u001b[38;5;28mself\u001b[39m\u001b[38;5;241m.\u001b[39m_event_hooks[\u001b[38;5;124m\"\u001b[39m\u001b[38;5;124mresponse\u001b[39m\u001b[38;5;124m\"\u001b[39m]:\n",
      "File \u001b[0;32m/cs/labs/tomhope/dhtandguy21/envs/pmc_project_2/lib/python3.11/site-packages/httpx/_client.py:1027\u001b[0m, in \u001b[0;36mClient._send_single_request\u001b[0;34m(self, request)\u001b[0m\n\u001b[1;32m   1022\u001b[0m     \u001b[38;5;28;01mraise\u001b[39;00m \u001b[38;5;167;01mRuntimeError\u001b[39;00m(\n\u001b[1;32m   1023\u001b[0m         \u001b[38;5;124m\"\u001b[39m\u001b[38;5;124mAttempted to send an async request with a sync Client instance.\u001b[39m\u001b[38;5;124m\"\u001b[39m\n\u001b[1;32m   1024\u001b[0m     )\n\u001b[1;32m   1026\u001b[0m \u001b[38;5;28;01mwith\u001b[39;00m request_context(request\u001b[38;5;241m=\u001b[39mrequest):\n\u001b[0;32m-> 1027\u001b[0m     response \u001b[38;5;241m=\u001b[39m \u001b[43mtransport\u001b[49m\u001b[38;5;241;43m.\u001b[39;49m\u001b[43mhandle_request\u001b[49m\u001b[43m(\u001b[49m\u001b[43mrequest\u001b[49m\u001b[43m)\u001b[49m\n\u001b[1;32m   1029\u001b[0m \u001b[38;5;28;01massert\u001b[39;00m \u001b[38;5;28misinstance\u001b[39m(response\u001b[38;5;241m.\u001b[39mstream, SyncByteStream)\n\u001b[1;32m   1031\u001b[0m response\u001b[38;5;241m.\u001b[39mrequest \u001b[38;5;241m=\u001b[39m request\n",
      "File \u001b[0;32m/cs/labs/tomhope/dhtandguy21/envs/pmc_project_2/lib/python3.11/site-packages/httpx/_transports/default.py:236\u001b[0m, in \u001b[0;36mHTTPTransport.handle_request\u001b[0;34m(self, request)\u001b[0m\n\u001b[1;32m    223\u001b[0m req \u001b[38;5;241m=\u001b[39m httpcore\u001b[38;5;241m.\u001b[39mRequest(\n\u001b[1;32m    224\u001b[0m     method\u001b[38;5;241m=\u001b[39mrequest\u001b[38;5;241m.\u001b[39mmethod,\n\u001b[1;32m    225\u001b[0m     url\u001b[38;5;241m=\u001b[39mhttpcore\u001b[38;5;241m.\u001b[39mURL(\n\u001b[0;32m   (...)\u001b[0m\n\u001b[1;32m    233\u001b[0m     extensions\u001b[38;5;241m=\u001b[39mrequest\u001b[38;5;241m.\u001b[39mextensions,\n\u001b[1;32m    234\u001b[0m )\n\u001b[1;32m    235\u001b[0m \u001b[38;5;28;01mwith\u001b[39;00m map_httpcore_exceptions():\n\u001b[0;32m--> 236\u001b[0m     resp \u001b[38;5;241m=\u001b[39m \u001b[38;5;28;43mself\u001b[39;49m\u001b[38;5;241;43m.\u001b[39;49m\u001b[43m_pool\u001b[49m\u001b[38;5;241;43m.\u001b[39;49m\u001b[43mhandle_request\u001b[49m\u001b[43m(\u001b[49m\u001b[43mreq\u001b[49m\u001b[43m)\u001b[49m\n\u001b[1;32m    238\u001b[0m \u001b[38;5;28;01massert\u001b[39;00m \u001b[38;5;28misinstance\u001b[39m(resp\u001b[38;5;241m.\u001b[39mstream, typing\u001b[38;5;241m.\u001b[39mIterable)\n\u001b[1;32m    240\u001b[0m \u001b[38;5;28;01mreturn\u001b[39;00m Response(\n\u001b[1;32m    241\u001b[0m     status_code\u001b[38;5;241m=\u001b[39mresp\u001b[38;5;241m.\u001b[39mstatus,\n\u001b[1;32m    242\u001b[0m     headers\u001b[38;5;241m=\u001b[39mresp\u001b[38;5;241m.\u001b[39mheaders,\n\u001b[1;32m    243\u001b[0m     stream\u001b[38;5;241m=\u001b[39mResponseStream(resp\u001b[38;5;241m.\u001b[39mstream),\n\u001b[1;32m    244\u001b[0m     extensions\u001b[38;5;241m=\u001b[39mresp\u001b[38;5;241m.\u001b[39mextensions,\n\u001b[1;32m    245\u001b[0m )\n",
      "File \u001b[0;32m/cs/labs/tomhope/dhtandguy21/envs/pmc_project_2/lib/python3.11/site-packages/httpcore/_sync/connection_pool.py:216\u001b[0m, in \u001b[0;36mConnectionPool.handle_request\u001b[0;34m(self, request)\u001b[0m\n\u001b[1;32m    213\u001b[0m         closing \u001b[38;5;241m=\u001b[39m \u001b[38;5;28mself\u001b[39m\u001b[38;5;241m.\u001b[39m_assign_requests_to_connections()\n\u001b[1;32m    215\u001b[0m     \u001b[38;5;28mself\u001b[39m\u001b[38;5;241m.\u001b[39m_close_connections(closing)\n\u001b[0;32m--> 216\u001b[0m     \u001b[38;5;28;01mraise\u001b[39;00m exc \u001b[38;5;28;01mfrom\u001b[39;00m \u001b[38;5;28;01mNone\u001b[39;00m\n\u001b[1;32m    218\u001b[0m \u001b[38;5;66;03m# Return the response. Note that in this case we still have to manage\u001b[39;00m\n\u001b[1;32m    219\u001b[0m \u001b[38;5;66;03m# the point at which the response is closed.\u001b[39;00m\n\u001b[1;32m    220\u001b[0m \u001b[38;5;28;01massert\u001b[39;00m \u001b[38;5;28misinstance\u001b[39m(response\u001b[38;5;241m.\u001b[39mstream, Iterable)\n",
      "File \u001b[0;32m/cs/labs/tomhope/dhtandguy21/envs/pmc_project_2/lib/python3.11/site-packages/httpcore/_sync/connection_pool.py:196\u001b[0m, in \u001b[0;36mConnectionPool.handle_request\u001b[0;34m(self, request)\u001b[0m\n\u001b[1;32m    192\u001b[0m connection \u001b[38;5;241m=\u001b[39m pool_request\u001b[38;5;241m.\u001b[39mwait_for_connection(timeout\u001b[38;5;241m=\u001b[39mtimeout)\n\u001b[1;32m    194\u001b[0m \u001b[38;5;28;01mtry\u001b[39;00m:\n\u001b[1;32m    195\u001b[0m     \u001b[38;5;66;03m# Send the request on the assigned connection.\u001b[39;00m\n\u001b[0;32m--> 196\u001b[0m     response \u001b[38;5;241m=\u001b[39m \u001b[43mconnection\u001b[49m\u001b[38;5;241;43m.\u001b[39;49m\u001b[43mhandle_request\u001b[49m\u001b[43m(\u001b[49m\n\u001b[1;32m    197\u001b[0m \u001b[43m        \u001b[49m\u001b[43mpool_request\u001b[49m\u001b[38;5;241;43m.\u001b[39;49m\u001b[43mrequest\u001b[49m\n\u001b[1;32m    198\u001b[0m \u001b[43m    \u001b[49m\u001b[43m)\u001b[49m\n\u001b[1;32m    199\u001b[0m \u001b[38;5;28;01mexcept\u001b[39;00m ConnectionNotAvailable:\n\u001b[1;32m    200\u001b[0m     \u001b[38;5;66;03m# In some cases a connection may initially be available to\u001b[39;00m\n\u001b[1;32m    201\u001b[0m     \u001b[38;5;66;03m# handle a request, but then become unavailable.\u001b[39;00m\n\u001b[1;32m    202\u001b[0m     \u001b[38;5;66;03m#\u001b[39;00m\n\u001b[1;32m    203\u001b[0m     \u001b[38;5;66;03m# In this case we clear the connection and try again.\u001b[39;00m\n\u001b[1;32m    204\u001b[0m     pool_request\u001b[38;5;241m.\u001b[39mclear_connection()\n",
      "File \u001b[0;32m/cs/labs/tomhope/dhtandguy21/envs/pmc_project_2/lib/python3.11/site-packages/httpcore/_sync/connection.py:101\u001b[0m, in \u001b[0;36mHTTPConnection.handle_request\u001b[0;34m(self, request)\u001b[0m\n\u001b[1;32m     98\u001b[0m     \u001b[38;5;28mself\u001b[39m\u001b[38;5;241m.\u001b[39m_connect_failed \u001b[38;5;241m=\u001b[39m \u001b[38;5;28;01mTrue\u001b[39;00m\n\u001b[1;32m     99\u001b[0m     \u001b[38;5;28;01mraise\u001b[39;00m exc\n\u001b[0;32m--> 101\u001b[0m \u001b[38;5;28;01mreturn\u001b[39;00m \u001b[38;5;28;43mself\u001b[39;49m\u001b[38;5;241;43m.\u001b[39;49m\u001b[43m_connection\u001b[49m\u001b[38;5;241;43m.\u001b[39;49m\u001b[43mhandle_request\u001b[49m\u001b[43m(\u001b[49m\u001b[43mrequest\u001b[49m\u001b[43m)\u001b[49m\n",
      "File \u001b[0;32m/cs/labs/tomhope/dhtandguy21/envs/pmc_project_2/lib/python3.11/site-packages/httpcore/_sync/http11.py:143\u001b[0m, in \u001b[0;36mHTTP11Connection.handle_request\u001b[0;34m(self, request)\u001b[0m\n\u001b[1;32m    141\u001b[0m     \u001b[38;5;28;01mwith\u001b[39;00m Trace(\u001b[38;5;124m\"\u001b[39m\u001b[38;5;124mresponse_closed\u001b[39m\u001b[38;5;124m\"\u001b[39m, logger, request) \u001b[38;5;28;01mas\u001b[39;00m trace:\n\u001b[1;32m    142\u001b[0m         \u001b[38;5;28mself\u001b[39m\u001b[38;5;241m.\u001b[39m_response_closed()\n\u001b[0;32m--> 143\u001b[0m \u001b[38;5;28;01mraise\u001b[39;00m exc\n",
      "File \u001b[0;32m/cs/labs/tomhope/dhtandguy21/envs/pmc_project_2/lib/python3.11/site-packages/httpcore/_sync/http11.py:113\u001b[0m, in \u001b[0;36mHTTP11Connection.handle_request\u001b[0;34m(self, request)\u001b[0m\n\u001b[1;32m    102\u001b[0m     \u001b[38;5;28;01mpass\u001b[39;00m\n\u001b[1;32m    104\u001b[0m \u001b[38;5;28;01mwith\u001b[39;00m Trace(\n\u001b[1;32m    105\u001b[0m     \u001b[38;5;124m\"\u001b[39m\u001b[38;5;124mreceive_response_headers\u001b[39m\u001b[38;5;124m\"\u001b[39m, logger, request, kwargs\n\u001b[1;32m    106\u001b[0m ) \u001b[38;5;28;01mas\u001b[39;00m trace:\n\u001b[1;32m    107\u001b[0m     (\n\u001b[1;32m    108\u001b[0m         http_version,\n\u001b[1;32m    109\u001b[0m         status,\n\u001b[1;32m    110\u001b[0m         reason_phrase,\n\u001b[1;32m    111\u001b[0m         headers,\n\u001b[1;32m    112\u001b[0m         trailing_data,\n\u001b[0;32m--> 113\u001b[0m     ) \u001b[38;5;241m=\u001b[39m \u001b[38;5;28;43mself\u001b[39;49m\u001b[38;5;241;43m.\u001b[39;49m\u001b[43m_receive_response_headers\u001b[49m\u001b[43m(\u001b[49m\u001b[38;5;241;43m*\u001b[39;49m\u001b[38;5;241;43m*\u001b[39;49m\u001b[43mkwargs\u001b[49m\u001b[43m)\u001b[49m\n\u001b[1;32m    114\u001b[0m     trace\u001b[38;5;241m.\u001b[39mreturn_value \u001b[38;5;241m=\u001b[39m (\n\u001b[1;32m    115\u001b[0m         http_version,\n\u001b[1;32m    116\u001b[0m         status,\n\u001b[1;32m    117\u001b[0m         reason_phrase,\n\u001b[1;32m    118\u001b[0m         headers,\n\u001b[1;32m    119\u001b[0m     )\n\u001b[1;32m    121\u001b[0m network_stream \u001b[38;5;241m=\u001b[39m \u001b[38;5;28mself\u001b[39m\u001b[38;5;241m.\u001b[39m_network_stream\n",
      "File \u001b[0;32m/cs/labs/tomhope/dhtandguy21/envs/pmc_project_2/lib/python3.11/site-packages/httpcore/_sync/http11.py:186\u001b[0m, in \u001b[0;36mHTTP11Connection._receive_response_headers\u001b[0;34m(self, request)\u001b[0m\n\u001b[1;32m    183\u001b[0m timeout \u001b[38;5;241m=\u001b[39m timeouts\u001b[38;5;241m.\u001b[39mget(\u001b[38;5;124m\"\u001b[39m\u001b[38;5;124mread\u001b[39m\u001b[38;5;124m\"\u001b[39m, \u001b[38;5;28;01mNone\u001b[39;00m)\n\u001b[1;32m    185\u001b[0m \u001b[38;5;28;01mwhile\u001b[39;00m \u001b[38;5;28;01mTrue\u001b[39;00m:\n\u001b[0;32m--> 186\u001b[0m     event \u001b[38;5;241m=\u001b[39m \u001b[38;5;28;43mself\u001b[39;49m\u001b[38;5;241;43m.\u001b[39;49m\u001b[43m_receive_event\u001b[49m\u001b[43m(\u001b[49m\u001b[43mtimeout\u001b[49m\u001b[38;5;241;43m=\u001b[39;49m\u001b[43mtimeout\u001b[49m\u001b[43m)\u001b[49m\n\u001b[1;32m    187\u001b[0m     \u001b[38;5;28;01mif\u001b[39;00m \u001b[38;5;28misinstance\u001b[39m(event, h11\u001b[38;5;241m.\u001b[39mResponse):\n\u001b[1;32m    188\u001b[0m         \u001b[38;5;28;01mbreak\u001b[39;00m\n",
      "File \u001b[0;32m/cs/labs/tomhope/dhtandguy21/envs/pmc_project_2/lib/python3.11/site-packages/httpcore/_sync/http11.py:224\u001b[0m, in \u001b[0;36mHTTP11Connection._receive_event\u001b[0;34m(self, timeout)\u001b[0m\n\u001b[1;32m    221\u001b[0m     event \u001b[38;5;241m=\u001b[39m \u001b[38;5;28mself\u001b[39m\u001b[38;5;241m.\u001b[39m_h11_state\u001b[38;5;241m.\u001b[39mnext_event()\n\u001b[1;32m    223\u001b[0m \u001b[38;5;28;01mif\u001b[39;00m event \u001b[38;5;129;01mis\u001b[39;00m h11\u001b[38;5;241m.\u001b[39mNEED_DATA:\n\u001b[0;32m--> 224\u001b[0m     data \u001b[38;5;241m=\u001b[39m \u001b[38;5;28;43mself\u001b[39;49m\u001b[38;5;241;43m.\u001b[39;49m\u001b[43m_network_stream\u001b[49m\u001b[38;5;241;43m.\u001b[39;49m\u001b[43mread\u001b[49m\u001b[43m(\u001b[49m\n\u001b[1;32m    225\u001b[0m \u001b[43m        \u001b[49m\u001b[38;5;28;43mself\u001b[39;49m\u001b[38;5;241;43m.\u001b[39;49m\u001b[43mREAD_NUM_BYTES\u001b[49m\u001b[43m,\u001b[49m\u001b[43m \u001b[49m\u001b[43mtimeout\u001b[49m\u001b[38;5;241;43m=\u001b[39;49m\u001b[43mtimeout\u001b[49m\n\u001b[1;32m    226\u001b[0m \u001b[43m    \u001b[49m\u001b[43m)\u001b[49m\n\u001b[1;32m    228\u001b[0m     \u001b[38;5;66;03m# If we feed this case through h11 we'll raise an exception like:\u001b[39;00m\n\u001b[1;32m    229\u001b[0m     \u001b[38;5;66;03m#\u001b[39;00m\n\u001b[1;32m    230\u001b[0m     \u001b[38;5;66;03m#     httpcore.RemoteProtocolError: can't handle event type\u001b[39;00m\n\u001b[0;32m   (...)\u001b[0m\n\u001b[1;32m    234\u001b[0m     \u001b[38;5;66;03m# perspective. Instead we handle this case distinctly and treat\u001b[39;00m\n\u001b[1;32m    235\u001b[0m     \u001b[38;5;66;03m# it as a ConnectError.\u001b[39;00m\n\u001b[1;32m    236\u001b[0m     \u001b[38;5;28;01mif\u001b[39;00m data \u001b[38;5;241m==\u001b[39m \u001b[38;5;124mb\u001b[39m\u001b[38;5;124m\"\u001b[39m\u001b[38;5;124m\"\u001b[39m \u001b[38;5;129;01mand\u001b[39;00m \u001b[38;5;28mself\u001b[39m\u001b[38;5;241m.\u001b[39m_h11_state\u001b[38;5;241m.\u001b[39mtheir_state \u001b[38;5;241m==\u001b[39m h11\u001b[38;5;241m.\u001b[39mSEND_RESPONSE:\n",
      "File \u001b[0;32m/cs/labs/tomhope/dhtandguy21/envs/pmc_project_2/lib/python3.11/site-packages/httpcore/_backends/sync.py:126\u001b[0m, in \u001b[0;36mSyncStream.read\u001b[0;34m(self, max_bytes, timeout)\u001b[0m\n\u001b[1;32m    124\u001b[0m \u001b[38;5;28;01mwith\u001b[39;00m map_exceptions(exc_map):\n\u001b[1;32m    125\u001b[0m     \u001b[38;5;28mself\u001b[39m\u001b[38;5;241m.\u001b[39m_sock\u001b[38;5;241m.\u001b[39msettimeout(timeout)\n\u001b[0;32m--> 126\u001b[0m     \u001b[38;5;28;01mreturn\u001b[39;00m \u001b[38;5;28;43mself\u001b[39;49m\u001b[38;5;241;43m.\u001b[39;49m\u001b[43m_sock\u001b[49m\u001b[38;5;241;43m.\u001b[39;49m\u001b[43mrecv\u001b[49m\u001b[43m(\u001b[49m\u001b[43mmax_bytes\u001b[49m\u001b[43m)\u001b[49m\n",
      "File \u001b[0;32m/usr/lib/python3.11/ssl.py:1296\u001b[0m, in \u001b[0;36mSSLSocket.recv\u001b[0;34m(self, buflen, flags)\u001b[0m\n\u001b[1;32m   1292\u001b[0m     \u001b[38;5;28;01mif\u001b[39;00m flags \u001b[38;5;241m!=\u001b[39m \u001b[38;5;241m0\u001b[39m:\n\u001b[1;32m   1293\u001b[0m         \u001b[38;5;28;01mraise\u001b[39;00m \u001b[38;5;167;01mValueError\u001b[39;00m(\n\u001b[1;32m   1294\u001b[0m             \u001b[38;5;124m\"\u001b[39m\u001b[38;5;124mnon-zero flags not allowed in calls to recv() on \u001b[39m\u001b[38;5;132;01m%s\u001b[39;00m\u001b[38;5;124m\"\u001b[39m \u001b[38;5;241m%\u001b[39m\n\u001b[1;32m   1295\u001b[0m             \u001b[38;5;28mself\u001b[39m\u001b[38;5;241m.\u001b[39m\u001b[38;5;18m__class__\u001b[39m)\n\u001b[0;32m-> 1296\u001b[0m     \u001b[38;5;28;01mreturn\u001b[39;00m \u001b[38;5;28;43mself\u001b[39;49m\u001b[38;5;241;43m.\u001b[39;49m\u001b[43mread\u001b[49m\u001b[43m(\u001b[49m\u001b[43mbuflen\u001b[49m\u001b[43m)\u001b[49m\n\u001b[1;32m   1297\u001b[0m \u001b[38;5;28;01melse\u001b[39;00m:\n\u001b[1;32m   1298\u001b[0m     \u001b[38;5;28;01mreturn\u001b[39;00m \u001b[38;5;28msuper\u001b[39m()\u001b[38;5;241m.\u001b[39mrecv(buflen, flags)\n",
      "File \u001b[0;32m/usr/lib/python3.11/ssl.py:1169\u001b[0m, in \u001b[0;36mSSLSocket.read\u001b[0;34m(self, len, buffer)\u001b[0m\n\u001b[1;32m   1167\u001b[0m         \u001b[38;5;28;01mreturn\u001b[39;00m \u001b[38;5;28mself\u001b[39m\u001b[38;5;241m.\u001b[39m_sslobj\u001b[38;5;241m.\u001b[39mread(\u001b[38;5;28mlen\u001b[39m, buffer)\n\u001b[1;32m   1168\u001b[0m     \u001b[38;5;28;01melse\u001b[39;00m:\n\u001b[0;32m-> 1169\u001b[0m         \u001b[38;5;28;01mreturn\u001b[39;00m \u001b[38;5;28;43mself\u001b[39;49m\u001b[38;5;241;43m.\u001b[39;49m\u001b[43m_sslobj\u001b[49m\u001b[38;5;241;43m.\u001b[39;49m\u001b[43mread\u001b[49m\u001b[43m(\u001b[49m\u001b[38;5;28;43mlen\u001b[39;49m\u001b[43m)\u001b[49m\n\u001b[1;32m   1170\u001b[0m \u001b[38;5;28;01mexcept\u001b[39;00m SSLError \u001b[38;5;28;01mas\u001b[39;00m x:\n\u001b[1;32m   1171\u001b[0m     \u001b[38;5;28;01mif\u001b[39;00m x\u001b[38;5;241m.\u001b[39margs[\u001b[38;5;241m0\u001b[39m] \u001b[38;5;241m==\u001b[39m SSL_ERROR_EOF \u001b[38;5;129;01mand\u001b[39;00m \u001b[38;5;28mself\u001b[39m\u001b[38;5;241m.\u001b[39msuppress_ragged_eofs:\n",
      "\u001b[0;31mKeyboardInterrupt\u001b[0m: "
     ]
    }
   ],
   "source": [
    "batch_input_file_c = client.files.create(\n",
    "  file=open(\"/cs/labs/tomhope/yuvalbus/pmc/pythonProject/captions_sample_c.jsonl\", \"rb\"),\n",
    "  purpose=\"batch\"\n",
    ")\n"
   ]
  },
  {
   "cell_type": "code",
   "execution_count": null,
   "id": "8678eb71-a4b1-45e1-9137-f5e9712db1e5",
   "metadata": {},
   "outputs": [],
   "source": [
    "batch_input_file_id_c = batch_input_file_c.id\n",
    "\n",
    "client.batches.create(\n",
    "    input_file_id=batch_input_file_id_b,\n",
    "    endpoint=\"/v1/chat/completions\",\n",
    "    completion_window=\"24h\",\n",
    "    metadata={\n",
    "      \"description\": \"captions part a (90,000-131,155)\"\n",
    "    }\n",
    ")\n"
   ]
  },
  {
   "cell_type": "code",
   "execution_count": 11,
   "id": "3f8a9c4f-2aed-4ec1-94e3-37809204ddde",
   "metadata": {},
   "outputs": [
    {
     "data": {
      "text/plain": [
       "Batch(id='batch_6727c200f8b08190a0fa079cd9698596', completion_window='24h', created_at=1730658817, endpoint='/v1/chat/completions', input_file_id='file-VqlP1Gkg05rz6vRI1n604dgK', object='batch', status='completed', cancelled_at=None, cancelling_at=None, completed_at=1730670108, error_file_id=None, errors=None, expired_at=None, expires_at=1730745217, failed_at=None, finalizing_at=1730663501, in_progress_at=1730658830, metadata={'description': 'captions part a (90,000-131,155)'}, output_file_id='file-Iq6bTiQOGS35OSvIBHCpcHzB', request_counts=BatchRequestCounts(completed=41155, failed=0, total=41155))"
      ]
     },
     "execution_count": 11,
     "metadata": {},
     "output_type": "execute_result"
    }
   ],
   "source": [
    "client.batches.retrieve(\"batch_6727c200f8b08190a0fa079cd9698596\")"
   ]
  },
  {
   "cell_type": "code",
   "execution_count": 22,
   "id": "1550fd75-005e-430c-b1d2-dabf8ec528e0",
   "metadata": {},
   "outputs": [],
   "source": [
    "running_batches = client.batches.list()\n"
   ]
  },
  {
   "cell_type": "code",
   "execution_count": null,
   "id": "ffe2e5e9-5669-43b9-920c-8bd6354e3542",
   "metadata": {},
   "outputs": [],
   "source": [
    "file_response_a = client.files.content(\"file-lvwYg8ynh3MNMNtV3x05qLP5\")"
   ]
  },
  {
   "cell_type": "code",
   "execution_count": 68,
   "id": "439f3dca-7b8c-48a7-82e6-ab3e10c6bc8c",
   "metadata": {},
   "outputs": [],
   "source": [
    "file_response_b = client.files.content(\"file-KU2D30OibZ3R8TXxePxhMl2V\")"
   ]
  },
  {
   "cell_type": "code",
   "execution_count": 69,
   "id": "35be70ca-aa6c-4cd0-a104-21ce58bec949",
   "metadata": {},
   "outputs": [],
   "source": [
    "file_response_c = client.files.content(\"file-Iq6bTiQOGS35OSvIBHCpcHzB\")"
   ]
  },
  {
   "cell_type": "code",
   "execution_count": 70,
   "id": "fcf2dad8-4dc4-42f4-a6f3-b6b8e33de299",
   "metadata": {},
   "outputs": [],
   "source": [
    "file_response_text = file_response_a.text + file_response_b.text + file_response_c.text"
   ]
  },
  {
   "cell_type": "code",
   "execution_count": 74,
   "id": "ea82b90f-7550-48b0-9fe8-ba96b418fc42",
   "metadata": {},
   "outputs": [
    {
     "data": {
      "text/plain": [
       "131155"
      ]
     },
     "execution_count": 74,
     "metadata": {},
     "output_type": "execute_result"
    }
   ],
   "source": [
    "len(file_response_text.strip().splitlines())"
   ]
  },
  {
   "cell_type": "code",
   "execution_count": 75,
   "id": "34096f4b-f6d9-410a-9200-b462feff0b3c",
   "metadata": {},
   "outputs": [],
   "source": [
    "json_strings = file_response_text.strip().splitlines()\n",
    "\n",
    "# Parse each JSON string into a dictionary and store in a list\n",
    "response_dicts = [json.loads(line) for line in json_strings]\n"
   ]
  },
  {
   "cell_type": "code",
   "execution_count": 88,
   "id": "e79ac00b-3586-41e1-9074-11072319a185",
   "metadata": {},
   "outputs": [],
   "source": [
    "gpt40_response_list = [response_dicts[i]['response']['body']['choices'][0]['message']['content'] for i in range(len(response_dicts))]"
   ]
  },
  {
   "cell_type": "code",
   "execution_count": 90,
   "id": "2dc28593-a7a9-44bf-a6ce-0100b73fdd08",
   "metadata": {},
   "outputs": [],
   "source": [
    "with open(\"gpt40_response_list.json\", 'w') as h:\n",
    "    json.dump(gpt40_response_list, h)"
   ]
  },
  {
   "cell_type": "code",
   "execution_count": null,
   "id": "b67b8717-c0c1-42e2-8f24-f08c0c7929e0",
   "metadata": {},
   "outputs": [],
   "source": []
  },
  {
   "cell_type": "code",
   "execution_count": null,
   "id": "24449285-c7df-48b4-ac52-40434b875119",
   "metadata": {},
   "outputs": [],
   "source": []
  }
 ],
 "metadata": {
  "kernelspec": {
   "display_name": "pmc_project_2",
   "language": "python",
   "name": "pmc_project_2"
  },
  "language_info": {
   "codemirror_mode": {
    "name": "ipython",
    "version": 3
   },
   "file_extension": ".py",
   "mimetype": "text/x-python",
   "name": "python",
   "nbconvert_exporter": "python",
   "pygments_lexer": "ipython3",
   "version": "3.11.2"
  }
 },
 "nbformat": 4,
 "nbformat_minor": 5
}
