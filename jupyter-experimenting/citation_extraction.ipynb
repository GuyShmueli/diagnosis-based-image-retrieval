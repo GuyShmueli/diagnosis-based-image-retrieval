{
 "cells": [
  {
   "cell_type": "code",
   "execution_count": null,
   "metadata": {},
   "outputs": [],
   "source": [
    "import json\n",
    "from together import Together\n",
    "from openai import OpenAI\n",
    "\n",
    "# togetherai_key = <insert togetherai key>\n",
    "together_client = Together(api_key=togetherai_key)\n",
    "\n",
    "# openai_key = <insert openai key>\n",
    "client = OpenAI(api_key=openai_key)"
   ]
  },
  {
   "cell_type": "code",
   "execution_count": null,
   "metadata": {},
   "outputs": [],
   "source": [
    "# Loading all JSONs\n",
    "\n",
    "with open ('/cs/labs/tomhope/yuvalbus/pmc/pythonProject/largeListsGuy/ref_extractions.json', 'r') as f:\n",
    "    ref_extractions = json.load(f)\n",
    "\n",
    "with open('/cs/labs/tomhope/yuvalbus/pmc/pythonProject/largeListsGuy/case_summary_pairs_list.json', 'r') as f:\n",
    "    case_summary_pairs_list = json.load(f)\n",
    "\n",
    "with open ('/cs/labs/tomhope/yuvalbus/pmc/pythonProject/largeListsGuy/matching_uids_xml_paths.json', 'r') as f:\n",
    "    matching_uids_xml_paths = json.load(f)\n",
    "\n",
    "with open('/cs/labs/tomhope/yuvalbus/pmc/pythonProject/largeListsGuy/citation_extrac_list.json', 'r') as f:\n",
    "    citation_list = json.load(f)\n",
    "\n",
    "with open ('/cs/labs/tomhope/yuvalbus/pmc/pythonProject/largeListsGuy/matching_uids_pmid_list.json', 'r') as f:\n",
    "    matching_uids_pmid_list = json.load(f)\n",
    "\n",
    "with open('/cs/labs/tomhope/yuvalbus/pmc/pythonProject/largeListsGuy/o3_mini_response_list.json', 'r') as f:\n",
    "    o3_mini_response_list = json.load(f)\n",
    "\n",
    "with open('/cs/labs/tomhope/yuvalbus/pmc/pythonProject/largeListsGuy/indices_list.json', 'r') as f:\n",
    "    citation_valid_indices = json.load(f)\n"
   ]
  },
  {
   "cell_type": "code",
   "execution_count": 5,
   "metadata": {},
   "outputs": [],
   "source": [
    "# ref_extractions = [\n",
    "#     extract_single_ref(xml_pair, pmid_pair) \n",
    "#     for (xml_pair, pmid_pair) in zip(matching_uids_xml_paths, matching_uids_pmid_list)\n",
    "# ]\n",
    "\n"
   ]
  },
  {
   "cell_type": "code",
   "execution_count": null,
   "metadata": {},
   "outputs": [],
   "source": []
  },
  {
   "cell_type": "code",
   "execution_count": 4,
   "metadata": {},
   "outputs": [],
   "source": [
    "chosen_extraction = citation_list[1]"
   ]
  },
  {
   "cell_type": "code",
   "execution_count": 76,
   "metadata": {},
   "outputs": [
    {
     "data": {
      "text/plain": [
       "{'citing_title': 'Agenesis of permanent canines: Rare case report',\n",
       " 'citing_abstract': 'Agenesis of permanent canines is a rare condition, and that of both maxillary and mandibular permanent canines is extremely rare. It may occur either isolated or in association with other dental anomalies. Reports of such cases are very scarce in the literature. Need for early diagnosis of such conditions should be emphasized because of functional, esthetic, and psychological problems which should be evaluated and treated appropriately. The present paper presents a report of bilaterally missing permanent maxillary and mandibular canines. This case might contribute in the future studies of incidence of agenesis of permanent canines.',\n",
       " 'citation_paragraphs': [],\n",
       " 'cited_title': 'Permanent Maxillary Canine Agenesis: A Rare Case Report',\n",
       " 'cited_abstract': 'ABSTRACT Congenitally missing teeth (CMT) are among one of the commonly known dental anomalies. The most frequently missing teeth in the permanent dentition, excluding the third molars, are mandibular second premolars and maxillary lateral incisors. Exclusive agenesis of both maxillary canines is an extremely rare occurrence and only a few cases have been reported. Previous studies showed that the prevalence of maxillary canine agenesis varies between 0.07 and 0.13%. In recent studies on Indian population, no cases of maxillary canine agenesis have been documented. This paper reports a case of non-syndromic bilateral agenesis of permanent maxillary canines, along with agenesis of both mandibular central incisors in a healthy 13-year-old Indian female patient; and a brief literature review on prevalence, etiology and treatment modalities of the condition. How to cite this article:  Kambalimath HV, Jain S, Patil RU, Asokan A, Kambalimath D. Permanent Maxillary Canine Agenesis: A Rare Case Report. Int J Clin Pediatr Dent 2015; 8(3):242-246.'}"
      ]
     },
     "execution_count": 76,
     "metadata": {},
     "output_type": "execute_result"
    }
   ],
   "source": [
    "chosen_extraction"
   ]
  },
  {
   "cell_type": "code",
   "execution_count": 77,
   "metadata": {},
   "outputs": [],
   "source": [
    "prompt_exc_few_shot = \"\"\"You are a medical citation analysis assistant. You will read excerpts from a 'citing paper' referencing another 'cited paper,' each describing a single-patient case report. Your task is to produce four pieces of information:\n",
    "\n",
    "1. Reason for Citation (a short phrase or sentence about why the authors mention the cited paper).\n",
    "2. Possible Similarities (a brief mention of how these patients’ cases align, if at all).\n",
    "3. Explanation (one to two sentences summarizing how the citation is used).\n",
    "4. Confidence (High, Medium, or Low), based on the degree of similarity between the single-patient cases:\n",
    "- High: The text explicitly states that the two patients share significant clinical or therapeutic similarities.\n",
    "- Medium: Some parallels are hinted at but lack explicit detail or direct confirmation.\n",
    "- Low: The citation is vague or does not clearly connect the patients’ key features.\n",
    "\n",
    "----\n",
    "Follow this exact output format:\n",
    "Reason for Citation: <short phrase or sentence>\n",
    "Possible Similarities: <brief mention>\n",
    "Explanation: <one to two sentences>\n",
    "Confidence: <High/Medium/Low>\n",
    "\n",
    "----\n",
    "Read the following excerpt(s) and generate your final answer in the required format. Unify your response if multiple citations are present. If no citations are specified, base your response on the articles' titles and abstracts.\n",
    "\"\"\""
   ]
  },
  {
   "cell_type": "code",
   "execution_count": 75,
   "metadata": {},
   "outputs": [
    {
     "name": "stdout",
     "output_type": "stream",
     "text": [
      "Reason for Citation: To reference a documented case of rare maxillary canine agenesis.  \n",
      "Possible Similarities: Both case reports describe bilateral absence of permanent maxillary canines.  \n",
      "Explanation: The citing paper uses the cited report as an example of an extremely rare dental anomaly involving bilateral maxillary canine agenesis, thereby placing its case report in the context of existing literature on rare dental agenesis. Although the additional dental anomalies differ between the cases, the focus on missing maxillary canines creates a relevant parallel.  \n",
      "Confidence: Medium\n"
     ]
    }
   ],
   "source": [
    "\n",
    "completion = client.chat.completions.create(\n",
    "    model=\"o3-mini\",\n",
    "    reasoning_effort = \"medium\",\n",
    "    messages=[\n",
    "        {\n",
    "            \"role\": \"developer\",\n",
    "            \"content\": f\"{prompt_exc_few_shot}\"\n",
    "        },\n",
    "        {\n",
    "            \"role\": \"user\",\n",
    "            \"content\": f\"{chosen_extraction}\"\n",
    "        }\n",
    "    ],\n",
    ")\n",
    "\n",
    "response = completion.choices[0].message.content.strip()\n",
    "\n",
    "print(response)"
   ]
  },
  {
   "cell_type": "code",
   "execution_count": 23,
   "metadata": {},
   "outputs": [
    {
     "data": {
      "text/plain": [
       "'Reason for Citation: To illustrate a similar case of choroidal osteoma complicated by secondary choroidal neovascularization treated with ranibizumab.  \\nPossible Similarities: Both cases involve female patients with choroidal osteoma developing CNV who were successfully managed with intravitreal ranibizumab.  \\nExplanation: The citation is used to show a comparable instance where a patient with choroidal osteoma developed secondary choroidal neovascularization, and treatment with ranibizumab led to regression of the CNV and improvement in visual acuity. The similarities in clinical presentation and treatment outcomes underscore the relevance of the cited work to the case presented.  \\nConfidence: High.'"
      ]
     },
     "execution_count": 23,
     "metadata": {},
     "output_type": "execute_result"
    }
   ],
   "source": [
    "o3_mini_response_list[0]"
   ]
  },
  {
   "cell_type": "code",
   "execution_count": 5,
   "metadata": {},
   "outputs": [],
   "source": [
    "def calc_indices_summaries_list(case_summary_pairs_list):\n",
    "    \"\"\"\n",
    "    Returns two lists:\n",
    "      - A list of indices corresponding to elements depicting both cases.\n",
    "      - A list of indices corresponding to elements depicting less than 2 cases.\n",
    "    \"\"\"\n",
    "    valid_indices = [idx for idx in range(len(case_summary_pairs_list)) if len(case_summary_pairs_list[idx]) == 2]\n",
    "    invalid_indices = [idx for idx in range(len(case_summary_pairs_list)) if len(case_summary_pairs_list[idx]) != 2]\n",
    "\n",
    "    return valid_indices, invalid_indices\n",
    "\n"
   ]
  },
  {
   "cell_type": "code",
   "execution_count": 6,
   "metadata": {},
   "outputs": [
    {
     "data": {
      "text/plain": [
       "31080"
      ]
     },
     "execution_count": 6,
     "metadata": {},
     "output_type": "execute_result"
    }
   ],
   "source": [
    "len(o3_mini_response_list)"
   ]
  },
  {
   "cell_type": "code",
   "execution_count": 7,
   "metadata": {},
   "outputs": [
    {
     "data": {
      "text/plain": [
       "31080"
      ]
     },
     "execution_count": 7,
     "metadata": {},
     "output_type": "execute_result"
    }
   ],
   "source": [
    "len(citation_valid_indices)"
   ]
  },
  {
   "cell_type": "code",
   "execution_count": 8,
   "metadata": {},
   "outputs": [],
   "source": [
    "summaries_valid_indices, summaries_invalid_indices = calc_indices_summaries_list(case_summary_pairs_list)\n",
    "\n"
   ]
  },
  {
   "cell_type": "code",
   "execution_count": 8,
   "metadata": {},
   "outputs": [
    {
     "data": {
      "text/plain": [
       "'Reason for Citation: To illustrate a similar case of choroidal osteoma complicated by secondary choroidal neovascularization treated with ranibizumab.  \\nPossible Similarities: Both cases involve female patients with choroidal osteoma developing CNV who were successfully managed with intravitreal ranibizumab.  \\nExplanation: The citation is used to show a comparable instance where a patient with choroidal osteoma developed secondary choroidal neovascularization, and treatment with ranibizumab led to regression of the CNV and improvement in visual acuity. The similarities in clinical presentation and treatment outcomes underscore the relevance of the cited work to the case presented.  \\nConfidence: High.'"
      ]
     },
     "execution_count": 8,
     "metadata": {},
     "output_type": "execute_result"
    }
   ],
   "source": [
    "o3_mini_response_list[0]"
   ]
  },
  {
   "cell_type": "code",
   "execution_count": 9,
   "metadata": {},
   "outputs": [],
   "source": [
    "def find_common_indices(summaries_valid_indices, citation_valid_indices):\n",
    "    \"\"\"\n",
    "    Find the common indices between summaries_valid_indices and citation_valid_indices:\n",
    "      - summaries_valid_indices - represents the indices corresponding to successfully extracted case summaries (0-31,691) \n",
    "      - citation_valid_indices - represents the indices corresponding to successfully cited-citing pairs (0-31,691)\n",
    "    \"\"\"\n",
    "    summaries_valid_indices_set = set(summaries_valid_indices)\n",
    "    citation_valid_indices_set = set(citation_valid_indices)\n",
    "    common_indices = []\n",
    "\n",
    "    for i in range(len(matching_uids_pmid_list)):\n",
    "        if i in summaries_valid_indices_set and i in citation_valid_indices_set:\n",
    "            common_indices.append(i)\n",
    "    \n",
    "    return common_indices\n",
    "\n",
    "\n",
    "common_indices = find_common_indices(summaries_valid_indices, citation_valid_indices)"
   ]
  },
  {
   "cell_type": "code",
   "execution_count": 30,
   "metadata": {},
   "outputs": [
    {
     "name": "stdout",
     "output_type": "stream",
     "text": [
      "31080\n",
      "31080\n"
     ]
    }
   ],
   "source": [
    "print(len(o3_mini_response_list))\n",
    "print(len(citation_list))"
   ]
  },
  {
   "cell_type": "code",
   "execution_count": 10,
   "metadata": {},
   "outputs": [
    {
     "data": {
      "text/plain": [
       "1030"
      ]
     },
     "execution_count": 10,
     "metadata": {},
     "output_type": "execute_result"
    }
   ],
   "source": [
    "common_indices[1000]"
   ]
  },
  {
   "cell_type": "code",
   "execution_count": 14,
   "metadata": {},
   "outputs": [
    {
     "data": {
      "text/plain": [
       "1030"
      ]
     },
     "execution_count": 14,
     "metadata": {},
     "output_type": "execute_result"
    }
   ],
   "source": [
    "citation_valid_indices[1004]"
   ]
  },
  {
   "cell_type": "code",
   "execution_count": 18,
   "metadata": {},
   "outputs": [
    {
     "data": {
      "text/plain": [
       "1004"
      ]
     },
     "execution_count": 18,
     "metadata": {},
     "output_type": "execute_result"
    }
   ],
   "source": [
    "citation_valid_indices_dict[1030]"
   ]
  },
  {
   "cell_type": "code",
   "execution_count": null,
   "metadata": {},
   "outputs": [],
   "source": [
    "citation_valid_indices_dict = {citation_valid_indices[idx]: idx for idx in range(len(citation_valid_indices))}"
   ]
  },
  {
   "cell_type": "code",
   "execution_count": null,
   "metadata": {},
   "outputs": [],
   "source": [
    "curr_index = common_indices[4000]\n",
    "\n",
    "case1 = case_summary_pairs_list[curr_index][0]\n",
    "\n",
    "case2 = case_summary_pairs_list[curr_index][1]\n",
    "\n",
    "citation_reason = o3_mini_response_list[citation_valid_indices_dict[curr_index]]\n",
    "\n",
    "question_generating_prompt = \"\"\"\n",
    "You are an experienced clinician specializing in medical imaging. You will be given two cases and the reason for citation between the two (one case report cites the other), and asked to generate a set of comparative, clinically relevant questions that highlight both similarities and differences, helping differentiate potential diagnoses. Your questions should:\n",
    "\n",
    "1. **Focus on Diagnostic Clues and Clinical Significance:**\n",
    "   - Avoid trivial or purely technical details (like minor differences in image orientation).\n",
    "   - Emphasize findings that inform diagnosis (e.g., presence of lesions, pattern of abnormalities, symptoms).\n",
    "\n",
    "2. **Use a Comparative Framing:**\n",
    "   - Explicitly compare Case A and Case B.\n",
    "   - Aim for questions that probe both common ground and distinguishing features.\n",
    "   - If possible, try asking mostly yes/no questions.\n",
    "\n",
    "3. **Follow a Hierarchical Reasoning Approach:**\n",
    "   - **Level 1 (Broad Context)**: Are both cases the same modality/organ system?\n",
    "   - **Level 2 (General Diagnosis Category)**: Are they both infectious, both neoplastic, etc.?\n",
    "   - **Level 3 (Specific Features & Findings)**: Detailed imaging findings (e.g., cavitation, consolidation, nodules), clinical presentation, organism type, etc.\n",
    "\n",
    "4. **Consider Step-by-Step Reasoning:**\n",
    "   - You may first silently analyze the diagnoses and imaging findings for each case.\n",
    "   - Then generate questions that a clinician would naturally ask to tease out whether the two cases have the same underlying pathology or different pathologies.\n",
    "\n",
    "5. **Provide a subtitle specifying the level (1/2/3) of the current set of questions.**\n",
    "\"\"\"\n",
    "\n",
    "question_generating_user = f\"\"\"\n",
    "Below are two cases and the reason for citation between the two. Read them carefully, then generate a concise list of question prompts (in bullet or numbered format) that compare these cases on clinically meaningful aspects.\n",
    "\n",
    "---\n",
    "Case A:\n",
    "{case1}\n",
    "\n",
    "Case B:\n",
    "{case2}\n",
    "\n",
    "Reason for Citation, Possible Similarities and Explanation:\n",
    "{citation_reason}\n",
    "---\n",
    "\n",
    "Now, **generate the list of comparative, clinically relevant questions** that a radiologist or physician might ask to determine whether these two cases share a diagnosis or differ in key features. \n",
    "\n",
    "Remember:\n",
    "- Maintain clinical depth: mention imaging findings, pathophysiology, or hallmark symptoms.\n",
    "- Emphasize similarities/differences that impact diagnosis.\n",
    "- Keep the questions focused and direct, as if you are performing a differential diagnosis.\n",
    "- Avoid vague or generic questions; ensure each question contributes to understanding diagnostic overlap or divergence.\n",
    "- Start with broad-level questions (anatomy, broad diagnosis similarity), then proceed to more specific questions about the nature of the condition, causative agents, imaging signs, etc.\n",
    "- Adhere to yes/no questions, if possible.\n",
    "- Provide a subtitle specifying the level (1/2/3) of each set of questions.\n",
    "\n",
    "Provide your final list of questions now.\n",
    "\"\"\""
   ]
  },
  {
   "cell_type": "code",
   "execution_count": 37,
   "metadata": {},
   "outputs": [
    {
     "name": "stdout",
     "output_type": "stream",
     "text": [
      "Level 1 – Broad Context (Anatomy and Modality):\n",
      "1. Do both Case A and Case B involve lesions in the mandibular region?\n",
      "2. Are both cases assessed using radiographic imaging modalities (panoramic radiography in Case A and cone beam CT in Case B)?\n",
      "\n",
      "Level 2 – General Diagnostic Category:\n",
      "3. Do both cases present with cementoblastomas as the final diagnostic outcome?\n",
      "4. Are both patients pediatric males presenting with lesions involving primary (deciduous) molar regions?\n",
      "5. Considering the overall clinical findings, do both cases suggest a benign osseous neoplasm rather than an aggressive or malignant process?\n",
      "\n",
      "Level 3 – Specific Imaging Findings and Features:\n",
      "6. Do both cases demonstrate a well-defined radiopaque mass with a peripheral radiolucent rim on imaging studies?\n",
      "7. In both cases, is there evidence of cortical expansion (buccal and/or lingual) associated with the lesion?\n",
      "8. Are reversal lines and cementum-like tissue features identified histopathologically in both cases?\n",
      "9. Do both cases show continuity or attachment of the lesion to the root or periapical region of an associated tooth?\n",
      "10. Is the lesion size or recurrence pattern in Case A (with recurrences noted) in contrast to the singular excised lesion in Case B?\n",
      "11. Are there any differences in the clinical presentation, such as pain and tenderness (present in Case B versus minimal pain in Case A)?\n",
      "12. Does the involvement of both deciduous and permanent teeth in Case A differ in management or prognosis from the lesion in the deciduous tooth region in Case B?\n"
     ]
    }
   ],
   "source": [
    "\n",
    "completion = client.chat.completions.create(\n",
    "    model=\"o3-mini\",\n",
    "    reasoning_effort = \"low\",\n",
    "    messages=[\n",
    "        {\n",
    "            \"role\": \"developer\",\n",
    "            \"content\": f\"{question_generating_prompt}\"\n",
    "        },\n",
    "        {\n",
    "            \"role\": \"user\",\n",
    "            \"content\": f\"{question_generating_user}\"\n",
    "        }\n",
    "    ],\n",
    ")\n",
    "\n",
    "generated_questions = completion.choices[0].message.content.strip()\n",
    "\n",
    "print(generated_questions)"
   ]
  },
  {
   "cell_type": "code",
   "execution_count": 93,
   "metadata": {},
   "outputs": [
    {
     "data": {
      "text/plain": [
       "1026"
      ]
     },
     "execution_count": 93,
     "metadata": {},
     "output_type": "execute_result"
    }
   ],
   "source": [
    "citation_valid_indices_dict[1000]"
   ]
  },
  {
   "cell_type": "code",
   "execution_count": 94,
   "metadata": {},
   "outputs": [
    {
     "data": {
      "text/plain": [
       "1030"
      ]
     },
     "execution_count": 94,
     "metadata": {},
     "output_type": "execute_result"
    }
   ],
   "source": [
    "common_indices[1000]"
   ]
  },
  {
   "cell_type": "code",
   "execution_count": 15,
   "metadata": {},
   "outputs": [],
   "source": [
    "citation_valid_indices_dict = {citation_valid_indices[idx]: idx for idx in range(len(citation_valid_indices))}"
   ]
  },
  {
   "cell_type": "code",
   "execution_count": 96,
   "metadata": {},
   "outputs": [
    {
     "data": {
      "text/plain": [
       "1004"
      ]
     },
     "execution_count": 96,
     "metadata": {},
     "output_type": "execute_result"
    }
   ],
   "source": [
    "citation_valid_indices_dict[1030]"
   ]
  },
  {
   "cell_type": "code",
   "execution_count": null,
   "metadata": {},
   "outputs": [],
   "source": [
    "def compute_tokens_average(citation_valid_indices, case_summary_pairs_list, o3_mini_response_list, common_indices):\n",
    "    \n",
    "    counter = 0\n",
    "    citation_valid_indices_dict = {citation_valid_indices[idx]: idx for idx in range(len(citation_valid_indices))}\n",
    "\n",
    "    for i in common_indices:\n",
    "\n",
    "        case1 = case_summary_pairs_list[i][0]\n",
    "\n",
    "        case2 = case_summary_pairs_list[i][1]\n",
    "\n",
    "        citation_reason = o3_mini_response_list[citation_valid_indices_dict[i]]\n",
    "\n",
    "        question_generating_prompt = \"\"\"\n",
    "        You are an experienced clinician specializing in medical imaging. You will be given two cases and the reason for citation between the two (one case report cites the other), and asked to generate a set of comparative, clinically relevant questions that highlight both similarities and differences, helping differentiate potential diagnoses. Your questions should:\n",
    "\n",
    "        1. **Focus on Diagnostic Clues and Clinical Significance:**\n",
    "        - Avoid trivial or purely technical details (like minor differences in image orientation).\n",
    "        - Emphasize findings that inform diagnosis (e.g., presence of lesions, pattern of abnormalities, symptoms).\n",
    "\n",
    "        2. **Use a Comparative Framing:**\n",
    "        - Explicitly compare Case A and Case B.\n",
    "        - Aim for questions that probe both common ground and distinguishing features.\n",
    "        - If possible, try asking mostly yes/no questions.\n",
    "\n",
    "        3. **Follow a Hierarchical Reasoning Approach:**\n",
    "        - **Level 1 (Broad Context)**: Are both cases the same modality/organ system?\n",
    "        - **Level 2 (General Diagnosis Category)**: Are they both infectious, both neoplastic, etc.?\n",
    "        - **Level 3 (Specific Features & Findings)**: Detailed imaging findings (e.g., cavitation, consolidation, nodules), clinical presentation, organism type, etc.\n",
    "\n",
    "        4. **Consider Step-by-Step Reasoning:**\n",
    "        - You may first silently analyze the diagnoses and imaging findings for each case.\n",
    "        - Then generate questions that a clinician would naturally ask to tease out whether the two cases have the same underlying pathology or different pathologies.\n",
    "\n",
    "        5. **Provide a subtitle specifying the level (1/2/3) of the current set of questions.**\n",
    "        \"\"\"\n",
    "\n",
    "        question_generating_user = f\"\"\"\n",
    "        Below are two cases and the reason for citation between the two. Read them carefully, then generate a concise list of question prompts (in bullet or numbered format) that compare these cases on clinically meaningful aspects.\n",
    "\n",
    "        ---\n",
    "        Case A:\n",
    "        {case1}\n",
    "\n",
    "        Case B:\n",
    "        {case2}\n",
    "\n",
    "        Reason for Citation, Possible Similarities and Explanation:\n",
    "        {citation_reason}\n",
    "        ---\n",
    "\n",
    "        Now, **generate the list of comparative, clinically relevant questions** that a radiologist or physician might ask to determine whether these two cases share a diagnosis or differ in key features. \n",
    "\n",
    "        Remember:\n",
    "        - Maintain clinical depth: mention imaging findings, pathophysiology, or hallmark symptoms.\n",
    "        - Emphasize similarities/differences that impact diagnosis.\n",
    "        - Keep the questions focused and direct, as if you are performing a differential diagnosis.\n",
    "        - Avoid vague or generic questions; ensure each question contributes to understanding diagnostic overlap or divergence.\n",
    "        - Start with broad-level questions (anatomy, broad diagnosis similarity), then proceed to more specific questions about the nature of the condition, causative agents, imaging signs, etc.\n",
    "        - Adhere to yes/no questions, if possible.\n",
    "\n",
    "        Provide your final list of questions now.\n",
    "        \"\"\"\n",
    "\n",
    "        prompt = question_generating_prompt + \"\\n\" + question_generating_user\n",
    "        model_name = \"gpt-4o\"\n",
    "        prompt_count, response_count = count_tokens(prompt, \"\", model_name)\n",
    "        counter += prompt_count\n",
    "\n",
    "    return counter / len(common_indices)\n",
    "    \n",
    "tokens_avg = compute_tokens_average(citation_valid_indices, case_summary_pairs_list, o3_mini_response_list, common_indices)\n"
   ]
  },
  {
   "cell_type": "code",
   "execution_count": 41,
   "metadata": {},
   "outputs": [],
   "source": [
    "prompt = answering_prompt + \"\\n\" + answering_user\n",
    "model_name = \"gpt-4o\"\n",
    "prompt_count, response_count = count_tokens(prompt, \"\", model_name)\n"
   ]
  },
  {
   "cell_type": "code",
   "execution_count": 42,
   "metadata": {},
   "outputs": [
    {
     "data": {
      "text/plain": [
       "2582"
      ]
     },
     "execution_count": 42,
     "metadata": {},
     "output_type": "execute_result"
    }
   ],
   "source": [
    "prompt_count"
   ]
  },
  {
   "cell_type": "code",
   "execution_count": 40,
   "metadata": {},
   "outputs": [
    {
     "data": {
      "text/plain": [
       "\"\\nBelow are the two case descriptions (with the same details as before) and the set of questions to be answered.\\n\\n---\\nCase A:\\nA 4.5-year-old boy was referred to the Oral and Maxillofacial Surgery Department of Tehran University of Medical Sciences with the chief complaint of swelling and mild pain in the posterior right mandibular area. An informed signed consent was obtained from the parent of the patient. The familial and medical histories were not contributory, and no evidence of facial trauma was reported.\\n On extra oral examination, there was mild swelling of the right lower jaw leading to mild facial asymmetry. The swelling was bony hard in consistency.\\n An intraoral examination revealed buccal and lingual cortical expansion. The overlying mucosa was normal. A vitality test with an electrical pulp tester yielded a positive reaction for the deciduous mandibular second molar. There was no functional difficulty with speech, swallowing, and breathing.\\n On panoramic radiography, there was a well-defined capsulated non-homogenized radiopaque mass related to the apical region of the right deciduous mandibular second molar ( figure 1 ). Another considerable situation was that the roots of the right first unerupted molar were developed in comparison with the opposite side and had unusual radiolucency with them.\\n Panoramic view of the lesion shows a well-defined radiopaque mass at the apical region of the right deciduous mandibular second molar. Notice the radiolucent rim around the lesion and more developed roots of the right first unerupted molar.\\n On the basis of the clinical and radiographic features, the differential diagnosis of this lesion included odontoma, cementoblastoma, and osteoblastoma. Considering the radiographic features based on the attachment to the tooth root, we ruled out osteoblastoma. However, microscopic examination was necessary to differentiate between odontoma and cementoblastoma. Surgical enucleation of the lesion, including the removal of the involved teeth, was planned and executed under general anesthesia.\\n The tumor mass was embedded in the root of the deciduous mandibular second molar tooth and had an irregular surface with a maximum dimension of 1.6 cm.\\n Histopathologic examination revealed sheets of a cementum-like material entrapped within the vascular connective tissue stroma ( figure 2a ).\\nThe intervening connective tissue stroma was loose and vascular. Prominent reversal lines were seen within the sheets of the cementum-like material. Numerous large cementoblasts were evident\\naround the calcified materials ( figure 2b ). Based on these finding and considering the attachment of the lesion to the tooth root, we confirmed the diagnosis of cementoblastoma.\\n Microscopic features of the tumor are depicted here, showing a) sheets and trabeculae of a cementum-like material with a loose vascular stroma (H & E staining, ×100) and b) prominent reversal lines (black arrow) and numerous large cementoblasts (red arrows) around the cementum-like material (H & E staining, ×400).\\n Regular post-surgical follow-ups revealed a new lesion at age 5.5 with mild swelling. On panoramic evaluation, there were 2 circular homogenized well-defined and capsulated\\nradiopaque masses related to both roots of the erupted first mandibular molar ( figure 3a ). Further surgery was done to remove the lesion and the associated tooth. The lesion presented the previous diagnosis and cementoblastoma was reported. a) Panoramic view shows 2 radiopaque masses related to both roots of the mandibular first erupted molar. Notice the radiolucent rim around the lesion. b) Panoramic view shows the unusual recurrence of the lesion, a circular radiopaque mass in the edentulous region of the extracted mandibular first molar. Notice the radiolucent rim around the lesion.\\n At age 8 years, the patient was referred to the abovementioned department with a complaint of swelling at the previously mentioned location.\\n In the panoramic view, there was a circular capsulated homogenized radiopaque mass in the edentulous region of the extracted mandibular first molar ( figure 3b ). Local wide excision was performed under general anesthesia, and the recurrent lesion was harvested. Similar to the previous diagnosis, the lesion presented a benign cementoblastoma.\\n Given the unusual recurrences of the lesion after local wide lesion excision, we recommended a close follow-up of the patient. At 3 follow-ups of the patient at 3, 6, and 9 months after the last surgery, there was no evidence of recurrence fortunately.\\n\\n\\nCase B:\\nAn 8-year-old healthy male child reported to the Department of Oral and Maxillofacial Pathology of our institute with a chief complaint of pain and mild swelling in the left body of the mandible which had been increasing in size for the past 2 months. On clinical examination, no extraoral swelling was present in lower one-third of the face. Mild intraoral swelling with obliteration of the vestibular space was associated with deciduous mandibular left first molar. The swelling was diffuse and hard in consistency, with expansion of buccal cortex. Tenderness on palpation was noticed. Overlying mucosa was normal with no ulceration or purulent discharge. No carious teeth were seen in the region. Radiological examination using cone beam computed tomography revealed a localized mixed radio-opaque–radiolucent lesion in the buccal aspect extending from the distal aspect of 32 to the mesial aspect of developing 34 [Figure  1a  and  1b ]. The lesion was surrounded by a thin, uniform radiolucent line [ Figure 2 ]. It was involving the periapices of 74 and was in continuity with the roots of the same [ Figure 3 ]. It extended inferiorly up to the middle third level of the coronal portion of the developing 33. The approximate maximum dimensions of the lesion were 11.9 mm × 13.8 mm × 16 mm [ Figure 4 ]. Considering the clinical and radiographical findings, differential diagnosis of the lesion included odontogenic tumor, fibro-osseous lesion or hypercementosis. An excisional biopsy was performed for final diagnosis. Cone beam computed tomography showing localized mixed radio-opaque–radiolucent lesion in the buccal aspect extending from the distal aspect of 32 to the mesial aspect of developing 34. (a) Axial view (b) Panoramic view Cone beam computed tomography showing lesion surrounded by a peripheral radiolucency (yellow arrows) Cone beam computed tomography radio-opacity involving the periapices of 74 and is in continuity with the roots of the same (yellow arrows) Cone beam computed tomography approximate maximum dimensions of the lesion (11.9 mm × 13.8 mm) The gross specimen included multiple bits of hard tissues and deciduous mandibular first molar. Hematoxylin and eosin stained sections showed sheets of cementum-like tissue with prominent reversal lines [ Figure 5 ]. Areas of fibrovascular connective tissue interspersed between cementum like masses [ Figure 6 ]. At the periphery of the lesion, radiating columns of cellular unmineralized cementoid tissue was evident [ Figure 7 ]. Multinucleated giant cells and plump cementoblasts were also seen [ Figure 8 ]. Prominent and numerous basophilic reversal lines were appreciable [ Figure 9 ]. On basis of clinical, radiological and histopathological correlation, a diagnosis of cementoblastoma was given. The patient is on follow up since last 6 months and is free of disease. Photomicrograph of hematoxylin and eosin stained decalcified sections show sheets of cementum like tissue with prominent reversal lines (H&E stain, ×4) Photomicrograph of hematoxylin and eosin stained decalcified sections show areas of fibrovascular connective tissue interspersed between cementum like masses (H&E stain, ×10) Photomicrograph of hematoxylin and eosin stained decalcified sections show radiating columns of cellular unmineralized cementoid tissue at the periphery of the lesion (H&E stain, ×10) Photomicrograph of hematoxylin and eosin stained decalcified sections show multinucleated giant cells and plump cementoblasts (H&E stain, ×40) Photomicrograph of hematoxylin and eosin stained decalcified sections show prominent and numerous basophilic reversal lines (H&E stain, ×40)\\n\\nReason for Citation, Possible Similarities and Explanation:\\nReason for Citation: To provide context regarding the rare occurrence of cementoblastomas in primary dentition.  \\nPossible Similarities: Both cases involve young male patients with cementoblastomas affecting primary molars.  \\nExplanation: The cited paper is referenced to highlight the clinical presentation and rarity of cementoblastomas in deciduous teeth, drawing parallels with the current report's findings in an 8-year-old boy. It supports the discussion on differential diagnosis and management by comparing with another unusual pediatric case where both deciduous and permanent teeth were involved.  \\nConfidence: Medium\\n\\nQuestions:\\nLevel 1 – Broad Context (Anatomy and Modality):\\n1. Do both Case A and Case B involve lesions in the mandibular region?\\n2. Are both cases assessed using radiographic imaging modalities (panoramic radiography in Case A and cone beam CT in Case B)?\\n\\nLevel 2 – General Diagnostic Category:\\n3. Do both cases present with cementoblastomas as the final diagnostic outcome?\\n4. Are both patients pediatric males presenting with lesions involving primary (deciduous) molar regions?\\n5. Considering the overall clinical findings, do both cases suggest a benign osseous neoplasm rather than an aggressive or malignant process?\\n\\nLevel 3 – Specific Imaging Findings and Features:\\n6. Do both cases demonstrate a well-defined radiopaque mass with a peripheral radiolucent rim on imaging studies?\\n7. In both cases, is there evidence of cortical expansion (buccal and/or lingual) associated with the lesion?\\n8. Are reversal lines and cementum-like tissue features identified histopathologically in both cases?\\n9. Do both cases show continuity or attachment of the lesion to the root or periapical region of an associated tooth?\\n10. Is the lesion size or recurrence pattern in Case A (with recurrences noted) in contrast to the singular excised lesion in Case B?\\n11. Are there any differences in the clinical presentation, such as pain and tenderness (present in Case B versus minimal pain in Case A)?\\n12. Does the involvement of both deciduous and permanent teeth in Case A differ in management or prognosis from the lesion in the deciduous tooth region in Case B?\\n---\\n\\nProvide your answers now:\\n\""
      ]
     },
     "execution_count": 40,
     "metadata": {},
     "output_type": "execute_result"
    }
   ],
   "source": [
    "answering_user"
   ]
  },
  {
   "cell_type": "code",
   "execution_count": 22,
   "metadata": {},
   "outputs": [
    {
     "data": {
      "text/plain": [
       "2323.516773111412"
      ]
     },
     "execution_count": 22,
     "metadata": {},
     "output_type": "execute_result"
    }
   ],
   "source": [
    "tokens_avg"
   ]
  },
  {
   "cell_type": "code",
   "execution_count": 91,
   "metadata": {},
   "outputs": [
    {
     "data": {
      "text/plain": [
       "31691"
      ]
     },
     "execution_count": 91,
     "metadata": {},
     "output_type": "execute_result"
    }
   ],
   "source": [
    "citation_valid_indices_dict[31079]"
   ]
  },
  {
   "cell_type": "code",
   "execution_count": 84,
   "metadata": {},
   "outputs": [
    {
     "data": {
      "text/plain": [
       "[0, 1, 2, 3, 4]"
      ]
     },
     "execution_count": 84,
     "metadata": {},
     "output_type": "execute_result"
    }
   ],
   "source": [
    "citation_valid_indices[0:5]"
   ]
  },
  {
   "cell_type": "code",
   "execution_count": 75,
   "metadata": {},
   "outputs": [
    {
     "data": {
      "text/plain": [
       "31692"
      ]
     },
     "execution_count": 75,
     "metadata": {},
     "output_type": "execute_result"
    }
   ],
   "source": [
    "len(case_summary_pairs_list)"
   ]
  },
  {
   "cell_type": "code",
   "execution_count": 76,
   "metadata": {},
   "outputs": [
    {
     "data": {
      "text/plain": [
       "31080"
      ]
     },
     "execution_count": 76,
     "metadata": {},
     "output_type": "execute_result"
    }
   ],
   "source": [
    "len(o3_mini_response_list)"
   ]
  },
  {
   "cell_type": "code",
   "execution_count": 77,
   "metadata": {},
   "outputs": [
    {
     "data": {
      "text/plain": [
       "31002"
      ]
     },
     "execution_count": 77,
     "metadata": {},
     "output_type": "execute_result"
    }
   ],
   "source": [
    "len(common_indices)"
   ]
  },
  {
   "cell_type": "code",
   "execution_count": 80,
   "metadata": {},
   "outputs": [
    {
     "data": {
      "text/plain": [
       "1026"
      ]
     },
     "execution_count": 80,
     "metadata": {},
     "output_type": "execute_result"
    }
   ],
   "source": [
    "citation_valid_indices[1000]"
   ]
  },
  {
   "cell_type": "code",
   "execution_count": 78,
   "metadata": {},
   "outputs": [
    {
     "data": {
      "text/plain": [
       "1030"
      ]
     },
     "execution_count": 78,
     "metadata": {},
     "output_type": "execute_result"
    }
   ],
   "source": [
    "common_indices[1000]"
   ]
  },
  {
   "cell_type": "code",
   "execution_count": 73,
   "metadata": {},
   "outputs": [
    {
     "name": "stdout",
     "output_type": "stream",
     "text": [
      "Prompt tokens: 1785\n",
      "Response tokens: 0\n"
     ]
    }
   ],
   "source": [
    "prompt = question_generating_prompt + \" \" + question_generating_user\n",
    "# response = response\n",
    "model_name = \"gpt-4o\"\n",
    "prompt_count, response_count = count_tokens(prompt, \"\", model_name)\n",
    "print(f\"Prompt tokens: {prompt_count}\")\n",
    "print(f\"Response tokens: {response_count}\")\n"
   ]
  },
  {
   "cell_type": "code",
   "execution_count": 24,
   "metadata": {},
   "outputs": [
    {
     "name": "stdout",
     "output_type": "stream",
     "text": [
      "Level 1 – Broad Anatomy and Modality  \n",
      "1. Do both Case A and Case B involve a choroidal osteoma diagnosed via clinical examination and multimodal imaging (e.g., fundus photography, B-scan ultrasonography, CT/OCT/FFA)?  \n",
      "2. Were both cases evaluated with imaging studies that demonstrated a hyperechoic choroidal lesion causing acoustic shadowing?\n",
      "\n",
      "Level 2 – General Diagnosis Category  \n",
      "3. Are both cases diagnosed with choroidal osteoma complicated by secondary choroidal neovascularization?  \n",
      "4. Did both patients present with decreased visual acuity in the affected eye that warranted treatment with intravitreal ranibizumab?\n",
      "\n",
      "Level 3 – Specific Imaging Findings and Clinical Features  \n",
      "5. Does Case A display additional features such as decalcification and choroidal atrophy on follow-up that are not specifically mentioned in Case B?  \n",
      "6. Is the lesion in Case A described as geographic-shaped and peripapillary with involvement of the macula, while Case B’s lesion is described as well-defined and located solely at the macula?  \n",
      "7. Did both cases show subretinal fluid on OCT imaging prior to treatment?  \n",
      "8. Does the angiographic evaluation (FFA, OCTA, ICGA) reveal similar patterns of CNV activity in both cases?  \n",
      "9. Were the subsequent improvements in visual acuity and regression of subretinal fluid after ranibizumab treatment observed in both cases?  \n",
      "10. Is there any evidence of structural differences between the two cases (such as schistose hemorrhage in Case A) that might impact management decisions?\n",
      "\n",
      "These questions aim to compare the similarities in diagnosis and treatment outcomes while probing for differences in lesion morphology, progression, and additional imaging features that could affect clinical decision-making.\n"
     ]
    }
   ],
   "source": [
    "\n",
    "completion = client.chat.completions.create(\n",
    "    model=\"o3-mini\",\n",
    "    reasoning_effort = \"low\",\n",
    "    messages=[\n",
    "        {\n",
    "            \"role\": \"developer\",\n",
    "            \"content\": f\"{question_generating_prompt}\"\n",
    "        },\n",
    "        {\n",
    "            \"role\": \"user\",\n",
    "            \"content\": f\"{question_generating_user}\"\n",
    "        }\n",
    "    ],\n",
    ")\n",
    "\n",
    "generated_questions = completion.choices[0].message.content.strip()\n",
    "\n",
    "print(generated_questions)"
   ]
  },
  {
   "cell_type": "code",
   "execution_count": 29,
   "metadata": {},
   "outputs": [],
   "source": [
    "generated_questions = \"\"\"\n",
    "Subtitle: Level 1 – Broad Context and Diagnosis\n",
    "1. Do both cases involve the same anatomical region (i.e., the choroid and macula) on ocular imaging?  \n",
    "2. Are both cases diagnosed with choroidal osteoma complicated by secondary choroidal neovascularization?\n",
    "\n",
    "Subtitle: Level 2 – General Diagnostic Category and Treatment Approach\n",
    "3. Do both cases exhibit typical imaging features of choroidal osteoma on B-scan ultrasound (e.g., hyperechoic lesion with acoustic shadowing)?  \n",
    "4. Was intravitreal ranibizumab administered as the primary treatment for CNV in both cases?  \n",
    "5. Did both patients show regression of subretinal fluid on OCT following anti-VEGF therapy?\n",
    "\n",
    "Subtitle: Level 3 – Specific Imaging Findings and Clinical Nuances\n",
    "6. Does Case A show evidence of lesion growth and partial decalcification that is not described in Case B?  \n",
    "7. Are the patterns of fluorescein angiography similar in both cases, with early hyperfluorescence and late staining, despite minor differences in CNV visualization?  \n",
    "8. Is the location of the lesion comparable between the cases, with Case A involving the peripapillary area and macula versus Case B predominantly affecting the macula?  \n",
    "9. Are the OCT/OCTA findings of CNV in Case A more detailed (e.g., showing choriocapillaris atrophy and layered neovascularization) compared to the OCT findings in Case B?  \n",
    "10. Did both cases experience improvement in visual acuity after ranibizumab treatment, despite differences in the degree of initial visual loss and specific follow‐up intervals?\n",
    "\"\"\""
   ]
  },
  {
   "cell_type": "code",
   "execution_count": 39,
   "metadata": {},
   "outputs": [],
   "source": [
    "answering_prompt = \"\"\"\n",
    "You are an experienced clinician specializing in medical imaging. Previously, a list of comparative, clinically oriented questions was generated for two separate cases (Case A and Case B). Now, your task is to answer those questions in a way that highlights the diagnostic similarities and differences between the two cases.\n",
    "\n",
    "Instructions for answering:\n",
    "\n",
    "1. **Refer to Both Cases**  \n",
    "   - You will be given the same case details for Case A, Case B, Reason for Citation, along with the full list of questions.\n",
    "   - Answer each question by explicitly referencing the relevant details from Case A and Case B that support your conclusion.\n",
    "\n",
    "2. **Structure of Answers**  \n",
    "   - For yes/no questions, begin your response with a clear “Yes” or “No,” then provide a brief rationale.\n",
    "   - For open-ended or more detailed comparative questions, give a concise yet clinically thorough answer.\n",
    "   - If you need to highlight differences in imaging findings, symptoms, or etiologies, do so clearly and directly.\n",
    "   - Split each answer to 'In case A, ...' and 'In case B, ...'\n",
    "\n",
    "3. **Clinical Depth & Relevance**  \n",
    "   - Focus on the clinical significance of each answer, referencing imaging features, pathophysiology, or typical clinical presentation.\n",
    "   - Avoid tangential or purely theoretical discussion; make sure each answer directly relates to the question and helps differentiate or confirm diagnoses.\n",
    "\n",
    "4. **Accuracy & Clarity**  \n",
    "   - Base your answers on standard radiological and clinical knowledge, ensuring that any assertions are consistent with typical findings and established practice.\n",
    "   - If you must make an assumption (e.g., missing data), state it explicitly and provide your best inference based on standard clinical reasoning.\n",
    "\n",
    "5. **Format**  \n",
    "   - Number your answers to match the questions.\n",
    "   - Keep them concise, but complete enough to stand as a definitive answer.\n",
    "\"\"\"\n",
    "\n",
    "answering_user = f\"\"\"\n",
    "Below are the two case descriptions (with the same details as before) and the set of questions to be answered.\n",
    "\n",
    "---\n",
    "Case A:\n",
    "{case1}\n",
    "\n",
    "Case B:\n",
    "{case2}\n",
    "\n",
    "Reason for Citation, Possible Similarities and Explanation:\n",
    "{citation_reason}\n",
    "\n",
    "Questions:\n",
    "{generated_questions}\n",
    "---\n",
    "\n",
    "Provide your answers now:\n",
    "\"\"\"\n"
   ]
  },
  {
   "cell_type": "code",
   "execution_count": 31,
   "metadata": {},
   "outputs": [
    {
     "name": "stdout",
     "output_type": "stream",
     "text": [
      "1. Yes.  \n",
      " • In case A, the lesion involves the choroid with peripapillary extension and macular involvement, as noted by the fundus photography and OCT findings.  \n",
      " • In case B, the choroidal osteoma is specifically seen at the macula on fundus examination and OCT.\n",
      "\n",
      "2. Yes.  \n",
      " • In case A, the patient was diagnosed with choroidal osteoma that later developed secondary choroidal neovascularization, confirmed by OCTA and other imaging modalities.  \n",
      " • In case B, the clinical and imaging findings (FFA, OCT, and B-scan USG) established the diagnosis of choroidal osteoma complicated by secondary CNV.\n",
      "\n",
      "3. Yes.  \n",
      " • In case A, B-scan ultrasonography revealed a dense echogenic (hyperechoic) plaque with acoustic shadowing, which is typical for choroidal osteoma.  \n",
      " • In case B, B-scan USG similarly demonstrated a hyperechoic choroidal lesion causing acoustic shadowing.\n",
      "\n",
      "4. Yes.  \n",
      " • In case A, intravitreal ranibizumab was administered following the detection of CNV, leading to improvement in OCT findings and BCVA.  \n",
      " • In case B, ranibizumab injections were used as the primary treatment for CNV with subsequent improvement in visual acuity and subretinal fluid regression.\n",
      "\n",
      "5. Yes.  \n",
      " • In case A, OCT imaging after ranibizumab therapy showed regression of the subretinal fluid associated with the CNV.  \n",
      " • In case B, OCT imaging similarly indicated resolution of subretinal fluid following anti-VEGF treatment.\n",
      "\n",
      "6. Yes.  \n",
      " • In case A, over the years the osteoma showed growth along its margins, with documented decalcification on the inferior margin and associated choroidal atrophy.  \n",
      " • In case B, there is no mention of lesion growth or decalcification; the description focuses on a well-defined, slightly raised lesion without these additional degenerative features.\n",
      "\n",
      "7. Yes.  \n",
      " • In case A, FFA showed an early hyperfluorescent choroidal filling pattern with late diffuse staining though CNV was not pronounced on FFA compared to OCTA findings.  \n",
      " • In case B, FFA revealed early hyperfluorescence that increased in later stages, typical of choroidal osteoma with CNV, reflecting a similar overall angiographic pattern despite minor differences in the visibility of CNV.\n",
      "\n",
      "8. No.  \n",
      " • In case A, the lesion is described as peripapillary and involving the macula, indicating a broader area including the optic disc margin.  \n",
      " • In case B, the lesion is predominantly located at the macula, with no involvement of the peripapillary region noted.\n",
      "\n",
      "9. Yes.  \n",
      " • In case A, OCT and OCTA provided more detailed insights including detection of subretinal neovascularization with choriocapillaris atrophy, layered analysis (outer retinal and choriocapillaris layers), and changes in CNV density and range over time.  \n",
      " • In case B, imaging details are based on spectral domain OCT that demonstrated subretinal fluid; however, no layered OCTA details or choriocapillaris atrophy were described.\n",
      "\n",
      "10. Yes.  \n",
      " • In case A, following three intravitreal ranibizumab injections, the patient’s BCVA improved from 5/20 to 18/20 with OCT showing regression of subretinal fluid, and long-term stability was noted over a 1-year follow-up.  \n",
      " • In case B, after a series of injections and additional treatment when needed, the patient’s visual acuity improved from 0.16 (and later 0.4 at a decline) to 0.8, with OCT confirming regression of subretinal fluid and stability over a 2-year period.\n"
     ]
    }
   ],
   "source": [
    "\n",
    "completion = client.chat.completions.create(\n",
    "    model=\"o3-mini\",\n",
    "    reasoning_effort = \"low\",\n",
    "    messages=[\n",
    "        {\n",
    "            \"role\": \"developer\",\n",
    "            \"content\": f\"{answering_prompt}\"\n",
    "        },\n",
    "        {\n",
    "            \"role\": \"user\",\n",
    "            \"content\": f\"{answering_user}\"\n",
    "        }\n",
    "    ],\n",
    ")\n",
    "\n",
    "answers = completion.choices[0].message.content.strip()\n",
    "\n",
    "print(answers)"
   ]
  },
  {
   "cell_type": "code",
   "execution_count": 20,
   "metadata": {},
   "outputs": [
    {
     "ename": "NameError",
     "evalue": "name 'question_generating_prompt' is not defined",
     "output_type": "error",
     "traceback": [
      "\u001b[0;31m---------------------------------------------------------------------------\u001b[0m",
      "\u001b[0;31mNameError\u001b[0m                                 Traceback (most recent call last)",
      "Cell \u001b[0;32mIn[20], line 29\u001b[0m\n\u001b[1;32m     26\u001b[0m     \u001b[38;5;28;01mreturn\u001b[39;00m \u001b[38;5;28mlen\u001b[39m(prompt_tokens), \u001b[38;5;28mlen\u001b[39m(response_tokens)\n\u001b[1;32m     28\u001b[0m \u001b[38;5;66;03m# prompt = messages[0]['content'] + \" \" + messages[1]['content']\u001b[39;00m\n\u001b[0;32m---> 29\u001b[0m prompt \u001b[38;5;241m=\u001b[39m \u001b[43mquestion_generating_prompt\u001b[49m \u001b[38;5;241m+\u001b[39m \u001b[38;5;124m\"\u001b[39m\u001b[38;5;124m \u001b[39m\u001b[38;5;124m\"\u001b[39m \u001b[38;5;241m+\u001b[39m question_generating_user\n\u001b[1;32m     30\u001b[0m \u001b[38;5;66;03m# response = response\u001b[39;00m\n\u001b[1;32m     31\u001b[0m model_name \u001b[38;5;241m=\u001b[39m \u001b[38;5;124m\"\u001b[39m\u001b[38;5;124mgpt-4o\u001b[39m\u001b[38;5;124m\"\u001b[39m\n",
      "\u001b[0;31mNameError\u001b[0m: name 'question_generating_prompt' is not defined"
     ]
    }
   ],
   "source": [
    "## Counts the number of tokens in prompts/responses, for a specified model's tokenizer ### \n",
    "\n",
    "import tiktoken\n",
    "\n",
    "def count_tokens(prompt_text: str, response_text: str, model_name: str) -> tuple:\n",
    "    \"\"\"\n",
    "    Counts the number of tokens in the prompt_text (input) and response_text (output)\n",
    "    using the specified model's tokenizer.\n",
    "    \n",
    "    Args:\n",
    "        prompt_text (str): The input/prompt text.\n",
    "        response_text (str): The output/response text.\n",
    "        model_name (str): Name of the model tokenizer to use, e.g. 'gpt-3.5-turbo', 'gpt-4', etc.\n",
    "    \n",
    "    Returns:\n",
    "        tuple: (prompt_token_count, response_token_count)\n",
    "    \"\"\"\n",
    "    # Get the tokenizer for the specified model\n",
    "    tokenizer = tiktoken.encoding_for_model(model_name)\n",
    "    \n",
    "    # Encode the input prompt and output response into tokens\n",
    "    prompt_tokens = tokenizer.encode(prompt_text)\n",
    "    response_tokens = tokenizer.encode(response_text)\n",
    "    \n",
    "    # Return the token counts\n",
    "    return len(prompt_tokens), len(response_tokens)\n",
    "\n",
    "# prompt = messages[0]['content'] + \" \" + messages[1]['content']\n",
    "prompt = question_generating_prompt + \" \" + question_generating_user\n",
    "# response = response\n",
    "model_name = \"gpt-4o\"\n",
    "prompt_count, response_count = count_tokens(prompt, \"\", model_name)\n",
    "print(f\"Prompt tokens: {prompt_count}\")\n",
    "print(f\"Response tokens: {response_count}\")\n"
   ]
  },
  {
   "cell_type": "code",
   "execution_count": 9,
   "metadata": {},
   "outputs": [],
   "source": [
    "### TogetherAI Llama and DeepSeek ###\n",
    "\n",
    "# # Llama 3.3-70B, including few-shot\n",
    "# llama_response = together_client.chat.completions.create(\n",
    "#     model=\"meta-llama/Llama-3.3-70B-Instruct-Turbo\",\n",
    "#     messages=[\n",
    "#         {\n",
    "#             \"role\": \"system\",\n",
    "#             \"content\": prompt_inc_few_shot_1\n",
    "#         },\n",
    "#         {\n",
    "#             \"role\": \"user\",\n",
    "#             \"content\": f\"Here is the information you have:\\n\\n {chosen_extraction}\"\n",
    "#         }\n",
    "#     ],\n",
    "#     max_tokens=1000,\n",
    "#     temperature=0.5,\n",
    "#     top_p=0.8,\n",
    "# )\n",
    "\n",
    "# # Extract and print the generated content\n",
    "# print(llama_response.choices[0].message.content)\n",
    "\n",
    "\n",
    "# # DeepSeek V3, including few-shot\n",
    "# deepseek_response = together_client.chat.completions.create(\n",
    "#     model=\"deepseek-ai/DeepSeek-V3\",\n",
    "#     messages=[\n",
    "#         {\n",
    "#             \"role\": \"system\",\n",
    "#             \"content\": f\"{prompt_inc_few_shot_1}\"\n",
    "#         },\n",
    "#         {\n",
    "#             \"role\": \"user\",\n",
    "#             \"content\": f\"Here is the information you have:\\n\\n {chosen_extraction}\"\n",
    "#         }\n",
    "#     ],\n",
    "#     max_tokens=1000,\n",
    "#     temperature=0.5,\n",
    "#     top_p=0.8,\n",
    "# )\n",
    "\n",
    "# # Extract and print the generated content\n",
    "# print(deepseek_response.choices[0].message.content)"
   ]
  },
  {
   "cell_type": "code",
   "execution_count": 11,
   "metadata": {},
   "outputs": [],
   "source": [
    "def view_nxml_content(file_path):\n",
    "    \"\"\"\n",
    "    Opens and prints the raw contents of the .nxml file.\n",
    "    \n",
    "    :param file_path: Path to the .nxml file.\n",
    "    \"\"\"\n",
    "    with open(file_path, 'r', encoding='utf-8') as file:\n",
    "        content = file.read()\n",
    "        print(content)\n"
   ]
  },
  {
   "cell_type": "code",
   "execution_count": 6,
   "metadata": {},
   "outputs": [
    {
     "data": {
      "text/plain": [
       "'/cs/labs/tomhope/yuvalbus/pmc/pythonProject/data2/PMC8167975/8167975_1/12886_2021_Article_2004.nxml'"
      ]
     },
     "execution_count": 6,
     "metadata": {},
     "output_type": "execute_result"
    }
   ],
   "source": [
    "import os\n",
    "\n",
    "def get_xml_path(pmc_id: str):\n",
    "    pmc_id = pmc_id[:-2]\n",
    "\n",
    "    path = f'/cs/labs/tomhope/yuvalbus/pmc/pythonProject/data2/PMC{pmc_id}/{pmc_id}_1'\n",
    "\n",
    "    for file_name in os.listdir(path):\n",
    "        if file_name.endswith('.nxml'):\n",
    "            return os.path.join(path, file_name)\n",
    "    return None\n",
    "\n",
    "get_xml_path('8167975-1')\n"
   ]
  },
  {
   "cell_type": "code",
   "execution_count": 12,
   "metadata": {},
   "outputs": [],
   "source": [
    "# matching_uids_xml_paths = [\n",
    "#     [get_xml_path(uid) for uid in pair]\n",
    "#     for pair in matching_uids\n",
    "# ]\n",
    "\n",
    "with open ('/cs/labs/tomhope/yuvalbus/pmc/pythonProject/largeListsGuy/matching_uids_xml_paths.json', 'r') as f:\n",
    "    matching_uids_xml_paths = json.load(f)\n"
   ]
  },
  {
   "cell_type": "code",
   "execution_count": null,
   "metadata": {},
   "outputs": [],
   "source": []
  },
  {
   "cell_type": "code",
   "execution_count": null,
   "metadata": {},
   "outputs": [],
   "source": [
    "#!/usr/bin/env python3\n",
    "\n",
    "import os\n",
    "import sys\n",
    "import json\n",
    "import re\n",
    "import string\n",
    "from lxml import etree\n",
    "\n",
    "##############################################################################\n",
    "# 1. parse_nxml: gather pmid, doi, pmcid, main title, abstract, references\n",
    "##############################################################################\n",
    "\n",
    "def parse_nxml(file_path):\n",
    "    \"\"\"\n",
    "    Parses a JATS .nxml file to gather:\n",
    "      - pmid, doi, pmcid\n",
    "      - the main article title, abstract\n",
    "      - references => { ref_id -> { \"doi\":..., \"pmid\":..., \"pmcid\":..., \"title\":... } }\n",
    "      - the parsed lxml 'tree'\n",
    "\n",
    "    If file not found or parse error => returns None.\n",
    "    \"\"\"\n",
    "    if not os.path.isfile(file_path):\n",
    "        print(f\"File not found: {file_path}\")\n",
    "        return None\n",
    "\n",
    "    parser = etree.XMLParser(recover=True)\n",
    "    try:\n",
    "        tree = etree.parse(file_path, parser)\n",
    "    except Exception as e:\n",
    "        print(f\"Error parsing {file_path}: {e}\")\n",
    "        return None\n",
    "\n",
    "    root = tree.getroot()\n",
    "\n",
    "    def _get_article_id(id_type):\n",
    "        elem = root.find(f'.//article-id[@pub-id-type=\"{id_type}\"]')\n",
    "        return elem.text.strip() if elem is not None and elem.text else None\n",
    "\n",
    "    paper_pmid  = _get_article_id(\"pmid\")\n",
    "    paper_doi   = _get_article_id(\"doi\")\n",
    "    paper_pmcid = _get_article_id(\"pmc\")\n",
    "\n",
    "    # Extract main article title\n",
    "    title_elems = root.xpath('//*[local-name()=\"title-group\"]//*[local-name()=\"article-title\"]')\n",
    "    if not title_elems:\n",
    "        title_elems = root.xpath('//*[local-name()=\"article-title\"]')\n",
    "    paper_title = \"\".join(title_elems[0].itertext()).strip() if title_elems else \"\"\n",
    "\n",
    "    # Extract abstract\n",
    "    abstract_elems = root.xpath('//*[local-name()=\"abstract\"]')\n",
    "    abs_texts = []\n",
    "    for abs_elem in abstract_elems:\n",
    "        txt = \" \".join(abs_elem.itertext()).strip()\n",
    "        if txt:\n",
    "            abs_texts.append(txt)\n",
    "    paper_abstract = \" \".join(abs_texts)\n",
    "\n",
    "    # Extract references => store pmid, doi, pmcid, plus a \"title\" from <article-title> or fallback\n",
    "    references = {}\n",
    "    ref_list = root.xpath('//*[local-name()=\"ref\"]')\n",
    "    for ref_node in ref_list:\n",
    "        r_id = ref_node.get('id')\n",
    "        if not r_id:\n",
    "            continue\n",
    "\n",
    "        # gather pub-ids\n",
    "        doi_elems   = ref_node.xpath('.//*[local-name()=\"pub-id\"][@pub-id-type=\"doi\"]')\n",
    "        pmid_elems  = ref_node.xpath('.//*[local-name()=\"pub-id\"][@pub-id-type=\"pmid\"]')\n",
    "        pmcid_elems = ref_node.xpath('.//*[local-name()=\"pub-id\"][@pub-id-type=\"pmc\"]')\n",
    "\n",
    "        cited_doi   = doi_elems[0].text.strip()   if doi_elems   and doi_elems[0].text else None\n",
    "        cited_pmid  = pmid_elems[0].text.strip()  if pmid_elems  and pmid_elems[0].text else None\n",
    "        cited_pmcid = pmcid_elems[0].text.strip() if pmcid_elems and pmcid_elems[0].text else None\n",
    "\n",
    "        # Attempt <article-title> in <element-citation>, else fallback <mixed-citation>, else <comment>\n",
    "        ec_title_elems = ref_node.xpath('.//*[local-name()=\"element-citation\"]/*[local-name()=\"article-title\"]')\n",
    "        if ec_title_elems:\n",
    "            ref_title = \" \".join(ec_title_elems[0].itertext()).strip()\n",
    "        else:\n",
    "            mixed_elems = ref_node.xpath('.//*[local-name()=\"mixed-citation\"]')\n",
    "            if mixed_elems:\n",
    "                ref_title = extract_title_from_mixed_citation(mixed_elems[0])\n",
    "            else:\n",
    "                # final fallback => <comment>\n",
    "                comment_elems = ref_node.xpath('.//*[local-name()=\"element-citation\"]/*[local-name()=\"comment\"]')\n",
    "                if comment_elems:\n",
    "                    ref_title = \" \".join(comment_elems[0].itertext()).strip()\n",
    "                else:\n",
    "                    ref_title = \"\"\n",
    "\n",
    "        references[r_id] = {\n",
    "            \"doi\":   cited_doi,\n",
    "            \"pmid\":  cited_pmid,\n",
    "            \"pmcid\": cited_pmcid,\n",
    "            \"title\": ref_title\n",
    "        }\n",
    "\n",
    "    return {\n",
    "        \"pmid\": paper_pmid,\n",
    "        \"doi\": paper_doi,\n",
    "        \"pmcid\": paper_pmcid,\n",
    "        \"title\": paper_title,\n",
    "        \"abstract\": paper_abstract,\n",
    "        \"references\": references,\n",
    "        \"tree\": tree\n",
    "    }\n",
    "\n",
    "##############################################################################\n",
    "# 2. Minimally parse <mixed-citation> to skip authors/year/vol tags\n",
    "##############################################################################\n",
    "\n",
    "def extract_title_from_mixed_citation(mixed_elem):\n",
    "    sub_article_titles = mixed_elem.xpath('.//*[local-name()=\"article-title\"]')\n",
    "    if sub_article_titles:\n",
    "        return \" \".join(sub_article_titles[0].itertext()).strip()\n",
    "\n",
    "    unwanted_tags = {\n",
    "        \"string-name\", \"person-group\", \"year\", \"volume\",\n",
    "        \"issue\", \"fpage\", \"lpage\", \"pub-id\", \"edition\",\n",
    "        \"conf-date\", \"name\", \"isbn\", \"editor\",\n",
    "    }\n",
    "\n",
    "    def itertext_desired(root):\n",
    "        from lxml import etree\n",
    "        for node in root.iter():\n",
    "            if not isinstance(node, etree._Element):\n",
    "                continue\n",
    "            if not node.tag or not isinstance(node.tag, str):\n",
    "                continue\n",
    "\n",
    "            local = etree.QName(node).localname\n",
    "            if local in unwanted_tags:\n",
    "                continue\n",
    "\n",
    "            if node.text:\n",
    "                yield node.text\n",
    "            if node.tail:\n",
    "                yield node.tail\n",
    "\n",
    "    parts = list(itertext_desired(mixed_elem))\n",
    "    text = \" \".join(p.strip() for p in parts if p.strip())\n",
    "    return text\n",
    "\n",
    "##############################################################################\n",
    "# 3. get_all_citation_paragraphs: gather ALL paragraphs referencing ref_id\n",
    "##############################################################################\n",
    "\n",
    "def get_all_citation_paragraphs(tree, ref_id):\n",
    "    xrefs = tree.xpath(\".//xref[(@ref-type='bibr' or @ref-type='ref')]\")\n",
    "    matched_paras = []\n",
    "    for x in xrefs:\n",
    "        rid_attr = x.get(\"rid\", \"\")\n",
    "        rid_parts = rid_attr.split()\n",
    "        if ref_id in rid_parts:\n",
    "            elem = x\n",
    "            while elem is not None and elem.tag != 'p':\n",
    "                elem = elem.getparent()\n",
    "            if elem is not None:\n",
    "                paragraph_text = \" \".join(elem.itertext()).strip()\n",
    "                matched_paras.append(paragraph_text)\n",
    "    return matched_paras\n",
    "\n",
    "##############################################################################\n",
    "# 4. Fix minor apostrophe spacing\n",
    "##############################################################################\n",
    "\n",
    "def fix_apostrophe_spacing(txt):\n",
    "    \"\"\"\n",
    "    Insert a space if we see something like \"in'burned\" => \"in ' burned\".\n",
    "    This is limited so we don't handle bigger 'typos', but it catches the\n",
    "    missing space around quotes or apostrophes next to letters.\n",
    "    \"\"\"\n",
    "    txt = re.sub(r\"([A-Za-z0-9])'([A-Za-z0-9])\", r\"\\1 ' \\2\", txt)\n",
    "    return txt\n",
    "\n",
    "##############################################################################\n",
    "# 5. Title Normalization\n",
    "##############################################################################\n",
    "\n",
    "def normalize_title_strict(txt):\n",
    "    # fix missing space around apostrophes\n",
    "    txt = fix_apostrophe_spacing(txt)\n",
    "    txt = txt.lower()\n",
    "    # hyphens => space\n",
    "    txt = re.sub(r'[-]+', ' ', txt)\n",
    "    # remove punctuation except spaces\n",
    "    txt = re.sub(r'[^a-z0-9\\s]+', '', txt)\n",
    "    # collapse multiple spaces\n",
    "    txt = re.sub(r'\\s+', ' ', txt)\n",
    "    return txt.strip()\n",
    "\n",
    "##############################################################################\n",
    "# 6. Substring-based fallback matching approach\n",
    "##############################################################################\n",
    "\n",
    "def titles_match_substring(citing_title, cited_title):\n",
    "    \"\"\"\n",
    "    Instead of exact equality, we check if cited_title is a substring\n",
    "    of citing_title after normalizing punctuation/whitespace/hyphens.\n",
    "\n",
    "    This helps when citing_title has extra text (authors, journal, year),\n",
    "    but the actual 'paper title' is inside it.\n",
    "    \"\"\"\n",
    "    norm_citing = normalize_title_strict(citing_title)\n",
    "    norm_cited  = normalize_title_strict(cited_title)\n",
    "    # Return True if norm_cited is contained in norm_citing\n",
    "    return norm_cited in norm_citing\n",
    "\n",
    "##############################################################################\n",
    "# 7. Main process_pairs\n",
    "##############################################################################\n",
    "\n",
    "def process_pairs(matching_uids_xml_paths, matching_uids_pmid_list):\n",
    "    \"\"\"\n",
    "    For each pair (xmlA, xmlB),(pmidA, pmidB):\n",
    "      parse docA => dataA, docB => dataB\n",
    "      check if A references B by:\n",
    "        A) B's doi => revA_doi\n",
    "        B) B's pmid => revA_pmid\n",
    "        C) B's pmcid => revA_pmcid\n",
    "        D) fallback => substring match\n",
    "      if found => store paragraphs in \"citation_paragraphs\"\n",
    "      else check B => A similarly\n",
    "\n",
    "    We now also return indices_list, which tracks the i-th pair index\n",
    "    for each found citation.\n",
    "    \"\"\"\n",
    "    results = []\n",
    "    indices_list = []\n",
    "\n",
    "    for i, ((xmlA, xmlB), (pmidA, pmidB)) in enumerate(zip(matching_uids_xml_paths, matching_uids_pmid_list)):\n",
    "        dataA = parse_nxml(xmlA)\n",
    "        dataB = parse_nxml(xmlB)\n",
    "        if not dataA or not dataB:\n",
    "            continue\n",
    "\n",
    "        # Quick check that dataA['pmid'] is among (pmidA, pmidB)\n",
    "        if dataA['pmid'] and dataA['pmid'] not in (pmidA, pmidB):\n",
    "            continue\n",
    "        # Same for dataB\n",
    "        if dataB['pmid'] and dataB['pmid'] not in (pmidA, pmidB):\n",
    "            continue\n",
    "\n",
    "        # Build references map for doc A\n",
    "        citing_found = False\n",
    "        revA_doi   = {}\n",
    "        revA_pmid  = {}\n",
    "        revA_pmcid = {}\n",
    "\n",
    "        for r_id, r_info in dataA[\"references\"].items():\n",
    "            if r_info[\"doi\"]:\n",
    "                revA_doi[r_info[\"doi\"]] = r_id\n",
    "            if r_info[\"pmid\"]:\n",
    "                revA_pmid[r_info[\"pmid\"]] = r_id\n",
    "            if r_info[\"pmcid\"]:\n",
    "                revA_pmcid[r_info[\"pmcid\"]] = r_id\n",
    "\n",
    "        # A => B\n",
    "        if dataB[\"doi\"] and dataB[\"doi\"] in revA_doi:\n",
    "            rid = revA_doi[dataB[\"doi\"]]\n",
    "            paragraphs = get_all_citation_paragraphs(dataA[\"tree\"], rid)\n",
    "            results.append({\n",
    "                \"citing_title\": dataA[\"title\"],\n",
    "                \"citing_abstract\": dataA[\"abstract\"],\n",
    "                \"citation_paragraphs\": paragraphs,\n",
    "                \"cited_title\": dataB[\"title\"],\n",
    "                \"cited_abstract\": dataB[\"abstract\"]\n",
    "            })\n",
    "            indices_list.append(i)\n",
    "            citing_found = True\n",
    "        elif dataB[\"pmid\"] and dataB[\"pmid\"] in revA_pmid:\n",
    "            rid = revA_pmid[dataB[\"pmid\"]]\n",
    "            paragraphs = get_all_citation_paragraphs(dataA[\"tree\"], rid)\n",
    "            results.append({\n",
    "                \"citing_title\": dataA[\"title\"],\n",
    "                \"citing_abstract\": dataA[\"abstract\"],\n",
    "                \"citation_paragraphs\": paragraphs,\n",
    "                \"cited_title\": dataB[\"title\"],\n",
    "                \"cited_abstract\": dataB[\"abstract\"]\n",
    "            })\n",
    "            indices_list.append(i)\n",
    "            citing_found = True\n",
    "        elif dataB[\"pmcid\"] and dataB[\"pmcid\"] in revA_pmcid:\n",
    "            rid = revA_pmcid[dataB[\"pmcid\"]]\n",
    "            paragraphs = get_all_citation_paragraphs(dataA[\"tree\"], rid)\n",
    "            results.append({\n",
    "                \"citing_title\": dataA[\"title\"],\n",
    "                \"citing_abstract\": dataA[\"abstract\"],\n",
    "                \"citation_paragraphs\": paragraphs,\n",
    "                \"cited_title\": dataB[\"title\"],\n",
    "                \"cited_abstract\": dataB[\"abstract\"]\n",
    "            })\n",
    "            indices_list.append(i)\n",
    "            citing_found = True\n",
    "        else:\n",
    "            # fallback => substring matching for B's title\n",
    "            b_title = dataB[\"title\"].strip()\n",
    "            if b_title:\n",
    "                for (r_id, r_info) in dataA[\"references\"].items():\n",
    "                    # skip if r_info has the same pmid/doi/pmcid\n",
    "                    if (r_info[\"pmid\"]  == dataB[\"pmid\"] or\n",
    "                        r_info[\"doi\"]   == dataB[\"doi\"]  or\n",
    "                        r_info[\"pmcid\"] == dataB[\"pmcid\"]):\n",
    "                        continue\n",
    "                    if titles_match_substring(r_info[\"title\"], b_title):\n",
    "                        paragraphs = get_all_citation_paragraphs(dataA[\"tree\"], r_id)\n",
    "                        results.append({\n",
    "                            \"citing_title\": dataA[\"title\"],\n",
    "                            \"citing_abstract\": dataA[\"abstract\"],\n",
    "                            \"citation_paragraphs\": paragraphs,\n",
    "                            \"cited_title\": dataB[\"title\"],\n",
    "                            \"cited_abstract\": dataB[\"abstract\"]\n",
    "                        })\n",
    "                        indices_list.append(i)\n",
    "                        citing_found = True\n",
    "                        break\n",
    "\n",
    "        # If not found, check B => A the same way\n",
    "        if not citing_found:\n",
    "            revB_doi   = {}\n",
    "            revB_pmid  = {}\n",
    "            revB_pmcid = {}\n",
    "\n",
    "            for r_id, r_info in dataB[\"references\"].items():\n",
    "                if r_info[\"doi\"]:\n",
    "                    revB_doi[r_info[\"doi\"]] = r_id\n",
    "                if r_info[\"pmid\"]:\n",
    "                    revB_pmid[r_info[\"pmid\"]] = r_id\n",
    "                if r_info[\"pmcid\"]:\n",
    "                    revB_pmcid[r_info[\"pmcid\"]] = r_id\n",
    "\n",
    "            if dataA[\"doi\"] and dataA[\"doi\"] in revB_doi:\n",
    "                rid = revB_doi[dataA[\"doi\"]]\n",
    "                paragraphs = get_all_citation_paragraphs(dataB[\"tree\"], rid)\n",
    "                results.append({\n",
    "                    \"citing_title\": dataB[\"title\"],\n",
    "                    \"citing_abstract\": dataB[\"abstract\"],\n",
    "                    \"citation_paragraphs\": paragraphs,\n",
    "                    \"cited_title\": dataA[\"title\"],\n",
    "                    \"cited_abstract\": dataA[\"abstract\"]\n",
    "                })\n",
    "                indices_list.append(i)\n",
    "            elif dataA[\"pmid\"] and dataA[\"pmid\"] in revB_pmid:\n",
    "                rid = revB_pmid[dataA[\"pmid\"]]\n",
    "                paragraphs = get_all_citation_paragraphs(dataB[\"tree\"], rid)\n",
    "                results.append({\n",
    "                    \"citing_title\": dataB[\"title\"],\n",
    "                    \"citing_abstract\": dataB[\"abstract\"],\n",
    "                    \"citation_paragraphs\": paragraphs,\n",
    "                    \"cited_title\": dataA[\"title\"],\n",
    "                    \"cited_abstract\": dataA[\"abstract\"]\n",
    "                })\n",
    "                indices_list.append(i)\n",
    "            elif dataA[\"pmcid\"] and dataA[\"pmcid\"] in revB_pmcid:\n",
    "                rid = revB_pmcid[dataA[\"pmcid\"]]\n",
    "                paragraphs = get_all_citation_paragraphs(dataB[\"tree\"], rid)\n",
    "                results.append({\n",
    "                    \"citing_title\": dataB[\"title\"],\n",
    "                    \"citing_abstract\": dataB[\"abstract\"],\n",
    "                    \"citation_paragraphs\": paragraphs,\n",
    "                    \"cited_title\": dataA[\"title\"],\n",
    "                    \"cited_abstract\": dataA[\"abstract\"]\n",
    "                })\n",
    "                indices_list.append(i)\n",
    "            else:\n",
    "                # fallback => substring matching for A's title\n",
    "                a_title = dataA[\"title\"].strip()\n",
    "                if a_title:\n",
    "                    for (r_id, r_info) in dataB[\"references\"].items():\n",
    "                        if (r_info[\"pmid\"]  == dataA[\"pmid\"] or\n",
    "                            r_info[\"doi\"]   == dataA[\"doi\"]  or\n",
    "                            r_info[\"pmcid\"] == dataA[\"pmcid\"]):\n",
    "                            continue\n",
    "                        if titles_match_substring(r_info[\"title\"], a_title):\n",
    "                            paragraphs = get_all_citation_paragraphs(dataB[\"tree\"], r_id)\n",
    "                            results.append({\n",
    "                                \"citing_title\": dataB[\"title\"],\n",
    "                                \"citing_abstract\": dataB[\"abstract\"],\n",
    "                                \"citation_paragraphs\": paragraphs,\n",
    "                                \"cited_title\": dataA[\"title\"],\n",
    "                                \"cited_abstract\": dataA[\"abstract\"]\n",
    "                            })\n",
    "                            indices_list.append(i)\n",
    "                            break\n",
    "\n",
    "    return results, indices_list\n",
    "\n",
    "\n",
    "citation_list, citation_valid_indices = process_pairs(matching_uids_xml_paths, matching_uids_pmid_list)\n"
   ]
  },
  {
   "cell_type": "code",
   "execution_count": 27,
   "metadata": {},
   "outputs": [
    {
     "data": {
      "text/plain": [
       "31080"
      ]
     },
     "execution_count": 27,
     "metadata": {},
     "output_type": "execute_result"
    }
   ],
   "source": [
    "len(citation_list)"
   ]
  },
  {
   "cell_type": "code",
   "execution_count": null,
   "metadata": {},
   "outputs": [
    {
     "name": "stdout",
     "output_type": "stream",
     "text": [
      "Length of citation list: 31080\n",
      "Length of indices list: 31080\n",
      "Length of matching uids pairs: 31692\n",
      "Difference is: 612\n"
     ]
    }
   ],
   "source": [
    "print(f\"Length of citation list: {len(citation_list)}\")\n",
    "print(f\"Length of indices list: {len(citation_valid_indices)}\")\n",
    "print(f\"Length of matching uids pairs: {len(matching_uids_xml_paths)}\")\n",
    "print(f\"Difference is: {len(matching_uids_xml_paths) - len(citation_list)}\")"
   ]
  },
  {
   "cell_type": "code",
   "execution_count": 60,
   "metadata": {},
   "outputs": [
    {
     "data": {
      "text/plain": [
       "{'citing_title': 'Agenesis of permanent canines: Rare case report',\n",
       " 'citing_abstract': 'Agenesis of permanent canines is a rare condition, and that of both maxillary and mandibular permanent canines is extremely rare. It may occur either isolated or in association with other dental anomalies. Reports of such cases are very scarce in the literature. Need for early diagnosis of such conditions should be emphasized because of functional, esthetic, and psychological problems which should be evaluated and treated appropriately. The present paper presents a report of bilaterally missing permanent maxillary and mandibular canines. This case might contribute in the future studies of incidence of agenesis of permanent canines.',\n",
       " 'citation_paragraphs': [],\n",
       " 'cited_title': 'Permanent Maxillary Canine Agenesis: A Rare Case Report',\n",
       " 'cited_abstract': 'ABSTRACT Congenitally missing teeth (CMT) are among one of the commonly known dental anomalies. The most frequently missing teeth in the permanent dentition, excluding the third molars, are mandibular second premolars and maxillary lateral incisors. Exclusive agenesis of both maxillary canines is an extremely rare occurrence and only a few cases have been reported. Previous studies showed that the prevalence of maxillary canine agenesis varies between 0.07 and 0.13%. In recent studies on Indian population, no cases of maxillary canine agenesis have been documented. This paper reports a case of non-syndromic bilateral agenesis of permanent maxillary canines, along with agenesis of both mandibular central incisors in a healthy 13-year-old Indian female patient; and a brief literature review on prevalence, etiology and treatment modalities of the condition. How to cite this article:  Kambalimath HV, Jain S, Patil RU, Asokan A, Kambalimath D. Permanent Maxillary Canine Agenesis: A Rare Case Report. Int J Clin Pediatr Dent 2015; 8(3):242-246.'}"
      ]
     },
     "execution_count": 60,
     "metadata": {},
     "output_type": "execute_result"
    }
   ],
   "source": [
    "citation_list[1]"
   ]
  },
  {
   "cell_type": "code",
   "execution_count": null,
   "metadata": {},
   "outputs": [],
   "source": [
    "def find_empty_citation_indices (citing_cited_articles_list):\n",
    "    empty_citation_indices = []\n",
    "    for idx, single_citing_cited_dict in enumerate(citing_cited_articles_list):\n",
    "        if single_citing_cited_dict['citation_paragraphs'] == []:\n",
    "            empty_citation_indices.append(idx)\n",
    "    return empty_citation_indices"
   ]
  },
  {
   "cell_type": "code",
   "execution_count": 25,
   "metadata": {},
   "outputs": [
    {
     "data": {
      "text/plain": [
       "{'citing_title': 'Secondary choroidal neovascularization due to choroidal osteoma after 9\\u2009years follow-up',\n",
       " 'citing_abstract': 'Background Choroidal osteoma is a benign intraocular tumor that can increase risk of developing choroidal neovascularization. The visual prognosis is influenced by the tumor location, decalcification status, overlying RPE atrophy, presence of choroidal neovascularization, persistence of subretinal fluid and occurrence of subretinal hemorrhages. Case presentation The authors present a 40-year-old woman diagnosed with choroidal osteoma of the right eye. Her best corrected visual acuity was 12/20 but decreased to 5/20 due to secondary choroidal neovascularization after 8\\u2009years follow up. Fundus examination revealed an enlarged choroidal osteoma in most margins at posterior pole with schistose hemorrhage beside macula. Optical coherence tomography angiography revealed unique features in the vascular changes of choroidal neovascularization in choroidal osteoma in the outer retinal layer and choroid capillary layers, and subretinal neovascularization. Indocyanine green fluorescence angiography showed there was hypo-fluorescence at the peripapillary with faint hyper-fluorescence at the macular, corresponding to the location on the fundus photograph. The patient received 3 injections of intravitreal ranibizumab. After 1\\u2009year follow up, her visual acuity of the right eye was 18/20 and the CNV had regressed. Conclusions We present the findings and treatment of a case of choroidal osteoma with secondary choroidal neovascularization. Optical coherence tomography angiography combined with FFA and ICGA is used to analysis the characteristics of secondary choroidal neovascularization. Optical coherence tomography angiography can reveal some unique characteristics in the vascular changes compared to fundus fluorescein angiography.',\n",
       " 'citation_paragraphs': ['There is no standard of treatment for choroidal osteomas in addition to observing, but therapies are directed for complications arising from CNV and subretinal fluid. There are some reports describe the clinical and diagnostic features of this tumor, some of them treat related CNV with photodynamic therapy or/and anti-vascular endothelial growth factor (anti-VEGF) [ 9 ,  10 ]. Some studies showed PDT had achieved success not only in the management of CNV secondary to choroidal osteoma but also preventing tumor growth toward the foveola [ 10 ,  11 ]. However, reperfusion following photodynamic therapy might lead to CNV formation and tumor decalcification [ 11 ,  12 ]. Furthermore, PDT may require more than once treatment and final visual acuity may decline [ 13 ]. In addition, thermal laser photocoagulation and transpupillary thermotherapy may have certain efficacy in cases of CNV secondary to choroidal osteoma while increasing retinal damage [ 5 ,  14 ,  15 ].',\n",
       "  'Another method of controlling CNV growth is intravitreal anti-VEGF. Our case was treated by anti-VEGF and stable for now, in spite of keeping indispensable monitoring. It is reported bevacizumab and ranibizumab have positive outcomes in both anatomy and visual acuity [ 9 ,  16 ]. The rapid regression of CNV secondary to CO may attributed to enhanced passage of the ranibizumab through the thinned and degenerated RPE and Bruch’s membrane to the subretinal area, thus increasing the drug’s efficacy [ 16 ].'],\n",
       " 'cited_title': 'Choroidal Osteoma and Secondary Choroidal Neovascularization Treated with Ranibizumab',\n",
       " 'cited_abstract': 'A 47-year-old female patient presented with a complaint of decreased vision in the right eye. Her visual acuity was 0.16 in the right eye and 1.0 in the left eye. Fundus examination revealed a slightly elevated, yellowish-white lesion with regular borders at the macula of the right eye. Early and late hyperfluorescence related with choroidal neovascularization (CNV) was detected in the right eye on fundus fluorescein angiography. B-scan ultrasonography revealed a hyperechoic choroidal lesion with acoustic shadowing. The lesion was diagnosed as choroidal osteoma. The patient received 3 injections of intravitreal ranibizumab. After 4 months, the visual acuity of the right eye was 0.9 and the CNV had regressed. Follow-up at about 7 months revealed reduced visual acuity in the right eye with an increase in subretinal fluid. An additional ranibizumab injection was administered. In this case report, we discuss the findings and treatment of a rare case of choroidal osteoma with secondary CNV.'}"
      ]
     },
     "execution_count": 25,
     "metadata": {},
     "output_type": "execute_result"
    }
   ],
   "source": [
    "citation_list[0]"
   ]
  },
  {
   "cell_type": "code",
   "execution_count": 64,
   "metadata": {},
   "outputs": [],
   "source": [
    "sublist_empty_citation_indices = find_empty_citation_indices(citation_list)"
   ]
  },
  {
   "cell_type": "code",
   "execution_count": 65,
   "metadata": {},
   "outputs": [
    {
     "data": {
      "text/plain": [
       "3407"
      ]
     },
     "execution_count": 65,
     "metadata": {},
     "output_type": "execute_result"
    }
   ],
   "source": [
    "len(sublist_empty_citation_indices)"
   ]
  },
  {
   "cell_type": "code",
   "execution_count": 23,
   "metadata": {},
   "outputs": [],
   "source": [
    "# with open('/cs/labs/tomhope/yuvalbus/pmc/pythonProject/largeListsGuy/citation_extrac_list.json', 'w') as f:\n",
    "#     json.dump(citation_list, f)"
   ]
  },
  {
   "cell_type": "code",
   "execution_count": null,
   "metadata": {},
   "outputs": [],
   "source": []
  },
  {
   "cell_type": "code",
   "execution_count": null,
   "metadata": {},
   "outputs": [],
   "source": []
  },
  {
   "cell_type": "code",
   "execution_count": null,
   "metadata": {},
   "outputs": [],
   "source": []
  },
  {
   "cell_type": "code",
   "execution_count": null,
   "metadata": {},
   "outputs": [],
   "source": [
    "with open(\"/cs/labs/tomhope/yuvalbus/pmc/pythonProject/largeListsGuy/batch_requests.jsonl\", \"w\", encoding=\"utf-8\") as f:\n",
    "    for i, record in enumerate(citation_list, start=1):\n",
    "        user_content = (\n",
    "            f\"Citing Title: {record.get('citing_title', '')}\\n\"\n",
    "            f\"Citing Abstract: {record.get('citing_abstract', '')}\\n\"\n",
    "            f\"Citation Paragraph: {record.get('citation_paragraph', '')}\\n\"\n",
    "            f\"Cited Title: {record.get('cited_title', '')}\\n\"\n",
    "            f\"Cited Abstract: {record.get('cited_abstract', '')}\"\n",
    "        )\n",
    "\n",
    "        request_obj = {\n",
    "            \"custom_id\": f\"request-{i}\",\n",
    "            \"method\": \"POST\",\n",
    "            \"url\": \"/v1/chat/completions\",\n",
    "            \"body\": {\n",
    "                \"model\": \"o3-mini\",\n",
    "                \"reasoning_effort\": \"medium\",\n",
    "                \"messages\": [\n",
    "                    {\"role\": \"developer\", \"content\": \n",
    "                        \"\"\"You are a medical citation analysis assistant. You will read excerpts from a 'citing paper' referencing another 'cited paper,' each describing a single-patient case report. Your task is to produce four pieces of information:\n",
    "\n",
    "                        1. Reason for Citation (a short phrase or sentence about why the authors mention the cited paper).\n",
    "                        2. Possible Similarities (a brief mention of how these patients’ cases align, if at all).\n",
    "                        3. Explanation (one to two sentences summarizing how the citation is used).\n",
    "                        4. Confidence (High, Medium, or Low), based on the degree of similarity between the single-patient cases:\n",
    "                        - High: The text explicitly states that the two patients share significant clinical or therapeutic similarities.\n",
    "                        - Medium: Some parallels are hinted at but lack explicit detail or direct confirmation.\n",
    "                        - Low: The citation is vague or does not clearly connect the patients’ key features.\n",
    "\n",
    "                        ----\n",
    "                        Follow this exact output format:\n",
    "                        Reason for Citation: <short phrase or sentence>\n",
    "                        Possible Similarities: <brief mention>\n",
    "                        Explanation: <one to two sentences>\n",
    "                        Confidence: <High/Medium/Low>\n",
    "\n",
    "                        ----\n",
    "                        Read the following excerpt(s) and generate your final answer in the required format. Unify your response if multiple citations are present. If no citations are specified, base your response on the articles' titles and abstracts.\n",
    "                        \"\"\"\n",
    "                    },\n",
    "\n",
    "                    {\"role\": \"user\", \"content\": user_content}\n",
    "                ]\n",
    "            }\n",
    "        }\n",
    "        # Write each object on a new line in the JSONL file\n",
    "        f.write(json.dumps(request_obj, ensure_ascii=False) + \"\\n\")"
   ]
  },
  {
   "cell_type": "code",
   "execution_count": 3,
   "metadata": {},
   "outputs": [],
   "source": [
    "import json\n",
    "with open(\"/cs/labs/tomhope/yuvalbus/pmc/pythonProject/largeListsGuy/batch_requests.jsonl\", 'r') as g:\n",
    "    requests_list = [json.loads(line) for line in g]"
   ]
  },
  {
   "cell_type": "code",
   "execution_count": 4,
   "metadata": {},
   "outputs": [
    {
     "data": {
      "text/plain": [
       "31080"
      ]
     },
     "execution_count": 4,
     "metadata": {},
     "output_type": "execute_result"
    }
   ],
   "source": [
    "len(requests_list)"
   ]
  },
  {
   "cell_type": "code",
   "execution_count": 5,
   "metadata": {},
   "outputs": [
    {
     "data": {
      "text/plain": [
       "{'custom_id': 'request-2',\n",
       " 'method': 'POST',\n",
       " 'url': '/v1/chat/completions',\n",
       " 'body': {'model': 'o3-mini',\n",
       "  'reasoning_effort': 'medium',\n",
       "  'messages': [{'role': 'developer',\n",
       "    'content': \"You are a medical citation analysis assistant. You will read excerpts from a 'citing paper' referencing another 'cited paper,' each describing a single-patient case report. Your task is to produce four pieces of information:\\n\\n                        1. Reason for Citation (a short phrase or sentence about why the authors mention the cited paper).\\n                        2. Possible Similarities (a brief mention of how these patients’ cases align, if at all).\\n                        3. Explanation (one to two sentences summarizing how the citation is used).\\n                        4. Confidence (High, Medium, or Low), based on the degree of similarity between the single-patient cases:\\n                        - High: The text explicitly states that the two patients share significant clinical or therapeutic similarities.\\n                        - Medium: Some parallels are hinted at but lack explicit detail or direct confirmation.\\n                        - Low: The citation is vague or does not clearly connect the patients’ key features.\\n\\n                        ----\\n                        Follow this exact output format:\\n                        Reason for Citation: <short phrase or sentence>\\n                        Possible Similarities: <brief mention>\\n                        Explanation: <one to two sentences>\\n                        Confidence: <High/Medium/Low>\\n\\n                        ----\\n                        Read the following excerpt(s) and generate your final answer in the required format. Unify your response if multiple citations are present. If no citations are specified, base your response on the articles' titles and abstracts.\\n                        \"},\n",
       "   {'role': 'user',\n",
       "    'content': 'Citing Title: Agenesis of permanent canines: Rare case report\\nCiting Abstract: Agenesis of permanent canines is a rare condition, and that of both maxillary and mandibular permanent canines is extremely rare. It may occur either isolated or in association with other dental anomalies. Reports of such cases are very scarce in the literature. Need for early diagnosis of such conditions should be emphasized because of functional, esthetic, and psychological problems which should be evaluated and treated appropriately. The present paper presents a report of bilaterally missing permanent maxillary and mandibular canines. This case might contribute in the future studies of incidence of agenesis of permanent canines.\\nCitation Paragraph: \\nCited Title: Permanent Maxillary Canine Agenesis: A Rare Case Report\\nCited Abstract: ABSTRACT Congenitally missing teeth (CMT) are among one of the commonly known dental anomalies. The most frequently missing teeth in the permanent dentition, excluding the third molars, are mandibular second premolars and maxillary lateral incisors. Exclusive agenesis of both maxillary canines is an extremely rare occurrence and only a few cases have been reported. Previous studies showed that the prevalence of maxillary canine agenesis varies between 0.07 and 0.13%. In recent studies on Indian population, no cases of maxillary canine agenesis have been documented. This paper reports a case of non-syndromic bilateral agenesis of permanent maxillary canines, along with agenesis of both mandibular central incisors in a healthy 13-year-old Indian female patient; and a brief literature review on prevalence, etiology and treatment modalities of the condition. How to cite this article:  Kambalimath HV, Jain S, Patil RU, Asokan A, Kambalimath D. Permanent Maxillary Canine Agenesis: A Rare Case Report. Int J Clin Pediatr Dent 2015; 8(3):242-246.'}]}}"
      ]
     },
     "execution_count": 5,
     "metadata": {},
     "output_type": "execute_result"
    }
   ],
   "source": [
    "requests_list[1]"
   ]
  },
  {
   "cell_type": "code",
   "execution_count": 83,
   "metadata": {},
   "outputs": [],
   "source": [
    "batch_input_file = client.files.create(\n",
    "  file=open(\"/cs/labs/tomhope/yuvalbus/pmc/pythonProject/largeListsGuy/batch_requests.jsonl\", \"rb\"),\n",
    "  purpose=\"batch\"\n",
    ")\n"
   ]
  },
  {
   "cell_type": "code",
   "execution_count": 148,
   "metadata": {},
   "outputs": [
    {
     "data": {
      "text/plain": [
       "Batch(id='batch_67b5f72395288190a09e7339a6dc553d', completion_window='24h', created_at=1739978531, endpoint='/v1/chat/completions', input_file_id='file-XY3rfTSNC7nLkbYGZdgfat', object='batch', status='validating', cancelled_at=None, cancelling_at=None, completed_at=None, error_file_id=None, errors=None, expired_at=None, expires_at=1740064931, failed_at=None, finalizing_at=None, in_progress_at=None, metadata={'description': '0-3066'}, output_file_id=None, request_counts=BatchRequestCounts(completed=0, failed=0, total=0))"
      ]
     },
     "execution_count": 148,
     "metadata": {},
     "output_type": "execute_result"
    }
   ],
   "source": [
    "batch_input_file_id = batch_input_file.id\n",
    "\n",
    "client.batches.create(\n",
    "    input_file_id=batch_input_file_id,\n",
    "    endpoint=\"/v1/chat/completions\",\n",
    "    completion_window=\"24h\",\n",
    "    metadata={\n",
    "      \"description\": \"Citation Reason Extraction\"\n",
    "    }\n",
    ")\n"
   ]
  },
  {
   "cell_type": "code",
   "execution_count": 9,
   "metadata": {},
   "outputs": [
    {
     "data": {
      "text/plain": [
       "Batch(id='batch_67b5f72395288190a09e7339a6dc553d', completion_window='24h', created_at=1739978531, endpoint='/v1/chat/completions', input_file_id='file-XY3rfTSNC7nLkbYGZdgfat', object='batch', status='completed', cancelled_at=None, cancelling_at=None, completed_at=1739979745, error_file_id=None, errors=None, expired_at=None, expires_at=1740064931, failed_at=None, finalizing_at=1739979488, in_progress_at=1739978533, metadata={'description': '0-3066'}, output_file_id='file-9DD8CrVXTGvDys3Lbx76yW', request_counts=BatchRequestCounts(completed=3067, failed=0, total=3067))"
      ]
     },
     "execution_count": 9,
     "metadata": {},
     "output_type": "execute_result"
    }
   ],
   "source": [
    "client.batches.retrieve(\"batch_67b5f72395288190a09e7339a6dc553d\")"
   ]
  },
  {
   "cell_type": "code",
   "execution_count": null,
   "metadata": {},
   "outputs": [
    {
     "data": {
      "text/plain": [
       "SyncCursorPage[Batch](data=[Batch(id='batch_67cd5b6b42c881909c6f9730ce12b6e9', completion_window='24h', created_at=1741511531, endpoint='/v1/chat/completions', input_file_id='file-MehQVvLEtyWMwtJu83Q1eW', object='batch', status='completed', cancelled_at=None, cancelling_at=None, completed_at=1741512490, error_file_id=None, errors=None, expired_at=None, expires_at=1741597931, failed_at=None, finalizing_at=1741512473, in_progress_at=1741511532, metadata={'description': 'Batch 0'}, output_file_id='file-5d96aAgRcdTdTm1gxY7hwx', request_counts=BatchRequestCounts(completed=200, failed=0, total=200)), Batch(id='batch_67cc7cdb7470819090d2179e8fb949fa', completion_window='24h', created_at=1741454555, endpoint='/v1/chat/completions', input_file_id='file-DvvTCX1foXY75Z6spWPqKN', object='batch', status='completed', cancelled_at=None, cancelling_at=None, completed_at=1741463142, error_file_id=None, errors=None, expired_at=None, expires_at=1741540955, failed_at=None, finalizing_at=1741459623, in_progress_at=1741454569, metadata={'description': 'Citation Reason Extraction'}, output_file_id='file-JiUXEMpF9SW7ZprATrZRiM', request_counts=BatchRequestCounts(completed=31080, failed=0, total=31080)), Batch(id='batch_67cc77e0715881909231b30b46650d6e', completion_window='24h', created_at=1741453280, endpoint='/v1/chat/completions', input_file_id='file-JbLFHHrpW2ZUWcCjL9pBqo', object='batch', status='completed', cancelled_at=None, cancelling_at=None, completed_at=1741454529, error_file_id=None, errors=None, expired_at=None, expires_at=1741539680, failed_at=None, finalizing_at=1741454449, in_progress_at=1741453281, metadata={'description': 'Rewrite abstracts from biomed to cs.'}, output_file_id='file-DJw4uDXZKyxnZEffTQTHJE', request_counts=BatchRequestCounts(completed=995, failed=0, total=995)), Batch(id='batch_67cc00d4ec788190926bbe96f578a30d', completion_window='24h', created_at=1741422805, endpoint='/v1/chat/completions', input_file_id='file-JVD4jHf7AZQn1iaMQRGbR8', object='batch', status='completed', cancelled_at=None, cancelling_at=None, completed_at=1741425312, error_file_id=None, errors=None, expired_at=None, expires_at=1741509205, failed_at=None, finalizing_at=1741424983, in_progress_at=1741422806, metadata={'description': 'Batch 1'}, output_file_id='file-SXXpGqYeEP6rBw9U3iLaBs', request_counts=BatchRequestCounts(completed=2084, failed=0, total=2084)), Batch(id='batch_67cc00d3829c819096fc6cabb19d9525', completion_window='24h', created_at=1741422803, endpoint='/v1/chat/completions', input_file_id='file-3KxCxq3sBbMFdns4tTRCuB', object='batch', status='completed', cancelled_at=None, cancelling_at=None, completed_at=1741427004, error_file_id=None, errors=None, expired_at=None, expires_at=1741509203, failed_at=None, finalizing_at=1741426472, in_progress_at=1741422805, metadata={'description': 'Batch 1'}, output_file_id='file-YKextfBbbu5a4BRFP8MgjZ', request_counts=BatchRequestCounts(completed=5006, failed=0, total=5006)), Batch(id='batch_67cc00d1869c8190922f069cf724e357', completion_window='24h', created_at=1741422801, endpoint='/v1/chat/completions', input_file_id='file-TcFP45qRNco7yZFhAoLTU1', object='batch', status='completed', cancelled_at=None, cancelling_at=None, completed_at=1741428951, error_file_id=None, errors=None, expired_at=None, expires_at=1741509201, failed_at=None, finalizing_at=1741425339, in_progress_at=1741422802, metadata={'description': 'Batch 1'}, output_file_id='file-MpFtPFKM3v2raKmoP2H2qo', request_counts=BatchRequestCounts(completed=5004, failed=0, total=5004)), Batch(id='batch_67cc00cf361c819096b5600e4ce01932', completion_window='24h', created_at=1741422799, endpoint='/v1/chat/completions', input_file_id='file-MKzDuiBtm3Y7c3m9wKWEfC', object='batch', status='completed', cancelled_at=None, cancelling_at=None, completed_at=1741425794, error_file_id=None, errors=None, expired_at=None, expires_at=1741509199, failed_at=None, finalizing_at=1741424988, in_progress_at=1741422801, metadata={'description': 'Batch 1'}, output_file_id='file-9PnazWRTB4y874Kug8ojD1', request_counts=BatchRequestCounts(completed=5002, failed=0, total=5002)), Batch(id='batch_67cc00ccfec08190b57ae9dcf3543144', completion_window='24h', created_at=1741422797, endpoint='/v1/chat/completions', input_file_id='file-YEVJvtnEMR7DwoA8VySHBo', object='batch', status='completed', cancelled_at=None, cancelling_at=None, completed_at=1741423738, error_file_id=None, errors=None, expired_at=None, expires_at=1741509197, failed_at=None, finalizing_at=1741423394, in_progress_at=1741422798, metadata={'description': 'Batch 1'}, output_file_id='file-17GmGf2kAgBy9gdqrxVqYV', request_counts=BatchRequestCounts(completed=5004, failed=0, total=5004)), Batch(id='batch_67cc00cac5a081909c0a3ef416b0956f', completion_window='24h', created_at=1741422794, endpoint='/v1/chat/completions', input_file_id='file-7R2qKMjtH1Cgzm17P3LMQ3', object='batch', status='completed', cancelled_at=None, cancelling_at=None, completed_at=1741427408, error_file_id=None, errors=None, expired_at=None, expires_at=1741509194, failed_at=None, finalizing_at=1741425496, in_progress_at=1741422796, metadata={'description': 'Batch 1'}, output_file_id='file-67D5bZ3qCYmaZob8WZnuS2', request_counts=BatchRequestCounts(completed=5010, failed=0, total=5010)), Batch(id='batch_67cc00c86df88190a21b7377ad3fa5b6', completion_window='24h', created_at=1741422792, endpoint='/v1/chat/completions', input_file_id='file-HVKnuZPdpaPrs4f7e1X5in', object='batch', status='completed', cancelled_at=None, cancelling_at=None, completed_at=1741429018, error_file_id=None, errors=None, expired_at=None, expires_at=1741509192, failed_at=None, finalizing_at=1741426935, in_progress_at=1741422793, metadata={'description': 'Batch 1'}, output_file_id='file-BTUT34p3BqYZFnhwn3hCDV', request_counts=BatchRequestCounts(completed=5004, failed=0, total=5004)), Batch(id='batch_67cc00c5a5dc81909c9def3053dbda25', completion_window='24h', created_at=1741422789, endpoint='/v1/chat/completions', input_file_id='file-KcJyG3amLuoM22eNUWMbEX', object='batch', status='completed', cancelled_at=None, cancelling_at=None, completed_at=1741426996, error_file_id=None, errors=None, expired_at=None, expires_at=1741509189, failed_at=None, finalizing_at=1741426473, in_progress_at=1741422792, metadata={'description': 'Batch 1'}, output_file_id='file-4NSidDdBFg3djrue8j3nRS', request_counts=BatchRequestCounts(completed=5006, failed=0, total=5006)), Batch(id='batch_67cc00bea31081908dfec0b43d20d637', completion_window='24h', created_at=1741422782, endpoint='/v1/chat/completions', input_file_id='file-CHLN23GHBrHq8uLDyGxQS5', object='batch', status='completed', cancelled_at=None, cancelling_at=None, completed_at=1741426929, error_file_id=None, errors=None, expired_at=None, expires_at=1741509182, failed_at=None, finalizing_at=1741426377, in_progress_at=1741422784, metadata={'description': 'Batch 1'}, output_file_id='file-TS7vSRjAS2eU6UpdtF272Z', request_counts=BatchRequestCounts(completed=5004, failed=0, total=5004)), Batch(id='batch_67cc00bc0ce881909a307ba5dc1c1fe6', completion_window='24h', created_at=1741422780, endpoint='/v1/chat/completions', input_file_id='file-3zn2KzEKCcxsvHYFtgmoTj', object='batch', status='completed', cancelled_at=None, cancelling_at=None, completed_at=1741424118, error_file_id=None, errors=None, expired_at=None, expires_at=1741509180, failed_at=None, finalizing_at=1741423755, in_progress_at=1741422781, metadata={'description': 'Batch 1'}, output_file_id='file-HL8dD1qEaCFtm11QQWW7Tz', request_counts=BatchRequestCounts(completed=5008, failed=0, total=5008)), Batch(id='batch_67cc00b9cca081908aa79fb863906fcb', completion_window='24h', created_at=1741422777, endpoint='/v1/chat/completions', input_file_id='file-R4mxHC6frwZqjC5Gp3nhcH', object='batch', status='completed', cancelled_at=None, cancelling_at=None, completed_at=1741425028, error_file_id=None, errors=None, expired_at=None, expires_at=1741509177, failed_at=None, finalizing_at=1741424559, in_progress_at=1741422779, metadata={'description': 'Batch 1'}, output_file_id='file-H1qvHGv1Xozgrkme13PuEZ', request_counts=BatchRequestCounts(completed=5010, failed=0, total=5010)), Batch(id='batch_67cc00b7040481909c139ea8dbb8122c', completion_window='24h', created_at=1741422775, endpoint='/v1/chat/completions', input_file_id='file-KXVepXjqLYyDMUWb7nV1Wa', object='batch', status='completed', cancelled_at=None, cancelling_at=None, completed_at=1741426830, error_file_id=None, errors=None, expired_at=None, expires_at=1741509175, failed_at=None, finalizing_at=1741426235, in_progress_at=1741422777, metadata={'description': 'Batch 1'}, output_file_id='file-RTvrYopVHbSoEku7K517Z5', request_counts=BatchRequestCounts(completed=5008, failed=0, total=5008)), Batch(id='batch_67cc00b485f481908071d755b7b3cbab', completion_window='24h', created_at=1741422772, endpoint='/v1/chat/completions', input_file_id='file-Hu6xYgd8fqxpnTvrbNoTLo', object='batch', status='completed', cancelled_at=None, cancelling_at=None, completed_at=1741425057, error_file_id=None, errors=None, expired_at=None, expires_at=1741509172, failed_at=None, finalizing_at=1741424559, in_progress_at=1741422774, metadata={'description': 'Batch 1'}, output_file_id='file-314fKjFxemz3SxQykSpW9M', request_counts=BatchRequestCounts(completed=5006, failed=0, total=5006)), Batch(id='batch_67cc00b1fc888190aa924650a54d5078', completion_window='24h', created_at=1741422770, endpoint='/v1/chat/completions', input_file_id='file-Db59pd2zBqNwJUQ7BfwhEw', object='batch', status='completed', cancelled_at=None, cancelling_at=None, completed_at=1741425025, error_file_id=None, errors=None, expired_at=None, expires_at=1741509170, failed_at=None, finalizing_at=1741424555, in_progress_at=1741422772, metadata={'description': 'Batch 1'}, output_file_id='file-6p2xcaCW3qizaiGa8YnmrB', request_counts=BatchRequestCounts(completed=5002, failed=0, total=5002)), Batch(id='batch_67cc00aee658819086f379799ad9fa06', completion_window='24h', created_at=1741422766, endpoint='/v1/chat/completions', input_file_id='file-51QznHoYrgkATgXAxzpSQi', object='batch', status='completed', cancelled_at=None, cancelling_at=None, completed_at=1741424274, error_file_id=None, errors=None, expired_at=None, expires_at=1741509166, failed_at=None, finalizing_at=1741423848, in_progress_at=1741422768, metadata={'description': 'Batch 1'}, output_file_id='file-H5xPsiPmGTbxirLwYj8dre', request_counts=BatchRequestCounts(completed=5006, failed=0, total=5006)), Batch(id='batch_67cc00ac8c988190b4c48fbdf016e2ef', completion_window='24h', created_at=1741422764, endpoint='/v1/chat/completions', input_file_id='file-V2paUGJu4fE5CiP9B4cU1e', object='batch', status='completed', cancelled_at=None, cancelling_at=None, completed_at=1741427712, error_file_id=None, errors=None, expired_at=None, expires_at=1741509164, failed_at=None, finalizing_at=1741425757, in_progress_at=1741422765, metadata={'description': 'Batch 1'}, output_file_id='file-EL39bVfQ5Zacx2XBxdLCQx', request_counts=BatchRequestCounts(completed=5006, failed=0, total=5006)), Batch(id='batch_67cc00aa616481909d60a8d08c205ea9', completion_window='24h', created_at=1741422762, endpoint='/v1/chat/completions', input_file_id='file-V3NJRJeopa8k5a3o7MPteD', object='batch', status='completed', cancelled_at=None, cancelling_at=None, completed_at=1741424319, error_file_id=None, errors=None, expired_at=None, expires_at=1741509162, failed_at=None, finalizing_at=1741423855, in_progress_at=1741422763, metadata={'description': 'Batch 1'}, output_file_id='file-LUfBn5tCEymTYVamLXTmnL', request_counts=BatchRequestCounts(completed=5008, failed=0, total=5008))], object='list', first_id='batch_67cd5b6b42c881909c6f9730ce12b6e9', last_id='batch_67cc00aa616481909d60a8d08c205ea9', has_more=True)"
      ]
     },
     "execution_count": 5,
     "metadata": {},
     "output_type": "execute_result"
    }
   ],
   "source": [
    "all_batches = client.batches.list()\n",
    "all_batches\n",
    "\n",
    "# batch_67cc7cdb7470819090d2179e8fb949fa\n",
    "# file-JiUXEMpF9SW7ZprATrZRiM"
   ]
  },
  {
   "cell_type": "code",
   "execution_count": 9,
   "metadata": {},
   "outputs": [],
   "source": [
    "file_response = client.files.content('file-JiUXEMpF9SW7ZprATrZRiM')\n",
    "file_response_text = file_response.text\n",
    "\n",
    "json_strings = file_response_text.strip().splitlines()\n",
    "\n",
    "# Parse each JSON string into a dictionary and store in a list\n",
    "response_dicts = [json.loads(line) for line in json_strings]\n",
    "\n",
    "o3_mini_response_list = [response_dicts[i]['response']['body']['choices'][0]['message']['content'] for i in range(len(response_dicts))]"
   ]
  },
  {
   "cell_type": "code",
   "execution_count": 8,
   "metadata": {},
   "outputs": [],
   "source": [
    "# with open('/cs/labs/tomhope/yuvalbus/pmc/pythonProject/largeListsGuy/o3_mini_response_list.json', 'w') as f:\n",
    "#     json.dump(o3_mini_response_list, f)\n",
    "\n",
    "with open('/cs/labs/tomhope/yuvalbus/pmc/pythonProject/largeListsGuy/o3_mini_response_list.json', 'r') as f:\n",
    "    o3_mini_response_list = json.load(f)\n",
    "\n"
   ]
  },
  {
   "cell_type": "code",
   "execution_count": 13,
   "metadata": {},
   "outputs": [
    {
     "data": {
      "text/plain": [
       "31080"
      ]
     },
     "execution_count": 13,
     "metadata": {},
     "output_type": "execute_result"
    }
   ],
   "source": [
    "len(o3_mini_response_list)"
   ]
  },
  {
   "cell_type": "code",
   "execution_count": 20,
   "metadata": {},
   "outputs": [
    {
     "data": {
      "text/plain": [
       "{'high': 6409, 'medium': 22371, 'low': 2300}"
      ]
     },
     "execution_count": 20,
     "metadata": {},
     "output_type": "execute_result"
    }
   ],
   "source": [
    "def split_confidence_high_med_low(response_list):\n",
    "    # Initialize dictionary with default counts\n",
    "    counts = {\"high\": 0, \"medium\": 0, \"low\": 0}\n",
    "    \n",
    "    for response in response_list:\n",
    "        # Check if the confidence substring exists in the response\n",
    "        if 'Confidence: High' in response:\n",
    "            counts['high'] += 1\n",
    "        elif 'Confidence: Medium' in response:\n",
    "            counts['medium'] += 1\n",
    "        elif 'Confidence: Low' in response:\n",
    "            counts['low'] += 1\n",
    "            \n",
    "    return counts\n",
    "\n",
    "split_confidence_high_med_low(o3_mini_response_list)"
   ]
  },
  {
   "cell_type": "code",
   "execution_count": null,
   "metadata": {},
   "outputs": [
    {
     "data": {
      "text/plain": [
       "'Confidence: High'"
      ]
     },
     "execution_count": 15,
     "metadata": {},
     "output_type": "execute_result"
    }
   ],
   "source": [
    "o3_mini_response_list[30984][o3_mini_response_list[30984].find('Confidence'):]"
   ]
  },
  {
   "cell_type": "code",
   "execution_count": null,
   "metadata": {},
   "outputs": [],
   "source": []
  },
  {
   "cell_type": "code",
   "execution_count": 70,
   "metadata": {},
   "outputs": [
    {
     "data": {
      "text/plain": [
       "['/cs/labs/tomhope/yuvalbus/pmc/pythonProject/data2/PMC3358935/3358935_1/IJT-4-29.nxml',\n",
       " '/cs/labs/tomhope/yuvalbus/pmc/pythonProject/data2/PMC3853602/3853602_1/AMHSR-3-3.nxml']"
      ]
     },
     "execution_count": 70,
     "metadata": {},
     "output_type": "execute_result"
    }
   ],
   "source": [
    "matching_uids_xml_paths[3]"
   ]
  },
  {
   "cell_type": "code",
   "execution_count": 61,
   "metadata": {},
   "outputs": [
    {
     "data": {
      "text/plain": [
       "7"
      ]
     },
     "execution_count": 61,
     "metadata": {},
     "output_type": "execute_result"
    }
   ],
   "source": [
    "len(results)"
   ]
  },
  {
   "cell_type": "code",
   "execution_count": null,
   "metadata": {},
   "outputs": [],
   "source": []
  },
  {
   "cell_type": "code",
   "execution_count": null,
   "metadata": {},
   "outputs": [],
   "source": []
  },
  {
   "cell_type": "code",
   "execution_count": null,
   "metadata": {},
   "outputs": [],
   "source": []
  },
  {
   "cell_type": "code",
   "execution_count": 32,
   "metadata": {},
   "outputs": [
    {
     "data": {
      "text/plain": [
       "[['/cs/labs/tomhope/yuvalbus/pmc/pythonProject/data2/PMC8167975/8167975_1/12886_2021_Article_2004.nxml',\n",
       "  '/cs/labs/tomhope/yuvalbus/pmc/pythonProject/data2/PMC5563556/5563556_1/TJO-47-243.nxml'],\n",
       " ['/cs/labs/tomhope/yuvalbus/pmc/pythonProject/data2/PMC4647049/4647049_1/ijcpd-08-242.nxml',\n",
       "  '/cs/labs/tomhope/yuvalbus/pmc/pythonProject/data2/PMC5654233/5654233_1/DRJ-14-359.nxml']]"
      ]
     },
     "execution_count": 32,
     "metadata": {},
     "output_type": "execute_result"
    }
   ],
   "source": [
    "matching_uids_xml_paths[0:2]"
   ]
  },
  {
   "cell_type": "code",
   "execution_count": 9,
   "metadata": {},
   "outputs": [
    {
     "data": {
      "text/plain": [
       "'34058993'"
      ]
     },
     "execution_count": 9,
     "metadata": {},
     "output_type": "execute_result"
    }
   ],
   "source": [
    "import os\n",
    "import glob\n",
    "from lxml import etree\n",
    "\n",
    "def extract_pmids_from_nxml(file_path):\n",
    "    \"\"\"Return a list of PMIDs found in a single .nxml file.\"\"\"\n",
    "    tree = etree.parse(file_path)\n",
    "    pmid_elements = tree.xpath('//article-id[@pub-id-type=\"pmid\"]')\n",
    "    pmids = [elem.text.strip() for elem in pmid_elements if elem.text]\n",
    "    return pmids[0]\n",
    "\n",
    "def find_and_extract_pmids(directory):\n",
    "    \"\"\"\n",
    "    Look for the first .nxml file in 'directory' (non-recursive)\n",
    "    and extract PMIDs from it.\n",
    "    \"\"\"\n",
    "    # Search only *.nxml in this directory (no subfolders)\n",
    "    nxml_files = glob.glob(os.path.join(directory, '*.nxml'))\n",
    "    if not nxml_files:\n",
    "        return None\n",
    "\n",
    "    # Take the first .nxml file in the directory\n",
    "    file_path = nxml_files[0]\n",
    "\n",
    "    pmc_id = file_path[61:68] + '-1'  \n",
    "\n",
    "    # Extract PMIDs\n",
    "    pmids = extract_pmids_from_nxml(file_path)\n",
    "    if pmids:\n",
    "        return pmids\n",
    "    return None\n",
    "\n",
    "\n",
    "find_and_extract_pmids('/cs/labs/tomhope/yuvalbus/pmc/pythonProject/data2/PMC8167975/8167975_1')"
   ]
  },
  {
   "cell_type": "code",
   "execution_count": 62,
   "metadata": {},
   "outputs": [],
   "source": [
    "prefix = '/cs/labs/tomhope/yuvalbus/pmc/pythonProject/data2'\n",
    "matching_uids_paths_list = [\n",
    "    [os.path.join(prefix, os.path.join(f'PMC{id[:-2]}', f'{id[:-2]}_1')) for id in pair]\n",
    "    for pair in matching_uids\n",
    "]\n"
   ]
  },
  {
   "cell_type": "code",
   "execution_count": 63,
   "metadata": {},
   "outputs": [
    {
     "data": {
      "text/plain": [
       "['/cs/labs/tomhope/yuvalbus/pmc/pythonProject/data2/PMC7752348/7752348_1',\n",
       " '/cs/labs/tomhope/yuvalbus/pmc/pythonProject/data2/PMC7225378/7225378_1']"
      ]
     },
     "execution_count": 63,
     "metadata": {},
     "output_type": "execute_result"
    }
   ],
   "source": [
    "matching_uids_paths_list[39]"
   ]
  },
  {
   "cell_type": "code",
   "execution_count": 12,
   "metadata": {},
   "outputs": [
    {
     "data": {
      "text/plain": [
       "[['8167975-1', '5563556-1'], ['4647049-1', '5654233-1']]"
      ]
     },
     "execution_count": 12,
     "metadata": {},
     "output_type": "execute_result"
    }
   ],
   "source": [
    "matching_uids[0:2]"
   ]
  },
  {
   "cell_type": "code",
   "execution_count": null,
   "metadata": {},
   "outputs": [],
   "source": [
    "# matching_uids_pmid_list = [\n",
    "#     [find_and_extract_pmids(path) for path in paths_pair]\n",
    "#     for paths_pair in matching_uids_paths_list\n",
    "# ]\n",
    "\n",
    "with open ('/cs/labs/tomhope/yuvalbus/pmc/pythonProject/largeListsGuy/matching_uids_pmid_list.json', 'r') as f:\n",
    "    matching_uids_pmid_list = json.load(f)"
   ]
  },
  {
   "cell_type": "code",
   "execution_count": null,
   "metadata": {},
   "outputs": [],
   "source": []
  },
  {
   "cell_type": "code",
   "execution_count": 61,
   "metadata": {},
   "outputs": [
    {
     "data": {
      "text/plain": [
       "['7752348-1', '7225378-1']"
      ]
     },
     "execution_count": 61,
     "metadata": {},
     "output_type": "execute_result"
    }
   ],
   "source": [
    "matching_uids[39]"
   ]
  },
  {
   "cell_type": "code",
   "execution_count": 15,
   "metadata": {},
   "outputs": [
    {
     "data": {
      "text/plain": [
       "[['34058993', '28845332'], ['26604546', '29109753']]"
      ]
     },
     "execution_count": 15,
     "metadata": {},
     "output_type": "execute_result"
    }
   ],
   "source": [
    "matching_uids_pmid_list[0:2]"
   ]
  },
  {
   "cell_type": "code",
   "execution_count": 17,
   "metadata": {},
   "outputs": [
    {
     "data": {
      "text/plain": [
       "['/cs/labs/tomhope/yuvalbus/pmc/pythonProject/data2/PMC8167975/8167975_1/12886_2021_Article_2004.nxml',\n",
       " '/cs/labs/tomhope/yuvalbus/pmc/pythonProject/data2/PMC5563556/5563556_1/TJO-47-243.nxml']"
      ]
     },
     "execution_count": 17,
     "metadata": {},
     "output_type": "execute_result"
    }
   ],
   "source": [
    "matching_uids_xml_paths[0]"
   ]
  },
  {
   "cell_type": "code",
   "execution_count": 37,
   "metadata": {},
   "outputs": [
    {
     "data": {
      "text/html": [
       "<div>\n",
       "<style scoped>\n",
       "    .dataframe tbody tr th:only-of-type {\n",
       "        vertical-align: middle;\n",
       "    }\n",
       "\n",
       "    .dataframe tbody tr th {\n",
       "        vertical-align: top;\n",
       "    }\n",
       "\n",
       "    .dataframe thead th {\n",
       "        text-align: right;\n",
       "    }\n",
       "</style>\n",
       "<table border=\"1\" class=\"dataframe\">\n",
       "  <thead>\n",
       "    <tr style=\"text-align: right;\">\n",
       "      <th></th>\n",
       "      <th>image_path</th>\n",
       "      <th>caption_path</th>\n",
       "      <th>patient_uid</th>\n",
       "      <th>pmc_id</th>\n",
       "      <th>article_path</th>\n",
       "      <th>unique_articles_sim_patients</th>\n",
       "      <th>caption_text</th>\n",
       "      <th>caption_id</th>\n",
       "    </tr>\n",
       "  </thead>\n",
       "  <tbody>\n",
       "    <tr>\n",
       "      <th>0</th>\n",
       "      <td>PMC8167975/8167975_1/8167975_1_1.jpg</td>\n",
       "      <td>PMC8167975/8167975_1/8167975_1_1.txt</td>\n",
       "      <td>8167975-1</td>\n",
       "      <td>8167975</td>\n",
       "      <td>https://ncbi.nlm.nih.gov/pmc/articles/PMC8167975</td>\n",
       "      <td>['5563556-1']</td>\n",
       "      <td>Fundus photograph showed a yellowish white, pe...</td>\n",
       "      <td>8167975_1_1</td>\n",
       "    </tr>\n",
       "  </tbody>\n",
       "</table>\n",
       "</div>"
      ],
      "text/plain": [
       "                             image_path                          caption_path  \\\n",
       "0  PMC8167975/8167975_1/8167975_1_1.jpg  PMC8167975/8167975_1/8167975_1_1.txt   \n",
       "\n",
       "  patient_uid   pmc_id                                      article_path  \\\n",
       "0   8167975-1  8167975  https://ncbi.nlm.nih.gov/pmc/articles/PMC8167975   \n",
       "\n",
       "  unique_articles_sim_patients  \\\n",
       "0                ['5563556-1']   \n",
       "\n",
       "                                        caption_text   caption_id  \n",
       "0  Fundus photograph showed a yellowish white, pe...  8167975_1_1  "
      ]
     },
     "execution_count": 37,
     "metadata": {},
     "output_type": "execute_result"
    }
   ],
   "source": [
    "filtered_df.head(1)"
   ]
  },
  {
   "cell_type": "code",
   "execution_count": 185,
   "metadata": {},
   "outputs": [
    {
     "data": {
      "text/plain": [
       "1.4860677840638714"
      ]
     },
     "execution_count": 185,
     "metadata": {},
     "output_type": "execute_result"
    }
   ],
   "source": [
    "# # Calculating average citations per article\n",
    "# sum = 0\n",
    "# non_none_dict = 0\n",
    "\n",
    "# for extraction in ref_extractions:\n",
    "#     if extraction and len(extraction['paragraphs']) != 0:\n",
    "#         non_none_dict += 1\n",
    "#         sum += len(extraction['paragraphs'])\n",
    "\n",
    "# avg_citations = sum / non_none_dict\n",
    "# avg_citations"
   ]
  }
 ],
 "metadata": {
  "kernelspec": {
   "display_name": "pmc_env",
   "language": "python",
   "name": "python3"
  },
  "language_info": {
   "codemirror_mode": {
    "name": "ipython",
    "version": 3
   },
   "file_extension": ".py",
   "mimetype": "text/x-python",
   "name": "python",
   "nbconvert_exporter": "python",
   "pygments_lexer": "ipython3",
   "version": "3.11.10"
  }
 },
 "nbformat": 4,
 "nbformat_minor": 4
}
