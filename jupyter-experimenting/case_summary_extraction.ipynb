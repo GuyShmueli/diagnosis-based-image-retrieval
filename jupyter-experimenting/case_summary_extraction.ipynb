{
 "cells": [
  {
   "cell_type": "markdown",
   "metadata": {},
   "source": [
    "This script aims to extract the case summary / case report tag from the NXMLs, in order to determine diagnosis similartiy based on generated queries"
   ]
  },
  {
   "cell_type": "code",
   "execution_count": 1,
   "metadata": {},
   "outputs": [],
   "source": [
    "import json\n"
   ]
  },
  {
   "cell_type": "code",
   "execution_count": 69,
   "metadata": {},
   "outputs": [
    {
     "data": {
      "text/plain": [
       "[['/cs/labs/tomhope/dhtandguy21/restore_yuvalbus/data2/PMC8167975/8167975_1/12886_2021_Article_2004.nxml',\n",
       "  '/cs/labs/tomhope/dhtandguy21/restore_yuvalbus/data2/PMC5563556/5563556_1/TJO-47-243.nxml']]"
      ]
     },
     "execution_count": 69,
     "metadata": {},
     "output_type": "execute_result"
    }
   ],
   "source": [
    "with open ('/cs/labs/tomhope/dhtandguy21/largeListsGuy/matching_uids_xml_paths.json', 'r') as f:\n",
    "    matching_uids_xml_paths = json.load(f)\n",
    "matching_uids_xml_paths[0:1]"
   ]
  },
  {
   "cell_type": "code",
   "execution_count": 76,
   "metadata": {},
   "outputs": [],
   "source": [
    "from lxml import etree\n",
    "from multiprocessing import Pool\n",
    "\n",
    "# Create an XPath expression that matches <sec> elements with a <title> containing any of the keywords.\n",
    "# Using translate() ensures a case-insensitive search.\n",
    "xpath_expr = (\n",
    "    \"//sec[\"\n",
    "    \"  contains(translate(title, 'ABCDEFGHIJKLMNOPQRSTUVWXYZ', 'abcdefghijklmnopqrstuvwxyz'), 'case presentation') \"\n",
    "    \"or contains(translate(title, 'ABCDEFGHIJKLMNOPQRSTUVWXYZ', 'abcdefghijklmnopqrstuvwxyz'), 'case report') \"\n",
    "    \"or contains(translate(title, 'ABCDEFGHIJKLMNOPQRSTUVWXYZ', 'abcdefghijklmnopqrstuvwxyz'), 'case description') \"\n",
    "    \"or contains(translate(title, 'ABCDEFGHIJKLMNOPQRSTUVWXYZ', 'abcdefghijklmnopqrstuvwxyz'), 'case summary') \"\n",
    "    \"or contains(translate(title, 'ABCDEFGHIJKLMNOPQRSTUVWXYZ', 'abcdefghijklmnopqrstuvwxyz'), 'patient presentation') \"\n",
    "    \"or contains(translate(title, 'ABCDEFGHIJKLMNOPQRSTUVWXYZ', 'abcdefghijklmnopqrstuvwxyz'), 'patient report') \"\n",
    "    \"or contains(translate(title, 'ABCDEFGHIJKLMNOPQRSTUVWXYZ', 'abcdefghijklmnopqrstuvwxyz'), 'patient description') \"\n",
    "    \"or contains(translate(title, 'ABCDEFGHIJKLMNOPQRSTUVWXYZ', 'abcdefghijklmnopqrstuvwxyz'), 'patient summary') \"\n",
    "    \"or contains(translate(title, 'ABCDEFGHIJKLMNOPQRSTUVWXYZ', 'abcdefghijklmnopqrstuvwxyz'), 'case') \"\n",
    "    \"or (normalize-space(translate(title, 'ABCDEFGHIJKLMNOPQRSTUVWXYZ', 'abcdefghijklmnopqrstuvwxyz')) = 'patient') \"\n",
    "    \"]\"\n",
    ")\n",
    "\n",
    "\n",
    "def process_file_list(file_list):\n",
    "    \"\"\"\n",
    "    Given a list of file paths, parse each file, run the XPath,\n",
    "    gather the text from <sec> paragraphs, return a dict { filepath: text }.\n",
    "    \"\"\"\n",
    "    single_pair_case_summary = {}\n",
    "    for file in file_list:\n",
    "        tree = etree.parse(file)\n",
    "        sections = tree.xpath(xpath_expr)\n",
    "        for sec in sections:\n",
    "            paragraphs = sec.xpath(\".//p//text()\")\n",
    "            text = \" \".join(paragraphs)\n",
    "            single_pair_case_summary[file] = text\n",
    "    return single_pair_case_summary\n",
    "\n",
    "def multiprocess_case_summaries():\n",
    "    with Pool() as pool:\n",
    "        # Map each sub-list to a worker process\n",
    "        case_summary_pairs_list = pool.map(process_file_list, matching_uids_xml_paths)\n",
    "\n",
    "    return case_summary_pairs_list\n",
    "\n",
    "\n",
    "case_summary_pairs_list = multiprocess_case_summaries()\n",
    "\n"
   ]
  },
  {
   "cell_type": "code",
   "execution_count": 77,
   "metadata": {},
   "outputs": [],
   "source": [
    "case_summary_pairs_list = [list(case_summary_pairs_list[idx].values()) for idx in range(len(case_summary_pairs_list))]"
   ]
  },
  {
   "cell_type": "code",
   "execution_count": 78,
   "metadata": {},
   "outputs": [],
   "source": [
    "def calc_indices_summaries_list(case_summary_pairs_list):\n",
    "    \"\"\"\n",
    "    Returns two lists:\n",
    "      - A list of indices corresponding to elements depicting both cases.\n",
    "      - A list of indices corresponding to elements depicting less than 2 cases.\n",
    "    \"\"\"\n",
    "    valid_indices = [idx for idx in range(len(case_summary_pairs_list)) if len(case_summary_pairs_list[idx]) == 2]\n",
    "    invalid_indices = [idx for idx in range(len(case_summary_pairs_list)) if len(case_summary_pairs_list[idx]) != 2]\n",
    "\n",
    "    return valid_indices, invalid_indices\n",
    "\n"
   ]
  },
  {
   "cell_type": "code",
   "execution_count": 79,
   "metadata": {},
   "outputs": [
    {
     "data": {
      "text/plain": [
       "83"
      ]
     },
     "execution_count": 79,
     "metadata": {},
     "output_type": "execute_result"
    }
   ],
   "source": [
    "len(calc_indices_summaries_list(case_summary_pairs_list)[1])"
   ]
  },
  {
   "cell_type": "code",
   "execution_count": 80,
   "metadata": {},
   "outputs": [
    {
     "data": {
      "text/plain": [
       "31692"
      ]
     },
     "execution_count": 80,
     "metadata": {},
     "output_type": "execute_result"
    }
   ],
   "source": [
    "len(case_summary_pairs_list)"
   ]
  },
  {
   "cell_type": "code",
   "execution_count": 81,
   "metadata": {},
   "outputs": [
    {
     "data": {
      "text/plain": [
       "31609"
      ]
     },
     "execution_count": 81,
     "metadata": {},
     "output_type": "execute_result"
    }
   ],
   "source": [
    "v, i = calc_indices_summaries_list(case_summary_pairs_list)\n",
    "len(v)"
   ]
  },
  {
   "cell_type": "code",
   "execution_count": null,
   "metadata": {},
   "outputs": [
    {
     "data": {
      "text/plain": [
       "['A 40-year-old woman who first presented with complaints of decreased vision and metamorphopsia in her right eye was diagnosed with CO 9\\u2009years ago. At that time her best corrected visual acuity (BCVA) was 12/20. Both eyes had normal anterior segments. Right fundus examination showed a geographic-shaped, yellowish-white choroidal lesion surrounding the optic disc in the right eye (Fig.\\xa0 1 ). B-scan ultrasonography of right eye revealed a typical dense echogenic plaque which causing acoustic shadowing behind (Fig.\\xa0 2 ). FFA and ICGA had no evidence of CNV except early hyperfluorescent choroidal filling pattern with late diffuse staining. Computerized tomography (CT) showed a hyperdense choroidal plaque with the same density as bone (Fig.\\xa0 3 ). Optical coherence tomography (OCT) demonstrated serous retinal detachments at the initial examination (Fig.\\xa0 4 ).\\n Fig. 1 Fundus photograph showed a yellowish white, peripapillary and sharply demarcated choroidal lesion involving the macula (white arrows) Fig. 2 B-scan demonstrated focal subretinal calcification next to the optic disc (white arrow) Fig. 3 CT demonstrated a hyperdense choroidal plaque with the same density as bone typically (white arrow) Fig. 4 OCT showed serous fluid exudates under the macula (white asterisk) There was no evidence of any subretinal neovascularization clinically and the patient maintained stable vision, so she was asked to come for regular follow-up. Last year, after 8\\u2009years follow up, secondary CNV was found by angio-OCT at the temporal of CO. BCVA had decreased to 5/20. B-scan and CT didn’t demonstrate much different than before. Compared to 8 years ago, CO grew up in most margins and macular appeared schistose hemorrhage (Fig.\\xa0 5 ). A part of tumor on the inferior margin displayed decalcification and choroid atrophy. OCT revealed subretinal neovascularization with choriocapillaris atrophy. OCTA revealed superficial and deep subretinal neovascularization of CNV in CO not visualize with other imaging methods (Fig.\\xa0 6 ). Except CO, ICGA didn’t show the morphology and structure of secondary choroidal neovascularization as obvious as OCTA. (Fig.\\xa0 7 ).\\n Fig. 5 Right fundus showed an enlarged choroidal osteoma in most margins at posterior pole (white arrow) with schistose hemorrhage (black asterisk) beside macula compared to eight years ago. Partial decalcification on the inferior margin and visibility of large choroidal vessels were noted (white asterisk) Fig. 6 OCTA revealed unique features in the vascular changes of CNV in CO in the outer retinal layer and choroid capillary layers, and subretinal neovascularization (white arrow) Fig. 7 ICGA showed there was hypo-fluorescence at the peripapillary with faint hyper-fluorescence at the macular, corresponding to the location on the fundus photograph. The subretinal neovascularization of CNV was not obvious Based on those findings, the patient was diagnosed with secondary CNV. The patient was administered 3 intravitreal ranibizumab injections at 1-month intervals. In follow-up examination at 3\\u2009months post-injections, visual acuity had improved to 18/20 and OCT showed regression of the subretinal fluid (Fig.\\xa0 8 ). The patient’s condition was stable during the 1-year follow-up period and no additional injections were required. OCTA also showed reduction in area of CNV (Fig.\\xa0 9 ).\\n Fig. 8 OCT appreciated CNV and on the nasal atrophic retina Fig. 9 OCTA revealed the regression of choroidal neovascularization density and range in the outer retinal layer and choroid capillary layers. (white arrow)',\n",
       " 'A 47-year-old female patient presented with complaints of decreased vision in her right eye. On examination, her visual acuity was 0.16 in the right eye and 1.0 in the left eye. Slit-lamp anterior segment examination and intraocular pressures were normal in both eyes. Fundus examination revealed a yellowish-white lesion that had well-defined borders and was slightly raised from the surface of the retina located at macula of the right eye, while the left eye was normal ( Figure 1A, B ). FFA revealed early hyperfluorescence increasing in later stages and CNV in the region compatible with the lesion in the right eye ( Figure 2A, B ). B-scan USG in the right eye revealed a hyperechoic choroidal lesion causing acoustic shadowing ( Figure 3 ). Spectral domain OCT revealed subretinal fluid in the right eye ( Figure 4 ). Based on those findings, the patient was diagnosed with choroidal osteoma and secondary CNV. The patient was administered 3 intravitreal ranibizumab injections at 1-month intervals. In follow-up examination at 4 months post-injections, visual acuity had improved to 0.9 and OCT imaging showed regression of the subretinal fluid ( Figure 5 ). Although the patient’s vision was stable during that period, a decline in visual acuity was observed 3 months later. An additional intravitreal ranibizumab injection was administered when the visual acuity in the right eye reached 0.4. At final follow-up 2 months after the injection, OCT revealed that the subretinal fluid had regressed, and visual acuity had improved to 0.8. The patient’s condition was stable during the 2-year follow-up period and no additional injections were required.']"
      ]
     },
     "execution_count": 23,
     "metadata": {},
     "output_type": "execute_result"
    }
   ],
   "source": [
    "# with open('/cs/labs/tomhope/dhtandguy21/largeListsGuy/case_summary_pairs_list.json', 'w') as f:\n",
    "#     json.dump(case_summary_pairs_list, f)\n",
    "\n",
    "with open('/cs/labs/tomhope/dhtandguy21/largeListsGuy/case_summary_pairs_list.json', 'r') as f:\n",
    "    case_summary_pairs_list = json.load(f)\n",
    "case_summary_pairs_list[0]"
   ]
  },
  {
   "cell_type": "code",
   "execution_count": null,
   "metadata": {},
   "outputs": [],
   "source": [
    "with open ('/cs/labs/tomhope/dhtandguy21/largeListsGuy/imgs_paths.json', 'r') as f:\n",
    "    imgs_paths = json.load(f)"
   ]
  },
  {
   "cell_type": "code",
   "execution_count": null,
   "metadata": {},
   "outputs": [],
   "source": [
    "with open('/cs/labs/tomhope/dhtandguy21/largeListsGuy/imgs_paths_diagrams.json', 'r') as f:\n",
    "    imgs_paths_diagrams = json.load(f)\n"
   ]
  },
  {
   "cell_type": "code",
   "execution_count": null,
   "metadata": {},
   "outputs": [],
   "source": [
    "with open('/cs/labs/tomhope/dhtandguy21/largeListsGuy/pairs_text_list.json', 'r') as f:\n",
    "    pairs_text_list = json.load(f)\n",
    "\n",
    "with open('/cs/labs/tomhope/dhtandguy21/largeListsGuy/pairs_image_list.json', 'r') as f:\n",
    "    pairs_image_list = json.load(f)\n"
   ]
  },
  {
   "cell_type": "code",
   "execution_count": null,
   "metadata": {},
   "outputs": [
    {
     "data": {
      "text/plain": [
       "[[['/cs/labs/tomhope/dhtandguy21/restore_yuvalbus/data2/PMC8167975/8167975_1/8167975_1_1.jpg',\n",
       "   '/cs/labs/tomhope/dhtandguy21/restore_yuvalbus/data2/PMC8167975/8167975_1/8167975_1_2.jpg',\n",
       "   '/cs/labs/tomhope/dhtandguy21/restore_yuvalbus/data2/PMC8167975/8167975_1/8167975_1_3.jpg',\n",
       "   '/cs/labs/tomhope/dhtandguy21/restore_yuvalbus/data2/PMC8167975/8167975_1/8167975_1_4.jpg',\n",
       "   '/cs/labs/tomhope/dhtandguy21/restore_yuvalbus/data2/PMC8167975/8167975_1/8167975_1_5.jpg',\n",
       "   '/cs/labs/tomhope/dhtandguy21/restore_yuvalbus/data2/PMC8167975/8167975_1/8167975_1_6.jpg',\n",
       "   '/cs/labs/tomhope/dhtandguy21/restore_yuvalbus/data2/PMC8167975/8167975_1/8167975_1_7.jpg',\n",
       "   '/cs/labs/tomhope/dhtandguy21/restore_yuvalbus/data2/PMC8167975/8167975_1/8167975_1_8.jpg',\n",
       "   '/cs/labs/tomhope/dhtandguy21/restore_yuvalbus/data2/PMC8167975/8167975_1/8167975_1_9.jpg'],\n",
       "  ['/cs/labs/tomhope/dhtandguy21/restore_yuvalbus/data2/PMC5563556/5563556_1/5563556_1_3.jpg',\n",
       "   '/cs/labs/tomhope/dhtandguy21/restore_yuvalbus/data2/PMC5563556/5563556_1/5563556_1_4.jpg',\n",
       "   '/cs/labs/tomhope/dhtandguy21/restore_yuvalbus/data2/PMC5563556/5563556_1/5563556_1_5.jpg']]]"
      ]
     },
     "execution_count": 56,
     "metadata": {},
     "output_type": "execute_result"
    }
   ],
   "source": [
    "pairs_image_list[0:1]"
   ]
  },
  {
   "cell_type": "code",
   "execution_count": null,
   "metadata": {},
   "outputs": [],
   "source": [
    "from pathlib import Path\n",
    "\n",
    "def remap_data_path(\n",
    "    old_path: str,\n",
    "    old_root: str = '/cs/labs/tomhope/yuvalbus/pmc/pythonProject/data2',\n",
    "    new_root: str = '/cs/labs/tomhope/dhtandguy21/restore_yuvalbus/data2'\n",
    ") -> str:\n",
    "    \"\"\"\n",
    "    Rebase an absolute path from old_root to new_root, keeping the same\n",
    "    sub‐path under 'data2'.\n",
    "\n",
    "    e.g. remap_data_path(\n",
    "           '/cs/.../data2/PMC1131917/1131917_1/1131917_1_5.jpg'\n",
    "         )\n",
    "         returns\n",
    "         '/cs/.../data2/PMC1131917/1131917_1/1131917_1_5.jpg'\n",
    "    \"\"\"\n",
    "    p = Path(old_path)\n",
    "    rel = p.relative_to(old_root)\n",
    "    return str(Path(new_root) / rel)\n"
   ]
  },
  {
   "cell_type": "code",
   "execution_count": null,
   "metadata": {},
   "outputs": [],
   "source": [
    "list_text = [\n",
    "    [   # for each pair\n",
    "        [   # for each path\n",
    "            remap_data_path(text_path)\n",
    "            for text_path in patient_list\n",
    "        ]\n",
    "        for patient_list in pair_text\n",
    "    ]\n",
    "    for pair_text in pairs_text_list\n",
    "]"
   ]
  },
  {
   "cell_type": "code",
   "execution_count": null,
   "metadata": {},
   "outputs": [],
   "source": [
    "with open ('/cs/labs/tomhope/dhtandguy21/largeListsGuy/pairs_text_list.json', 'w') as f:\n",
    "    json.dump(list_text, f)"
   ]
  },
  {
   "cell_type": "code",
   "execution_count": null,
   "metadata": {},
   "outputs": [],
   "source": [
    "list_images = [\n",
    "    [   # for each pair\n",
    "        [   # for each path\n",
    "            remap_data_path(image_path)\n",
    "            for image_path in patient_list\n",
    "        ]\n",
    "        for patient_list in pair_image\n",
    "    ]\n",
    "    for pair_image in pairs_image_list\n",
    "]"
   ]
  },
  {
   "cell_type": "code",
   "execution_count": null,
   "metadata": {},
   "outputs": [],
   "source": [
    "with open ('/cs/labs/tomhope/dhtandguy21/largeListsGuy/pairs_image_list.json', 'w') as f:\n",
    "    json.dump(list_images, f)"
   ]
  },
  {
   "cell_type": "code",
   "execution_count": 63,
   "metadata": {},
   "outputs": [
    {
     "data": {
      "text/plain": [
       "[['/cs/labs/tomhope/yuvalbus/pmc/pythonProject/data2/PMC8167975/8167975_1/12886_2021_Article_2004.nxml',\n",
       "  '/cs/labs/tomhope/yuvalbus/pmc/pythonProject/data2/PMC5563556/5563556_1/TJO-47-243.nxml']]"
      ]
     },
     "execution_count": 63,
     "metadata": {},
     "output_type": "execute_result"
    }
   ],
   "source": [
    "with open ('/cs/labs/tomhope/dhtandguy21/largeListsGuy/matching_uids_xml_paths.json', 'r') as f:\n",
    "    matching_uids_xml_paths = json.load(f)\n",
    "matching_uids_xml_paths[0:1]"
   ]
  },
  {
   "cell_type": "code",
   "execution_count": 64,
   "metadata": {},
   "outputs": [],
   "source": [
    "xml_paths = [\n",
    "    [\n",
    "        remap_data_path(xml_path)\n",
    "        for xml_path in pair\n",
    "    ]\n",
    "    for pair in matching_uids_xml_paths\n",
    "]"
   ]
  },
  {
   "cell_type": "code",
   "execution_count": 68,
   "metadata": {},
   "outputs": [],
   "source": [
    "with open ('/cs/labs/tomhope/dhtandguy21/largeListsGuy/matching_uids_xml_paths.json', 'w') as f:\n",
    "    json.dump(xml_paths, f)"
   ]
  },
  {
   "cell_type": "code",
   "execution_count": null,
   "metadata": {},
   "outputs": [],
   "source": []
  }
 ],
 "metadata": {
  "kernelspec": {
   "display_name": "pmc_env",
   "language": "python",
   "name": "python3"
  },
  "language_info": {
   "codemirror_mode": {
    "name": "ipython",
    "version": 3
   },
   "file_extension": ".py",
   "mimetype": "text/x-python",
   "name": "python",
   "nbconvert_exporter": "python",
   "pygments_lexer": "ipython3",
   "version": "3.11.10"
  }
 },
 "nbformat": 4,
 "nbformat_minor": 2
}
