{
 "cells": [
  {
   "cell_type": "code",
   "execution_count": null,
   "metadata": {},
   "outputs": [],
   "source": [
    "import json\n",
    "# from together import Together\n",
    "from openai import OpenAI\n",
    "\n",
    "# togetherai_key = <insert togetherai key>\n",
    "together_client = Together(api_key=togetherai_key)\n",
    "\n",
    "# openai_key = <insert openai key>\n",
    "client = OpenAI(api_key=openai_key)"
   ]
  },
  {
   "cell_type": "code",
   "execution_count": 2,
   "metadata": {},
   "outputs": [],
   "source": [
    "# Loading all JSONs\n",
    "\n",
    "with open ('/cs/labs/tomhope/yuvalbus/pmc/pythonProject/largeListsGuy/ref_extractions.json', 'r') as f:\n",
    "    ref_extractions = json.load(f)\n",
    "\n",
    "with open('/cs/labs/tomhope/yuvalbus/pmc/pythonProject/largeListsGuy/case_summary_pairs_list.json', 'r') as f:\n",
    "    case_summary_pairs_list = json.load(f)\n",
    "\n",
    "with open ('/cs/labs/tomhope/yuvalbus/pmc/pythonProject/largeListsGuy/matching_uids_xml_paths.json', 'r') as f:\n",
    "    matching_uids_xml_paths = json.load(f)\n",
    "\n",
    "with open('/cs/labs/tomhope/yuvalbus/pmc/pythonProject/largeListsGuy/citation_extrac_list.json', 'r') as f:\n",
    "    citation_list = json.load(f)\n",
    "\n",
    "with open ('/cs/labs/tomhope/yuvalbus/pmc/pythonProject/largeListsGuy/matching_uids_pmid_list.json', 'r') as f:\n",
    "    matching_uids_pmid_list = json.load(f)\n",
    "\n",
    "with open('/cs/labs/tomhope/yuvalbus/pmc/pythonProject/largeListsGuy/o3_mini_response_list.json', 'r') as f:\n",
    "    o3_mini_response_list = json.load(f)\n",
    "\n",
    "with open('/cs/labs/tomhope/yuvalbus/pmc/pythonProject/largeListsGuy/indices_list.json', 'r') as f:\n",
    "    citation_valid_indices = json.load(f)\n",
    "\n",
    "with open('/cs/labs/tomhope/yuvalbus/pmc/pythonProject/largeListsGuy/generated_questions.json', 'r') as f:\n",
    "    generated_questions = json.load(f)\n",
    "\n",
    "with open('/cs/labs/tomhope/yuvalbus/pmc/pythonProject/largeListsGuy/summaries_valid_indices.json', 'r') as g:\n",
    "    summaries_valid_indices = json.load(g)\n",
    "\n",
    "with open('/cs/labs/tomhope/yuvalbus/pmc/pythonProject/largeListsGuy/common_indices.json', 'r') as g:\n",
    "    common_indices = json.load(g)"
   ]
  },
  {
   "cell_type": "code",
   "execution_count": 3,
   "metadata": {},
   "outputs": [],
   "source": [
    "### citation_valid_indices_dict was not saved as json because it turns the keys into strings (instead of ints) ###\n",
    "citation_valid_indices_dict = {citation_valid_indices[idx]: idx for idx in range(len(citation_valid_indices))}"
   ]
  },
  {
   "cell_type": "markdown",
   "metadata": {},
   "source": [
    "* o3_mini_response_list:\n",
    "    * Length - 31,080\n",
    "    * Content - The reason for citation between each similar patient pair\n",
    "    * Recall that len(matching_uids) is 31,692, hence 612 pairs could not be extracted in o3_mini_response_list.\n",
    "\n",
    "* citation_valid_indices:\n",
    "    * Length - 31,080\n",
    "    * Content - Created for index alignment between matching_uids and o3_mini_response_list.\n",
    "      E.g., citation_valid_indices[0] == 0, citation_valid_indices[31079] == 31691\n",
    "\n",
    "* citation_valid_indices_dict:\n",
    "    * Length - 31,080\n",
    "    * Content -\n",
    "        * Keys - The index in matching_uids\n",
    "        * Values - The corresponding index in o3_mini_response_list\n",
    "\n",
    "* case_summary_pairs_list:\n",
    "    * Length - 31,692\n",
    "    * Content - A list in which each pair represents the two summaries of similar patients A and B.\n",
    "    * 83 elements contain 0/1 summaries, we want to drop them out.\n",
    "    * Hence, the actual number of valid summaries is 31,609.\n",
    "\n",
    "* common_indices:\n",
    "    * Length - 31,002\n",
    "    * Content - Contains all of the valid indices (0-31,691) recognized by both citation and summary extraction.\n",
    "\n",
    "* generated_questions:\n",
    "    * Length - 31,002\n",
    "    * Content - For each valid common index, contains the generated questions given case1, case2 and citation reason.\n",
    "    \n",
    "Why did we write all that? For answer generation prompt, we'll have:\n",
    "\n",
    "1. curr_index = common_indices[11135]\n",
    "\n",
    "2. case1 = case_summary_pairs_list[curr_index][0]\n",
    "\n",
    "3. case2 = case_summary_pairs_list[curr_index][1]\n",
    "\n",
    "4. citation_reason = o3_mini_response_list[citation_valid_indices_dict[curr_index]]\n",
    "\n",
    "5. curr_questions = generated_questions[11135]\n",
    "\n",
    "Why in 'citation_reason', we do:  \n",
    "'o3_mini_response_list[citation_valid_indices_dict[curr_index]]'  \n",
    "Instead of just:  \n",
    "'o3_mini_response_list[curr_index]'?  \n",
    "\n",
    "Because curr_index is the aligned index (between 0 and 31,691), while o3_mini_response_list contains less than 31,692 elements (31,080).\n",
    "We need that dictionary to map between the aligned index, and the actual index in o3_mini_response_list.\n",
    "\n",
    "\n",
    "Why in 'curr_questions' we use the same index as used in 'common_indices'?\n",
    "\n",
    "Because 'curr_questions' and 'common_indices' are of the same length. As long we go over each INDEX of 'common_indices' (0-31,001),\n",
    "rather than each ELEMENT of 'common_indices' (0-31,691) - we keep the alignment."
   ]
  },
  {
   "cell_type": "code",
   "execution_count": 4,
   "metadata": {},
   "outputs": [
    {
     "data": {
      "text/plain": [
       "31002"
      ]
     },
     "execution_count": 4,
     "metadata": {},
     "output_type": "execute_result"
    }
   ],
   "source": [
    "len(common_indices)"
   ]
  },
  {
   "cell_type": "code",
   "execution_count": 5,
   "metadata": {},
   "outputs": [],
   "source": [
    "idx = 101\n",
    "common_index = common_indices[idx]\n",
    "\n",
    "case1 = case_summary_pairs_list[common_index][0]\n",
    "\n",
    "case2 = case_summary_pairs_list[common_index][1]\n",
    "\n",
    "citation_reason = o3_mini_response_list[citation_valid_indices_dict[common_index]]\n",
    "\n",
    "curr_questions = generated_questions[idx]\n",
    "\n",
    "answering_prompt = \"\"\"You will be given case details for Case A, Case B, Reason for Citation (one case cites the other), along with a list of questions.\n",
    "You are an experienced clinician specializing in medical imaging. Previously, a list of comparative, clinically oriented questions was generated for the two cases.\n",
    "Now, your task is to answer those questions in a way that highlights the diagnostic similarities and differences between the two cases.\n",
    "DO NOT provide any additional information or context outside of the answers to the questions.\n",
    "\"\"\"\n",
    "# Instructions for answering:\n",
    "\n",
    "# 1. **Refer to Both Cases**  \n",
    "#    - You will be given the same case details for Case A, Case B, Reason for Citation, along with the full list of questions.\n",
    "#    - Answer each question by explicitly referencing the relevant details from Case A and Case B that support your conclusion.\n",
    "\n",
    "# 2. **Structure of Answers**  \n",
    "#    - For yes/no questions, begin your response with a clear “Yes” or “No,” then provide a brief rationale.\n",
    "#    - For open-ended or more detailed comparative questions, give a concise yet clinically thorough answer.\n",
    "#    - If you need to highlight differences in imaging findings, symptoms, or etiologies, do so clearly and directly.\n",
    "#    - Split each answer to 'In case A, ...' and 'In case B, ...'\n",
    "\n",
    "# 3. **Clinical Depth & Relevance**  \n",
    "#    - Focus on the clinical significance of each answer, referencing imaging features, pathophysiology, or typical clinical presentation.\n",
    "#    - Avoid tangential or purely theoretical discussion; make sure each answer directly relates to the question and helps differentiate or confirm diagnoses.\n",
    "\n",
    "# 4. **Accuracy & Clarity**  \n",
    "#    - Base your answers on standard radiological and clinical knowledge, ensuring that any assertions are consistent with typical findings and established practice.\n",
    "#    - If you must make an assumption (e.g., missing data), state it explicitly and provide your best inference based on standard clinical reasoning.\n",
    "\n",
    "# 5. **Format**  \n",
    "#    - Number your answers to match the questions.\n",
    "#    - Keep them concise, but complete enough to stand as a definitive answer.\n",
    "# \"\"\"\n",
    "\n",
    "answering_user = f\"\"\"Below are the two case descriptions and the set of questions to be answered.\n",
    "\n",
    "---\n",
    "Case A:\n",
    "{case1}\n",
    "\n",
    "Case B:\n",
    "{case2}\n",
    "\n",
    "Reason for Citation, Possible Similarities and Explanation:\n",
    "{citation_reason}\n",
    "\n",
    "Questions:\n",
    "{curr_questions}\n",
    "---\n",
    "\n",
    "Provide your answers now:\n",
    "\"\"\"\n"
   ]
  },
  {
   "cell_type": "code",
   "execution_count": 6,
   "metadata": {},
   "outputs": [
    {
     "name": "stdout",
     "output_type": "stream",
     "text": [
      "Below are the two case descriptions and the set of questions to be answered.\n",
      "\n",
      "---\n",
      "Case A:\n",
      "A 48 year old male presented to our emergency department with pain and restriction of movements involving both shoulders following a fall. A thorough history into the mechanism of fall revealed that the patient was a known diabetic on oral hypoglycaemic drugs and following a syncopal attack, he fell on his outstretched right hand with the body weight falling on it, causing it to dislocate posteriorly. And a bystander in trying to prevent the patient from falling held on to his left upper limb, which was pulled into abduction, extension and external rotation producing an anterior dislocation on the left side. A detailed clinical examination showed flattening of deltoid contours on both sides. Humeral head was palpable posteriorly on the right side and anteriorly on the left side. Surprisingly, there were no characteristic deformities with the arms hanging by the side of the body. Attempted range of motion was painful on both sides. Plain radiograph anteroposterior view of both shoulders showed posterior dislocation of right shoulder with a fracture of greater tuberosity and anterior dislocation of left shoulder with a greater tuberosity fracture. Special radiographs including axillary lateral and scapular Y view were taken which confirmed the findings. He was not a known epileptic and did not give any history of a seizure episode in the past. He did not have any history of dislocation in the past. There were no features suggestive of generalized ligamentous laxity. Clinical photograph with no deformity Radiograph “anteroposterior view” showing posterior fracture dislocation of right shoulder [electric bulb sign and anterior fracture dislocation of left shoulder Radiograph “scapular y view” of both shoulders A closed reduction was achieved for both shoulders under general anaesthesia, anterior dislocation was reduced easily by Kochers method, and posterior was reduced by giving gentle traction on the arm in flexion and adduction, with a direct pressure to the humeral head from behind, but as the posterior dislocation was unstable, after reduction, it was immobilised by spica in slight flexion and abduction with 20 degrees external rotation, whereas a chest arm bandage was applied for the other side. Post reduction check X-ray showed concentric reduction of both shoulders with minimal displacement of fracture fragments. The spica and bandage were removed after 3 weeks and shoulder pendulum exercises were initiated. After a couple of weeks, complete range of motion exercises were started. X-ray of bilateral shoulders, at 3 months, showed complete union of the fracture. Both the shoulders have satisfactory painless range of motion with no instability. Written informed consent was obtained from the patient for publication of his details in this report.\n",
      "\n",
      "Case B:\n",
      "Our patient was 35 year old male who presented to emergency department with history of fall by tripping on a stone (fall on outstretched hand). Post trauma patient had pain and difficulty moving both the shoulders. Patient was a known alcoholic, with previous history of one episode of shoulder dislocation on right side about 2 years prior to the present episode, which was adequately treated with closed reduction and immobilisation for 3 weeks. Patient does not give any history of convulsions (past or present) and no other neuro-muscular problems. On clinical examination, patient's both upper limbs were abducted and externally rotated. Bilaterally shoulder contour was lost with flattening. Other classical signs of shoulder dislocation viz, Bryants test, Callway sign, Hamilton's ruler test were positive. Radiographs of both shoulders were obtained and clinical diagnosis of SBAD was confirmed. Both shoulders were reduced in emergency operation theater under general anaesthesia by Kocher's method and were immobilized in sling. The left was immobilized with 90° elbow flexion and the right at 110° flexion for 3 weeks. Reduction was confirmed post operatively with X-rays. Intermitted assisted excercises where started from second week onwards and at the end of immobilization patient was advised vigorous supervised physiotherapy. By six week post injury patient had full range of adduction, flexion and internal rotation. Abduction up to 110° was possible. Patient was advised to be cautious while doing overhead activities especially which require abduction and external rotation of shoulder. Pre-op AP X-ray showing B/L shoulder dislocations Post-op AP X-ray of both shoulders.(Post reduction)\n",
      "\n",
      "Reason for Citation, Possible Similarities and Explanation:\n",
      "Reason for Citation: To reference a previous case report of bilateral anterior shoulder dislocation for comparison.  \n",
      "Possible Similarities: Both cases involve bilateral shoulder dislocations following trauma.  \n",
      "Explanation: The citing paper discusses a unique case of asymmetrical dislocation—posterior on one side and anterior on the other—while the cited paper reports simultaneous bilateral anterior dislocations, thereby providing a basis to contrast injury mechanisms and clinical presentations.  \n",
      "Confidence: Medium\n",
      "\n",
      "Questions:\n",
      "Level 1: Broad Context  \n",
      "1. Do both cases involve imaging of the shoulder joint as the primary focus?  \n",
      "2. Are both patients evaluated using plain radiographs as the initial imaging modality?  \n",
      "\n",
      "Level 2: General Diagnosis Category  \n",
      "3. Can both cases be classified as traumatic shoulder dislocations?  \n",
      "4. Are both cases associated with a history of falls leading to shoulder dislocations?  \n",
      "\n",
      "Level 3: Specific Features & Findings  \n",
      "5. Is there a difference in the type of shoulder dislocation, with Case A displaying an asymmetrical pattern (posterior on one side and anterior on the other) versus bilateral anterior dislocations in Case B?  \n",
      "6. Do the imaging findings in Case A (i.e., “electric bulb sign” and confirmed via axillary and scapular Y views) differ significantly in diagnostic clarity compared to the AP views used in Case B?  \n",
      "7. Was there greater soft tissue or tuberosity involvement in one case compared to the other (e.g., Case A reporting greater tuberosity fractures alongside dislocations versus no fracture details in Case B)?  \n",
      "8. Do both cases share similar mechanisms of injury involving a fall on an outstretched hand, despite the additional complicating factors in Case A (e.g., one dislocation from bystander-assisted arm movement)?  \n",
      "9. Are there any differences in past history (e.g., prior dislocation in Case B versus no previous dislocation in Case A) that might affect treatment and prognosis?  \n",
      "10. Do the management strategies (reduction techniques and immobilization protocols) used in both cases suggest a similar prognosis for range of motion and shoulder stability?\n",
      "---\n",
      "\n",
      "Provide your answers now:\n",
      "\n"
     ]
    }
   ],
   "source": [
    "print(answering_user)"
   ]
  },
  {
   "cell_type": "code",
   "execution_count": 8,
   "metadata": {},
   "outputs": [
    {
     "data": {
      "text/plain": [
       "15500"
      ]
     },
     "execution_count": 8,
     "metadata": {},
     "output_type": "execute_result"
    }
   ],
   "source": [
    "lst1 = []\n",
    "for i in range(len(common_indices))[:len(common_indices)//2]:\n",
    "    lst1.append(i)\n",
    "\n",
    "\n",
    "lst2 = []\n",
    "for i in range(len(common_indices))[len(common_indices)//2:]:\n",
    "    lst2.append(i)\n",
    "\n",
    "\n",
    "lst1[-1]"
   ]
  },
  {
   "cell_type": "code",
   "execution_count": 9,
   "metadata": {},
   "outputs": [],
   "source": [
    "with open(\"/cs/labs/tomhope/yuvalbus/pmc/pythonProject/largeListsGuy/batch_requests_answer_gen_part1.jsonl\", \"w\", encoding=\"utf-8\") as f:\n",
    "    for idx in range(len(common_indices))[:len(common_indices)//2]:\n",
    "        common_index = common_indices[idx]\n",
    "        case1 = case_summary_pairs_list[common_index][0]\n",
    "        case2 = case_summary_pairs_list[common_index][1]\n",
    "        citation_reason = o3_mini_response_list[citation_valid_indices_dict[common_index]]\n",
    "        curr_questions = generated_questions[idx]\n",
    "\n",
    "        answering_user = f\"\"\"Below are the two case descriptions and the set of questions to be answered.\n",
    "\n",
    "        ---\n",
    "        Case A:\n",
    "        {case1}\n",
    "\n",
    "        Case B:\n",
    "        {case2}\n",
    "\n",
    "        Reason for Citation, Possible Similarities and Explanation:\n",
    "        {citation_reason}\n",
    "\n",
    "        Questions:\n",
    "        {curr_questions}\n",
    "        ---\n",
    "\n",
    "        Provide your answers now:\n",
    "        \"\"\"\n",
    "\n",
    "        request_obj = {\n",
    "            \"custom_id\": f\"request-{idx+1}\",\n",
    "            \"method\": \"POST\",\n",
    "            \"url\": \"/v1/chat/completions\",\n",
    "            \"body\": {\n",
    "                    \"model\": \"gpt-4.1-mini\",\n",
    "                    \"messages\": [\n",
    "                        {\n",
    "                            \"role\": \"developer\",\n",
    "                            \"content\": f\"{answering_prompt}\"\n",
    "                        },\n",
    "                        {\n",
    "                            \"role\": \"user\",\n",
    "                            \"content\": f\"{answering_user}\"\n",
    "                        }\n",
    "                    ],\n",
    "            }\n",
    "        }\n",
    "        # Write each object on a new line in the JSONL file\n",
    "        f.write(json.dumps(request_obj, ensure_ascii=False) + \"\\n\")"
   ]
  },
  {
   "cell_type": "code",
   "execution_count": 10,
   "metadata": {},
   "outputs": [],
   "source": [
    "with open(\"/cs/labs/tomhope/yuvalbus/pmc/pythonProject/largeListsGuy/batch_requests_answer_gen_part2.jsonl\", \"w\", encoding=\"utf-8\") as f:\n",
    "    for idx in range(len(common_indices))[len(common_indices)//2:]:\n",
    "        common_index = common_indices[idx]\n",
    "        case1 = case_summary_pairs_list[common_index][0]\n",
    "        case2 = case_summary_pairs_list[common_index][1]\n",
    "        citation_reason = o3_mini_response_list[citation_valid_indices_dict[common_index]]\n",
    "        curr_questions = generated_questions[idx]\n",
    "\n",
    "        answering_user = f\"\"\"Below are the two case descriptions and the set of questions to be answered.\n",
    "\n",
    "        ---\n",
    "        Case A:\n",
    "        {case1}\n",
    "\n",
    "        Case B:\n",
    "        {case2}\n",
    "\n",
    "        Reason for Citation, Possible Similarities and Explanation:\n",
    "        {citation_reason}\n",
    "\n",
    "        Questions:\n",
    "        {curr_questions}\n",
    "        ---\n",
    "\n",
    "        Provide your answers now:\n",
    "        \"\"\"\n",
    "\n",
    "        request_obj = {\n",
    "            \"custom_id\": f\"request-{idx+1}\",\n",
    "            \"method\": \"POST\",\n",
    "            \"url\": \"/v1/chat/completions\",\n",
    "            \"body\": {\n",
    "                    \"model\": \"gpt-4.1-mini\",\n",
    "                    \"messages\": [\n",
    "                        {\n",
    "                            \"role\": \"developer\",\n",
    "                            \"content\": f\"{answering_prompt}\"\n",
    "                        },\n",
    "                        {\n",
    "                            \"role\": \"user\",\n",
    "                            \"content\": f\"{answering_user}\"\n",
    "                        }\n",
    "                    ],\n",
    "            }\n",
    "        }\n",
    "        # Write each object on a new line in the JSONL file\n",
    "        f.write(json.dumps(request_obj, ensure_ascii=False) + \"\\n\")"
   ]
  },
  {
   "cell_type": "code",
   "execution_count": 15,
   "metadata": {},
   "outputs": [],
   "source": [
    "with open(\"/cs/labs/tomhope/yuvalbus/pmc/pythonProject/largeListsGuy/batch_requests_answer_gen_part1.jsonl\", 'r') as f:\n",
    "    batch_requests_answer_gen_part1 = [json.loads(line) for line in f]\n",
    "\n",
    "\n",
    "with open(\"/cs/labs/tomhope/yuvalbus/pmc/pythonProject/largeListsGuy/batch_requests_answer_gen_part2.jsonl\", 'r') as g:\n",
    "    batch_requests_answer_gen_part2 = [json.loads(line) for line in g]\n"
   ]
  },
  {
   "cell_type": "code",
   "execution_count": 63,
   "metadata": {},
   "outputs": [],
   "source": [
    "batch_input_file_part1 = client.files.create(\n",
    "  file=open(\"/cs/labs/tomhope/yuvalbus/pmc/pythonProject/largeListsGuy/batch_requests_answer_gen_part1.jsonl\", \"rb\"),\n",
    "  purpose=\"batch\"\n",
    ")\n"
   ]
  },
  {
   "cell_type": "code",
   "execution_count": null,
   "metadata": {},
   "outputs": [
    {
     "data": {
      "text/plain": [
       "Batch(id='batch_680deaafc07881909985669b824d064d', completion_window='24h', created_at=1745742511, endpoint='/v1/chat/completions', input_file_id='file-4joKQFnoYeb9uvUDmuFZvP', object='batch', status='validating', cancelled_at=None, cancelling_at=None, completed_at=None, error_file_id=None, errors=None, expired_at=None, expires_at=1745828911, failed_at=None, finalizing_at=None, in_progress_at=None, metadata={'description': 'Generating answers to questions based on case details and citation reasons - Part 1.'}, output_file_id=None, request_counts=BatchRequestCounts(completed=0, failed=0, total=0))"
      ]
     },
     "execution_count": 64,
     "metadata": {},
     "output_type": "execute_result"
    }
   ],
   "source": [
    "# batch_input_file_id_part1 = batch_input_file_part1.id\n",
    "\n",
    "# client.batches.create(\n",
    "#     input_file_id=batch_input_file_id_part1,\n",
    "#     endpoint=\"/v1/chat/completions\",\n",
    "#     completion_window=\"24h\",\n",
    "#     metadata={\n",
    "#       \"description\": \"Generating answers to questions based on case details and citation reasons - Part 1.\",\n",
    "#     }\n",
    "# )\n"
   ]
  },
  {
   "cell_type": "code",
   "execution_count": 4,
   "metadata": {},
   "outputs": [
    {
     "data": {
      "text/plain": [
       "Batch(id='batch_680deaafc07881909985669b824d064d', completion_window='24h', created_at=1745742511, endpoint='/v1/chat/completions', input_file_id='file-4joKQFnoYeb9uvUDmuFZvP', object='batch', status='completed', cancelled_at=None, cancelling_at=None, completed_at=1745747087, error_file_id=None, errors=None, expired_at=None, expires_at=1745828911, failed_at=None, finalizing_at=1745745662, in_progress_at=1745742523, metadata={'description': 'Generating answers to questions based on case details and citation reasons - Part 1.'}, output_file_id='file-Rvyz8ycBPx4t6KfhVLKaL2', request_counts=BatchRequestCounts(completed=15501, failed=0, total=15501))"
      ]
     },
     "execution_count": 4,
     "metadata": {},
     "output_type": "execute_result"
    }
   ],
   "source": [
    "client.batches.retrieve(\"batch_680deaafc07881909985669b824d064d\")"
   ]
  },
  {
   "cell_type": "code",
   "execution_count": 10,
   "metadata": {},
   "outputs": [],
   "source": [
    "file_response = client.files.content('file-Rvyz8ycBPx4t6KfhVLKaL2')\n",
    "file_response_text = file_response.text\n",
    "\n",
    "json_strings = file_response_text.strip().splitlines()\n",
    "\n",
    "# Parse each JSON string into a dictionary and store in a list\n",
    "response_dicts = [json.loads(line) for line in json_strings]\n",
    "\n",
    "generated_answers_part1 = [response_dicts[i]['response']['body']['choices'][0]['message']['content'] for i in range(len(response_dicts))]"
   ]
  },
  {
   "cell_type": "code",
   "execution_count": 6,
   "metadata": {},
   "outputs": [
    {
     "data": {
      "text/plain": [
       "'Level 1 – Broad Context:\\n1. Yes, both cases utilize ultrasound imaging of the pelvis to evaluate early pregnancy complications, including transvaginal ultrasound and, in Case B, also transabdominal ultrasound.\\n2. Yes, both cases focus on assessing the presence of an intrauterine pregnancy alongside an ectopic gestation.\\n\\nLevel 2 – General Diagnosis Category:\\n3. Yes, in both cases, the coexistence of an intrauterine gestation with an adnexal mass contributes to a provisional diagnosis of heterotopic pregnancy.\\n4. Yes, both cases presented with clinical signs of hemoperitoneum requiring emergency surgical intervention (laparoscopy and tubal surgery/salpingectomy).\\n\\nLevel 3 – Specific Features & Findings:\\n5. Yes, both cases demonstrated imaging evidence consistent with tubal ectopic pregnancies, including confirmation of ruptured tubes and complex adnexal masses.\\n6. Doppler ultrasound was specifically mentioned and used in Case B to assess vascularity and low resistance flow within the ectopic trophoblastic tissue; in Case A, Doppler use is not explicitly described.\\n7. Yes, the clinical presentations in both cases included acute abdominal pain and signs of peritoneal irritation with hemoperitoneum, supporting a parallel management approach involving urgent surgical treatment.\\n8. Yes, both cases successfully preserved the intrauterine gestation after managing the ruptured ectopic pregnancy surgically, with ongoing viable intrauterine pregnancies reported postoperatively.'"
      ]
     },
     "execution_count": 6,
     "metadata": {},
     "output_type": "execute_result"
    }
   ],
   "source": [
    "generated_answers_part1[15500]"
   ]
  },
  {
   "cell_type": "code",
   "execution_count": null,
   "metadata": {},
   "outputs": [],
   "source": []
  },
  {
   "cell_type": "code",
   "execution_count": 28,
   "metadata": {},
   "outputs": [],
   "source": [
    "batch_input_file_part2 = client.files.create(\n",
    "  file=open(\"/cs/labs/tomhope/yuvalbus/pmc/pythonProject/largeListsGuy/batch_requests_answer_gen_part2.jsonl\", \"rb\"),\n",
    "  purpose=\"batch\"\n",
    ")\n"
   ]
  },
  {
   "cell_type": "code",
   "execution_count": null,
   "metadata": {},
   "outputs": [
    {
     "data": {
      "text/plain": [
       "Batch(id='batch_680e129435308190950894b1eb26d155', completion_window='24h', created_at=1745752724, endpoint='/v1/chat/completions', input_file_id='file-B476YVnoLwuL1mQSdArvPX', object='batch', status='validating', cancelled_at=None, cancelling_at=None, completed_at=None, error_file_id=None, errors=None, expired_at=None, expires_at=1745839124, failed_at=None, finalizing_at=None, in_progress_at=None, metadata={'description': 'Generating answers to questions based on case details and citation reasons - Part 2.'}, output_file_id=None, request_counts=BatchRequestCounts(completed=0, failed=0, total=0))"
      ]
     },
     "execution_count": 29,
     "metadata": {},
     "output_type": "execute_result"
    }
   ],
   "source": [
    "# batch_input_file_id_part2 = batch_input_file_part2.id\n",
    "\n",
    "# client.batches.create(\n",
    "#     input_file_id=batch_input_file_id_part2,\n",
    "#     endpoint=\"/v1/chat/completions\",\n",
    "#     completion_window=\"24h\",\n",
    "#     metadata={\n",
    "#       \"description\": \"Generating answers to questions based on case details and citation reasons - Part 2.\",\n",
    "#     }\n",
    "# )\n"
   ]
  },
  {
   "cell_type": "code",
   "execution_count": 5,
   "metadata": {},
   "outputs": [
    {
     "data": {
      "text/plain": [
       "Batch(id='batch_680e129435308190950894b1eb26d155', completion_window='24h', created_at=1745752724, endpoint='/v1/chat/completions', input_file_id='file-B476YVnoLwuL1mQSdArvPX', object='batch', status='completed', cancelled_at=None, cancelling_at=None, completed_at=1745772825, error_file_id=None, errors=None, expired_at=None, expires_at=1745839124, failed_at=None, finalizing_at=1745771564, in_progress_at=1745752731, metadata={'description': 'Generating answers to questions based on case details and citation reasons - Part 2.'}, output_file_id='file-Vj78apbM2pF4xG3WZho9zU', request_counts=BatchRequestCounts(completed=15501, failed=0, total=15501))"
      ]
     },
     "execution_count": 5,
     "metadata": {},
     "output_type": "execute_result"
    }
   ],
   "source": [
    "client.batches.retrieve(\"batch_680e129435308190950894b1eb26d155\")"
   ]
  },
  {
   "cell_type": "code",
   "execution_count": 6,
   "metadata": {},
   "outputs": [],
   "source": [
    "file_response = client.files.content('file-Vj78apbM2pF4xG3WZho9zU')\n",
    "file_response_text = file_response.text\n",
    "\n",
    "json_strings = file_response_text.strip().splitlines()\n",
    "\n",
    "# Parse each JSON string into a dictionary and store in a list\n",
    "response_dicts = [json.loads(line) for line in json_strings]\n",
    "\n",
    "generated_answers_part2 = [response_dicts[i]['response']['body']['choices'][0]['message']['content'] for i in range(len(response_dicts))]"
   ]
  },
  {
   "cell_type": "code",
   "execution_count": 7,
   "metadata": {},
   "outputs": [
    {
     "data": {
      "text/plain": [
       "15501"
      ]
     },
     "execution_count": 7,
     "metadata": {},
     "output_type": "execute_result"
    }
   ],
   "source": [
    "len(generated_answers_part2)"
   ]
  },
  {
   "cell_type": "code",
   "execution_count": 19,
   "metadata": {},
   "outputs": [
    {
     "data": {
      "text/plain": [
       "31002"
      ]
     },
     "execution_count": 19,
     "metadata": {},
     "output_type": "execute_result"
    }
   ],
   "source": [
    "generated_answers = generated_answers_part1 + generated_answers_part2\n",
    "len(generated_answers)"
   ]
  },
  {
   "cell_type": "code",
   "execution_count": 20,
   "metadata": {},
   "outputs": [],
   "source": [
    "with open('/cs/labs/tomhope/yuvalbus/pmc/pythonProject/largeListsGuy/generated_answers.json', 'w') as f:\n",
    "    json.dump(generated_answers, f)"
   ]
  },
  {
   "cell_type": "code",
   "execution_count": 21,
   "metadata": {},
   "outputs": [],
   "source": [
    "with open('/cs/labs/tomhope/yuvalbus/pmc/pythonProject/largeListsGuy/generated_answers.json', 'r') as f:\n",
    "    generated_answers = json.load(f)"
   ]
  },
  {
   "cell_type": "code",
   "execution_count": null,
   "metadata": {},
   "outputs": [],
   "source": []
  },
  {
   "cell_type": "code",
   "execution_count": null,
   "metadata": {},
   "outputs": [],
   "source": []
  },
  {
   "cell_type": "code",
   "execution_count": 5,
   "metadata": {},
   "outputs": [
    {
     "data": {
      "text/plain": [
       "['/cs/labs/tomhope/yuvalbus/pmc/pythonProject/data2/PMC4719281/4719281_1/JOCR-3-19.nxml',\n",
       " '/cs/labs/tomhope/yuvalbus/pmc/pythonProject/data2/PMC4719241/4719241_1/JOCR-3-35.nxml']"
      ]
     },
     "execution_count": 5,
     "metadata": {},
     "output_type": "execute_result"
    }
   ],
   "source": [
    "matching_uids_xml_paths[common_index]"
   ]
  },
  {
   "cell_type": "code",
   "execution_count": 1,
   "metadata": {},
   "outputs": [
    {
     "ename": "NameError",
     "evalue": "name 'answering_user' is not defined",
     "output_type": "error",
     "traceback": [
      "\u001b[0;31m---------------------------------------------------------------------------\u001b[0m",
      "\u001b[0;31mNameError\u001b[0m                                 Traceback (most recent call last)",
      "Cell \u001b[0;32mIn[1], line 1\u001b[0m\n\u001b[0;32m----> 1\u001b[0m \u001b[38;5;28mprint\u001b[39m(\u001b[43manswering_user\u001b[49m)\n",
      "\u001b[0;31mNameError\u001b[0m: name 'answering_user' is not defined"
     ]
    }
   ],
   "source": [
    "print(answering_user)"
   ]
  },
  {
   "cell_type": "code",
   "execution_count": 159,
   "metadata": {},
   "outputs": [],
   "source": [
    "response = client.responses.create(\n",
    "    model=\"o4-mini\",\n",
    "    reasoning={\"effort\": \"low\"},\n",
    "    input=[\n",
    "        {\n",
    "            \"role\": \"developer\",\n",
    "            \"content\": f\"{answering_prompt}\"\n",
    "        },\n",
    "        {\n",
    "            \"role\": \"user\",\n",
    "            \"content\": f\"{answering_user}\"\n",
    "        }\n",
    "    ],\n",
    ")\n"
   ]
  },
  {
   "cell_type": "code",
   "execution_count": 160,
   "metadata": {},
   "outputs": [
    {
     "name": "stdout",
     "output_type": "stream",
     "text": [
      "Level 1  \n",
      "1. Yes. Both cases focus on imaging of the shoulder joints.  \n",
      "2. Yes. Both used plain radiographs (AP view) as the initial imaging.  \n",
      "\n",
      "Level 2  \n",
      "3. Yes. Both are traumatic shoulder dislocations.  \n",
      "4. Yes. Both resulted from falls leading to shoulder dislocations.  \n",
      "\n",
      "Level 3  \n",
      "5. Yes. Case A shows asymmetrical dislocations (right posterior, left anterior) versus bilateral anterior dislocations in Case B.  \n",
      "6. Yes. Case A required the “electric bulb” sign plus axillary and scapular Y views for confirmation, whereas Case B relied on standard AP views.  \n",
      "7. Yes. Case A had associated greater tuberosity fractures; Case B reports no fractures.  \n",
      "8. Yes. Both injuries followed falls on an outstretched hand; Case A also involved bystander-induced traction causing the left anterior dislocation.  \n",
      "9. Yes. Case B had a prior right shoulder dislocation; Case A had no previous dislocations.  \n",
      "10. Both used closed reduction under general anesthesia (Kocher’s method) and post-reduction immobilization, with gradual physiotherapy leading to good ROM and stability; despite differences in immobilization angles and protocols, both have a similar favorable prognosis.\n"
     ]
    }
   ],
   "source": [
    "print(response.output_text)"
   ]
  },
  {
   "cell_type": "code",
   "execution_count": 161,
   "metadata": {},
   "outputs": [
    {
     "name": "stdout",
     "output_type": "stream",
     "text": [
      "Input Tokens: 1433\n",
      "Output Tokens: 460\n",
      "Total Tokens: 1893\n",
      "Price: 0.0036$\n"
     ]
    }
   ],
   "source": [
    "print(\"Input Tokens:\", response.usage.input_tokens)\n",
    "print(\"Output Tokens:\", response.usage.output_tokens)\n",
    "# print(\"Reasoning Tokens:\", response.usage.output_tokens_details.reasoning_tokens)\n",
    "print(\"Total Tokens:\", response.usage.total_tokens)\n",
    "\n",
    "def calc_price(response, input_per_millon, output_per_million):\n",
    "    input_price = (input_per_millon * response.usage.input_tokens) * 10**-6\n",
    "    output_price = (output_per_million * response.usage.output_tokens) * 10**-6\n",
    "    return input_price + output_price\n",
    "\n",
    "\n",
    "price = calc_price(response, 1.1, 4.4)\n",
    "print(f\"Price: {price:.4f}$\")"
   ]
  },
  {
   "cell_type": "code",
   "execution_count": null,
   "metadata": {},
   "outputs": [],
   "source": []
  },
  {
   "cell_type": "code",
   "execution_count": 7,
   "metadata": {},
   "outputs": [],
   "source": [
    "response = client.responses.create(\n",
    "    model=\"gpt-4.1-mini\",\n",
    "    input=[\n",
    "        {\n",
    "            \"role\": \"developer\",\n",
    "            \"content\": f\"{answering_prompt}\"\n",
    "        },\n",
    "        {\n",
    "            \"role\": \"user\",\n",
    "            \"content\": f\"{answering_user}\"\n",
    "        }\n",
    "    ],\n",
    ")\n"
   ]
  },
  {
   "cell_type": "code",
   "execution_count": 163,
   "metadata": {},
   "outputs": [
    {
     "name": "stdout",
     "output_type": "stream",
     "text": [
      "Level 1: Broad Context  \n",
      "1. Yes, both cases involve imaging of the shoulder joint as the primary focus.  \n",
      "2. Yes, both patients were initially evaluated using plain radiographs.  \n",
      "\n",
      "Level 2: General Diagnosis Category  \n",
      "3. Yes, both cases can be classified as traumatic shoulder dislocations.  \n",
      "4. Yes, both cases are associated with a history of falls leading to shoulder dislocations.  \n",
      "\n",
      "Level 3: Specific Features & Findings  \n",
      "5. Yes, there is a difference: Case A presents an asymmetrical dislocation pattern (right posterior and left anterior), whereas Case B involves bilateral anterior dislocations.  \n",
      "6. Yes, imaging in Case A includes findings such as the “electric bulb sign” and uses special views (axillary lateral and scapular Y) to confirm diagnosis, providing greater diagnostic clarity compared to Case B, which primarily reports AP views.  \n",
      "7. Yes, Case A reports greater tuberosity fractures on both sides alongside dislocations, while Case B does not mention any associated fractures.  \n",
      "8. Yes, both cases share similar mechanisms involving falls on outstretched hands; however, Case A has an additional complicating factor of a bystander pulling the opposite arm causing anterior dislocation, whereas Case B’s mechanism is a straightforward fall.  \n",
      "9. Yes, there is a difference: Case B has a history of prior shoulder dislocation on the right side, which may influence treatment and prognosis, whereas Case A reports no previous dislocations.  \n",
      "10. Yes, both cases used closed reduction under general anesthesia followed by immobilization and physiotherapy, resulting in satisfactory range of motion and stability, suggesting similar positive prognoses.\n"
     ]
    }
   ],
   "source": [
    "print(response.output_text)"
   ]
  },
  {
   "cell_type": "code",
   "execution_count": 164,
   "metadata": {},
   "outputs": [
    {
     "name": "stdout",
     "output_type": "stream",
     "text": [
      "Input Tokens: 1434\n",
      "Output Tokens: 337\n",
      "Total Tokens: 1771\n",
      "Price: 0.0011$\n"
     ]
    }
   ],
   "source": [
    "print(\"Input Tokens:\", response.usage.input_tokens)\n",
    "print(\"Output Tokens:\", response.usage.output_tokens)\n",
    "print(\"Total Tokens:\", response.usage.total_tokens)\n",
    "\n",
    "def calc_price(response, input_per_millon, output_per_million):\n",
    "    input_price = (input_per_millon * response.usage.input_tokens) * 10**-6\n",
    "    output_price = (output_per_million * response.usage.output_tokens) * 10**-6\n",
    "    return input_price + output_price\n",
    "\n",
    "\n",
    "price = calc_price(response, 0.4, 1.6)\n",
    "print(f\"Price: {price:.4f}$\")"
   ]
  },
  {
   "cell_type": "code",
   "execution_count": 14,
   "metadata": {},
   "outputs": [
    {
     "name": "stdout",
     "output_type": "stream",
     "text": [
      "1472-6823-14-49.nxml  4067084_1_1.txt  4067084_1_2.txt\n",
      "4067084_1_1.jpg       4067084_1_2.jpg\n"
     ]
    }
   ],
   "source": [
    "!ls /cs/labs/tomhope/yuvalbus/pmc/pythonProject/data2/PMC4067084/4067084_1"
   ]
  },
  {
   "cell_type": "code",
   "execution_count": 15,
   "metadata": {},
   "outputs": [
    {
     "name": "stdout",
     "output_type": "stream",
     "text": [
      "Non contrast Computed Tomography (CT) of chest, abdomen and pelvis; transverse and coronal views."
     ]
    }
   ],
   "source": [
    "!cat /cs/labs/tomhope/yuvalbus/pmc/pythonProject/data2/PMC4067084/4067084_1/4067084_1_1.txt"
   ]
  },
  {
   "cell_type": "code",
   "execution_count": 16,
   "metadata": {},
   "outputs": [
    {
     "name": "stdout",
     "output_type": "stream",
     "text": [
      "Hematoxylin and Eosin (H&E) staining of surgically resected tumor. Magnification 40x."
     ]
    }
   ],
   "source": [
    "!cat /cs/labs/tomhope/yuvalbus/pmc/pythonProject/data2/PMC4067084/4067084_1/4067084_1_2.txt"
   ]
  },
  {
   "cell_type": "code",
   "execution_count": 18,
   "metadata": {},
   "outputs": [
    {
     "name": "stdout",
     "output_type": "stream",
     "text": [
      "3457717_1_1.jpg  3457717_1_2.jpg  CRIM2012-628756.nxml\n",
      "3457717_1_1.txt  3457717_1_2.txt\n"
     ]
    }
   ],
   "source": [
    "!ls /cs/labs/tomhope/yuvalbus/pmc/pythonProject/data2/PMC3457717/3457717_1"
   ]
  },
  {
   "cell_type": "code",
   "execution_count": 19,
   "metadata": {},
   "outputs": [
    {
     "name": "stdout",
     "output_type": "stream",
     "text": [
      "MRI scan demonstrates the recurred tumor mostly involved right posterior fossa."
     ]
    }
   ],
   "source": [
    "!cat /cs/labs/tomhope/yuvalbus/pmc/pythonProject/data2/PMC3457717/3457717_1/3457717_1_1.txt"
   ]
  },
  {
   "cell_type": "code",
   "execution_count": 20,
   "metadata": {},
   "outputs": [
    {
     "name": "stdout",
     "output_type": "stream",
     "text": [
      "Histology and immunohistochemistry of meningeal hemangiopericytoma. (a) H&E 20x A hypercellular tumor with staghorn blood vessels. (b) Immunostaining of CD99 is diffuse and strong positive. (c) Immunostaining of CD 34 reveals variable positive."
     ]
    }
   ],
   "source": [
    "!cat /cs/labs/tomhope/yuvalbus/pmc/pythonProject/data2/PMC3457717/3457717_1/3457717_1_2.txt"
   ]
  },
  {
   "cell_type": "code",
   "execution_count": null,
   "metadata": {},
   "outputs": [],
   "source": []
  },
  {
   "cell_type": "code",
   "execution_count": null,
   "metadata": {},
   "outputs": [],
   "source": []
  },
  {
   "cell_type": "code",
   "execution_count": null,
   "metadata": {},
   "outputs": [],
   "source": []
  },
  {
   "cell_type": "code",
   "execution_count": null,
   "metadata": {},
   "outputs": [],
   "source": []
  },
  {
   "cell_type": "code",
   "execution_count": null,
   "metadata": {},
   "outputs": [],
   "source": []
  },
  {
   "cell_type": "code",
   "execution_count": null,
   "metadata": {},
   "outputs": [],
   "source": []
  },
  {
   "cell_type": "markdown",
   "metadata": {},
   "source": [
    "**From now on, we'll experiment different encoders to catch similarity between case A answer and case B answer.**"
   ]
  },
  {
   "cell_type": "markdown",
   "metadata": {},
   "source": [
    "439 (PMC5406076, PMC6689908)  \n"
   ]
  },
  {
   "cell_type": "code",
   "execution_count": null,
   "metadata": {},
   "outputs": [],
   "source": []
  },
  {
   "cell_type": "code",
   "execution_count": null,
   "metadata": {},
   "outputs": [],
   "source": [
    "from sentence_transformers import SentenceTransformer"
   ]
  },
  {
   "cell_type": "code",
   "execution_count": 98,
   "metadata": {},
   "outputs": [],
   "source": [
    "# sen1 = \"In Case A: No. Although adjuvant therapy was considered, it was deferred by the oncologist due to the very poor prognosis in this young child and possibly due to the aggressive postoperative course; the patient unfortunately succumbed to his illness 5 months postoperatively.\"\n",
    "# sen2 = \"In Case B: Yes. The adult patient received an aggressive adjuvant treatment regimen including craniospinal irradiation, a local boost, and multiple courses of multiagent chemotherapy, which contributed to a favorable outcome with more than 2 years of recurrence-free follow-up.\"\n",
    "\n",
    "sen1 = \"In Case A: Yes. The patient underwent MRI with contrast enhancement and additional magnetic resonance spectroscopy (MRS) to assess metabolic features.\"\n",
    "sen2 = \"In Case B: Yes. The evaluation was primarily with contrast-enhanced MRI, which detailed the solid and cystic components. (While spectroscopy was not performed in Case B, both used MRI with contrast as the key modalit\"\n",
    "\n",
    "\n",
    "sentences = [sen1, sen2]"
   ]
  },
  {
   "cell_type": "code",
   "execution_count": 105,
   "metadata": {},
   "outputs": [],
   "source": [
    "model = SentenceTransformer('sentence-transformers/all-mpnet-base-v2')\n",
    "embeddings = model.encode(sentences)"
   ]
  },
  {
   "cell_type": "code",
   "execution_count": 106,
   "metadata": {},
   "outputs": [
    {
     "name": "stdout",
     "output_type": "stream",
     "text": [
      "Cosine similarity between 0 and 1: 0.6678763031959534\n"
     ]
    }
   ],
   "source": [
    "import torch\n",
    "import torch.nn.functional as F\n",
    "\n",
    "idx_a = 0\n",
    "idx_b = 1\n",
    "\n",
    "a = torch.tensor(embeddings[idx_a])\n",
    "b = torch.tensor(embeddings[idx_b])\n",
    "\n",
    "# F.cosine_similarity expects tensors with an extra dimension if you compute across a batch.\n",
    "# Here, for a single pair of vectors, we can add a batch dimension.\n",
    "a_2d = a.unsqueeze(0)  # shape (1, 3)\n",
    "b_2d = b.unsqueeze(0)  # shape (1, 3)\n",
    "\n",
    "# dim=1 means we treat each row as a vector and compute similarity along features (columns).\n",
    "similarity = F.cosine_similarity(a_2d, b_2d, dim=1)\n",
    "\n",
    "print(f\"Cosine similarity between {idx_a} and {idx_b}:\", similarity.item())\n"
   ]
  },
  {
   "cell_type": "code",
   "execution_count": null,
   "metadata": {},
   "outputs": [
    {
     "name": "stdout",
     "output_type": "stream",
     "text": [
      "[[-1.14403320e-02  3.55402678e-02 -6.49787188e-02  2.85187662e-02\n",
      "  -6.95913956e-02 -2.47340854e-02  6.67356849e-02  3.89381163e-02\n",
      "  -4.09621000e-02  5.15950322e-02  9.18183848e-02  1.84400886e-01\n",
      "  -8.50416906e-03  4.07558121e-02 -1.89403556e-02  7.87346438e-02\n",
      "   9.67198089e-02  4.24947850e-02  2.16073897e-02  2.70406082e-02\n",
      "  -6.16211854e-02  2.72715110e-02 -6.41249167e-03  5.95295690e-02\n",
      "  -9.74445604e-03 -6.67739883e-02 -2.21402757e-02  2.50036027e-02\n",
      "  -2.53274776e-02  3.11616994e-02 -2.58509186e-03 -6.13423884e-02\n",
      "  -6.03324510e-02 -5.02152406e-02 -3.56790051e-02 -5.37888287e-03\n",
      "  -1.13530075e-02  8.39234889e-02 -3.21301930e-02  7.15836436e-02\n",
      "   2.51444299e-02  7.36918971e-02 -8.20456222e-02  1.09235831e-02\n",
      "   5.19106314e-02 -1.35764644e-01 -6.09100908e-02 -7.37459958e-02\n",
      "  -6.29536668e-03  2.71262359e-02 -4.73186485e-02 -3.21800746e-02\n",
      "   1.11923525e-02  1.95217784e-02 -6.79730922e-02 -4.96086739e-02\n",
      "  -5.62511086e-02  2.56017894e-02 -7.01818708e-03  4.91014607e-02\n",
      "  -5.04838303e-02 -6.15890548e-02 -3.80792096e-02  1.70221142e-02\n",
      "   1.33298878e-02 -1.68247018e-02  8.47165808e-02 -1.25609696e-01\n",
      "   8.48201439e-02  8.50674137e-02  9.29389447e-02 -3.40658799e-02\n",
      "   9.05659124e-02  1.94930080e-02 -5.08678518e-02  5.73459314e-03\n",
      "   4.22188640e-02  1.96868666e-02  1.02875896e-01 -5.15923910e-02\n",
      "   1.20773520e-02 -7.49265403e-03 -1.13556283e-02  1.01486212e-02\n",
      "   1.30435135e-02 -7.08525032e-02  7.69816618e-03 -7.74923488e-02\n",
      "  -1.65066663e-02  6.41242415e-03  7.41452724e-02  2.63188388e-02\n",
      "  -4.31367080e-04 -1.53021133e-02 -2.23005805e-02 -5.65708391e-02\n",
      "  -3.90207544e-02 -2.93247141e-02 -8.00850764e-02 -2.93052215e-02\n",
      "  -9.47185326e-03  2.36688312e-02 -1.50488298e-02  4.07350957e-02\n",
      "  -3.00254812e-03 -3.43641676e-02  2.43222713e-02 -5.44303507e-02\n",
      "  -2.35201437e-02  6.34532468e-03 -4.08298485e-02  6.00222684e-02\n",
      "   9.54857618e-02 -1.55995991e-02 -6.24900907e-02  1.52339146e-01\n",
      "  -7.04080462e-02 -1.03798613e-01  2.73539852e-02 -9.48150009e-02\n",
      "   6.31126538e-02  1.07315229e-02  3.16586569e-02  2.75661983e-02\n",
      "   2.43459386e-03 -5.25354221e-02  3.79226431e-02  1.93916877e-33\n",
      "   4.46019359e-02 -9.23230574e-02  1.83044802e-02  5.77455619e-03\n",
      "  -1.98428594e-02  6.94629252e-02  4.43516895e-02 -6.87781647e-02\n",
      "   7.28057697e-03 -1.01026222e-01 -8.02046526e-03 -8.23188275e-02\n",
      "   1.03589267e-01 -3.55623215e-02 -5.84780462e-02  1.94166042e-02\n",
      "  -6.15599193e-02  4.73544747e-02 -5.26790097e-02  1.79648716e-02\n",
      "   4.98651015e-03  2.75051519e-02 -5.06249964e-02  1.11919250e-02\n",
      "  -1.33021083e-02  3.28828134e-02 -2.75966544e-02  8.45592842e-02\n",
      "  -2.97882762e-02  5.33013642e-02 -5.47925476e-03  4.98077311e-02\n",
      "  -6.83845486e-03  3.50591056e-02 -6.29750565e-02  1.83806475e-02\n",
      "  -4.02063783e-03  3.16038840e-02  9.16723534e-02  1.19783599e-02\n",
      "  -5.83477318e-03  3.01202387e-02  1.98148750e-02  1.43996831e-02\n",
      "   7.46106543e-03 -1.27901316e-01 -4.46339212e-02 -6.66465759e-02\n",
      "  -4.82352115e-02  4.02375236e-02  8.45202878e-02  6.00001833e-04\n",
      "  -2.36025024e-02 -9.77848247e-02 -2.56154295e-02  1.03293568e-01\n",
      "   4.46197623e-03  1.17815554e-01  2.32242863e-03  4.25877459e-02\n",
      "   4.21775840e-02 -9.56847444e-02 -7.81930462e-02 -6.57548476e-03\n",
      "  -9.42580849e-02  3.34751122e-02  3.29474248e-02 -4.73852307e-02\n",
      "  -1.20393198e-03 -8.84148180e-02 -3.83281112e-02  3.42620090e-02\n",
      "  -7.26507464e-03 -2.56658401e-02 -3.39512229e-02  3.23175313e-03\n",
      "   5.88400476e-02  1.22267911e-02 -4.28195596e-02  1.27594499e-02\n",
      "  -4.95627197e-03 -4.22037393e-02 -4.76603210e-02  1.21387713e-01\n",
      "  -2.50412747e-02 -3.76253352e-02 -1.31034562e-02  5.99774206e-03\n",
      "  -6.77609220e-02  2.13810755e-03  2.52868310e-02 -5.98482927e-03\n",
      "  -2.13103928e-02  2.71519013e-02  4.66924682e-02 -5.26898225e-33\n",
      "  -1.38682136e-02 -5.61013864e-03  5.16773984e-02 -3.35022397e-02\n",
      "  -1.05200559e-02  1.66057306e-03 -4.83361259e-02  9.14402679e-03\n",
      "   3.42484331e-03 -8.99941195e-03 -3.31779867e-02  2.92156525e-02\n",
      "  -3.72197293e-02  2.22713947e-02 -1.03779636e-01  5.57244048e-02\n",
      "  -4.18562591e-02  1.76901091e-03 -3.22863385e-02  2.47419719e-03\n",
      "   7.62679502e-02  2.76968144e-02  1.35365874e-02  2.06656978e-02\n",
      "   4.39672768e-02  3.42784561e-02  3.56521122e-02  2.45723762e-02\n",
      "   2.31082421e-02 -4.73874137e-02  7.70223737e-02 -4.32285964e-02\n",
      "   6.17528111e-02  1.20232413e-02  4.10431214e-02  1.52188782e-02\n",
      "   9.21949837e-03 -1.67563669e-02 -8.55585262e-02  4.39286828e-02\n",
      "   3.40382531e-02 -7.96182156e-02  2.46821530e-02  7.43791834e-02\n",
      "   1.03982992e-01 -3.55298147e-02  2.40621548e-02  1.62582304e-02\n",
      "   6.00356646e-02  3.81655395e-02 -2.78828330e-02  4.07930724e-02\n",
      "   6.71123415e-02  3.56003009e-02  3.37078096e-03 -5.22336885e-02\n",
      "  -6.37114868e-02 -3.85525636e-02 -4.44648378e-02  3.26747596e-02\n",
      "   4.82373424e-02 -1.93237718e-02 -1.04641467e-02 -1.17973991e-01\n",
      "   3.82941365e-02  1.13214605e-01 -3.82671282e-02 -3.30293253e-02\n",
      "  -1.14470124e-02 -3.35874148e-02  9.32174828e-03  4.79112528e-02\n",
      "  -1.76339239e-01 -5.24506159e-02  1.18524516e-02 -2.40324419e-02\n",
      "   2.37879381e-02  5.67764323e-03 -4.86400500e-02  7.84861147e-02\n",
      "  -4.76208031e-02 -3.16289067e-02  4.34535556e-02 -4.70280759e-02\n",
      "  -2.13885903e-02 -4.73503210e-02 -3.56527790e-02 -8.33933949e-02\n",
      "  -3.49639379e-03  1.25157796e-02  6.66323826e-02 -5.72873205e-02\n",
      "   1.42274117e-02 -7.52098486e-02 -6.81257397e-02 -3.88295796e-08\n",
      "   7.55403414e-02  9.72299203e-02  2.73637306e-02  1.85968950e-02\n",
      "  -1.90740395e-02 -5.19088320e-02 -4.77252491e-02 -3.49119529e-02\n",
      "  -3.09994221e-02  6.22709543e-02 -3.86114009e-02  7.54253119e-02\n",
      "   3.97479832e-02 -1.77700147e-02 -1.65321827e-02 -8.11863542e-02\n",
      "  -3.36297005e-02 -1.06314830e-02 -1.96393710e-02 -7.06342980e-03\n",
      "  -2.96796784e-02 -1.98083129e-02 -7.11413240e-03  2.75233202e-02\n",
      "  -3.74971516e-02 -3.59068289e-02  3.69014181e-02 -7.29291281e-03\n",
      "  -5.02409488e-02 -1.83929969e-02  1.55447135e-02  7.97862560e-03\n",
      "   1.08781075e-02 -4.14388627e-02 -1.01122819e-01 -9.42945182e-02\n",
      "   6.37044087e-02 -2.00915318e-02  1.74707007e-02 -1.78740602e-02\n",
      "   3.81490886e-02  6.81822821e-02  4.02843766e-02  7.06603229e-02\n",
      "   3.19827236e-02  1.10802604e-02 -5.39725795e-02 -1.70213711e-02\n",
      "   4.53281440e-02 -2.74658184e-02 -3.33498940e-02 -3.47561128e-02\n",
      "   5.04315738e-03 -9.79248360e-02 -7.69477561e-02  3.06810383e-02\n",
      "  -1.82386441e-03 -2.76409574e-02 -6.56759068e-02 -1.01124286e-03\n",
      "   8.21802206e-03  1.74965430e-02  5.85349239e-02  4.94090021e-02]\n",
      " [ 2.44278368e-02  1.35052614e-02 -4.14944366e-02  2.05417760e-02\n",
      "  -5.61623126e-02 -1.53257046e-02  2.77875103e-02  3.82695012e-02\n",
      "  -6.46146433e-03  2.91026868e-02  7.10855275e-02  1.42391577e-01\n",
      "   5.83354793e-02  1.99632719e-02  9.24450159e-03  6.37907833e-02\n",
      "   6.08682446e-02  1.37214754e-02  2.46038716e-02  8.38331878e-02\n",
      "  -1.25895724e-01  3.43581173e-03  3.84647548e-02  1.00648947e-01\n",
      "  -6.55589923e-02 -8.73096883e-02 -1.25888027e-02  4.10339534e-02\n",
      "   3.77197191e-02  9.80675314e-03  4.06918116e-02  2.01099031e-02\n",
      "  -1.93228461e-02 -2.76216343e-02 -1.91506045e-03 -4.87054251e-02\n",
      "  -8.67154822e-02  4.58231010e-02 -1.03522390e-01  1.06351726e-01\n",
      "  -4.46639676e-03 -8.50024726e-03 -2.96519790e-02  2.66537871e-02\n",
      "   6.87142238e-02 -8.07510689e-02 -2.59527285e-02 -5.25139123e-02\n",
      "   2.87242960e-02  3.42594646e-02 -2.73757521e-02 -4.64529097e-02\n",
      "   4.78785532e-03  6.59380332e-02  6.42890483e-03 -5.56972623e-02\n",
      "  -4.90907207e-02  7.20008314e-02  1.70951504e-02  1.21848740e-01\n",
      "  -4.35007289e-02 -8.64174962e-02 -9.92218964e-03 -5.04329335e-03\n",
      "   8.64368454e-02  6.08674437e-03 -2.79068723e-02 -1.26740530e-01\n",
      "   6.36384562e-02  9.68116596e-02  3.69872265e-02 -6.53091520e-02\n",
      "   1.46209924e-02 -1.32825421e-02 -7.87171796e-02 -3.99411321e-02\n",
      "   1.87845435e-03  1.44547448e-02  1.08749941e-01 -4.35960256e-02\n",
      "  -4.01949883e-02  1.66238043e-02 -3.36745232e-02  1.13242688e-02\n",
      "   1.95767973e-02 -7.88622200e-02 -1.10025844e-02  7.63748726e-03\n",
      "  -2.52223550e-03  2.56173369e-02  4.21574675e-02  1.04103096e-01\n",
      "  -6.90152729e-03 -3.50094885e-02 -7.94262812e-02 -4.10525827e-03\n",
      "  -6.57698587e-02 -5.35001755e-02 -4.40039076e-02  2.99497172e-02\n",
      "   4.67805378e-03 -5.19601367e-02 -1.04168151e-02  2.69012749e-02\n",
      "  -3.12080812e-02 -3.13340239e-02  2.53226142e-02 -4.52954359e-02\n",
      "  -5.08872755e-02  1.49717210e-02 -4.39023301e-02  3.71507704e-02\n",
      "   4.28422503e-02  3.89850289e-02 -3.97549905e-02  8.80752131e-02\n",
      "  -5.52694984e-02 -4.42047901e-02  8.56349692e-02 -5.49623333e-02\n",
      "   7.33526275e-02 -4.12946604e-02  4.39028926e-02 -5.60644753e-02\n",
      "   5.49704991e-02 -3.76641229e-02  4.05333340e-02  2.52820403e-33\n",
      "   1.17821591e-02 -6.65036915e-03 -3.20076421e-02  3.88075627e-04\n",
      "  -5.27906604e-02  7.63878226e-02  1.57389361e-02 -2.64514573e-02\n",
      "  -2.21205465e-02 -8.80007967e-02  2.75036674e-02  1.04695428e-02\n",
      "   1.26746610e-01  3.54840909e-03 -5.09073846e-02  5.10367751e-03\n",
      "  -3.73077835e-03  1.14695176e-01 -9.36480984e-02 -1.98082216e-02\n",
      "   3.49230804e-02 -7.86793325e-03 -3.99679542e-02  2.70760860e-02\n",
      "  -4.03361879e-02  2.22341320e-03 -4.85164709e-02  6.47488460e-02\n",
      "  -3.71171609e-02  6.47228258e-03  3.10145617e-02  3.04403286e-02\n",
      "  -6.52904361e-02  3.61222550e-02 -4.80793938e-02  1.33087225e-02\n",
      "   1.97219476e-02  7.25587085e-03  5.51779643e-02  3.50277387e-02\n",
      "  -1.27715329e-02  3.85975242e-02  2.93889958e-02  2.37041377e-02\n",
      "   3.29442546e-02 -1.43828794e-01 -8.91375840e-02 -9.64740589e-02\n",
      "  -1.23704985e-01 -5.09179607e-02  3.99575345e-02  1.10859266e-02\n",
      "  -9.56628937e-03 -3.55389304e-02  8.18233937e-03  9.99890715e-02\n",
      "  -5.92552833e-02  1.12728044e-01  8.19317158e-03  5.35258241e-02\n",
      "   8.65861475e-02 -5.64989299e-02 -5.89753799e-02  1.82116497e-02\n",
      "  -2.47193258e-02  3.37495618e-02 -2.22816747e-02 -4.63012941e-02\n",
      "  -1.45419315e-02  1.13964994e-02  5.95555529e-02  2.66450085e-02\n",
      "   2.37869099e-02  2.43802201e-02  4.40913346e-03 -5.77749610e-02\n",
      "   3.73350568e-02  5.45540042e-02 -4.61132713e-02  8.98356959e-02\n",
      "  -4.64546941e-02 -2.06134543e-02 -8.07065144e-02  1.11058451e-01\n",
      "   6.72485214e-03 -4.20222916e-02  4.74226195e-03 -2.05967091e-02\n",
      "  -1.69101804e-02  9.27020609e-03  4.00149673e-02 -7.44067356e-02\n",
      "  -1.15865849e-04  5.01534902e-02  5.15907183e-02 -4.02254718e-33\n",
      "  -3.81603576e-02  4.93359491e-02  6.03315942e-02 -5.71978018e-02\n",
      "   2.57891808e-02  3.37443240e-02 -6.34327829e-02  1.21115288e-02\n",
      "  -2.87650004e-02 -3.87091823e-02  6.50605038e-02  7.00379023e-03\n",
      "  -4.23469059e-02 -3.20668006e-03 -7.84316137e-02  5.61724417e-03\n",
      "   6.63650036e-03 -3.02269403e-03 -3.05313934e-02 -2.35943925e-02\n",
      "   6.84979558e-02  3.32564451e-02  3.37554142e-02 -4.25584661e-03\n",
      "  -2.83946674e-02  2.46412866e-02  5.08861430e-02  1.60513893e-02\n",
      "  -5.64576918e-03  4.31341194e-02 -2.59973146e-02 -2.74855532e-02\n",
      "  -1.91816911e-02  4.19807807e-02  8.82470310e-02 -1.66245233e-02\n",
      "   1.90563896e-03 -5.67858331e-02 -4.62419912e-02  8.63991603e-02\n",
      "   1.44715132e-02 -5.36656603e-02  2.08533872e-02  8.14353973e-02\n",
      "   9.22646821e-02 -3.81376818e-02 -5.51678017e-02  6.32688552e-02\n",
      "   6.95034489e-02 -8.09560064e-03 -5.59131838e-02  3.72098982e-02\n",
      "   3.52769531e-02 -8.98750266e-04  7.71851419e-03 -9.48951393e-02\n",
      "  -3.22375670e-02 -4.70064059e-02 -3.79479676e-02 -1.35704577e-02\n",
      "  -3.26648839e-02  7.39212008e-03 -8.00615475e-02 -4.59394269e-02\n",
      "   4.31687497e-02  1.31767169e-01 -1.86772570e-02 -5.93672283e-02\n",
      "   4.18848321e-02 -4.14969549e-02  2.02650633e-02 -1.34841632e-03\n",
      "  -1.15601309e-01 -2.14641895e-02 -1.36315338e-02  2.23306902e-02\n",
      "   4.85508703e-02 -4.34035016e-03 -3.02327834e-02 -2.46389844e-02\n",
      "  -9.71026942e-02 -2.93335970e-02  9.82714817e-03 -1.04166120e-02\n",
      "  -5.70776686e-02 -1.50826145e-02 -4.65725213e-02 -1.33980215e-01\n",
      "   1.45943067e-03 -3.43162380e-02  7.88324922e-02 -5.63685969e-02\n",
      "   1.82602610e-02 -3.38761061e-02 -3.58201005e-02 -4.25056221e-08\n",
      "   2.59085298e-02  6.05839081e-02  1.72093008e-02  4.10669036e-02\n",
      "   1.82596669e-02  1.07454211e-02 -9.91363451e-02 -1.31780896e-02\n",
      "  -4.39209044e-02  2.26768125e-02 -2.68073920e-02  7.08501339e-02\n",
      "   1.05346173e-01 -1.31294513e-02 -3.82794961e-02  4.25798111e-02\n",
      "   4.95251603e-02 -6.24794466e-03 -1.13554373e-02 -6.29776902e-03\n",
      "  -1.36268223e-02 -3.55262086e-02  2.34192498e-02  1.35038635e-02\n",
      "  -1.18124567e-01  3.99552695e-02  4.27133068e-02  2.21036910e-03\n",
      "  -1.90374050e-02 -4.09992822e-02  8.37237164e-02 -1.74887921e-03\n",
      "  -1.59199778e-02  8.79125390e-03 -3.74132879e-02 -5.10300659e-02\n",
      "   3.38090248e-02 -5.16829714e-02  5.18244766e-02  9.93221253e-03\n",
      "   2.16856170e-02  8.35718289e-02 -1.90379526e-02  6.85231760e-02\n",
      "  -5.64113073e-02 -1.87418901e-03 -3.59363481e-02 -7.64228180e-02\n",
      "   3.86824645e-02 -1.35877505e-01  4.29397970e-02 -5.09976707e-02\n",
      "   3.31891775e-02 -6.33390695e-02 -9.46415141e-02  4.72167209e-02\n",
      "   5.56182675e-02 -6.13112189e-02 -1.64168961e-02  7.51887029e-03\n",
      "   7.58471666e-03 -2.37531159e-02  4.08024294e-03  5.14766760e-03]]\n"
     ]
    }
   ],
   "source": [
    "model = SentenceTransformer('sentence-transformers/all-MiniLM-L6-v2')\n",
    "embeddings = model.encode(sentences)"
   ]
  },
  {
   "cell_type": "code",
   "execution_count": 77,
   "metadata": {},
   "outputs": [
    {
     "name": "stdout",
     "output_type": "stream",
     "text": [
      "Cosine similarity between 0 and 1: 0.6878408789634705\n"
     ]
    }
   ],
   "source": [
    "import torch\n",
    "import torch.nn.functional as F\n",
    "\n",
    "idx_a = 0\n",
    "idx_b = 1\n",
    "\n",
    "a = torch.tensor(embeddings[idx_a])\n",
    "b = torch.tensor(embeddings[idx_b])\n",
    "\n",
    "# F.cosine_similarity expects tensors with an extra dimension if you compute across a batch.\n",
    "# Here, for a single pair of vectors, we can add a batch dimension.\n",
    "a_2d = a.unsqueeze(0)  # shape (1, 3)\n",
    "b_2d = b.unsqueeze(0)  # shape (1, 3)\n",
    "\n",
    "# dim=1 means we treat each row as a vector and compute similarity along features (columns).\n",
    "similarity = F.cosine_similarity(a_2d, b_2d, dim=1)\n",
    "\n",
    "print(f\"Cosine similarity between {idx_a} and {idx_b}:\", similarity.item())"
   ]
  },
  {
   "cell_type": "code",
   "execution_count": 84,
   "metadata": {},
   "outputs": [],
   "source": [
    "model = SentenceTransformer('pritamdeka/S-PubMedBert-MS-MARCO')\n",
    "embeddings = model.encode(sentences)"
   ]
  },
  {
   "cell_type": "code",
   "execution_count": 85,
   "metadata": {},
   "outputs": [
    {
     "name": "stdout",
     "output_type": "stream",
     "text": [
      "Cosine similarity between 0 and 1: 0.9592615365982056\n"
     ]
    }
   ],
   "source": [
    "import torch\n",
    "import torch.nn.functional as F\n",
    "\n",
    "idx_a = 0\n",
    "idx_b = 1\n",
    "\n",
    "a = torch.tensor(embeddings[idx_a])\n",
    "b = torch.tensor(embeddings[idx_b])\n",
    "\n",
    "# F.cosine_similarity expects tensors with an extra dimension if you compute across a batch.\n",
    "# Here, for a single pair of vectors, we can add a batch dimension.\n",
    "a_2d = a.unsqueeze(0)  # shape (1, 3)\n",
    "b_2d = b.unsqueeze(0)  # shape (1, 3)\n",
    "\n",
    "# dim=1 means we treat each row as a vector and compute similarity along features (columns).\n",
    "similarity = F.cosine_similarity(a_2d, b_2d, dim=1)\n",
    "\n",
    "print(f\"Cosine similarity between {idx_a} and {idx_b}:\", similarity.item())"
   ]
  },
  {
   "cell_type": "code",
   "execution_count": 101,
   "metadata": {},
   "outputs": [],
   "source": [
    "from sentence_transformers import CrossEncoder\n",
    "model = CrossEncoder('cross-encoder/nli-roberta-base')\n",
    "# scores = model.predict([('A man is eating pizza', 'A man eats something'), ('A black race car starts up in front of a crowd of people.', 'A man is driving down a lonely road.')])\n",
    "scores = model.predict([(sen1, sen2)])\n",
    "\n",
    "#Convert scores to labels\n",
    "label_mapping = ['contradiction', 'entailment', 'neutral']\n",
    "labels = [label_mapping[score_max] for score_max in scores.argmax(axis=1)]\n"
   ]
  },
  {
   "cell_type": "code",
   "execution_count": 102,
   "metadata": {},
   "outputs": [
    {
     "data": {
      "text/plain": [
       "['contradiction']"
      ]
     },
     "execution_count": 102,
     "metadata": {},
     "output_type": "execute_result"
    }
   ],
   "source": [
    "labels"
   ]
  },
  {
   "cell_type": "code",
   "execution_count": null,
   "metadata": {},
   "outputs": [],
   "source": [
    "import cv2\n",
    "import numpy as np\n",
    "\n",
    "# Load the compound figure\n",
    "image = cv2.imread('compound_figure.jpg')\n",
    "gray = cv2.cvtColor(image, cv2.COLOR_BGR2GRAY)\n",
    "\n",
    "# Apply thresholding: adjust the threshold value depending on your image's background\n",
    "_, thresh = cv2.threshold(gray, 240, 255, cv2.THRESH_BINARY_INV)\n",
    "\n",
    "# Use morphological closing to fill gaps in the sub-images' boundaries\n",
    "kernel = np.ones((5, 5), np.uint8)\n",
    "closed = cv2.morphologyEx(thresh, cv2.MORPH_CLOSE, kernel)\n",
    "\n",
    "# Find external contours in the processed image\n",
    "contours, _ = cv2.findContours(closed, cv2.RETR_EXTERNAL, cv2.CHAIN_APPROX_SIMPLE)\n",
    "\n",
    "# Loop over contours, filter out small regions (noise), and extract sub-images\n",
    "sub_images = []\n",
    "for i, cnt in enumerate(contours):\n",
    "    x, y, w, h = cv2.boundingRect(cnt)\n",
    "    # Filter out very small contours that might be noise\n",
    "    if w > 50 and h > 50:\n",
    "        sub_img = image[y:y+h, x:x+w]\n",
    "        sub_images.append(sub_img)\n",
    "        cv2.imwrite(f'sub_image_{i}.jpg', sub_img)\n",
    "\n",
    "print(f\"Extracted {len(sub_images)} sub-images.\")\n"
   ]
  },
  {
   "cell_type": "code",
   "execution_count": null,
   "metadata": {},
   "outputs": [],
   "source": []
  },
  {
   "cell_type": "code",
   "execution_count": null,
   "metadata": {},
   "outputs": [],
   "source": []
  },
  {
   "cell_type": "code",
   "execution_count": null,
   "metadata": {},
   "outputs": [],
   "source": []
  },
  {
   "cell_type": "code",
   "execution_count": null,
   "metadata": {},
   "outputs": [],
   "source": []
  }
 ],
 "metadata": {
  "kernelspec": {
   "display_name": "pmc_env",
   "language": "python",
   "name": "python3"
  },
  "language_info": {
   "codemirror_mode": {
    "name": "ipython",
    "version": 3
   },
   "file_extension": ".py",
   "mimetype": "text/x-python",
   "name": "python",
   "nbconvert_exporter": "python",
   "pygments_lexer": "ipython3",
   "version": "3.11.10"
  }
 },
 "nbformat": 4,
 "nbformat_minor": 2
}
