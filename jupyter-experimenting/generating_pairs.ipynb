{
 "cells": [
  {
   "cell_type": "code",
   "execution_count": 1,
   "id": "ca63d1b0",
   "metadata": {},
   "outputs": [],
   "source": [
    "import json\n",
    "import pandas as pd\n",
    "import os\n",
    "import numpy as np\n",
    "import tiktoken\n",
    "from pathlib import Path "
   ]
  },
  {
   "cell_type": "code",
   "execution_count": 2,
   "id": "b94af078",
   "metadata": {},
   "outputs": [],
   "source": [
    "filtered_csv_path = '/cs/labs/tomhope/yuvalbus/pmc/pythonProject/pythonFilesGuy/filtered_df.csv'\n",
    "filtered_df = pd.read_csv(filtered_csv_path)"
   ]
  },
  {
   "cell_type": "code",
   "execution_count": 3,
   "id": "0ba946fb",
   "metadata": {},
   "outputs": [
    {
     "data": {
      "text/plain": [
       "131155"
      ]
     },
     "execution_count": 3,
     "metadata": {},
     "output_type": "execute_result"
    }
   ],
   "source": [
    "len(filtered_df)"
   ]
  },
  {
   "cell_type": "code",
   "execution_count": 4,
   "id": "a60560cd",
   "metadata": {},
   "outputs": [
    {
     "data": {
      "text/html": [
       "<div>\n",
       "<style scoped>\n",
       "    .dataframe tbody tr th:only-of-type {\n",
       "        vertical-align: middle;\n",
       "    }\n",
       "\n",
       "    .dataframe tbody tr th {\n",
       "        vertical-align: top;\n",
       "    }\n",
       "\n",
       "    .dataframe thead th {\n",
       "        text-align: right;\n",
       "    }\n",
       "</style>\n",
       "<table border=\"1\" class=\"dataframe\">\n",
       "  <thead>\n",
       "    <tr style=\"text-align: right;\">\n",
       "      <th></th>\n",
       "      <th>image_path</th>\n",
       "      <th>caption_path</th>\n",
       "      <th>patient_uid</th>\n",
       "      <th>pmc_id</th>\n",
       "      <th>article_path</th>\n",
       "      <th>unique_articles_sim_patients</th>\n",
       "      <th>caption_text</th>\n",
       "      <th>caption_id</th>\n",
       "    </tr>\n",
       "  </thead>\n",
       "  <tbody>\n",
       "    <tr>\n",
       "      <th>0</th>\n",
       "      <td>PMC8167975/8167975_1/8167975_1_1.jpg</td>\n",
       "      <td>PMC8167975/8167975_1/8167975_1_1.txt</td>\n",
       "      <td>8167975-1</td>\n",
       "      <td>8167975</td>\n",
       "      <td>https://ncbi.nlm.nih.gov/pmc/articles/PMC8167975</td>\n",
       "      <td>['5563556-1']</td>\n",
       "      <td>Fundus photograph showed a yellowish white, pe...</td>\n",
       "      <td>8167975_1_1</td>\n",
       "    </tr>\n",
       "    <tr>\n",
       "      <th>1</th>\n",
       "      <td>PMC8167975/8167975_1/8167975_1_2.jpg</td>\n",
       "      <td>PMC8167975/8167975_1/8167975_1_2.txt</td>\n",
       "      <td>8167975-1</td>\n",
       "      <td>8167975</td>\n",
       "      <td>https://ncbi.nlm.nih.gov/pmc/articles/PMC8167975</td>\n",
       "      <td>['5563556-1']</td>\n",
       "      <td>B-scan demonstrated focal subretinal calcifica...</td>\n",
       "      <td>8167975_1_2</td>\n",
       "    </tr>\n",
       "    <tr>\n",
       "      <th>2</th>\n",
       "      <td>PMC8167975/8167975_1/8167975_1_3.jpg</td>\n",
       "      <td>PMC8167975/8167975_1/8167975_1_3.txt</td>\n",
       "      <td>8167975-1</td>\n",
       "      <td>8167975</td>\n",
       "      <td>https://ncbi.nlm.nih.gov/pmc/articles/PMC8167975</td>\n",
       "      <td>['5563556-1']</td>\n",
       "      <td>CT demonstrated a hyperdense choroidal plaque ...</td>\n",
       "      <td>8167975_1_3</td>\n",
       "    </tr>\n",
       "  </tbody>\n",
       "</table>\n",
       "</div>"
      ],
      "text/plain": [
       "                             image_path                          caption_path  \\\n",
       "0  PMC8167975/8167975_1/8167975_1_1.jpg  PMC8167975/8167975_1/8167975_1_1.txt   \n",
       "1  PMC8167975/8167975_1/8167975_1_2.jpg  PMC8167975/8167975_1/8167975_1_2.txt   \n",
       "2  PMC8167975/8167975_1/8167975_1_3.jpg  PMC8167975/8167975_1/8167975_1_3.txt   \n",
       "\n",
       "  patient_uid   pmc_id                                      article_path  \\\n",
       "0   8167975-1  8167975  https://ncbi.nlm.nih.gov/pmc/articles/PMC8167975   \n",
       "1   8167975-1  8167975  https://ncbi.nlm.nih.gov/pmc/articles/PMC8167975   \n",
       "2   8167975-1  8167975  https://ncbi.nlm.nih.gov/pmc/articles/PMC8167975   \n",
       "\n",
       "  unique_articles_sim_patients  \\\n",
       "0                ['5563556-1']   \n",
       "1                ['5563556-1']   \n",
       "2                ['5563556-1']   \n",
       "\n",
       "                                        caption_text   caption_id  \n",
       "0  Fundus photograph showed a yellowish white, pe...  8167975_1_1  \n",
       "1  B-scan demonstrated focal subretinal calcifica...  8167975_1_2  \n",
       "2  CT demonstrated a hyperdense choroidal plaque ...  8167975_1_3  "
      ]
     },
     "execution_count": 4,
     "metadata": {},
     "output_type": "execute_result"
    }
   ],
   "source": [
    "filtered_df.head(3)"
   ]
  },
  {
   "cell_type": "code",
   "execution_count": 5,
   "id": "37128fb2",
   "metadata": {},
   "outputs": [
    {
     "data": {
      "text/plain": [
       "188516"
      ]
     },
     "execution_count": 5,
     "metadata": {},
     "output_type": "execute_result"
    }
   ],
   "source": [
    "import pandas as pd\n",
    "df = pd.read_csv('/cs/labs/tomhope/yuvalbus/pmc/pythonProject/data2/final_csv2.csv')\n",
    "len(df)"
   ]
  },
  {
   "cell_type": "code",
   "execution_count": 6,
   "id": "7f390e34",
   "metadata": {},
   "outputs": [
    {
     "data": {
      "text/plain": [
       "131155"
      ]
     },
     "execution_count": 6,
     "metadata": {},
     "output_type": "execute_result"
    }
   ],
   "source": [
    "# 'filtered_df' refers to the paths corresponding to compound figures\n",
    "filtered_df = pd.read_csv('/cs/labs/tomhope/yuvalbus/pmc/pythonProject/pythonFilesGuy/filtered_df.csv')\n",
    "len(filtered_df)"
   ]
  },
  {
   "cell_type": "code",
   "execution_count": 7,
   "id": "a8ce92a9",
   "metadata": {},
   "outputs": [],
   "source": [
    "with open('/cs/labs/tomhope/yuvalbus/pmc/pythonProject/largeListsGuy/pairs_text_list.json') as f:\n",
    "    pairs_text_list = json.load(f)"
   ]
  },
  {
   "cell_type": "code",
   "execution_count": 8,
   "id": "1f302971",
   "metadata": {},
   "outputs": [
    {
     "data": {
      "text/plain": [
       "31692"
      ]
     },
     "execution_count": 8,
     "metadata": {},
     "output_type": "execute_result"
    }
   ],
   "source": [
    "len(pairs_text_list)"
   ]
  },
  {
   "cell_type": "code",
   "execution_count": 9,
   "id": "d74dd433",
   "metadata": {},
   "outputs": [
    {
     "data": {
      "text/plain": [
       "[[['/cs/labs/tomhope/yuvalbus/pmc/pythonProject/data2/PMC8167975/8167975_1/8167975_1_1.txt',\n",
       "   '/cs/labs/tomhope/yuvalbus/pmc/pythonProject/data2/PMC8167975/8167975_1/8167975_1_2.txt',\n",
       "   '/cs/labs/tomhope/yuvalbus/pmc/pythonProject/data2/PMC8167975/8167975_1/8167975_1_3.txt',\n",
       "   '/cs/labs/tomhope/yuvalbus/pmc/pythonProject/data2/PMC8167975/8167975_1/8167975_1_4.txt',\n",
       "   '/cs/labs/tomhope/yuvalbus/pmc/pythonProject/data2/PMC8167975/8167975_1/8167975_1_5.txt',\n",
       "   '/cs/labs/tomhope/yuvalbus/pmc/pythonProject/data2/PMC8167975/8167975_1/8167975_1_6.txt',\n",
       "   '/cs/labs/tomhope/yuvalbus/pmc/pythonProject/data2/PMC8167975/8167975_1/8167975_1_7.txt',\n",
       "   '/cs/labs/tomhope/yuvalbus/pmc/pythonProject/data2/PMC8167975/8167975_1/8167975_1_8.txt',\n",
       "   '/cs/labs/tomhope/yuvalbus/pmc/pythonProject/data2/PMC8167975/8167975_1/8167975_1_9.txt'],\n",
       "  ['/cs/labs/tomhope/yuvalbus/pmc/pythonProject/data2/PMC5563556/5563556_1/5563556_1_3.txt',\n",
       "   '/cs/labs/tomhope/yuvalbus/pmc/pythonProject/data2/PMC5563556/5563556_1/5563556_1_4.txt',\n",
       "   '/cs/labs/tomhope/yuvalbus/pmc/pythonProject/data2/PMC5563556/5563556_1/5563556_1_5.txt']]]"
      ]
     },
     "execution_count": 9,
     "metadata": {},
     "output_type": "execute_result"
    }
   ],
   "source": [
    "pairs_text_list[0:1]"
   ]
  },
  {
   "cell_type": "code",
   "execution_count": 10,
   "id": "3ec9ef8b",
   "metadata": {},
   "outputs": [],
   "source": [
    "# pairs_text = [\n",
    "#     [ [open(p, encoding=\"utf-8\").read().strip() for p in patient_group]\n",
    "#       for patient_group in pair ]\n",
    "#     for pair in pairs_text_list\n",
    "# ]\n",
    "\n",
    "with open('/cs/labs/tomhope/yuvalbus/pmc/pythonProject/largeListsGuy/pairs_text.json', 'r') as f:\n",
    "    pairs_text = json.load(f)"
   ]
  },
  {
   "cell_type": "code",
   "execution_count": 11,
   "id": "b004a363",
   "metadata": {},
   "outputs": [
    {
     "data": {
      "text/plain": [
       "31692"
      ]
     },
     "execution_count": 11,
     "metadata": {},
     "output_type": "execute_result"
    }
   ],
   "source": [
    "len(pairs_text)"
   ]
  },
  {
   "cell_type": "code",
   "execution_count": 12,
   "id": "aeb4129e",
   "metadata": {},
   "outputs": [],
   "source": [
    "# with open('/cs/labs/tomhope/yuvalbus/pmc/pythonProject/largeListsGuy/pairs_text.json', 'w') as f:\n",
    "#     json.dump(pairs_text, f)"
   ]
  },
  {
   "cell_type": "markdown",
   "id": "28c7d693",
   "metadata": {},
   "source": [
    "#### Creating a new 3D-list to keep track of the captions labels (e.g., '8167975_1_3')"
   ]
  },
  {
   "cell_type": "code",
   "execution_count": 13,
   "id": "161ce7c1",
   "metadata": {},
   "outputs": [
    {
     "data": {
      "text/plain": [
       "[[['Fundus photograph showed a yellowish white, peripapillary and sharply demarcated choroidal lesion involving the macula (white arrows)',\n",
       "   'B-scan demonstrated focal subretinal calcification next to the optic disc (white arrow)',\n",
       "   'CT demonstrated a hyperdense choroidal plaque with the same density as bone typically (white arrow)',\n",
       "   'OCT showed serous fluid exudates under the macula (white asterisk)',\n",
       "   'Right fundus showed an enlarged choroidal osteoma in most margins at posterior pole (white arrow) with schistose hemorrhage (black asterisk) beside macula compared to eight years ago. Partial decalcification on the inferior margin and visibility of large choroidal vessels were noted (white asterisk)',\n",
       "   'OCTA revealed unique features in the vascular changes of CNV in CO in the outer retinal layer and choroid capillary layers, and subretinal neovascularization (white arrow)',\n",
       "   'ICGA showed there was hypo-fluorescence at the peripapillary with faint hyper-fluorescence at the macular, corresponding to the location on the fundus photograph. The subretinal neovascularization of CNV was not obvious',\n",
       "   'OCT appreciated CNV and on the nasal atrophic retina',\n",
       "   'OCTA revealed the regression of choroidal neovascularization density and range in the outer retinal layer and choroid capillary layers. (white arrow)'],\n",
       "  ['B-scan ultrasonography imaging of the right eye reveals a choroidal lesion causing acoustic shadowing',\n",
       "   'Pre-treatment optical coherence tomography imaging shows subretinal fluid and an area of choroidal neovascularization with a lesion situated in the cornea and optic shadowing behind it',\n",
       "   'The subretinal fluid is reduced after intravitreal ranibizumab injection']]]"
      ]
     },
     "execution_count": 13,
     "metadata": {},
     "output_type": "execute_result"
    }
   ],
   "source": [
    "pairs_text[0:1]"
   ]
  },
  {
   "cell_type": "code",
   "execution_count": 14,
   "id": "425fe8b1",
   "metadata": {},
   "outputs": [
    {
     "data": {
      "text/plain": [
       "[[['8167975_1_1',\n",
       "   '8167975_1_2',\n",
       "   '8167975_1_3',\n",
       "   '8167975_1_4',\n",
       "   '8167975_1_5',\n",
       "   '8167975_1_6',\n",
       "   '8167975_1_7',\n",
       "   '8167975_1_8',\n",
       "   '8167975_1_9'],\n",
       "  ['5563556_1_3', '5563556_1_4', '5563556_1_5']]]"
      ]
     },
     "execution_count": 14,
     "metadata": {},
     "output_type": "execute_result"
    }
   ],
   "source": [
    "stems_3d = [\n",
    "    [\n",
    "        [Path(p).stem for p in sin_patient]   # 3rd level: every path in one patient\n",
    "        for sin_patient in pair              # 2nd level: both patients in the pair\n",
    "    ]\n",
    "    for pair in pairs_text_list              # 1st level: all pairs\n",
    "]\n",
    "\n",
    "stems_3d[0:1]\n"
   ]
  },
  {
   "cell_type": "code",
   "execution_count": null,
   "id": "8f5e7aeb",
   "metadata": {},
   "outputs": [],
   "source": []
  },
  {
   "cell_type": "code",
   "execution_count": null,
   "id": "791cea30",
   "metadata": {},
   "outputs": [],
   "source": []
  },
  {
   "cell_type": "code",
   "execution_count": 15,
   "id": "a8a6ccf9",
   "metadata": {},
   "outputs": [],
   "source": [
    "with open('/cs/labs/tomhope/yuvalbus/pmc/pythonProject/largeListsGuy/generated_answers.json', 'r') as f:\n",
    "    generated_answers = json.load(f)"
   ]
  },
  {
   "cell_type": "code",
   "execution_count": 16,
   "id": "3fa4101e",
   "metadata": {},
   "outputs": [
    {
     "data": {
      "text/plain": [
       "31002"
      ]
     },
     "execution_count": 16,
     "metadata": {},
     "output_type": "execute_result"
    }
   ],
   "source": [
    "len(generated_answers)"
   ]
  },
  {
   "cell_type": "code",
   "execution_count": 17,
   "id": "0ce9a0c7",
   "metadata": {},
   "outputs": [],
   "source": [
    "with open('/cs/labs/tomhope/yuvalbus/pmc/pythonProject/largeListsGuy/generated_questions.json', 'r') as f:\n",
    "    generated_questions = json.load(f)"
   ]
  },
  {
   "cell_type": "markdown",
   "id": "2de9e379",
   "metadata": {},
   "source": [
    "Note that:\n",
    "1. The length of 'generated_answers' & 'generated_questions' is 31,002\n",
    "2. The length of 'pairs_text' is 31,692\n",
    "\n",
    "So we need 'common_indices' to align these two lists."
   ]
  },
  {
   "cell_type": "code",
   "execution_count": 18,
   "id": "23eb8a2e",
   "metadata": {},
   "outputs": [],
   "source": [
    "with open('/cs/labs/tomhope/yuvalbus/pmc/pythonProject/largeListsGuy/common_indices.json', 'r') as g:\n",
    "    common_indices = json.load(g)\n",
    "\n",
    "idx = 101\n",
    "common_index = common_indices[idx]\n",
    "\n",
    "captions1 = pairs_text[common_index][0]\n",
    "\n",
    "captions2 = pairs_text[common_index][1]\n",
    "\n",
    "curr_questions = generated_questions[idx]\n",
    "\n",
    "curr_answers = generated_answers[idx]"
   ]
  },
  {
   "cell_type": "code",
   "execution_count": 19,
   "id": "15fedcb5",
   "metadata": {},
   "outputs": [
    {
     "data": {
      "text/plain": [
       "31002"
      ]
     },
     "execution_count": 19,
     "metadata": {},
     "output_type": "execute_result"
    }
   ],
   "source": [
    "len(common_indices)"
   ]
  },
  {
   "cell_type": "code",
   "execution_count": null,
   "id": "6fe7cf02",
   "metadata": {},
   "outputs": [],
   "source": []
  },
  {
   "cell_type": "code",
   "execution_count": 20,
   "id": "b71c6ec6",
   "metadata": {},
   "outputs": [],
   "source": [
    "# model_name = \"gpt-4o\"           \n",
    "# enc = tiktoken.encoding_for_model(model_name)\n",
    "# answers_series = pd.Series(generated_answers)\n",
    "# token_counts = answers_series.apply(lambda t: len(enc.encode(t)))\n",
    "# print(f\"Token counts for generated answers: {token_counts.sum()}\")"
   ]
  },
  {
   "cell_type": "code",
   "execution_count": 21,
   "id": "2ffbaa2d",
   "metadata": {},
   "outputs": [],
   "source": [
    "# model_name = \"gpt-4o\"           \n",
    "# enc = tiktoken.encoding_for_model(model_name)\n",
    "# queries_series = pd.Series(generated_questions)\n",
    "# token_counts = queries_series.apply(lambda t: len(enc.encode(t)))\n",
    "# print(f\"Token counts for generated queries: {token_counts.sum()}\")"
   ]
  },
  {
   "cell_type": "code",
   "execution_count": 22,
   "id": "5ebec004",
   "metadata": {},
   "outputs": [],
   "source": [
    "# stems_3d = [\n",
    "#     [\n",
    "#         [Path(p).stem for p in sin_patient]   # 3rd level: every path in one patient\n",
    "#         for sin_patient in pair              # 2nd level: both patients in the pair\n",
    "#     ]\n",
    "#     for pair in pairs_text_list              # 1st level: all pairs\n",
    "# ]\n",
    "\n",
    "# with open('/cs/labs/tomhope/yuvalbus/pmc/pythonProject/largeListsGuy/stems_3d.json', 'w') as f:\n",
    "#     json.dump(stems_3d, f)\n",
    "\n",
    "with open('/cs/labs/tomhope/yuvalbus/pmc/pythonProject/largeListsGuy/stems_3d.json', 'r') as f:\n",
    "    stems_3d = json.load(f)"
   ]
  },
  {
   "cell_type": "code",
   "execution_count": 23,
   "id": "bd6c945e",
   "metadata": {},
   "outputs": [
    {
     "data": {
      "text/plain": [
       "['Fundus photograph showed a yellowish white, peripapillary and sharply demarcated choroidal lesion involving the macula (white arrows)',\n",
       " 'B-scan demonstrated focal subretinal calcification next to the optic disc (white arrow)',\n",
       " 'CT demonstrated a hyperdense choroidal plaque with the same density as bone typically (white arrow)',\n",
       " 'OCT showed serous fluid exudates under the macula (white asterisk)',\n",
       " 'Right fundus showed an enlarged choroidal osteoma in most margins at posterior pole (white arrow) with schistose hemorrhage (black asterisk) beside macula compared to eight years ago. Partial decalcification on the inferior margin and visibility of large choroidal vessels were noted (white asterisk)',\n",
       " 'OCTA revealed unique features in the vascular changes of CNV in CO in the outer retinal layer and choroid capillary layers, and subretinal neovascularization (white arrow)',\n",
       " 'ICGA showed there was hypo-fluorescence at the peripapillary with faint hyper-fluorescence at the macular, corresponding to the location on the fundus photograph. The subretinal neovascularization of CNV was not obvious',\n",
       " 'OCT appreciated CNV and on the nasal atrophic retina',\n",
       " 'OCTA revealed the regression of choroidal neovascularization density and range in the outer retinal layer and choroid capillary layers. (white arrow)']"
      ]
     },
     "execution_count": 23,
     "metadata": {},
     "output_type": "execute_result"
    }
   ],
   "source": [
    "pairs_text[0][0]"
   ]
  },
  {
   "cell_type": "code",
   "execution_count": 24,
   "id": "a5439992",
   "metadata": {},
   "outputs": [
    {
     "data": {
      "text/plain": [
       "['B-scan ultrasonography imaging of the right eye reveals a choroidal lesion causing acoustic shadowing',\n",
       " 'Pre-treatment optical coherence tomography imaging shows subretinal fluid and an area of choroidal neovascularization with a lesion situated in the cornea and optic shadowing behind it',\n",
       " 'The subretinal fluid is reduced after intravitreal ranibizumab injection']"
      ]
     },
     "execution_count": 24,
     "metadata": {},
     "output_type": "execute_result"
    }
   ],
   "source": [
    "pairs_text[0][1]"
   ]
  },
  {
   "cell_type": "code",
   "execution_count": 25,
   "id": "1cc0c882",
   "metadata": {},
   "outputs": [],
   "source": [
    "def build_stem_caption_3d(pairs_text, stems_3d):\n",
    "    \"\"\"\n",
    "    Return a 3-D list with the same nesting as `pairs_text`\n",
    "    [\n",
    "        [                                # each pair\n",
    "            {stem: caption, …},         # patient-0  (dict of every caption)\n",
    "            {stem: caption, …}          # patient-1\n",
    "        ],\n",
    "        ...\n",
    "    ]\n",
    "    \"\"\"\n",
    "    return [\n",
    "        [\n",
    "            {stem: cap                                     # <-- inner dict\n",
    "             for stem, cap in zip(stems_patient, caps_patient)}\n",
    "            for stems_patient, caps_patient                # iterate over the\n",
    "            in zip(stems_pair, caps_pair)                  # two patients\n",
    "        ]\n",
    "        for stems_pair, caps_pair                          # iterate over pairs\n",
    "        in zip(stems_3d, pairs_text)\n",
    "    ]"
   ]
  },
  {
   "cell_type": "code",
   "execution_count": 26,
   "id": "8d61e4d4",
   "metadata": {},
   "outputs": [],
   "source": [
    "stem_caption_list = build_stem_caption_3d(pairs_text, stems_3d)"
   ]
  },
  {
   "cell_type": "code",
   "execution_count": 27,
   "id": "f053606a",
   "metadata": {},
   "outputs": [
    {
     "data": {
      "text/plain": [
       "{'5563556_1_3': 'B-scan ultrasonography imaging of the right eye reveals a choroidal lesion causing acoustic shadowing',\n",
       " '5563556_1_4': 'Pre-treatment optical coherence tomography imaging shows subretinal fluid and an area of choroidal neovascularization with a lesion situated in the cornea and optic shadowing behind it',\n",
       " '5563556_1_5': 'The subretinal fluid is reduced after intravitreal ranibizumab injection'}"
      ]
     },
     "execution_count": 27,
     "metadata": {},
     "output_type": "execute_result"
    }
   ],
   "source": [
    "stem_caption_list[0][1]"
   ]
  },
  {
   "cell_type": "code",
   "execution_count": 28,
   "id": "c54d564c",
   "metadata": {},
   "outputs": [],
   "source": [
    "# def num_tokens_from_messages(msgs, model=\"gpt-4o-2024-08-06\"):\n",
    "#     enc = tiktoken.encoding_for_model(model)\n",
    "#     tokens_per_message, tokens_per_name = 3, 1          # gpt-4o spec\n",
    "#     n = 0\n",
    "#     for m in msgs:\n",
    "#         n += tokens_per_message\n",
    "#         for k, v in m.items():\n",
    "#             n += len(enc.encode(v))\n",
    "#             if k == \"name\":\n",
    "#                 n += tokens_per_name\n",
    "#     return n + 3     # assistant primer\n",
    "\n",
    "# total_tokens = sum(num_tokens_from_messages(chat) for chat in prompts)\n",
    "\n",
    "# print(\"Total tokens:\", total_tokens)"
   ]
  },
  {
   "cell_type": "code",
   "execution_count": null,
   "id": "37eba0c7",
   "metadata": {},
   "outputs": [],
   "source": [
    "from pathlib import Path\n",
    "with open(\"/cs/labs/tomhope/yuvalbus/pmc/pythonProject/largeListsGuy/\" + \"diagrams_compound_filtered_paths_list.json\", 'r') as f:\n",
    "    diagrams_compound_filtered_paths_list = json.load(f)\n",
    "\n",
    "diagrams_compound_filtered_stems = [Path(p).stem for p in diagrams_compound_filtered_paths_list]"
   ]
  },
  {
   "cell_type": "code",
   "execution_count": 30,
   "id": "b2270f82",
   "metadata": {},
   "outputs": [],
   "source": [
    "diagrams_compound_filtered_stems_set = set(diagrams_compound_filtered_stems)"
   ]
  },
  {
   "cell_type": "code",
   "execution_count": 31,
   "id": "39070c50",
   "metadata": {},
   "outputs": [],
   "source": [
    "filtered_stem_caption_list = [\n",
    "    [\n",
    "        {k: v for k, v in d.items() if k in diagrams_compound_filtered_stems_set}      # keep only wanted keys\n",
    "        for d in inner                                   # loop over inner dicts\n",
    "        if any(k in diagrams_compound_filtered_stems_set for k in d)                  # …and drop empty dicts\n",
    "    ]\n",
    "    for inner in stem_caption_list                       # loop over outer groups\n",
    "]"
   ]
  },
  {
   "cell_type": "code",
   "execution_count": 32,
   "id": "1b81a51b",
   "metadata": {},
   "outputs": [
    {
     "data": {
      "text/plain": [
       "31692"
      ]
     },
     "execution_count": 32,
     "metadata": {},
     "output_type": "execute_result"
    }
   ],
   "source": [
    "len(stem_caption_list)"
   ]
  },
  {
   "cell_type": "code",
   "execution_count": 42,
   "id": "def908e0",
   "metadata": {},
   "outputs": [
    {
     "data": {
      "text/plain": [
       "119204"
      ]
     },
     "execution_count": 42,
     "metadata": {},
     "output_type": "execute_result"
    }
   ],
   "source": [
    "len(diagrams_compound_filtered_stems_set)"
   ]
  },
  {
   "cell_type": "code",
   "execution_count": 43,
   "id": "594321f1",
   "metadata": {},
   "outputs": [
    {
     "data": {
      "text/plain": [
       "31692"
      ]
     },
     "execution_count": 43,
     "metadata": {},
     "output_type": "execute_result"
    }
   ],
   "source": [
    "len(filtered_stem_caption_list)"
   ]
  },
  {
   "cell_type": "code",
   "execution_count": null,
   "id": "7a0a1fa8",
   "metadata": {},
   "outputs": [],
   "source": [
    "# The invalid caption-pairs rise when all the captions in patient1 or patient2 are filtered out (diagrams)\n",
    "invalid_pairs_indices = [i for i, inner in enumerate(filtered_stem_caption_list) if len(inner) < 2]\n",
    "invalid_pairs_indices_set = set(invalid_pairs_indices)"
   ]
  },
  {
   "cell_type": "code",
   "execution_count": 44,
   "id": "42e2dfbe",
   "metadata": {},
   "outputs": [
    {
     "data": {
      "text/plain": [
       "3551"
      ]
     },
     "execution_count": 44,
     "metadata": {},
     "output_type": "execute_result"
    }
   ],
   "source": [
    "len(invalid_pairs_indices)"
   ]
  },
  {
   "cell_type": "code",
   "execution_count": 34,
   "id": "338b0bb4",
   "metadata": {},
   "outputs": [],
   "source": [
    "prompt =\"You are a medical-AI expert. \" \\\n",
    "\"Your job is to classify *pairs* of medical-image captions as \" \\\n",
    "\"**positive** if they share same diagnosis & modality.\\n\" \\\n",
    "\"NOTE: Classify **only inter-case pairs** (the two caption-IDs come from different cases).\\n\" \\\n",
    "\"Output **only** valid JSON matching this schema (no markdown). For example:\\n\" \\\n",
    "\"{\\n\" \\\n",
    "'  \"pair_id\": \"<label_1, label_2>\",\\n' \\\n",
    "'  \"reasoning\": \"<short explanation why it is positive>\",\\n' \\\n",
    "'  \"modality\": \"<the shared modality>\",\\n' \\\n",
    "'  \"anatomy\": \"<the anatomy>\",\\n' \\\n",
    "'  \"diagnosis\": \"<the shared diagnosis you found>\",\\n' \\\n",
    "\"}\\n\" \\\n",
    "\"DON'T classify (return nothing) if one of the following is true:\\n\" \\\n",
    "\"1. They are negatives.\\n\" \\\n",
    "\"2. If either caption describes a diagram/illustration.\\n\" \\\n",
    "\"3. If either appears to be a caption describing a compound figure (has labels such as 'A', 'A-C', '(b) etc.)\\n\" \\\n",
    "\"\\n\" \\\n",
    "\"FINAL SANITY CHECK (before you output):\\n\" \\\n",
    "\"✓ Inter-case pair?\\n\"  \\\n",
    "\"✓ Same diagnosis **and** modality?\\n\"  \\\n",
    "\"✓ No diagram/illustration words?\\n\"  \\\n",
    "\"✓ No compound-figure cues listed above?\\n\"  \\\n",
    "\"If every answer is YES → produce the JSON object.\\n\"  \\\n",
    "\"Otherwise → output {}.\""
   ]
  },
  {
   "cell_type": "code",
   "execution_count": 35,
   "id": "2c443217",
   "metadata": {},
   "outputs": [],
   "source": [
    "prompts = []\n",
    "for idx, common_index in enumerate(common_indices):\n",
    "    \n",
    "    if common_index in invalid_pairs_indices_set:\n",
    "        continue\n",
    "\n",
    "    # ---------- collect the data we need for this pair ----------\n",
    "    # captions1      = stem_caption_list[common_index][0]\n",
    "    # captions2      = stem_caption_list[common_index][1]\n",
    "    captions1      = filtered_stem_caption_list[common_index][0]\n",
    "    captions2      = filtered_stem_caption_list[common_index][1]\n",
    "    curr_questions = generated_questions[idx]\n",
    "    curr_answers   = generated_answers[idx]\n",
    "\n",
    "    # ---------- build the message list after the assignments ----------\n",
    "    messages = [\n",
    "        {   # 1) System role\n",
    "            \"role\": \"developer\",\n",
    "            \"content\": (\n",
    "                prompt\n",
    "            )\n",
    "            \n",
    "        },\n",
    "        {   # 2) User role\n",
    "            \"role\": \"user\",\n",
    "            \"content\": f\"\"\"\\\n",
    "### PATIENT-CONTEXT QUERIES & ANSWERS\n",
    "{curr_questions}\n",
    "\n",
    "{curr_answers}\n",
    "\n",
    "### IMAGE CAPTIONS (MULTIPLE PAIRS)\n",
    "{captions1}\n",
    "\n",
    "{captions2}\n",
    "\"\"\"\n",
    "        }\n",
    "    ]\n",
    "\n",
    "    prompts.append(messages)\n"
   ]
  },
  {
   "cell_type": "code",
   "execution_count": null,
   "id": "13595449",
   "metadata": {},
   "outputs": [],
   "source": [
    "from openai import OpenAI\n",
    "\n",
    "# togetherai_key = <insert togetherai key>\n",
    "together_client = Together(api_key=togetherai_key)\n",
    "\n",
    "# openai_key = <insert openai key>\n",
    "client = OpenAI(api_key=openai_key)"
   ]
  },
  {
   "cell_type": "markdown",
   "id": "36b6c701",
   "metadata": {},
   "source": [
    "#### CHECK prompts[idx=78] to see if I filtered diagrams!"
   ]
  },
  {
   "cell_type": "code",
   "execution_count": 37,
   "id": "1503e5ad",
   "metadata": {},
   "outputs": [
    {
     "data": {
      "text/plain": [
       "27519"
      ]
     },
     "execution_count": 37,
     "metadata": {},
     "output_type": "execute_result"
    }
   ],
   "source": [
    "len(prompts)"
   ]
  },
  {
   "cell_type": "code",
   "execution_count": null,
   "id": "147763da",
   "metadata": {},
   "outputs": [],
   "source": [
    "# response = client.responses.create(\n",
    "#     model=\"o4-mini\",\n",
    "#     reasoning={\"effort\": \"low\"},\n",
    "#     input=prompts[idx]\n",
    "# )\n"
   ]
  },
  {
   "cell_type": "code",
   "execution_count": 136,
   "id": "7f336a75",
   "metadata": {},
   "outputs": [
    {
     "name": "stdout",
     "output_type": "stream",
     "text": [
      "[  \n",
      "  {  \n",
      "    \"pair_id\": \"<8167975_1_2, 5563556_1_3>\",  \n",
      "    \"reasoning\": \"Both B-scan ultrasonography images show hyperechoic choroidal lesions with acoustic shadowing consistent with calcified choroidal osteoma.\",  \n",
      "    \"modality\": \"B-scan ultrasonography\",  \n",
      "    \"anatomy\": \"choroid\",  \n",
      "    \"diagnosis\": \"choroidal osteoma with secondary choroidal neovascularization\"  \n",
      "  },  \n",
      "  {  \n",
      "    \"pair_id\": \"<8167975_1_4, 5563556_1_4>\",  \n",
      "    \"reasoning\": \"Both OCT images demonstrate subretinal fluid and evidence of CNV associated with choroidal osteoma.\",  \n",
      "    \"modality\": \"Optical coherence tomography\",  \n",
      "    \"anatomy\": \"macula\",  \n",
      "    \"diagnosis\": \"choroidal osteoma with secondary choroidal neovascularization\"  \n",
      "  }  \n",
      "]\n"
     ]
    }
   ],
   "source": [
    "print(response.output_text)"
   ]
  },
  {
   "cell_type": "code",
   "execution_count": 61,
   "id": "a8dfd1f2",
   "metadata": {},
   "outputs": [
    {
     "name": "stdout",
     "output_type": "stream",
     "text": [
      "3125066_1_1.jpg  3125066_1_3.jpg  3125066_1_5.jpg  JOMFP-14-80.nxml\n",
      "3125066_1_1.txt  3125066_1_3.txt  3125066_1_5.txt\n",
      "3125066_1_2.jpg  3125066_1_4.jpg  3125066_1_6.jpg\n",
      "3125066_1_2.txt  3125066_1_4.txt  3125066_1_6.txt\n"
     ]
    }
   ],
   "source": [
    "!ls /cs/labs/tomhope/yuvalbus/pmc/pythonProject/data2/PMC3125066/3125066_1"
   ]
  },
  {
   "cell_type": "code",
   "execution_count": 49,
   "id": "38cc3d76",
   "metadata": {},
   "outputs": [
    {
     "name": "stdout",
     "output_type": "stream",
     "text": [
      "<!DOCTYPE article PUBLIC \"-//NLM//DTD JATS (Z39.96) Journal Archiving and Interchange DTD v1.0 20120330//EN\" \"JATS-archivearticle1.dtd\">\n",
      "<article xmlns:xlink=\"http://www.w3.org/1999/xlink\" xmlns:mml=\"http://www.w3.org/1998/Math/MathML\" article-type=\"other\"><?properties open_access?><front><journal-meta><journal-id journal-id-type=\"nlm-ta\">J Oral Maxillofac Pathol</journal-id><journal-id journal-id-type=\"publisher-id\">JOMFP</journal-id><journal-title-group><journal-title>Journal of Oral and Maxillofacial Pathology : JOMFP</journal-title></journal-title-group><issn pub-type=\"ppub\">0973-029X</issn><issn pub-type=\"epub\">1998-393X</issn><publisher><publisher-name>Medknow Publications</publisher-name><publisher-loc>India</publisher-loc></publisher></journal-meta><article-meta><article-id pub-id-type=\"pmid\">21731269</article-id><article-id pub-id-type=\"pmc\">3125066</article-id><article-id pub-id-type=\"publisher-id\">JOMFP-14-80</article-id><article-id pub-id-type=\"doi\">10.4103/0973-029X.72508</article-id><article-categories><subj-group subj-group-type=\"heading\"><subject>Short Communication</subject></subj-group></article-categories><title-group><article-title>A rare presentation of dens in dente in the mandibular third molar with extra oral sinus</article-title></title-group><contrib-group><contrib contrib-type=\"author\"><name><surname>Bansal</surname><given-names>Monika</given-names></name><xref ref-type=\"aff\" rid=\"AF0001\"/><xref ref-type=\"corresp\" rid=\"cor1\"/></contrib><contrib contrib-type=\"author\"><name><surname>Singh</surname><given-names>NN</given-names></name><xref ref-type=\"aff\" rid=\"AF0002\">1</xref></contrib><contrib contrib-type=\"author\"><name><surname>Singh</surname><given-names>Anand Pratap</given-names></name><xref ref-type=\"aff\" rid=\"AF0003\">2</xref></contrib></contrib-group><aff id=\"AF0001\"><italic>Faculty of Dental Sciences, Institute of Medical Sciences, Banaras Hindu University, Varanasi, India</italic></aff><aff id=\"AF0002\"><label>1</label><italic>Department of Oral Pathology and Oral Microbiology, Kothiwal Dental College and Research Centre, Moradabad, India</italic></aff><aff id=\"AF0003\"><label>2</label><italic>Department of Oral Medicine &#x00026; Radiology, Kothiwal Dental College and Research Centre, Moradabad, India</italic></aff><author-notes><corresp id=\"cor1\"><bold>Address for correspondence:</bold><italic>Dr. Monika Bansal, Faculty of Dental Sciences Institute of Medical Sciences, Banaras Hindu University, Varanasi - 221 005, Uttar Pradesh, India. E-mail: <email xlink:href=\"dr.monika97@rediffmail.com\">dr.monika97@rediffmail.com</email></italic></corresp></author-notes><pub-date pub-type=\"ppub\"><season>Jul-Dec</season><year>2010</year></pub-date><volume>14</volume><issue>2</issue><fpage>80</fpage><lpage>82</lpage><permissions><copyright-statement>&#x000a9; Journal of Oral and Maxillofacial Pathology</copyright-statement><copyright-year>2010</copyright-year><license license-type=\"open-access\" xlink:href=\"http://creativecommons.org/licenses/by/2.0/\"><license-p>This is an open-access article distributed under the terms of the Creative Commons Attribution License, which permits unrestricted use, distribution, and reproduction in any medium, provided the original work is properly cited.</license-p></license></permissions><abstract><p>The unusual case of dense in dente in mandibular molar area with extra oral sinus in a 30-year-old female is presented. The chief complaint of the patient was wound formation and pus discharge from the right side of lower jaw for many years. Clinical examination revealed extra oral sinus and mild swelling in vestibular region opposite the right mandibular molars. On radiographical examination, right mandibular third molar had bulbous root associated with periapical radiolucency. It appeared that there was a tooth within a tooth and the invagination extended nearly to the root apex. A clinical diagnosis of dense in dente Type III was confirmed by stereomicroscopy of ground section of the tooth. Extra oral sinus healed after extraction of the mandibular third molar within a month.</p></abstract><kwd-group><kwd>Dense in dente</kwd><kwd>extra oral sinus</kwd><kwd>mandibular molars</kwd></kwd-group></article-meta></front><body><sec sec-type=\"intro\" id=\"sec1-1\"><title>INTRODUCTION</title><p>Dens in dente, also known as dens invaginatus or dilated composite odontome is a rare developmental tooth anomly characterized by invagination of the enamel organ into the dental papilla. The frequency of dens in dente is more common in permanent maxillary lateral Incisors[<xref ref-type=\"bibr\" rid=\"CIT1\">1</xref>]. In the madibular area, this anamoly is rarely present. Thus, we are presenting a type III dens in dente in the right mandibular third molar region, rare location for occurence.</p></sec><sec sec-type=\"cases\" id=\"sec1-2\"><title>CASE REPORT</title><p>A 30-year-old female patient reported in dental OPD of Sir Sunder Lal Hospital, Faculty of Dental Sciences, Institute of Medical Sciences, Banaras Hindu University, Varanasi with a chief complaint of wound formation and pus discharge from the right side of lower jaw for many years. The general health of the patient was normal and her medical history revealed no significant problem. Extraoral examination revealed facial sinus with pus discharge from the body of the mandible [<xref ref-type=\"fig\" rid=\"F0001\">Figure 1</xref>]. On intraoral examination, there was mild swelling in the vestibular region opposite the mandibular molars. No other significant changes were present. On radiographical examination, the right mandibular third molar had the bulbous root associated with periapical radiolucent area. It became evident that there was a tooth within a tooth with invagination extending nearly to the root apex [<xref ref-type=\"fig\" rid=\"F0002\">Figure 2</xref>]. A clinical diagnosis of dens in dente Type III was made. At that time, the extraction of mandibular third molar was planned as it was believed that extra oral sinus may be due to that tooth. The extracted tooth had a very bulbous root along with periapical pathology [<xref ref-type=\"fig\" rid=\"F0003\">Figure 3</xref>]. Stereomicroscopy of ground section of tooth confirmed the diagnosis by showing enamel, dentin and pulp within a pulp chamber [Figures <xref ref-type=\"fig\" rid=\"F0004\">4</xref>, <xref ref-type=\"fig\" rid=\"F0005\">5</xref>]. The extra oral sinus healed within a month following extraction of mandibular third molar [<xref ref-type=\"fig\" rid=\"F0006\">Figure 6</xref>].\n",
      "<fig id=\"F0001\" position=\"float\"><label>Figure 1</label><caption><p>Sinus with pus discharge on the facial side in the right mandibular molar area</p></caption><graphic xlink:href=\"JOMFP-14-80-g001\"/></fig>\n",
      "<fig id=\"F0002\" position=\"float\"><label>Figure 2</label><caption><p>OPG showing dense in dente in right mandibular third molar</p></caption><graphic xlink:href=\"JOMFP-14-80-g002\"/></fig>\n",
      "<fig id=\"F0003\" position=\"float\"><label>Figure 3</label><caption><p>Extracted mandibular third molar with a very bulbous root and periapical pathology</p></caption><graphic xlink:href=\"JOMFP-14-80-g003\"/></fig>\n",
      "<fig id=\"F0004\" position=\"float\"><label>Figure 4</label><caption><p>Ground section of pulp chamber at high magnification (40&#x000d7;) showing &#x0201c;dense in dente&#x0201d; (A-enamel layer)</p></caption><graphic xlink:href=\"JOMFP-14-80-g004\"/></fig>\n",
      "<fig id=\"F0005\" position=\"float\"><label>Figure 5</label><caption><p>Stereomicroscopic view of ground section represents &#x0201c;dense in dente&#x0201d; (A- enamel, B- dentin, C- pulp chamber showing enamel, dentin, pulp)</p></caption><graphic xlink:href=\"JOMFP-14-80-g005\"/></fig>\n",
      "<fig id=\"F0006\" position=\"float\"><label>Figure 6</label><caption><p>Healed extra oral sinus</p></caption><graphic xlink:href=\"JOMFP-14-80-g006\"/></fig>\n",
      "</p></sec><sec sec-type=\"discussion\" id=\"sec1-3\"><title>DISCUSSION</title><p>Dens in dente is a rare developmental tooth anomaly characterized by invagination of the enamel organ into the dental papilla that begins at the crown and often extends to the root even before the calcification of the dental tissues. Dens in dente is more common in permanent maxillary lateral incisors (0.25-5.1%),[<xref ref-type=\"bibr\" rid=\"CIT1\">1</xref>] but rare in molars. Dens in dente is classified by Oehlers[<xref ref-type=\"bibr\" rid=\"CIT2\">2</xref>] into three types, depending upon its extent into the crown, root and root apex. The mild form is more common than severe one. Various treatment methods have been reported including conservative restorative treatment, nonsurgical root canal treatment and surgical treatment like endodontic surgery, intentional replantation, and extraction.[<xref ref-type=\"bibr\" rid=\"CIT3\">3</xref>] Generally, Type l and Type ll do not present any problem during the endodontic treatment because invagination does not reach upto the apical region of canal and restricts to the interior of the canal. However, in Type lll, nonsurgical endodontic treatment is difficult because invagination may reach the root apex of the tooth. Even if, Type lll is treated in anterior teeth through conventional endodontic treatment in the area of invagination supplemented with retrograde filling of the foramen of the principal canal in some cases, the retrograde filling is difficult in posterior teeth.[<xref ref-type=\"bibr\" rid=\"CIT4\">4</xref>, <xref ref-type=\"bibr\" rid=\"CIT5\">5</xref>] In this case report, the mandibular third molar presented with periapical radiolucency that might have been the cause of extra oral sinus due to infected root canals. Surgical endodontic therapy in mandibular third molars is difficult because of their position. In addition, invaginated teeth present technical difficulties with respect to the management of the complicated root canal morphology. Therefore, this tooth was extracted and the extra oral sinus healed within a month. Thus, it is concluded that dens in dente is an important anomaly that may lead to pulp infection and periapical pathosis through invagination. Thus, an early detection and sealing of the openings with restorative material is necessary to prevent further complications.</p></sec></body><back><fn-group><fn fn-type=\"supported-by\"><p><bold>Source of Support:</bold> Nil</p></fn><fn fn-type=\"conflict\"><p><bold>Conflict of Interest:</bold> None declared.</p></fn></fn-group><ref-list><title>REFERENCES</title><ref id=\"CIT1\"><label>1</label><element-citation publication-type=\"journal\"><person-group person-group-type=\"author\"><name><surname>Mupparapu</surname><given-names>M</given-names></name><name><surname>Singer</surname><given-names>SR</given-names></name></person-group><article-title>A rare presentation of dens invaginatus in a mandibular lateral incisor occurring concurrently with bilateral maxillary dens invaginatus.Case report and review of literature</article-title><source>Aust Dent J</source><year>2004</year><volume>49</volume><fpage>90</fpage><lpage>3</lpage><pub-id pub-id-type=\"pmid\">15293820</pub-id></element-citation></ref><ref id=\"CIT2\"><label>2</label><element-citation publication-type=\"journal\"><person-group person-group-type=\"author\"><name><surname>Oehlers</surname><given-names>FA</given-names></name></person-group><article-title>dens invaginatus (dilated composite odotome) 1.Variations of the invaginatus process and associated anterior crown forms</article-title><source>Oral Surg Oral Med Oral Pathol</source><year>1957</year><volume>10</volume><fpage>1204</fpage><lpage>18</lpage><pub-id pub-id-type=\"pmid\">13477660</pub-id></element-citation></ref><ref id=\"CIT3\"><label>3</label><element-citation publication-type=\"journal\"><person-group person-group-type=\"author\"><name><surname>Tewari</surname><given-names>S</given-names></name></person-group><article-title>Marginal adaptation and sealability of orthograde and retrograde amalgam obturation. In a vitro study</article-title><source>Indian J Dent Res</source><year>1999</year><volume>10</volume><fpage>96</fpage><lpage>104</lpage><pub-id pub-id-type=\"pmid\">10596623</pub-id></element-citation></ref><ref id=\"CIT4\"><label>4</label><element-citation publication-type=\"journal\"><person-group person-group-type=\"author\"><name><surname>Bolanas</surname><given-names>OR</given-names></name><name><surname>Martell</surname><given-names>B</given-names></name><name><surname>Morse</surname><given-names>DR</given-names></name></person-group><article-title>A unique approach to the treatment of a tooth with dens invaginatus</article-title><source>J Endod</source><year>1988</year><volume>14</volume><fpage>315</fpage><lpage>8</lpage><pub-id pub-id-type=\"pmid\">3251991</pub-id></element-citation></ref><ref id=\"CIT5\"><label>5</label><element-citation publication-type=\"journal\"><person-group person-group-type=\"author\"><name><surname>Hata</surname><given-names>I</given-names></name><name><surname>Toda</surname><given-names>T</given-names></name></person-group><article-title>Treatment of dens invaginatus by endodontic treatment, apicocurretage and retrograde filling: A case report</article-title><source>J Endod</source><year>1987</year><volume>13</volume><fpage>469</fpage><lpage>72</lpage><pub-id pub-id-type=\"pmid\">3482106</pub-id></element-citation></ref></ref-list></back></article>"
     ]
    }
   ],
   "source": [
    "!cat /cs/labs/tomhope/yuvalbus/pmc/pythonProject/data2/PMC3125066/3125066_1/JOMFP-14-80.nxml"
   ]
  },
  {
   "cell_type": "code",
   "execution_count": 47,
   "id": "51095034",
   "metadata": {},
   "outputs": [
    {
     "data": {
      "text/plain": [
       "163072"
      ]
     },
     "execution_count": 47,
     "metadata": {},
     "output_type": "execute_result"
    }
   ],
   "source": [
    "# Note that stem_caption_list is already compound-filtered\n",
    "# There are more images here than in len(filtered_df) because some images are in multiple patients\n",
    "sum(len(inner[0]) + len(inner[1]) for inner in filtered_stem_caption_list if len(inner) > 1)"
   ]
  },
  {
   "cell_type": "code",
   "execution_count": null,
   "id": "8c4e3368",
   "metadata": {},
   "outputs": [],
   "source": []
  },
  {
   "cell_type": "code",
   "execution_count": null,
   "id": "2778d9a5",
   "metadata": {},
   "outputs": [],
   "source": []
  },
  {
   "cell_type": "code",
   "execution_count": null,
   "id": "9b46a048",
   "metadata": {},
   "outputs": [],
   "source": []
  },
  {
   "cell_type": "code",
   "execution_count": null,
   "id": "1bf74aab",
   "metadata": {},
   "outputs": [],
   "source": [
    "# INPUT_FILE = \"/cs/labs/tomhope/yuvalbus/pmc/pythonProject/largeListsGuy/generate_positives.jsonl\"\n",
    "\n",
    "# with open(INPUT_FILE, \"w\", encoding=\"utf-8\") as f:\n",
    "#     for i, messages in enumerate(prompts, start=1):\n",
    "#         request_obj = {\n",
    "#             \"custom_id\": f\"request-{i}\",\n",
    "#             \"method\": \"POST\",\n",
    "#             \"url\": \"/v1/chat/completions\",\n",
    "#             \"body\": {\n",
    "#                 \"model\": \"o4-mini\", \n",
    "#                 \"reasoning_effort\": \"low\",\n",
    "#                 \"messages\": messages\n",
    "#             }\n",
    "#         }\n",
    "\n",
    "#         f.write(json.dumps(request_obj, ensure_ascii=False) + \"\\n\")\n",
    "\n",
    "# with open(INPUT_FILE, 'r') as g:\n",
    "#     positives_request = [json.loads(line) for line in g]"
   ]
  },
  {
   "cell_type": "code",
   "execution_count": null,
   "id": "0b2a0b15",
   "metadata": {},
   "outputs": [],
   "source": [
    "# positives_request_file = client.files.create(\n",
    "#   file=open(INPUT_FILE, \"rb\"),\n",
    "#   purpose=\"batch\"\n",
    "# )\n"
   ]
  },
  {
   "cell_type": "code",
   "execution_count": null,
   "id": "7f5d93e9",
   "metadata": {},
   "outputs": [
    {
     "data": {
      "text/plain": [
       "Batch(id='batch_683c5a0d5b9481909b4962e8b371477b', completion_window='24h', created_at=1748785677, endpoint='/v1/chat/completions', input_file_id='file-6S2t6s6QcTJvmzrx1RHZfe', object='batch', status='validating', cancelled_at=None, cancelling_at=None, completed_at=None, error_file_id=None, errors=None, expired_at=None, expires_at=1748872077, failed_at=None, finalizing_at=None, in_progress_at=None, metadata={'description': 'Generating captions positive pairs'}, output_file_id=None, request_counts=BatchRequestCounts(completed=0, failed=0, total=0))"
      ]
     },
     "execution_count": 54,
     "metadata": {},
     "output_type": "execute_result"
    }
   ],
   "source": [
    "# client.batches.create(\n",
    "#     input_file_id=positives_request_file.id,\n",
    "#     endpoint=\"/v1/chat/completions\",\n",
    "#     completion_window=\"24h\",\n",
    "#     metadata={\n",
    "#       \"description\": \"Generating captions positive pairs\"\n",
    "#     }\n",
    "# )"
   ]
  },
  {
   "cell_type": "code",
   "execution_count": null,
   "id": "1dec1aa5",
   "metadata": {},
   "outputs": [
    {
     "data": {
      "text/plain": [
       "Batch(id='batch_683c5a0d5b9481909b4962e8b371477b', completion_window='24h', created_at=1748785677, endpoint='/v1/chat/completions', input_file_id='file-6S2t6s6QcTJvmzrx1RHZfe', object='batch', status='completed', cancelled_at=None, cancelling_at=None, completed_at=1748790220, error_file_id=None, errors=None, expired_at=None, expires_at=1748872077, failed_at=None, finalizing_at=1748788421, in_progress_at=1748785685, metadata={'description': 'Generating captions positive pairs'}, output_file_id='file-1VnEgj1hbH7x69wGMWXJED', request_counts=BatchRequestCounts(completed=27519, failed=0, total=27519))"
      ]
     },
     "execution_count": 62,
     "metadata": {},
     "output_type": "execute_result"
    }
   ],
   "source": [
    "# client.batches.retrieve(\"batch_683c5a0d5b9481909b4962e8b371477b\")"
   ]
  },
  {
   "cell_type": "code",
   "execution_count": 6,
   "id": "796200fa",
   "metadata": {},
   "outputs": [],
   "source": [
    "file_response = client.files.content('file-1VnEgj1hbH7x69wGMWXJED')\n",
    "file_response_text = file_response.text\n",
    "\n",
    "json_strings = file_response_text.strip().splitlines()\n",
    "\n",
    "# Parse each JSON string into a dictionary and store in a list\n",
    "response_dicts = [json.loads(line) for line in json_strings]\n",
    "\n",
    "generated_pos_pairs = [response_dicts[i]['response']['body']['choices'][0]['message']['content'] for i in range(len(response_dicts))]"
   ]
  },
  {
   "cell_type": "code",
   "execution_count": 1,
   "id": "578d2ca8",
   "metadata": {},
   "outputs": [
    {
     "ename": "FileNotFoundError",
     "evalue": "[Errno 2] No such file or directory: '/cs/labs/tomhope/yuvalbus/pmc/pythonProject/largeListsGuy/generated_pos_pairs.json'",
     "output_type": "error",
     "traceback": [
      "\u001b[0;31m---------------------------------------------------------------------------\u001b[0m",
      "\u001b[0;31mFileNotFoundError\u001b[0m                         Traceback (most recent call last)",
      "Cell \u001b[0;32mIn[1], line 1\u001b[0m\n\u001b[0;32m----> 1\u001b[0m \u001b[38;5;28;01mwith\u001b[39;00m \u001b[38;5;28;43mopen\u001b[39;49m\u001b[43m(\u001b[49m\u001b[38;5;124;43m'\u001b[39;49m\u001b[38;5;124;43m/cs/labs/tomhope/yuvalbus/pmc/pythonProject/largeListsGuy/generated_pos_pairs.json\u001b[39;49m\u001b[38;5;124;43m'\u001b[39;49m\u001b[43m,\u001b[49m\u001b[43m \u001b[49m\u001b[38;5;124;43m'\u001b[39;49m\u001b[38;5;124;43mw\u001b[39;49m\u001b[38;5;124;43m'\u001b[39;49m\u001b[43m)\u001b[49m \u001b[38;5;28;01mas\u001b[39;00m f:\n\u001b[1;32m      2\u001b[0m     json\u001b[38;5;241m.\u001b[39mdump(generated_pos_pairs, f)\n",
      "File \u001b[0;32m/cs/labs/tomhope/dhtandguy21/miniconda3/envs/pmc_env/lib/python3.11/site-packages/IPython/core/interactiveshell.py:324\u001b[0m, in \u001b[0;36m_modified_open\u001b[0;34m(file, *args, **kwargs)\u001b[0m\n\u001b[1;32m    317\u001b[0m \u001b[38;5;28;01mif\u001b[39;00m file \u001b[38;5;129;01min\u001b[39;00m {\u001b[38;5;241m0\u001b[39m, \u001b[38;5;241m1\u001b[39m, \u001b[38;5;241m2\u001b[39m}:\n\u001b[1;32m    318\u001b[0m     \u001b[38;5;28;01mraise\u001b[39;00m \u001b[38;5;167;01mValueError\u001b[39;00m(\n\u001b[1;32m    319\u001b[0m         \u001b[38;5;124mf\u001b[39m\u001b[38;5;124m\"\u001b[39m\u001b[38;5;124mIPython won\u001b[39m\u001b[38;5;124m'\u001b[39m\u001b[38;5;124mt let you open fd=\u001b[39m\u001b[38;5;132;01m{\u001b[39;00mfile\u001b[38;5;132;01m}\u001b[39;00m\u001b[38;5;124m by default \u001b[39m\u001b[38;5;124m\"\u001b[39m\n\u001b[1;32m    320\u001b[0m         \u001b[38;5;124m\"\u001b[39m\u001b[38;5;124mas it is likely to crash IPython. If you know what you are doing, \u001b[39m\u001b[38;5;124m\"\u001b[39m\n\u001b[1;32m    321\u001b[0m         \u001b[38;5;124m\"\u001b[39m\u001b[38;5;124myou can use builtins\u001b[39m\u001b[38;5;124m'\u001b[39m\u001b[38;5;124m open.\u001b[39m\u001b[38;5;124m\"\u001b[39m\n\u001b[1;32m    322\u001b[0m     )\n\u001b[0;32m--> 324\u001b[0m \u001b[38;5;28;01mreturn\u001b[39;00m \u001b[43mio_open\u001b[49m\u001b[43m(\u001b[49m\u001b[43mfile\u001b[49m\u001b[43m,\u001b[49m\u001b[43m \u001b[49m\u001b[38;5;241;43m*\u001b[39;49m\u001b[43margs\u001b[49m\u001b[43m,\u001b[49m\u001b[43m \u001b[49m\u001b[38;5;241;43m*\u001b[39;49m\u001b[38;5;241;43m*\u001b[39;49m\u001b[43mkwargs\u001b[49m\u001b[43m)\u001b[49m\n",
      "\u001b[0;31mFileNotFoundError\u001b[0m: [Errno 2] No such file or directory: '/cs/labs/tomhope/yuvalbus/pmc/pythonProject/largeListsGuy/generated_pos_pairs.json'"
     ]
    }
   ],
   "source": [
    "with open('/cs/labs/tomhope/yuvalbus/pmc/pythonProject/largeListsGuy/generated_pos_pairs.json', 'w') as f:\n",
    "    json.dump(generated_pos_pairs, f)"
   ]
  },
  {
   "cell_type": "code",
   "execution_count": null,
   "id": "44ae968b",
   "metadata": {},
   "outputs": [
    {
     "ename": "NameError",
     "evalue": "name 'generated_pos_pairs' is not defined",
     "output_type": "error",
     "traceback": [
      "\u001b[0;31m---------------------------------------------------------------------------\u001b[0m",
      "\u001b[0;31mNameError\u001b[0m                                 Traceback (most recent call last)",
      "Cell \u001b[0;32mIn[3], line 1\u001b[0m\n\u001b[0;32m----> 1\u001b[0m \u001b[38;5;28mlen\u001b[39m(\u001b[43mgenerated_pos_pairs\u001b[49m)\n",
      "\u001b[0;31mNameError\u001b[0m: name 'generated_pos_pairs' is not defined"
     ]
    }
   ],
   "source": [
    "len(generated_pos_pairs)"
   ]
  },
  {
   "cell_type": "code",
   "execution_count": null,
   "id": "8e30ced4",
   "metadata": {},
   "outputs": [],
   "source": [
    "17507\n",
    "10012"
   ]
  },
  {
   "cell_type": "code",
   "execution_count": null,
   "id": "f4ab626e",
   "metadata": {},
   "outputs": [],
   "source": []
  },
  {
   "cell_type": "code",
   "execution_count": null,
   "id": "ece2044a",
   "metadata": {},
   "outputs": [],
   "source": []
  },
  {
   "cell_type": "code",
   "execution_count": null,
   "id": "87447a4a",
   "metadata": {},
   "outputs": [],
   "source": []
  },
  {
   "cell_type": "markdown",
   "id": "e98b5915",
   "metadata": {},
   "source": [
    "### Statistics"
   ]
  },
  {
   "cell_type": "code",
   "execution_count": 366,
   "id": "0b0d833f",
   "metadata": {},
   "outputs": [],
   "source": [
    "statistics_o4_mini = pd.read_excel('/cs/labs/tomhope/yuvalbus/pmc/pythonProject/largeListsGuy/statistics o4-mini.xlsx')"
   ]
  },
  {
   "cell_type": "code",
   "execution_count": 374,
   "id": "fa2583dd",
   "metadata": {},
   "outputs": [
    {
     "data": {
      "text/html": [
       "<div>\n",
       "<style scoped>\n",
       "    .dataframe tbody tr th:only-of-type {\n",
       "        vertical-align: middle;\n",
       "    }\n",
       "\n",
       "    .dataframe tbody tr th {\n",
       "        vertical-align: top;\n",
       "    }\n",
       "\n",
       "    .dataframe thead th {\n",
       "        text-align: right;\n",
       "    }\n",
       "</style>\n",
       "<table border=\"1\" class=\"dataframe\">\n",
       "  <thead>\n",
       "    <tr style=\"text-align: right;\">\n",
       "      <th></th>\n",
       "      <th>Prompt idx</th>\n",
       "      <th>ground truth</th>\n",
       "      <th>TP</th>\n",
       "      <th>FN</th>\n",
       "      <th>FP</th>\n",
       "    </tr>\n",
       "  </thead>\n",
       "  <tbody>\n",
       "    <tr>\n",
       "      <th>0</th>\n",
       "      <td>0</td>\n",
       "      <td>3</td>\n",
       "      <td>2</td>\n",
       "      <td>1</td>\n",
       "      <td>0</td>\n",
       "    </tr>\n",
       "    <tr>\n",
       "      <th>1</th>\n",
       "      <td>10</td>\n",
       "      <td>2</td>\n",
       "      <td>2</td>\n",
       "      <td>0</td>\n",
       "      <td>0</td>\n",
       "    </tr>\n",
       "    <tr>\n",
       "      <th>2</th>\n",
       "      <td>15</td>\n",
       "      <td>1</td>\n",
       "      <td>1</td>\n",
       "      <td>0</td>\n",
       "      <td>0</td>\n",
       "    </tr>\n",
       "    <tr>\n",
       "      <th>3</th>\n",
       "      <td>50</td>\n",
       "      <td>0</td>\n",
       "      <td>0</td>\n",
       "      <td>0</td>\n",
       "      <td>0</td>\n",
       "    </tr>\n",
       "    <tr>\n",
       "      <th>4</th>\n",
       "      <td>250</td>\n",
       "      <td>0</td>\n",
       "      <td>0</td>\n",
       "      <td>0</td>\n",
       "      <td>0</td>\n",
       "    </tr>\n",
       "    <tr>\n",
       "      <th>5</th>\n",
       "      <td>500</td>\n",
       "      <td>1</td>\n",
       "      <td>0</td>\n",
       "      <td>1</td>\n",
       "      <td>0</td>\n",
       "    </tr>\n",
       "    <tr>\n",
       "      <th>6</th>\n",
       "      <td>505</td>\n",
       "      <td>1</td>\n",
       "      <td>1</td>\n",
       "      <td>0</td>\n",
       "      <td>0</td>\n",
       "    </tr>\n",
       "    <tr>\n",
       "      <th>7</th>\n",
       "      <td>510</td>\n",
       "      <td>1</td>\n",
       "      <td>1</td>\n",
       "      <td>0</td>\n",
       "      <td>0</td>\n",
       "    </tr>\n",
       "    <tr>\n",
       "      <th>8</th>\n",
       "      <td>515</td>\n",
       "      <td>0</td>\n",
       "      <td>0</td>\n",
       "      <td>0</td>\n",
       "      <td>0</td>\n",
       "    </tr>\n",
       "    <tr>\n",
       "      <th>9</th>\n",
       "      <td>100</td>\n",
       "      <td>2</td>\n",
       "      <td>1</td>\n",
       "      <td>1</td>\n",
       "      <td>0</td>\n",
       "    </tr>\n",
       "    <tr>\n",
       "      <th>10</th>\n",
       "      <td>4805</td>\n",
       "      <td>4</td>\n",
       "      <td>4</td>\n",
       "      <td>0</td>\n",
       "      <td>0</td>\n",
       "    </tr>\n",
       "    <tr>\n",
       "      <th>11</th>\n",
       "      <td>15107</td>\n",
       "      <td>1</td>\n",
       "      <td>1</td>\n",
       "      <td>0</td>\n",
       "      <td>0</td>\n",
       "    </tr>\n",
       "    <tr>\n",
       "      <th>12</th>\n",
       "      <td>15207</td>\n",
       "      <td>1</td>\n",
       "      <td>1</td>\n",
       "      <td>0</td>\n",
       "      <td>0</td>\n",
       "    </tr>\n",
       "    <tr>\n",
       "      <th>13</th>\n",
       "      <td>23008</td>\n",
       "      <td>1</td>\n",
       "      <td>1</td>\n",
       "      <td>0</td>\n",
       "      <td>1</td>\n",
       "    </tr>\n",
       "    <tr>\n",
       "      <th>14</th>\n",
       "      <td>219</td>\n",
       "      <td>0</td>\n",
       "      <td>0</td>\n",
       "      <td>0</td>\n",
       "      <td>1</td>\n",
       "    </tr>\n",
       "    <tr>\n",
       "      <th>15</th>\n",
       "      <td>69</td>\n",
       "      <td>1</td>\n",
       "      <td>1</td>\n",
       "      <td>0</td>\n",
       "      <td>0</td>\n",
       "    </tr>\n",
       "    <tr>\n",
       "      <th>16</th>\n",
       "      <td>92</td>\n",
       "      <td>1</td>\n",
       "      <td>1</td>\n",
       "      <td>0</td>\n",
       "      <td>0</td>\n",
       "    </tr>\n",
       "    <tr>\n",
       "      <th>17</th>\n",
       "      <td>93</td>\n",
       "      <td>1</td>\n",
       "      <td>1</td>\n",
       "      <td>0</td>\n",
       "      <td>0</td>\n",
       "    </tr>\n",
       "    <tr>\n",
       "      <th>18</th>\n",
       "      <td>95</td>\n",
       "      <td>4</td>\n",
       "      <td>3</td>\n",
       "      <td>1</td>\n",
       "      <td>0</td>\n",
       "    </tr>\n",
       "    <tr>\n",
       "      <th>19</th>\n",
       "      <td>200</td>\n",
       "      <td>1</td>\n",
       "      <td>1</td>\n",
       "      <td>0</td>\n",
       "      <td>0</td>\n",
       "    </tr>\n",
       "    <tr>\n",
       "      <th>20</th>\n",
       "      <td>208</td>\n",
       "      <td>4</td>\n",
       "      <td>2</td>\n",
       "      <td>2</td>\n",
       "      <td>0</td>\n",
       "    </tr>\n",
       "    <tr>\n",
       "      <th>21</th>\n",
       "      <td>209</td>\n",
       "      <td>1</td>\n",
       "      <td>1</td>\n",
       "      <td>0</td>\n",
       "      <td>0</td>\n",
       "    </tr>\n",
       "  </tbody>\n",
       "</table>\n",
       "</div>"
      ],
      "text/plain": [
       "    Prompt idx  ground truth  TP  FN  FP\n",
       "0            0             3   2   1   0\n",
       "1           10             2   2   0   0\n",
       "2           15             1   1   0   0\n",
       "3           50             0   0   0   0\n",
       "4          250             0   0   0   0\n",
       "5          500             1   0   1   0\n",
       "6          505             1   1   0   0\n",
       "7          510             1   1   0   0\n",
       "8          515             0   0   0   0\n",
       "9          100             2   1   1   0\n",
       "10        4805             4   4   0   0\n",
       "11       15107             1   1   0   0\n",
       "12       15207             1   1   0   0\n",
       "13       23008             1   1   0   1\n",
       "14         219             0   0   0   1\n",
       "15          69             1   1   0   0\n",
       "16          92             1   1   0   0\n",
       "17          93             1   1   0   0\n",
       "18          95             4   3   1   0\n",
       "19         200             1   1   0   0\n",
       "20         208             4   2   2   0\n",
       "21         209             1   1   0   0"
      ]
     },
     "execution_count": 374,
     "metadata": {},
     "output_type": "execute_result"
    }
   ],
   "source": [
    "statistics_o4_mini"
   ]
  },
  {
   "cell_type": "code",
   "execution_count": 376,
   "id": "031ee5b8",
   "metadata": {},
   "outputs": [
    {
     "data": {
      "text/html": [
       "<div>\n",
       "<style scoped>\n",
       "    .dataframe tbody tr th:only-of-type {\n",
       "        vertical-align: middle;\n",
       "    }\n",
       "\n",
       "    .dataframe tbody tr th {\n",
       "        vertical-align: top;\n",
       "    }\n",
       "\n",
       "    .dataframe thead th {\n",
       "        text-align: right;\n",
       "    }\n",
       "</style>\n",
       "<table border=\"1\" class=\"dataframe\">\n",
       "  <thead>\n",
       "    <tr style=\"text-align: right;\">\n",
       "      <th></th>\n",
       "      <th>Prompt idx</th>\n",
       "      <th>ground truth</th>\n",
       "      <th>TP</th>\n",
       "      <th>FN</th>\n",
       "      <th>FP</th>\n",
       "    </tr>\n",
       "  </thead>\n",
       "  <tbody>\n",
       "    <tr>\n",
       "      <th>0</th>\n",
       "      <td>0</td>\n",
       "      <td>3</td>\n",
       "      <td>2</td>\n",
       "      <td>1</td>\n",
       "      <td>0</td>\n",
       "    </tr>\n",
       "    <tr>\n",
       "      <th>1</th>\n",
       "      <td>10</td>\n",
       "      <td>2</td>\n",
       "      <td>2</td>\n",
       "      <td>0</td>\n",
       "      <td>0</td>\n",
       "    </tr>\n",
       "    <tr>\n",
       "      <th>2</th>\n",
       "      <td>15</td>\n",
       "      <td>1</td>\n",
       "      <td>1</td>\n",
       "      <td>0</td>\n",
       "      <td>0</td>\n",
       "    </tr>\n",
       "    <tr>\n",
       "      <th>3</th>\n",
       "      <td>50</td>\n",
       "      <td>0</td>\n",
       "      <td>0</td>\n",
       "      <td>0</td>\n",
       "      <td>0</td>\n",
       "    </tr>\n",
       "    <tr>\n",
       "      <th>4</th>\n",
       "      <td>69</td>\n",
       "      <td>1</td>\n",
       "      <td>1</td>\n",
       "      <td>0</td>\n",
       "      <td>0</td>\n",
       "    </tr>\n",
       "    <tr>\n",
       "      <th>5</th>\n",
       "      <td>92</td>\n",
       "      <td>1</td>\n",
       "      <td>1</td>\n",
       "      <td>0</td>\n",
       "      <td>0</td>\n",
       "    </tr>\n",
       "    <tr>\n",
       "      <th>6</th>\n",
       "      <td>93</td>\n",
       "      <td>1</td>\n",
       "      <td>1</td>\n",
       "      <td>0</td>\n",
       "      <td>0</td>\n",
       "    </tr>\n",
       "    <tr>\n",
       "      <th>7</th>\n",
       "      <td>95</td>\n",
       "      <td>4</td>\n",
       "      <td>3</td>\n",
       "      <td>1</td>\n",
       "      <td>0</td>\n",
       "    </tr>\n",
       "    <tr>\n",
       "      <th>8</th>\n",
       "      <td>100</td>\n",
       "      <td>2</td>\n",
       "      <td>1</td>\n",
       "      <td>1</td>\n",
       "      <td>0</td>\n",
       "    </tr>\n",
       "    <tr>\n",
       "      <th>9</th>\n",
       "      <td>200</td>\n",
       "      <td>1</td>\n",
       "      <td>1</td>\n",
       "      <td>0</td>\n",
       "      <td>0</td>\n",
       "    </tr>\n",
       "    <tr>\n",
       "      <th>10</th>\n",
       "      <td>208</td>\n",
       "      <td>4</td>\n",
       "      <td>2</td>\n",
       "      <td>2</td>\n",
       "      <td>0</td>\n",
       "    </tr>\n",
       "    <tr>\n",
       "      <th>11</th>\n",
       "      <td>209</td>\n",
       "      <td>1</td>\n",
       "      <td>1</td>\n",
       "      <td>0</td>\n",
       "      <td>0</td>\n",
       "    </tr>\n",
       "    <tr>\n",
       "      <th>12</th>\n",
       "      <td>219</td>\n",
       "      <td>0</td>\n",
       "      <td>0</td>\n",
       "      <td>0</td>\n",
       "      <td>1</td>\n",
       "    </tr>\n",
       "    <tr>\n",
       "      <th>13</th>\n",
       "      <td>250</td>\n",
       "      <td>0</td>\n",
       "      <td>0</td>\n",
       "      <td>0</td>\n",
       "      <td>0</td>\n",
       "    </tr>\n",
       "    <tr>\n",
       "      <th>14</th>\n",
       "      <td>500</td>\n",
       "      <td>1</td>\n",
       "      <td>0</td>\n",
       "      <td>1</td>\n",
       "      <td>0</td>\n",
       "    </tr>\n",
       "    <tr>\n",
       "      <th>15</th>\n",
       "      <td>505</td>\n",
       "      <td>1</td>\n",
       "      <td>1</td>\n",
       "      <td>0</td>\n",
       "      <td>0</td>\n",
       "    </tr>\n",
       "    <tr>\n",
       "      <th>16</th>\n",
       "      <td>510</td>\n",
       "      <td>1</td>\n",
       "      <td>1</td>\n",
       "      <td>0</td>\n",
       "      <td>0</td>\n",
       "    </tr>\n",
       "    <tr>\n",
       "      <th>17</th>\n",
       "      <td>515</td>\n",
       "      <td>0</td>\n",
       "      <td>0</td>\n",
       "      <td>0</td>\n",
       "      <td>0</td>\n",
       "    </tr>\n",
       "    <tr>\n",
       "      <th>18</th>\n",
       "      <td>4805</td>\n",
       "      <td>4</td>\n",
       "      <td>4</td>\n",
       "      <td>0</td>\n",
       "      <td>0</td>\n",
       "    </tr>\n",
       "    <tr>\n",
       "      <th>19</th>\n",
       "      <td>15107</td>\n",
       "      <td>1</td>\n",
       "      <td>1</td>\n",
       "      <td>0</td>\n",
       "      <td>0</td>\n",
       "    </tr>\n",
       "    <tr>\n",
       "      <th>20</th>\n",
       "      <td>15207</td>\n",
       "      <td>1</td>\n",
       "      <td>1</td>\n",
       "      <td>0</td>\n",
       "      <td>0</td>\n",
       "    </tr>\n",
       "    <tr>\n",
       "      <th>21</th>\n",
       "      <td>23008</td>\n",
       "      <td>1</td>\n",
       "      <td>1</td>\n",
       "      <td>0</td>\n",
       "      <td>1</td>\n",
       "    </tr>\n",
       "  </tbody>\n",
       "</table>\n",
       "</div>"
      ],
      "text/plain": [
       "    Prompt idx  ground truth  TP  FN  FP\n",
       "0            0             3   2   1   0\n",
       "1           10             2   2   0   0\n",
       "2           15             1   1   0   0\n",
       "3           50             0   0   0   0\n",
       "4           69             1   1   0   0\n",
       "5           92             1   1   0   0\n",
       "6           93             1   1   0   0\n",
       "7           95             4   3   1   0\n",
       "8          100             2   1   1   0\n",
       "9          200             1   1   0   0\n",
       "10         208             4   2   2   0\n",
       "11         209             1   1   0   0\n",
       "12         219             0   0   0   1\n",
       "13         250             0   0   0   0\n",
       "14         500             1   0   1   0\n",
       "15         505             1   1   0   0\n",
       "16         510             1   1   0   0\n",
       "17         515             0   0   0   0\n",
       "18        4805             4   4   0   0\n",
       "19       15107             1   1   0   0\n",
       "20       15207             1   1   0   0\n",
       "21       23008             1   1   0   1"
      ]
     },
     "execution_count": 376,
     "metadata": {},
     "output_type": "execute_result"
    }
   ],
   "source": [
    "statistics_sorted = (\n",
    "    statistics_o4_mini\n",
    "        .sort_values(\"Prompt idx\")    \n",
    "        .reset_index(drop=True)      \n",
    ")\n",
    "statistics_sorted"
   ]
  },
  {
   "cell_type": "code",
   "execution_count": 386,
   "id": "8ba17023",
   "metadata": {},
   "outputs": [
    {
     "name": "stdout",
     "output_type": "stream",
     "text": [
      "Precision: 0.926\n",
      "Recall:    0.806\n",
      "F1-score:  0.862\n"
     ]
    }
   ],
   "source": [
    "indices = statistics_sorted['Prompt idx']\n",
    "ground_truth = statistics_sorted['ground truth']\n",
    "\n",
    "TP_col = statistics_sorted[\"TP\"]\n",
    "FP_col = statistics_sorted[\"FP\"]\n",
    "FN_col = statistics_sorted[\"FN\"]\n",
    "\n",
    "TP = TP_col.sum()\n",
    "FP = FP_col.sum()\n",
    "FN = FN_col.sum()\n",
    "\n",
    "precision = TP / (TP + FP) if (TP + FP) else 0.0\n",
    "recall    = TP / (TP + FN) if (TP + FN) else 0.0\n",
    "f1        = 2 * precision * recall / (precision + recall) if (precision + recall) else 0.0\n",
    "\n",
    "print(f\"Precision: {precision:.3f}\")\n",
    "print(f\"Recall:    {recall:.3f}\")\n",
    "print(f\"F1-score:  {f1:.3f}\")"
   ]
  },
  {
   "cell_type": "code",
   "execution_count": 398,
   "id": "8aeff4c4",
   "metadata": {},
   "outputs": [
    {
     "data": {
      "image/png": "[encoded data removed]",
      "text/plain": [
       "<Figure size 1000x500 with 1 Axes>"
      ]
     },
     "metadata": {},
     "output_type": "display_data"
    }
   ],
   "source": [
    "import numpy as np\n",
    "import matplotlib.pyplot as plt\n",
    "\n",
    "data = {\n",
    "    'Ground Truth'    : ground_truth,\n",
    "    'True Positives'  : TP_col,\n",
    "    'False Positives' : FP_col,\n",
    "    'False Negatives' : FN_col,\n",
    "}\n",
    "x = np.arange(len(indices))\n",
    "\n",
    "cb_palette = ['#1f77b4',   # blue\n",
    "              '#ff7f0e',   # orange\n",
    "              '#9467bd',   # purple\n",
    "              '#4d4d4d']   # dark grey\n",
    "\n",
    "width = 0.20\n",
    "fig, ax = plt.subplots(figsize=(10, 5), layout='constrained')\n",
    "\n",
    "for i, (name, values) in enumerate(data.items()):\n",
    "    rects = ax.bar(x + i*width, values, width,\n",
    "                   label=name, color=cb_palette[i])\n",
    "    ax.bar_label(rects, padding=3,)\n",
    "\n",
    "ax.set_title('Per-Prompt Ground-Truth Size and Prediction Outcomes')\n",
    "ax.set_ylabel('Count')\n",
    "ax.set_xticks(x + width*1.5)\n",
    "ax.set_xticklabels(indices, rotation=45, ha='right')\n",
    "ax.set_ylim(0, max(max(v) for v in data.values()) * 1.15)\n",
    "\n",
    "ax.legend(loc='upper center', ncols=4, bbox_to_anchor=(0.5, 1.18))\n",
    "plt.show()\n"
   ]
  },
  {
   "cell_type": "code",
   "execution_count": null,
   "id": "7ca223fb",
   "metadata": {},
   "outputs": [],
   "source": []
  },
  {
   "cell_type": "code",
   "execution_count": null,
   "id": "4cf63a04",
   "metadata": {},
   "outputs": [],
   "source": []
  },
  {
   "cell_type": "code",
   "execution_count": null,
   "id": "f4c036e4",
   "metadata": {},
   "outputs": [],
   "source": []
  },
  {
   "cell_type": "code",
   "execution_count": null,
   "id": "38bcb680",
   "metadata": {},
   "outputs": [],
   "source": []
  },
  {
   "cell_type": "code",
   "execution_count": null,
   "id": "c8f8be8a",
   "metadata": {},
   "outputs": [],
   "source": []
  },
  {
   "cell_type": "code",
   "execution_count": null,
   "id": "7db010a0",
   "metadata": {},
   "outputs": [],
   "source": []
  },
  {
   "cell_type": "markdown",
   "id": "fc94629c",
   "metadata": {},
   "source": [
    "~100 regular output tokens  \n",
    "~600 reasoning output tokens  \n",
    "There will be 31,002 responses (excluding sub-captions of compound)\n",
    "\n",
    "Hence the expected number of output tokens is 700*31,002 = 21,701,400\n",
    "\n",
    "And we've seen the number of input tokens is 37,426,529"
   ]
  },
  {
   "cell_type": "code",
   "execution_count": 47,
   "id": "dade42cf",
   "metadata": {},
   "outputs": [
    {
     "data": {
      "text/plain": [
       "68.33"
      ]
     },
     "execution_count": 47,
     "metadata": {},
     "output_type": "execute_result"
    }
   ],
   "source": [
    "def compute_pricing(input_tokens, output_tokens, input_pricing_per_1m, output_pricing_per_1m):\n",
    "    \"\"\"\n",
    "    Compute the pricing for a given number of input and output tokens, assuming Batch API is used.\n",
    "    \"\"\"\n",
    "    input_cost = (input_tokens / 1_000_000) * input_pricing_per_1m\n",
    "    output_cost = (output_tokens / 1_000_000) * output_pricing_per_1m\n",
    "    total_cost = input_cost + output_cost\n",
    "    return float(np.round(total_cost / 2, 2))\n",
    "\n",
    "compute_pricing(input_tokens=37_426_529, output_tokens=21_701_400, input_pricing_per_1m=1.1, output_pricing_per_1m=4.4)"
   ]
  },
  {
   "cell_type": "code",
   "execution_count": null,
   "id": "1c8b5003",
   "metadata": {},
   "outputs": [],
   "source": []
  }
 ],
 "metadata": {
  "kernelspec": {
   "display_name": "pmc_env",
   "language": "python",
   "name": "python3"
  },
  "language_info": {
   "codemirror_mode": {
    "name": "ipython",
    "version": 3
   },
   "file_extension": ".py",
   "mimetype": "text/x-python",
   "name": "python",
   "nbconvert_exporter": "python",
   "pygments_lexer": "ipython3",
   "version": "3.11.10"
  }
 },
 "nbformat": 4,
 "nbformat_minor": 5
}
